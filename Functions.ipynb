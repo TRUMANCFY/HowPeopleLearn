{
 "cells": [
  {
   "cell_type": "code",
   "execution_count": 1,
   "metadata": {},
   "outputs": [],
   "source": [
    "%matplotlib inline\n",
    "from sympy import *\n",
    "import numpy as np\n",
    "import matplotlib.pyplot as plt\n",
    "from mpmath import *\n",
    "import scipy.integrate as integrate\n",
    "init_printing(use_unicode=True)"
   ]
  },
  {
   "cell_type": "markdown",
   "metadata": {},
   "source": [
    "# Le potentiel de Lennard-Jones: Atomes et structures"
   ]
  },
  {
   "cell_type": "markdown",
   "metadata": {},
   "source": [
    "## (i) Demonstration"
   ]
  },
  {
   "cell_type": "markdown",
   "metadata": {},
   "source": [
    "### Fonctions"
   ]
  },
  {
   "cell_type": "markdown",
   "metadata": {},
   "source": [
    "#### Le potentiel de Lennard-Jones"
   ]
  },
  {
   "cell_type": "code",
   "execution_count": 2,
   "metadata": {},
   "outputs": [
    {
     "data": {
      "image/png": "[encoded data removed]",
      "text/latex": [
       "$$\\frac{a}{r^{12}} - \\frac{b}{r^{6}}$$"
      ],
      "text/plain": [
       " a    b \n",
       "─── - ──\n",
       " 12    6\n",
       "r     r "
      ]
     },
     "execution_count": 2,
     "metadata": {},
     "output_type": "execute_result"
    }
   ],
   "source": [
    "a, b, r = symbols(\"a b r\")\n",
    "\n",
    "lennardJones = a/r**12 - b/r**6\n",
    "lennardJones"
   ]
  },
  {
   "cell_type": "code",
   "execution_count": 3,
   "metadata": {},
   "outputs": [
    {
     "data": {
      "image/png": "[encoded data removed]",
      "text/latex": [
       "$$\\frac{12 a}{r^{13}} - \\frac{6 b}{r^{7}}$$"
      ],
      "text/plain": [
       "12⋅a   6⋅b\n",
       "──── - ───\n",
       " 13      7\n",
       "r       r "
      ]
     },
     "execution_count": 3,
     "metadata": {},
     "output_type": "execute_result"
    }
   ],
   "source": [
    "force = -lennardJones.diff(r)\n",
    "force"
   ]
  },
  {
   "cell_type": "markdown",
   "metadata": {},
   "source": [
    "#### Le potentiel de Lennard-Jones normalisé"
   ]
  },
  {
   "cell_type": "code",
   "execution_count": 4,
   "metadata": {},
   "outputs": [
    {
     "data": {
      "image/png": "[encoded data removed]",
      "text/latex": [
       "$$\\frac{1}{rMin} \\left(\\frac{12 a}{rMin^{13}} - \\frac{6 b}{rMin^{7}}\\right) = 0$$"
      ],
      "text/plain": [
       " 12⋅a     6⋅b     \n",
       "────── - ─────    \n",
       "    13       7    \n",
       "rMin     rMin     \n",
       "────────────── = 0\n",
       "     rMin         "
      ]
     },
     "execution_count": 4,
     "metadata": {},
     "output_type": "execute_result"
    }
   ],
   "source": [
    "rMin = symbols('rMin')\n",
    "equationDistanceMinimum = Eq(force.subs({r: rMin}) / rMin, 0)\n",
    "equationDistanceMinimum"
   ]
  },
  {
   "cell_type": "code",
   "execution_count": 5,
   "metadata": {},
   "outputs": [
    {
     "data": {
      "image/png": "[encoded data removed]",
      "text/latex": [
       "$$\\frac{a}{rMin^{12}} - \\frac{b}{rMin^{6}} = - eMin$$"
      ],
      "text/plain": [
       "  a        b          \n",
       "────── - ───── = -eMin\n",
       "    12       6        \n",
       "rMin     rMin         "
      ]
     },
     "execution_count": 5,
     "metadata": {},
     "output_type": "execute_result"
    }
   ],
   "source": [
    "eMin = symbols('eMin')\n",
    "equationEnergieMinimum = Eq(lennardJones.subs({r:rMin}), -eMin)\n",
    "equationEnergieMinimum"
   ]
  },
  {
   "cell_type": "code",
   "execution_count": 6,
   "metadata": {},
   "outputs": [
    {
     "data": {
      "image/png": "[encoded data removed]",
      "text/latex": [
       "$$\\left \\{ a : eMin rMin^{12}, \\quad b : 2 eMin rMin^{6}\\right \\}$$"
      ],
      "text/plain": [
       "⎧            12                6⎫\n",
       "⎨a: eMin⋅rMin  , b: 2⋅eMin⋅rMin ⎬\n",
       "⎩                               ⎭"
      ]
     },
     "execution_count": 6,
     "metadata": {},
     "output_type": "execute_result"
    }
   ],
   "source": [
    "criticalPointSolutions = solve([equationDistanceMinimum, equationEnergieMinimum], a, b)\n",
    "criticalPointSolutions"
   ]
  },
  {
   "cell_type": "code",
   "execution_count": 7,
   "metadata": {},
   "outputs": [
    {
     "data": {
      "image/png": "[encoded data removed]",
      "text/latex": [
       "$$- \\frac{2 eMin}{r^{6}} rMin^{6} + \\frac{eMin rMin^{12}}{r^{12}}$$"
      ],
      "text/plain": [
       "             6            12\n",
       "  2⋅eMin⋅rMin    eMin⋅rMin  \n",
       "- ──────────── + ───────────\n",
       "        6             12    \n",
       "       r             r      "
      ]
     },
     "execution_count": 7,
     "metadata": {},
     "output_type": "execute_result"
    }
   ],
   "source": [
    "lennardJonesCritical = lennardJones.subs(criticalPointSolutions)\n",
    "lennardJonesCritical"
   ]
  },
  {
   "cell_type": "code",
   "execution_count": 8,
   "metadata": {},
   "outputs": [
    {
     "data": {
      "image/png": "[encoded data removed]",
      "text/latex": [
       "$$- \\frac{2 rMin^{6}}{r^{6}} + \\frac{rMin^{12}}{r^{12}}$$"
      ],
      "text/plain": [
       "        6       12\n",
       "  2⋅rMin    rMin  \n",
       "- ─────── + ──────\n",
       "      6       12  \n",
       "     r       r    "
      ]
     },
     "execution_count": 8,
     "metadata": {},
     "output_type": "execute_result"
    }
   ],
   "source": [
    "lennardJonesScaled = expand(lennardJonesCritical / eMin)\n",
    "lennardJonesScaled"
   ]
  },
  {
   "cell_type": "code",
   "execution_count": 9,
   "metadata": {},
   "outputs": [
    {
     "data": {
      "image/png": "[encoded data removed]",
      "text/latex": [
       "$$- \\frac{2}{\\rho^{6}} + \\frac{1}{\\rho^{12}}$$"
      ],
      "text/plain": [
       "  2     1 \n",
       "- ── + ───\n",
       "   6    12\n",
       "  ρ    ρ  "
      ]
     },
     "execution_count": 9,
     "metadata": {},
     "output_type": "execute_result"
    }
   ],
   "source": [
    "rho = symbols('rho')\n",
    "energy = expand(lennardJonesScaled.subs({r: rho * rMin}))\n",
    "energy"
   ]
  },
  {
   "cell_type": "code",
   "execution_count": 10,
   "metadata": {
    "scrolled": true
   },
   "outputs": [
    {
     "data": {
      "image/png": "[encoded data removed]",
      "text/latex": [
       "$$\\frac{12}{\\rho^{7}} - \\frac{12}{\\rho^{13}}$$"
      ],
      "text/plain": [
       "12    12\n",
       "── - ───\n",
       " 7    13\n",
       "ρ    ρ  "
      ]
     },
     "execution_count": 10,
     "metadata": {},
     "output_type": "execute_result"
    }
   ],
   "source": [
    "forceScaled = expand(energy.diff(rho))\n",
    "forceScaled"
   ]
  },
  {
   "cell_type": "markdown",
   "metadata": {},
   "source": [
    "Le potentiel de Lennard-Jones, ainsi que la force, peuvent etre separe en deux parties : attractive et repulsive."
   ]
  },
  {
   "cell_type": "code",
   "execution_count": 11,
   "metadata": {
    "scrolled": true
   },
   "outputs": [
    {
     "data": {
      "image/png": "[encoded data removed]",
      "text/latex": [
       "$$- \\frac{2}{\\rho^{6}}$$"
      ],
      "text/plain": [
       "-2 \n",
       "───\n",
       "  6\n",
       " ρ "
      ]
     },
     "execution_count": 11,
     "metadata": {},
     "output_type": "execute_result"
    }
   ],
   "source": [
    "energyAttractive = expand(lennardJonesScaled.subs({r: rho * rMin})).as_terms()[0][1][0]\n",
    "energyAttractive"
   ]
  },
  {
   "cell_type": "code",
   "execution_count": 12,
   "metadata": {},
   "outputs": [
    {
     "data": {
      "image/png": "[encoded data removed]",
      "text/latex": [
       "$$\\frac{1}{\\rho^{12}}$$"
      ],
      "text/plain": [
       " 1 \n",
       "───\n",
       " 12\n",
       "ρ  "
      ]
     },
     "execution_count": 12,
     "metadata": {},
     "output_type": "execute_result"
    }
   ],
   "source": [
    "energyRepulsive = expand(lennardJonesScaled.subs({r: rho * rMin})).as_terms()[0][0][0]\n",
    "energyRepulsive"
   ]
  },
  {
   "cell_type": "code",
   "execution_count": 13,
   "metadata": {
    "scrolled": true
   },
   "outputs": [
    {
     "data": {
      "image/png": "[encoded data removed]",
      "text/latex": [
       "$$\\frac{12}{\\rho^{7}}$$"
      ],
      "text/plain": [
       "12\n",
       "──\n",
       " 7\n",
       "ρ "
      ]
     },
     "execution_count": 13,
     "metadata": {},
     "output_type": "execute_result"
    }
   ],
   "source": [
    "forceScaledAttractive = expand(forceScaled.subs({r: rho * rMin})).as_terms()[0][1][0]\n",
    "forceScaledAttractive"
   ]
  },
  {
   "cell_type": "code",
   "execution_count": 14,
   "metadata": {},
   "outputs": [
    {
     "data": {
      "image/png": "[encoded data removed]",
      "text/latex": [
       "$$- \\frac{12}{\\rho^{13}}$$"
      ],
      "text/plain": [
       "-12 \n",
       "────\n",
       " 13 \n",
       "ρ   "
      ]
     },
     "execution_count": 14,
     "metadata": {},
     "output_type": "execute_result"
    }
   ],
   "source": [
    "forceScaledRepulsive = expand(forceScaled.subs({r: rho * rMin})).as_terms()[0][0][0]\n",
    "forceScaledRepulsive"
   ]
  },
  {
   "cell_type": "markdown",
   "metadata": {},
   "source": [
    "### Graphiques"
   ]
  },
  {
   "cell_type": "code",
   "execution_count": null,
   "metadata": {},
   "outputs": [],
   "source": []
  },
  {
   "cell_type": "code",
   "execution_count": null,
   "metadata": {},
   "outputs": [],
   "source": []
  },
  {
   "cell_type": "code",
   "execution_count": null,
   "metadata": {},
   "outputs": [],
   "source": []
  },
  {
   "cell_type": "markdown",
   "metadata": {},
   "source": [
    "## (ii) Interaction"
   ]
  },
  {
   "cell_type": "markdown",
   "metadata": {},
   "source": [
    "### Functions"
   ]
  },
  {
   "cell_type": "markdown",
   "metadata": {},
   "source": [
    "### Visualisation 2: Approximations et oscillations"
   ]
  },
  {
   "cell_type": "markdown",
   "metadata": {},
   "source": [
    "#### Approximations"
   ]
  },
  {
   "cell_type": "code",
   "execution_count": 15,
   "metadata": {},
   "outputs": [
    {
     "data": {
      "image/png": "[encoded data removed]",
      "text/latex": [
       "$$36 \\left(\\rho - 1\\right)^{2} - 1$$"
      ],
      "text/plain": [
       "          2    \n",
       "36⋅(ρ - 1)  - 1"
      ]
     },
     "execution_count": 15,
     "metadata": {},
     "output_type": "execute_result"
    }
   ],
   "source": [
    "parabolaApproximation = series(energy, rho, n=3, x0=1).removeO()\n",
    "parabolaApproximation"
   ]
  },
  {
   "cell_type": "code",
   "execution_count": 16,
   "metadata": {},
   "outputs": [
    {
     "data": {
      "image/png": "[encoded data removed]",
      "text/latex": [
       "$$- 252 \\left(\\rho - 1\\right)^{3} + 36 \\left(\\rho - 1\\right)^{2} - 1$$"
      ],
      "text/plain": [
       "             3             2    \n",
       "- 252⋅(ρ - 1)  + 36⋅(ρ - 1)  - 1"
      ]
     },
     "execution_count": 16,
     "metadata": {},
     "output_type": "execute_result"
    }
   ],
   "source": [
    "cubicApproximation = series(energy, rho, n=4, x0=1).removeO()\n",
    "cubicApproximation"
   ]
  },
  {
   "cell_type": "markdown",
   "metadata": {
    "collapsed": true
   },
   "source": [
    "#### Oscillations for the approximation "
   ]
  },
  {
   "cell_type": "code",
   "execution_count": 21,
   "metadata": {},
   "outputs": [
    {
     "data": {
      "image/png": "[encoded data removed]",
      "text/latex": [
       "$$\\mu \\frac{d^{2}}{d t^{2}}  \\rho{\\left (t \\right )} + \\frac{12}{\\rho^{7}{\\left (t \\right )}} - \\frac{12}{\\rho^{13}{\\left (t \\right )}} = 0$$"
      ],
      "text/plain": [
       "    2                           \n",
       "   d            12      12      \n",
       "μ⋅───(ρ(t)) + ───── - ────── = 0\n",
       "    2          7       13       \n",
       "  dt          ρ (t)   ρ  (t)    "
      ]
     },
     "execution_count": 21,
     "metadata": {},
     "output_type": "execute_result"
    }
   ],
   "source": [
    "t, mu = symbols(\"t mu\")\n",
    "fEqualsMA = Eq(mu*rho(t).diff(t,2)-12/(rho(t)**13)+12/(rho(t)**7))\n",
    "fEqualsMA"
   ]
  },
  {
   "cell_type": "code",
   "execution_count": 22,
   "metadata": {},
   "outputs": [
    {
     "data": {
      "image/png": "[encoded data removed]",
      "text/latex": [
       "$$\\frac{d^{2}}{d t^{2}}  \\rho{\\left (t \\right )} + \\frac{12}{\\rho^{7}{\\left (t \\right )}} - \\frac{12}{\\rho^{13}{\\left (t \\right )}} = 0$$"
      ],
      "text/plain": [
       "  2                           \n",
       " d            12      12      \n",
       "───(ρ(t)) + ───── - ────── = 0\n",
       "  2          7       13       \n",
       "dt          ρ (t)   ρ  (t)    "
      ]
     },
     "execution_count": 22,
     "metadata": {},
     "output_type": "execute_result"
    }
   ],
   "source": [
    "charateristicPeriod = 2*np.pi/np.sqrt(72)\n",
    "fEqualsMA = fEqualsMA.subs({mu:1})\n",
    "fEqualsMA"
   ]
  },
  {
   "cell_type": "markdown",
   "metadata": {},
   "source": [
    "We will construct a numerical solution for a starting point near equilibrium and compute it for two of our estimated periods.  If we are doing everything right so far, our numerical solution should show al\n",
    "most exactly two oscillations:"
   ]
  },
  {
   "cell_type": "markdown",
   "metadata": {},
   "source": [
    "##### numSol"
   ]
  },
  {
   "cell_type": "code",
   "execution_count": 24,
   "metadata": {},
   "outputs": [
    {
     "data": {
      "text/plain": [
       "array([[ 1.1       ,  0.        ],\n",
       "       [ 1.0999816 , -0.00993448],\n",
       "       [ 1.0999264 , -0.0198687 ],\n",
       "       ...,\n",
       "       [ 1.03872214,  0.54430688],\n",
       "       [ 1.04072539,  0.53725359],\n",
       "       [ 1.04270213,  0.52999254]])"
      ]
     },
     "execution_count": 24,
     "metadata": {},
     "output_type": "execute_result"
    }
   ],
   "source": [
    "def fEqualsMA(rho_, t):\n",
    "    rho, rho_prime = rho_\n",
    "    return [rho_prime, 12/(rho**13)-12/(rho**7)]\n",
    "\n",
    "t = np.linspace(0, 10*charateristicPeriod, 2000)\n",
    "rho_init = [1.1, 0]\n",
    "numSol = integrate.odeint(fEqualsMA, rho_init, t)\n",
    "numSol"
   ]
  },
  {
   "cell_type": "markdown",
   "metadata": {},
   "source": [
    "##### numericalSolutionFromVariableStartingPoint"
   ]
  },
  {
   "cell_type": "code",
   "execution_count": 25,
   "metadata": {
    "scrolled": true
   },
   "outputs": [
    {
     "data": {
      "text/plain": [
       "array([[ 0.98      ,  0.        ],\n",
       "       [ 0.99471162, -0.17642112],\n",
       "       [ 1.01756767, -0.11630266],\n",
       "       [ 1.02192126,  0.05871297],\n",
       "       [ 1.00361923,  0.17970739],\n",
       "       [ 0.98211644,  0.08403553],\n",
       "       [ 0.98679041, -0.13934935],\n",
       "       [ 1.01068742, -0.15993064],\n",
       "       [ 1.02324962, -0.00528066],\n",
       "       [ 1.01194765,  0.15411931],\n",
       "       [ 0.98794253,  0.14769685],\n",
       "       [ 0.98149299, -0.07127579],\n",
       "       [ 1.00217042, -0.18132988],\n",
       "       [ 1.02141007, -0.06871489],\n",
       "       [ 1.01846641,  0.10766926],\n",
       "       [ 0.99613868,  0.17919708],\n",
       "       [ 0.98005722,  0.0142737 ],\n",
       "       [ 0.99331054, -0.17273507],\n",
       "       [ 1.01660147, -0.12456777],\n",
       "       [ 1.02235168,  0.04854509]])"
      ]
     },
     "execution_count": 25,
     "metadata": {},
     "output_type": "execute_result"
    }
   ],
   "source": [
    "def numericalSolutionFromVariableStartingPoint(initialValue):\n",
    "    t = np.linspace(0, 40, 20)\n",
    "    rho_init = [initialValue, 0]\n",
    "    return integrate.odeint(fEqualsMA, rho_init, t)\n",
    "    \n",
    "initialValue = 0.98\n",
    "numSol = numericalSolutionFromVariableStartingPoint(initialValue)\n",
    "numSol"
   ]
  },
  {
   "cell_type": "markdown",
   "metadata": {},
   "source": [
    "### Exercice 4 : Calcul du module de Young et de la contrainte, E et \\[Sigma]"
   ]
  },
  {
   "cell_type": "markdown",
   "metadata": {},
   "source": [
    "*Starting from the Lennard-Jones potential, the relationship can be calculated as the variation of the force around the equilibrium position, i.e. the seconde derivative of lennard-jones potential. It represent the curvature of the well.*"
   ]
  },
  {
   "cell_type": "code",
   "execution_count": 19,
   "metadata": {},
   "outputs": [
    {
     "data": {
      "image/png": "[encoded data removed]",
      "text/latex": [
       "$$\\epsilon_{0} \\left(- \\frac{2 r_{0}^{6}}{r^{6}} + \\frac{r_{0}^{12}}{r^{12}}\\right)$$"
      ],
      "text/plain": [
       "   ⎛      6     12⎞\n",
       "   ⎜  2⋅r₀    r₀  ⎟\n",
       "ε₀⋅⎜- ───── + ────⎟\n",
       "   ⎜     6     12 ⎟\n",
       "   ⎝    r     r   ⎠"
      ]
     },
     "execution_count": 19,
     "metadata": {},
     "output_type": "execute_result"
    }
   ],
   "source": [
    "epsilon0, r0, r = symbols(\"epsilon0, r0, r\")\n",
    "\n",
    "lennardJonesWithUnits = epsilon0*((r0/r)**12 - 2*(r0/r)**6)\n",
    "lennardJonesWithUnits"
   ]
  },
  {
   "cell_type": "code",
   "execution_count": 20,
   "metadata": {},
   "outputs": [
    {
     "data": {
      "image/png": "[encoded data removed]",
      "text/latex": [
       "$$\\epsilon_{0} \\left(\\frac{12 r_{0}^{6}}{r^{7}} - \\frac{12 r_{0}^{12}}{r^{13}}\\right)$$"
      ],
      "text/plain": [
       "   ⎛     6        12⎞\n",
       "   ⎜12⋅r₀    12⋅r₀  ⎟\n",
       "ε₀⋅⎜────── - ───────⎟\n",
       "   ⎜   7        13  ⎟\n",
       "   ⎝  r        r    ⎠"
      ]
     },
     "execution_count": 20,
     "metadata": {},
     "output_type": "execute_result"
    }
   ],
   "source": [
    "forceWithUnits = lennardJonesWithUnits.diff(r)\n",
    "forceWithUnits"
   ]
  },
  {
   "cell_type": "code",
   "execution_count": 21,
   "metadata": {},
   "outputs": [
    {
     "data": {
      "image/png": "[encoded data removed]",
      "text/latex": [
       "$$- \\frac{12 \\epsilon_{0}}{r^{8}} r_{0}^{6} \\left(7 - \\frac{13 r_{0}^{6}}{r^{6}}\\right)$$"
      ],
      "text/plain": [
       "           ⎛         6⎞ \n",
       "         6 ⎜    13⋅r₀ ⎟ \n",
       "-12⋅ε₀⋅r₀ ⋅⎜7 - ──────⎟ \n",
       "           ⎜       6  ⎟ \n",
       "           ⎝      r   ⎠ \n",
       "────────────────────────\n",
       "            8           \n",
       "           r            "
      ]
     },
     "execution_count": 21,
     "metadata": {},
     "output_type": "execute_result"
    }
   ],
   "source": [
    "curvatureWithUnits = lennardJonesWithUnits.diff(r,2)\n",
    "curvatureWithUnits"
   ]
  },
  {
   "cell_type": "code",
   "execution_count": 22,
   "metadata": {},
   "outputs": [
    {
     "data": {
      "image/png": "[encoded data removed]",
      "text/latex": [
       "$$\\frac{72 \\epsilon_{0}}{r_{0}^{2}}$$"
      ],
      "text/plain": [
       "72⋅ε₀\n",
       "─────\n",
       "   2 \n",
       " r₀  "
      ]
     },
     "execution_count": 22,
     "metadata": {},
     "output_type": "execute_result"
    }
   ],
   "source": [
    "modulusAroundMinimalDistance = curvatureWithUnits.subs({r:r0})\n",
    "modulusAroundMinimalDistance"
   ]
  },
  {
   "cell_type": "markdown",
   "metadata": {},
   "source": [
    "*Starting from the parabolic approximation of the potential, the force is then a linear relationship between the displacement, i.e. r-Subscript[r, 0 ]and the force. F = k * (r-Subscript[r, 0])*"
   ]
  },
  {
   "cell_type": "code",
   "execution_count": 23,
   "metadata": {},
   "outputs": [
    {
     "data": {
      "image/png": "[encoded data removed]",
      "text/latex": [
       "$$- \\epsilon_{0} + \\frac{36 \\epsilon_{0}}{r_{0}^{2}} \\left(r - r_{0}\\right)^{2}$$"
      ],
      "text/plain": [
       "                    2\n",
       "      36⋅ε₀⋅(r - r₀) \n",
       "-ε₀ + ───────────────\n",
       "              2      \n",
       "            r₀       "
      ]
     },
     "execution_count": 23,
     "metadata": {},
     "output_type": "execute_result"
    }
   ],
   "source": [
    "approxLennardJonesWithUnits = series(lennardJonesWithUnits, r, n=3, x0=r0).removeO()\n",
    "approxLennardJonesWithUnits"
   ]
  },
  {
   "cell_type": "code",
   "execution_count": 24,
   "metadata": {},
   "outputs": [
    {
     "data": {
      "image/png": "[encoded data removed]",
      "text/latex": [
       "$$\\frac{72 \\epsilon_{0}}{r_{0}^{2}} \\left(r - r_{0}\\right)$$"
      ],
      "text/plain": [
       "72⋅ε₀⋅(r - r₀)\n",
       "──────────────\n",
       "       2      \n",
       "     r₀       "
      ]
     },
     "execution_count": 24,
     "metadata": {},
     "output_type": "execute_result"
    }
   ],
   "source": [
    "approxForceWithUnits = simplify(approxLennardJonesWithUnits.diff(r))\n",
    "approxForceWithUnits"
   ]
  },
  {
   "cell_type": "code",
   "execution_count": 25,
   "metadata": {},
   "outputs": [
    {
     "data": {
      "image/png": "[encoded data removed]",
      "text/latex": [
       "$$\\frac{72 \\epsilon_{0}}{r_{0}^{2}}$$"
      ],
      "text/plain": [
       "72⋅ε₀\n",
       "─────\n",
       "   2 \n",
       " r₀  "
      ]
     },
     "execution_count": 25,
     "metadata": {},
     "output_type": "execute_result"
    }
   ],
   "source": [
    "approxCurvatureWithUnits = simplify(approxLennardJonesWithUnits.diff(r,2))\n",
    "approxCurvatureWithUnits"
   ]
  },
  {
   "cell_type": "code",
   "execution_count": 34,
   "metadata": {},
   "outputs": [],
   "source": [
    "from sympy.parsing.sympy_parser import parse_expr\n",
    "\n"
   ]
  },
  {
   "cell_type": "code",
   "execution_count": 60,
   "metadata": {},
   "outputs": [],
   "source": [
    "r = symbols('r')\n",
    "r1 = symbols('r1')"
   ]
  },
  {
   "cell_type": "code",
   "execution_count": 61,
   "metadata": {},
   "outputs": [],
   "source": [
    "r_test = lambdify([r,r1],parse_expr(\"1/(r1*r)\"),\"numpy\")"
   ]
  },
  {
   "cell_type": "code",
   "execution_count": 51,
   "metadata": {},
   "outputs": [
    {
     "data": {
      "image/png": "[encoded data removed]",
      "text/latex": [
       "$$\\frac{1}{r_{1} r_{2}}$$"
      ],
      "text/plain": [
       "  1  \n",
       "─────\n",
       "r₁⋅r₂"
      ]
     },
     "execution_count": 51,
     "metadata": {},
     "output_type": "execute_result"
    }
   ],
   "source": [
    "xs = np.linspace(0.8, 2, 1000)\n",
    "r_test(xs)"
   ]
  },
  {
   "cell_type": "code",
   "execution_count": 62,
   "metadata": {},
   "outputs": [
    {
     "data": {
      "image/png": "[encoded data removed]",
      "text/latex": [
       "$$0.5$$"
      ],
      "text/plain": [
       "0.5"
      ]
     },
     "execution_count": 62,
     "metadata": {},
     "output_type": "execute_result"
    }
   ],
   "source": [
    "r_test(1,2)"
   ]
  },
  {
   "cell_type": "code",
   "execution_count": 59,
   "metadata": {},
   "outputs": [
    {
     "name": "stdout",
     "output_type": "stream",
     "text": [
      "0.004939\n"
     ]
    }
   ],
   "source": [
    "from sympy.abc import A,B\n",
    "G = 4.939e-3*A*B # now this is a symbolic expression, not a string\n",
    "H = lambdify( [A,B], G, \"numpy\" )\n",
    "print(H(1,1))"
   ]
  },
  {
   "cell_type": "code",
   "execution_count": null,
   "metadata": {},
   "outputs": [],
   "source": []
  }
 ],
 "metadata": {
  "kernelspec": {
   "display_name": "Python 3",
   "language": "python",
   "name": "python3"
  },
  "language_info": {
   "codemirror_mode": {
    "name": "ipython",
    "version": 3
   },
   "file_extension": ".py",
   "mimetype": "text/x-python",
   "name": "python",
   "nbconvert_exporter": "python",
   "pygments_lexer": "ipython3",
   "version": "3.6.8"
  }
 },
 "nbformat": 4,
 "nbformat_minor": 2
}
