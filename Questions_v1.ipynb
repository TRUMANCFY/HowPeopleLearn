{
 "cells": [
  {
   "cell_type": "markdown",
   "metadata": {},
   "source": [
    "EQUATIONS TEXT\n",
    "1. How well do the textual description and the corresponding equation help you fully understand the concepts? (1-10)\n",
    "2. How well does the equation help you understand how the function changes in value when parameters change? (1-10)\n",
    "3. How well can you understand the relationship between the force and potential with varying parameter? (1-10)\n",
    "4. What did you understand from the given textual description and equation? (text)\n",
    "5. Did you feel textual descriptions distracting in understanding? (text)\n",
    "6. From the information given above, what can you comment on the nature of function? (text)\n",
    "\n",
    "STATIC\n",
    "1. How well does the static plot help you fully understand the concepts? (1-10)\n",
    "2.  How well does the static plot help you understand how the function changes in value when parameters change? (1-10)\n",
    "3. After seeing the static plot, how well can you understand the relationship between the force and potential with varying parameter? (1-10)\n",
    "4. To which degree does the image matches with your understanding of 1.1, 1.2 and 1.3 (1-10)\n",
    "5. To which degree does the image helps you understand 1.1, 1.2 and 1.3 better (-10-10)\n",
    "6. To which degree is the image helpful for your understanding ?(-10-10)\n",
    "7. After seeing the static plot, can you comment something new on the nature of the function? (text)\n",
    "8. What did you understand from the given static plot? (text)\n",
    "9. Did you feel static plot distracting in understanding? (text)\n",
    "10. From the information given above, can you comment on the nature of function? (text)\n",
    "\n",
    "INTERACTIVE\n",
    "1. How well does the interactive plot help you fully understand the concepts? (1-10)\n",
    "2. How well does the interactive plot help you understand how the function changes in value when parameters change? (1-10)\n",
    "3. After seeing the interactive plot, how well can you understand the relationship between the force and potential with varying parameter? (1-10)\n",
    "4. To which degree does the interactive plot match with your understanding of 2.1, 2.2 and 2.3? (1-10)\n",
    "5. To which degree does the interactive plot help you understand 2.1, 2.2 and 2.3 better? (-10-10)\n",
    "6. To which degree is the interactive plot helpful for your understanding ?(-10-10)\n",
    "7. Can you comment something new on the nature of the function.  (text)\n",
    "8. What did you dislike about the interaction?  (text)\n",
    "9.  What interactions did you use the most and why ? (text)\n",
    "10. What interactions could have helped you better? (text)\n",
    " \n",
    "add a task / challenge  \n",
    "\n",
    "\n",
    "\n"
   ]
  },
  {
   "cell_type": "code",
   "execution_count": null,
   "metadata": {},
   "outputs": [],
   "source": []
  }
 ],
 "metadata": {
  "kernelspec": {
   "display_name": "Python 3",
   "language": "python",
   "name": "python3"
  },
  "language_info": {
   "codemirror_mode": {
    "name": "ipython",
    "version": 3
   },
   "file_extension": ".py",
   "mimetype": "text/x-python",
   "name": "python",
   "nbconvert_exporter": "python",
   "pygments_lexer": "ipython3",
   "version": "3.6.4"
  }
 },
 "nbformat": 4,
 "nbformat_minor": 2
}
