{
 "cells": [
  {
   "cell_type": "markdown",
   "metadata": {},
   "source": [
    "Report Structure : \n",
    "    - Summary n findings \n",
    "    - Index \n",
    "    - Introduction\n",
    "    - lit review \n",
    "    - Motivation\n",
    "    -Findings and Conclusions\n",
    "        -Feedback design \n",
    "             - Rationale \n",
    "             - Observation \n",
    "    - Appendix\n",
    "    - Methodology \n",
    "        -Design \n",
    "            - Technical Aspects: \n",
    "                - Equations translation ( WH)\n",
    "                - Interaction in Python :\n",
    "                    - Plot 1 , 2(K)\n",
    "                    - Plot 3 , 4 (LJ)\n",
    "                    - Plot 5 ( Cai )\n",
    "                -Comparative analysis of interaction in python vs interaction in mathematica ( All)\n",
    "                - Hours and skills contribution needed (All) depends on how pedagogically relevant it needs to be\n",
    "            -Pedagogical aspects\n",
    "                - Design aspirations \n",
    "                - Effectiveness of interaction \n",
    "                - usefulness to test subjects\n",
    "         \n",
    "   \n",
    "            \n",
    "        "
   ]
  },
  {
   "cell_type": "code",
   "execution_count": null,
   "metadata": {},
   "outputs": [],
   "source": []
  }
 ],
 "metadata": {
  "kernelspec": {
   "display_name": "Python [default]",
   "language": "python",
   "name": "python3"
  },
  "language_info": {
   "codemirror_mode": {
    "name": "ipython",
    "version": 3
   },
   "file_extension": ".py",
   "mimetype": "text/x-python",
   "name": "python",
   "nbconvert_exporter": "python",
   "pygments_lexer": "ipython3",
   "version": "3.6.8"
  }
 },
 "nbformat": 4,
 "nbformat_minor": 2
}
