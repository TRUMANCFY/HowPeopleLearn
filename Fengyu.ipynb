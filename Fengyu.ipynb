{
 "cells": [
  {
   "cell_type": "code",
   "execution_count": 13,
   "metadata": {},
   "outputs": [],
   "source": [
    "%matplotlib inline\n",
    "from sympy import *\n",
    "import numpy as np\n",
    "import matplotlib.pyplot as plt"
   ]
  },
  {
   "cell_type": "markdown",
   "metadata": {},
   "source": [
    "## Demostration"
   ]
  },
  {
   "cell_type": "markdown",
   "metadata": {},
   "source": [
    "#### Functions"
   ]
  },
  {
   "cell_type": "code",
   "execution_count": 5,
   "metadata": {
    "collapsed": true
   },
   "outputs": [],
   "source": [
    "\"\"\"\n",
    "lennardJones = a/r^12 - b/r^6;\n",
    "force = -D[lennardJones, \n",
    "    r]; (*La force est la derivée (en 1D) du potentiel*)\n",
    "\"\"\"\n",
    "\n",
    "def lennardJones(a, b):\n",
    "    return lambda r: a / pow(r, 12) - b / pow(r, 6)"
   ]
  },
  {
   "cell_type": "code",
   "execution_count": 50,
   "metadata": {},
   "outputs": [
    {
     "data": {
      "image/png": "[encoded data removed]",
      "text/latex": [
       "$$\\frac{a}{r^{12}} - \\frac{b}{r^{6}}$$"
      ],
      "text/plain": [
       " a    b \n",
       "─── - ──\n",
       " 12    6\n",
       "r     r "
      ]
     },
     "execution_count": 50,
     "metadata": {},
     "output_type": "execute_result"
    }
   ],
   "source": [
    "a, b, r = symbols(\"a b r\")\n",
    "init_printing(use_unicode=True)\n",
    "\n",
    "lennardJones = a/r**12 - b/r**6\n",
    "lennardJones"
   ]
  },
  {
   "cell_type": "code",
   "execution_count": 28,
   "metadata": {},
   "outputs": [
    {
     "data": {
      "image/png": "[encoded data removed]",
      "text/latex": [
       "$$- \\frac{2912}{531441}$$"
      ],
      "text/plain": [
       "-2912 \n",
       "──────\n",
       "531441"
      ]
     },
     "execution_count": 28,
     "metadata": {},
     "output_type": "execute_result"
    }
   ],
   "source": [
    "force = -lennardJones.diff(r)\n",
    "forceres = force.subs({a:1, b:2, r:3})\n",
    "forceres"
   ]
  },
  {
   "cell_type": "code",
   "execution_count": 19,
   "metadata": {},
   "outputs": [
    {
     "data": {
      "text/plain": [
       "'\\nequationDistanceMinimum = (force /. r -> rMin) == 0\\n\\n\\n'"
      ]
     },
     "execution_count": 19,
     "metadata": {},
     "output_type": "execute_result"
    }
   ],
   "source": [
    "\"\"\"\n",
    "equationDistanceMinimum = (force /. r -> rMin) == 0\n",
    "equationEnergieMinimum = (lennardJones /. r -> rMin) == -eMin;\n",
    "criticalPointSolutions = \n",
    "Solve[{equationDistanceMinimum, equationEnergieMinimum}, {a, b}];\n",
    "\n",
    "\"\"\""
   ]
  },
  {
   "cell_type": "code",
   "execution_count": 54,
   "metadata": {
    "collapsed": true
   },
   "outputs": [],
   "source": [
    "rMin = symbols('rMin')"
   ]
  },
  {
   "cell_type": "code",
   "execution_count": 56,
   "metadata": {
    "scrolled": true
   },
   "outputs": [
    {
     "data": {
      "image/png": "[encoded data removed]",
      "text/latex": [
       "$$\\frac{1}{rMin} \\left(\\frac{12 a}{rMin^{13}} - \\frac{6 b}{rMin^{7}}\\right) = 0$$"
      ],
      "text/plain": [
       " 12⋅a     6⋅b     \n",
       "────── - ─────    \n",
       "    13       7    \n",
       "rMin     rMin     \n",
       "────────────── = 0\n",
       "     rMin         "
      ]
     },
     "execution_count": 56,
     "metadata": {},
     "output_type": "execute_result"
    }
   ],
   "source": [
    "equationDistanceMinimum = Eq(force.subs({r: rMin}) / rMin, 0)\n",
    "equationDistanceMinimum"
   ]
  },
  {
   "cell_type": "code",
   "execution_count": 66,
   "metadata": {},
   "outputs": [],
   "source": [
    "#equationEnergieMinimum = (lennardJones /. r -> rMin) == -eMin;\n",
    "eMin = symbols('eMin')\n",
    "equationEnergieMinimum = Eq(lennardJones.subs({r:rMin}), -eMin)"
   ]
  },
  {
   "cell_type": "code",
   "execution_count": 67,
   "metadata": {},
   "outputs": [
    {
     "data": {
      "image/png": "[encoded data removed]",
      "text/latex": [
       "$$\\left \\{ a : eMin rMin^{12}, \\quad b : 2 eMin rMin^{6}\\right \\}$$"
      ],
      "text/plain": [
       "⎧            12                6⎫\n",
       "⎨a: eMin⋅rMin  , b: 2⋅eMin⋅rMin ⎬\n",
       "⎩                               ⎭"
      ]
     },
     "execution_count": 67,
     "metadata": {},
     "output_type": "execute_result"
    }
   ],
   "source": [
    "criticalPoints = solve([equationDistanceMinimum, equationEnergieMinimum], a, b)\n",
    "criticalPoints"
   ]
  },
  {
   "cell_type": "code",
   "execution_count": 68,
   "metadata": {},
   "outputs": [
    {
     "data": {
      "image/png": "[encoded data removed]",
      "text/latex": [
       "$$- \\frac{2 eMin}{r^{6}} rMin^{6} + \\frac{eMin rMin^{12}}{r^{12}}$$"
      ],
      "text/plain": [
       "             6            12\n",
       "  2⋅eMin⋅rMin    eMin⋅rMin  \n",
       "- ──────────── + ───────────\n",
       "        6             12    \n",
       "       r             r      "
      ]
     },
     "execution_count": 68,
     "metadata": {},
     "output_type": "execute_result"
    }
   ],
   "source": [
    "lennardJonesCritical = lennardJones.subs(criticalPoints)\n",
    "lennardJonesCritical"
   ]
  },
  {
   "cell_type": "code",
   "execution_count": 124,
   "metadata": {},
   "outputs": [
    {
     "data": {
      "image/png": "[encoded data removed]",
      "text/latex": [
       "$$- \\frac{2 rMin^{6}}{r^{6}} + \\frac{rMin^{12}}{r^{12}}$$"
      ],
      "text/plain": [
       "        6       12\n",
       "  2⋅rMin    rMin  \n",
       "- ─────── + ──────\n",
       "      6       12  \n",
       "     r       r    "
      ]
     },
     "execution_count": 124,
     "metadata": {},
     "output_type": "execute_result"
    }
   ],
   "source": [
    "lennardJonesScaled = expand(lennardJonesCritical / eMin)\n",
    "lennardJonesScaled"
   ]
  },
  {
   "cell_type": "code",
   "execution_count": 123,
   "metadata": {},
   "outputs": [
    {
     "data": {
      "image/png": "[encoded data removed]",
      "text/latex": [
       "$$- \\frac{2}{\\rho^{6}} + \\frac{1}{\\rho^{12}}$$"
      ],
      "text/plain": [
       "  2     1 \n",
       "- ── + ───\n",
       "   6    12\n",
       "  ρ    ρ  "
      ]
     },
     "execution_count": 123,
     "metadata": {},
     "output_type": "execute_result"
    }
   ],
   "source": [
    "rho = symbols('rho')\n",
    "energy = expand(lennardJonesScaled.subs({r: rho * rMin}))\n",
    "energy"
   ]
  },
  {
   "cell_type": "code",
   "execution_count": 79,
   "metadata": {
    "scrolled": true
   },
   "outputs": [
    {
     "data": {
      "image/png": "[encoded data removed]",
      "text/latex": [
       "$$\\frac{12}{\\rho^{7}} - \\frac{12}{\\rho^{13}}$$"
      ],
      "text/plain": [
       "12    12\n",
       "── - ───\n",
       " 7    13\n",
       "ρ    ρ  "
      ]
     },
     "execution_count": 79,
     "metadata": {},
     "output_type": "execute_result"
    }
   ],
   "source": [
    "forceScaled = expand(energy.diff(rho))\n",
    "forceScaled"
   ]
  },
  {
   "cell_type": "code",
   "execution_count": 122,
   "metadata": {
    "scrolled": true
   },
   "outputs": [
    {
     "data": {
      "image/png": "[encoded data removed]",
      "text/latex": [
       "$$- \\frac{2}{\\rho^{6}}$$"
      ],
      "text/plain": [
       "-2 \n",
       "───\n",
       "  6\n",
       " ρ "
      ]
     },
     "execution_count": 122,
     "metadata": {},
     "output_type": "execute_result"
    }
   ],
   "source": [
    "energyAttractive = expand(lennardJonesScaled.subs({r: rho * rMin})).as_terms()[0][1][0]\n",
    "energyAttractive"
   ]
  },
  {
   "cell_type": "code",
   "execution_count": 125,
   "metadata": {},
   "outputs": [
    {
     "data": {
      "image/png": "[encoded data removed]",
      "text/latex": [
       "$$\\frac{1}{\\rho^{12}}$$"
      ],
      "text/plain": [
       " 1 \n",
       "───\n",
       " 12\n",
       "ρ  "
      ]
     },
     "execution_count": 125,
     "metadata": {},
     "output_type": "execute_result"
    }
   ],
   "source": [
    "energyRepulsive = expand(lennardJonesScaled.subs({r: rho * rMin})).as_terms()[0][0][0]\n",
    "energyRepulsive"
   ]
  },
  {
   "cell_type": "code",
   "execution_count": 126,
   "metadata": {
    "scrolled": true
   },
   "outputs": [
    {
     "data": {
      "image/png": "[encoded data removed]",
      "text/latex": [
       "$$\\frac{12}{\\rho^{7}}$$"
      ],
      "text/plain": [
       "12\n",
       "──\n",
       " 7\n",
       "ρ "
      ]
     },
     "execution_count": 126,
     "metadata": {},
     "output_type": "execute_result"
    }
   ],
   "source": [
    "forceScaledAttractive = expand(forceScaled.subs({r: rho * rMin})).as_terms()[0][1][0]\n",
    "forceScaledAttractive"
   ]
  },
  {
   "cell_type": "code",
   "execution_count": 127,
   "metadata": {},
   "outputs": [
    {
     "data": {
      "image/png": "[encoded data removed]",
      "text/latex": [
       "$$- \\frac{12}{\\rho^{13}}$$"
      ],
      "text/plain": [
       "-12 \n",
       "────\n",
       " 13 \n",
       "ρ   "
      ]
     },
     "execution_count": 127,
     "metadata": {},
     "output_type": "execute_result"
    }
   ],
   "source": [
    "forceScaledRepulsive = expand(forceScaled.subs({r: rho * rMin})).as_terms()[0][0][0]\n",
    "forceScaledRepulsive"
   ]
  },
  {
   "cell_type": "markdown",
   "metadata": {},
   "source": [
    "#### Graphics"
   ]
  },
  {
   "cell_type": "code",
   "execution_count": 133,
   "metadata": {},
   "outputs": [],
   "source": [
    "from mpmath import *"
   ]
  },
  {
   "cell_type": "code",
   "execution_count": 151,
   "metadata": {},
   "outputs": [
    {
     "data": {
      "image/png": "[encoded data removed]",
      "text/latex": [
       "$$36 \\left(\\rho - 1\\right)^{2} - 1$$"
      ],
      "text/plain": [
       "          2    \n",
       "36⋅(ρ - 1)  - 1"
      ]
     },
     "execution_count": 151,
     "metadata": {},
     "output_type": "execute_result"
    }
   ],
   "source": [
    "parabolaApproximation = series(energy, rho, n=3, x0=1).removeO()\n",
    "parabolaApproximation"
   ]
  },
  {
   "cell_type": "code",
   "execution_count": 152,
   "metadata": {},
   "outputs": [
    {
     "data": {
      "image/png": "[encoded data removed]",
      "text/latex": [
       "$$- 252 \\left(\\rho - 1\\right)^{3} + 36 \\left(\\rho - 1\\right)^{2} - 1$$"
      ],
      "text/plain": [
       "             3             2    \n",
       "- 252⋅(ρ - 1)  + 36⋅(ρ - 1)  - 1"
      ]
     },
     "execution_count": 152,
     "metadata": {},
     "output_type": "execute_result"
    }
   ],
   "source": [
    "cubicApproximation = series(energy, rho, n=4, x0=1).removeO()\n",
    "cubicApproximation"
   ]
  },
  {
   "cell_type": "markdown",
   "metadata": {
    "collapsed": true
   },
   "source": [
    "### Plot"
   ]
  },
  {
   "cell_type": "code",
   "execution_count": 14,
   "metadata": {},
   "outputs": [],
   "source": [
    "import matplotlib.pyplot as plt"
   ]
  },
  {
   "cell_type": "code",
   "execution_count": 15,
   "metadata": {},
   "outputs": [
    {
     "data": {
      "text/plain": [
       "False"
      ]
     },
     "execution_count": 15,
     "metadata": {},
     "output_type": "execute_result"
    }
   ],
   "source": [
    "a = (1,1)\n",
    "isinstance(a, tuple)\n",
    "a = [1,1]\n",
    "isinstance(a, tuple)"
   ]
  },
  {
   "cell_type": "code",
   "execution_count": 16,
   "metadata": {},
   "outputs": [],
   "source": [
    "def createCircle(center, radius=1):\n",
    "    if isinstance(center, tuple):\n",
    "        circle = plt.Circle(xy=center,radius=radius)\n",
    "    else:\n",
    "        circle = plt.Circle(xy=center[0], radius=radius, color=center[1])    \n",
    "    return circle"
   ]
  },
  {
   "cell_type": "code",
   "execution_count": 17,
   "metadata": {},
   "outputs": [],
   "source": [
    "def generateCircles(start, xlim, ylim, radius=1):\n",
    "    res = []\n",
    "    current = start\n",
    "    cnty = 0\n",
    "    cntx = 0\n",
    "    while cnty < ylim:\n",
    "        cntx = 0\n",
    "        while cntx < xlim + cnty % 2:\n",
    "            res.append(current)\n",
    "            current = (current[0] + 2, current[1])\n",
    "            cntx += 1\n",
    "        cnty += 1\n",
    "        current = (start[0] - cnty%2, start[1] + np.sqrt(3) * cnty)\n",
    "    return res"
   ]
  },
  {
   "cell_type": "code",
   "execution_count": 24,
   "metadata": {
    "scrolled": false
   },
   "outputs": [],
   "source": [
    "start = (-9, -np.sqrt(3) * 5)\n",
    "# circles = generateCircles(start=start, xlim=(-11,11), ylim=(-5*np.sqrt(3)-1, 5*np.sqrt(3)+1))\n",
    "circles = generateCircles(start=start, xlim=10, ylim=11)"
   ]
  },
  {
   "cell_type": "code",
   "execution_count": 20,
   "metadata": {},
   "outputs": [],
   "source": [
    "def addColor(circles):\n",
    "    level_1 = 5\n",
    "    level_2 = 8\n",
    "    res = []\n",
    "    for c in circles:\n",
    "        if np.abs(c[0]) > level_2 or np.abs(c[1]) > level_2:\n",
    "            res.append([c, 'r'])\n",
    "        elif np.abs(c[0]) < level_1 and np.abs(c[1]) < level_1:\n",
    "            res.append([c, 'b'])\n",
    "        else:\n",
    "            res.append([c, 'g'])\n",
    "    return res"
   ]
  },
  {
   "cell_type": "code",
   "execution_count": 21,
   "metadata": {},
   "outputs": [],
   "source": [
    "circle_color = addColor(circles=circles)"
   ]
  },
  {
   "cell_type": "code",
   "execution_count": 60,
   "metadata": {},
   "outputs": [],
   "source": [
    "def onclick(event):\n",
    "    plt.draw('1')"
   ]
  },
  {
   "cell_type": "code",
   "execution_count": 61,
   "metadata": {
    "scrolled": false
   },
   "outputs": [
    {
     "data": {
      "application/javascript": [
       "/* Put everything inside the global mpl namespace */\n",
       "window.mpl = {};\n",
       "\n",
       "\n",
       "mpl.get_websocket_type = function() {\n",
       "    if (typeof(WebSocket) !== 'undefined') {\n",
       "        return WebSocket;\n",
       "    } else if (typeof(MozWebSocket) !== 'undefined') {\n",
       "        return MozWebSocket;\n",
       "    } else {\n",
       "        alert('Your browser does not have WebSocket support.' +\n",
       "              'Please try Chrome, Safari or Firefox ≥ 6. ' +\n",
       "              'Firefox 4 and 5 are also supported but you ' +\n",
       "              'have to enable WebSockets in about:config.');\n",
       "    };\n",
       "}\n",
       "\n",
       "mpl.figure = function(figure_id, websocket, ondownload, parent_element) {\n",
       "    this.id = figure_id;\n",
       "\n",
       "    this.ws = websocket;\n",
       "\n",
       "    this.supports_binary = (this.ws.binaryType != undefined);\n",
       "\n",
       "    if (!this.supports_binary) {\n",
       "        var warnings = document.getElementById(\"mpl-warnings\");\n",
       "        if (warnings) {\n",
       "            warnings.style.display = 'block';\n",
       "            warnings.textContent = (\n",
       "                \"This browser does not support binary websocket messages. \" +\n",
       "                    \"Performance may be slow.\");\n",
       "        }\n",
       "    }\n",
       "\n",
       "    this.imageObj = new Image();\n",
       "\n",
       "    this.context = undefined;\n",
       "    this.message = undefined;\n",
       "    this.canvas = undefined;\n",
       "    this.rubberband_canvas = undefined;\n",
       "    this.rubberband_context = undefined;\n",
       "    this.format_dropdown = undefined;\n",
       "\n",
       "    this.image_mode = 'full';\n",
       "\n",
       "    this.root = $('<div/>');\n",
       "    this._root_extra_style(this.root)\n",
       "    this.root.attr('style', 'display: inline-block');\n",
       "\n",
       "    $(parent_element).append(this.root);\n",
       "\n",
       "    this._init_header(this);\n",
       "    this._init_canvas(this);\n",
       "    this._init_toolbar(this);\n",
       "\n",
       "    var fig = this;\n",
       "\n",
       "    this.waiting = false;\n",
       "\n",
       "    this.ws.onopen =  function () {\n",
       "            fig.send_message(\"supports_binary\", {value: fig.supports_binary});\n",
       "            fig.send_message(\"send_image_mode\", {});\n",
       "            if (mpl.ratio != 1) {\n",
       "                fig.send_message(\"set_dpi_ratio\", {'dpi_ratio': mpl.ratio});\n",
       "            }\n",
       "            fig.send_message(\"refresh\", {});\n",
       "        }\n",
       "\n",
       "    this.imageObj.onload = function() {\n",
       "            if (fig.image_mode == 'full') {\n",
       "                // Full images could contain transparency (where diff images\n",
       "                // almost always do), so we need to clear the canvas so that\n",
       "                // there is no ghosting.\n",
       "                fig.context.clearRect(0, 0, fig.canvas.width, fig.canvas.height);\n",
       "            }\n",
       "            fig.context.drawImage(fig.imageObj, 0, 0);\n",
       "        };\n",
       "\n",
       "    this.imageObj.onunload = function() {\n",
       "        fig.ws.close();\n",
       "    }\n",
       "\n",
       "    this.ws.onmessage = this._make_on_message_function(this);\n",
       "\n",
       "    this.ondownload = ondownload;\n",
       "}\n",
       "\n",
       "mpl.figure.prototype._init_header = function() {\n",
       "    var titlebar = $(\n",
       "        '<div class=\"ui-dialog-titlebar ui-widget-header ui-corner-all ' +\n",
       "        'ui-helper-clearfix\"/>');\n",
       "    var titletext = $(\n",
       "        '<div class=\"ui-dialog-title\" style=\"width: 100%; ' +\n",
       "        'text-align: center; padding: 3px;\"/>');\n",
       "    titlebar.append(titletext)\n",
       "    this.root.append(titlebar);\n",
       "    this.header = titletext[0];\n",
       "}\n",
       "\n",
       "\n",
       "\n",
       "mpl.figure.prototype._canvas_extra_style = function(canvas_div) {\n",
       "\n",
       "}\n",
       "\n",
       "\n",
       "mpl.figure.prototype._root_extra_style = function(canvas_div) {\n",
       "\n",
       "}\n",
       "\n",
       "mpl.figure.prototype._init_canvas = function() {\n",
       "    var fig = this;\n",
       "\n",
       "    var canvas_div = $('<div/>');\n",
       "\n",
       "    canvas_div.attr('style', 'position: relative; clear: both; outline: 0');\n",
       "\n",
       "    function canvas_keyboard_event(event) {\n",
       "        return fig.key_event(event, event['data']);\n",
       "    }\n",
       "\n",
       "    canvas_div.keydown('key_press', canvas_keyboard_event);\n",
       "    canvas_div.keyup('key_release', canvas_keyboard_event);\n",
       "    this.canvas_div = canvas_div\n",
       "    this._canvas_extra_style(canvas_div)\n",
       "    this.root.append(canvas_div);\n",
       "\n",
       "    var canvas = $('<canvas/>');\n",
       "    canvas.addClass('mpl-canvas');\n",
       "    canvas.attr('style', \"left: 0; top: 0; z-index: 0; outline: 0\")\n",
       "\n",
       "    this.canvas = canvas[0];\n",
       "    this.context = canvas[0].getContext(\"2d\");\n",
       "\n",
       "    var backingStore = this.context.backingStorePixelRatio ||\n",
       "\tthis.context.webkitBackingStorePixelRatio ||\n",
       "\tthis.context.mozBackingStorePixelRatio ||\n",
       "\tthis.context.msBackingStorePixelRatio ||\n",
       "\tthis.context.oBackingStorePixelRatio ||\n",
       "\tthis.context.backingStorePixelRatio || 1;\n",
       "\n",
       "    mpl.ratio = (window.devicePixelRatio || 1) / backingStore;\n",
       "\n",
       "    var rubberband = $('<canvas/>');\n",
       "    rubberband.attr('style', \"position: absolute; left: 0; top: 0; z-index: 1;\")\n",
       "\n",
       "    var pass_mouse_events = true;\n",
       "\n",
       "    canvas_div.resizable({\n",
       "        start: function(event, ui) {\n",
       "            pass_mouse_events = false;\n",
       "        },\n",
       "        resize: function(event, ui) {\n",
       "            fig.request_resize(ui.size.width, ui.size.height);\n",
       "        },\n",
       "        stop: function(event, ui) {\n",
       "            pass_mouse_events = true;\n",
       "            fig.request_resize(ui.size.width, ui.size.height);\n",
       "        },\n",
       "    });\n",
       "\n",
       "    function mouse_event_fn(event) {\n",
       "        if (pass_mouse_events)\n",
       "            return fig.mouse_event(event, event['data']);\n",
       "    }\n",
       "\n",
       "    rubberband.mousedown('button_press', mouse_event_fn);\n",
       "    rubberband.mouseup('button_release', mouse_event_fn);\n",
       "    // Throttle sequential mouse events to 1 every 20ms.\n",
       "    rubberband.mousemove('motion_notify', mouse_event_fn);\n",
       "\n",
       "    rubberband.mouseenter('figure_enter', mouse_event_fn);\n",
       "    rubberband.mouseleave('figure_leave', mouse_event_fn);\n",
       "\n",
       "    canvas_div.on(\"wheel\", function (event) {\n",
       "        event = event.originalEvent;\n",
       "        event['data'] = 'scroll'\n",
       "        if (event.deltaY < 0) {\n",
       "            event.step = 1;\n",
       "        } else {\n",
       "            event.step = -1;\n",
       "        }\n",
       "        mouse_event_fn(event);\n",
       "    });\n",
       "\n",
       "    canvas_div.append(canvas);\n",
       "    canvas_div.append(rubberband);\n",
       "\n",
       "    this.rubberband = rubberband;\n",
       "    this.rubberband_canvas = rubberband[0];\n",
       "    this.rubberband_context = rubberband[0].getContext(\"2d\");\n",
       "    this.rubberband_context.strokeStyle = \"#000000\";\n",
       "\n",
       "    this._resize_canvas = function(width, height) {\n",
       "        // Keep the size of the canvas, canvas container, and rubber band\n",
       "        // canvas in synch.\n",
       "        canvas_div.css('width', width)\n",
       "        canvas_div.css('height', height)\n",
       "\n",
       "        canvas.attr('width', width * mpl.ratio);\n",
       "        canvas.attr('height', height * mpl.ratio);\n",
       "        canvas.attr('style', 'width: ' + width + 'px; height: ' + height + 'px;');\n",
       "\n",
       "        rubberband.attr('width', width);\n",
       "        rubberband.attr('height', height);\n",
       "    }\n",
       "\n",
       "    // Set the figure to an initial 600x600px, this will subsequently be updated\n",
       "    // upon first draw.\n",
       "    this._resize_canvas(600, 600);\n",
       "\n",
       "    // Disable right mouse context menu.\n",
       "    $(this.rubberband_canvas).bind(\"contextmenu\",function(e){\n",
       "        return false;\n",
       "    });\n",
       "\n",
       "    function set_focus () {\n",
       "        canvas.focus();\n",
       "        canvas_div.focus();\n",
       "    }\n",
       "\n",
       "    window.setTimeout(set_focus, 100);\n",
       "}\n",
       "\n",
       "mpl.figure.prototype._init_toolbar = function() {\n",
       "    var fig = this;\n",
       "\n",
       "    var nav_element = $('<div/>')\n",
       "    nav_element.attr('style', 'width: 100%');\n",
       "    this.root.append(nav_element);\n",
       "\n",
       "    // Define a callback function for later on.\n",
       "    function toolbar_event(event) {\n",
       "        return fig.toolbar_button_onclick(event['data']);\n",
       "    }\n",
       "    function toolbar_mouse_event(event) {\n",
       "        return fig.toolbar_button_onmouseover(event['data']);\n",
       "    }\n",
       "\n",
       "    for(var toolbar_ind in mpl.toolbar_items) {\n",
       "        var name = mpl.toolbar_items[toolbar_ind][0];\n",
       "        var tooltip = mpl.toolbar_items[toolbar_ind][1];\n",
       "        var image = mpl.toolbar_items[toolbar_ind][2];\n",
       "        var method_name = mpl.toolbar_items[toolbar_ind][3];\n",
       "\n",
       "        if (!name) {\n",
       "            // put a spacer in here.\n",
       "            continue;\n",
       "        }\n",
       "        var button = $('<button/>');\n",
       "        button.addClass('ui-button ui-widget ui-state-default ui-corner-all ' +\n",
       "                        'ui-button-icon-only');\n",
       "        button.attr('role', 'button');\n",
       "        button.attr('aria-disabled', 'false');\n",
       "        button.click(method_name, toolbar_event);\n",
       "        button.mouseover(tooltip, toolbar_mouse_event);\n",
       "\n",
       "        var icon_img = $('<span/>');\n",
       "        icon_img.addClass('ui-button-icon-primary ui-icon');\n",
       "        icon_img.addClass(image);\n",
       "        icon_img.addClass('ui-corner-all');\n",
       "\n",
       "        var tooltip_span = $('<span/>');\n",
       "        tooltip_span.addClass('ui-button-text');\n",
       "        tooltip_span.html(tooltip);\n",
       "\n",
       "        button.append(icon_img);\n",
       "        button.append(tooltip_span);\n",
       "\n",
       "        nav_element.append(button);\n",
       "    }\n",
       "\n",
       "    var fmt_picker_span = $('<span/>');\n",
       "\n",
       "    var fmt_picker = $('<select/>');\n",
       "    fmt_picker.addClass('mpl-toolbar-option ui-widget ui-widget-content');\n",
       "    fmt_picker_span.append(fmt_picker);\n",
       "    nav_element.append(fmt_picker_span);\n",
       "    this.format_dropdown = fmt_picker[0];\n",
       "\n",
       "    for (var ind in mpl.extensions) {\n",
       "        var fmt = mpl.extensions[ind];\n",
       "        var option = $(\n",
       "            '<option/>', {selected: fmt === mpl.default_extension}).html(fmt);\n",
       "        fmt_picker.append(option)\n",
       "    }\n",
       "\n",
       "    // Add hover states to the ui-buttons\n",
       "    $( \".ui-button\" ).hover(\n",
       "        function() { $(this).addClass(\"ui-state-hover\");},\n",
       "        function() { $(this).removeClass(\"ui-state-hover\");}\n",
       "    );\n",
       "\n",
       "    var status_bar = $('<span class=\"mpl-message\"/>');\n",
       "    nav_element.append(status_bar);\n",
       "    this.message = status_bar[0];\n",
       "}\n",
       "\n",
       "mpl.figure.prototype.request_resize = function(x_pixels, y_pixels) {\n",
       "    // Request matplotlib to resize the figure. Matplotlib will then trigger a resize in the client,\n",
       "    // which will in turn request a refresh of the image.\n",
       "    this.send_message('resize', {'width': x_pixels, 'height': y_pixels});\n",
       "}\n",
       "\n",
       "mpl.figure.prototype.send_message = function(type, properties) {\n",
       "    properties['type'] = type;\n",
       "    properties['figure_id'] = this.id;\n",
       "    this.ws.send(JSON.stringify(properties));\n",
       "}\n",
       "\n",
       "mpl.figure.prototype.send_draw_message = function() {\n",
       "    if (!this.waiting) {\n",
       "        this.waiting = true;\n",
       "        this.ws.send(JSON.stringify({type: \"draw\", figure_id: this.id}));\n",
       "    }\n",
       "}\n",
       "\n",
       "\n",
       "mpl.figure.prototype.handle_save = function(fig, msg) {\n",
       "    var format_dropdown = fig.format_dropdown;\n",
       "    var format = format_dropdown.options[format_dropdown.selectedIndex].value;\n",
       "    fig.ondownload(fig, format);\n",
       "}\n",
       "\n",
       "\n",
       "mpl.figure.prototype.handle_resize = function(fig, msg) {\n",
       "    var size = msg['size'];\n",
       "    if (size[0] != fig.canvas.width || size[1] != fig.canvas.height) {\n",
       "        fig._resize_canvas(size[0], size[1]);\n",
       "        fig.send_message(\"refresh\", {});\n",
       "    };\n",
       "}\n",
       "\n",
       "mpl.figure.prototype.handle_rubberband = function(fig, msg) {\n",
       "    var x0 = msg['x0'] / mpl.ratio;\n",
       "    var y0 = (fig.canvas.height - msg['y0']) / mpl.ratio;\n",
       "    var x1 = msg['x1'] / mpl.ratio;\n",
       "    var y1 = (fig.canvas.height - msg['y1']) / mpl.ratio;\n",
       "    x0 = Math.floor(x0) + 0.5;\n",
       "    y0 = Math.floor(y0) + 0.5;\n",
       "    x1 = Math.floor(x1) + 0.5;\n",
       "    y1 = Math.floor(y1) + 0.5;\n",
       "    var min_x = Math.min(x0, x1);\n",
       "    var min_y = Math.min(y0, y1);\n",
       "    var width = Math.abs(x1 - x0);\n",
       "    var height = Math.abs(y1 - y0);\n",
       "\n",
       "    fig.rubberband_context.clearRect(\n",
       "        0, 0, fig.canvas.width, fig.canvas.height);\n",
       "\n",
       "    fig.rubberband_context.strokeRect(min_x, min_y, width, height);\n",
       "}\n",
       "\n",
       "mpl.figure.prototype.handle_figure_label = function(fig, msg) {\n",
       "    // Updates the figure title.\n",
       "    fig.header.textContent = msg['label'];\n",
       "}\n",
       "\n",
       "mpl.figure.prototype.handle_cursor = function(fig, msg) {\n",
       "    var cursor = msg['cursor'];\n",
       "    switch(cursor)\n",
       "    {\n",
       "    case 0:\n",
       "        cursor = 'pointer';\n",
       "        break;\n",
       "    case 1:\n",
       "        cursor = 'default';\n",
       "        break;\n",
       "    case 2:\n",
       "        cursor = 'crosshair';\n",
       "        break;\n",
       "    case 3:\n",
       "        cursor = 'move';\n",
       "        break;\n",
       "    }\n",
       "    fig.rubberband_canvas.style.cursor = cursor;\n",
       "}\n",
       "\n",
       "mpl.figure.prototype.handle_message = function(fig, msg) {\n",
       "    fig.message.textContent = msg['message'];\n",
       "}\n",
       "\n",
       "mpl.figure.prototype.handle_draw = function(fig, msg) {\n",
       "    // Request the server to send over a new figure.\n",
       "    fig.send_draw_message();\n",
       "}\n",
       "\n",
       "mpl.figure.prototype.handle_image_mode = function(fig, msg) {\n",
       "    fig.image_mode = msg['mode'];\n",
       "}\n",
       "\n",
       "mpl.figure.prototype.updated_canvas_event = function() {\n",
       "    // Called whenever the canvas gets updated.\n",
       "    this.send_message(\"ack\", {});\n",
       "}\n",
       "\n",
       "// A function to construct a web socket function for onmessage handling.\n",
       "// Called in the figure constructor.\n",
       "mpl.figure.prototype._make_on_message_function = function(fig) {\n",
       "    return function socket_on_message(evt) {\n",
       "        if (evt.data instanceof Blob) {\n",
       "            /* FIXME: We get \"Resource interpreted as Image but\n",
       "             * transferred with MIME type text/plain:\" errors on\n",
       "             * Chrome.  But how to set the MIME type?  It doesn't seem\n",
       "             * to be part of the websocket stream */\n",
       "            evt.data.type = \"image/png\";\n",
       "\n",
       "            /* Free the memory for the previous frames */\n",
       "            if (fig.imageObj.src) {\n",
       "                (window.URL || window.webkitURL).revokeObjectURL(\n",
       "                    fig.imageObj.src);\n",
       "            }\n",
       "\n",
       "            fig.imageObj.src = (window.URL || window.webkitURL).createObjectURL(\n",
       "                evt.data);\n",
       "            fig.updated_canvas_event();\n",
       "            fig.waiting = false;\n",
       "            return;\n",
       "        }\n",
       "        else if (typeof evt.data === 'string' && evt.data.slice(0, 21) == \"data:image/png;base64\") {\n",
       "            fig.imageObj.src = evt.data;\n",
       "            fig.updated_canvas_event();\n",
       "            fig.waiting = false;\n",
       "            return;\n",
       "        }\n",
       "\n",
       "        var msg = JSON.parse(evt.data);\n",
       "        var msg_type = msg['type'];\n",
       "\n",
       "        // Call the  \"handle_{type}\" callback, which takes\n",
       "        // the figure and JSON message as its only arguments.\n",
       "        try {\n",
       "            var callback = fig[\"handle_\" + msg_type];\n",
       "        } catch (e) {\n",
       "            console.log(\"No handler for the '\" + msg_type + \"' message type: \", msg);\n",
       "            return;\n",
       "        }\n",
       "\n",
       "        if (callback) {\n",
       "            try {\n",
       "                // console.log(\"Handling '\" + msg_type + \"' message: \", msg);\n",
       "                callback(fig, msg);\n",
       "            } catch (e) {\n",
       "                console.log(\"Exception inside the 'handler_\" + msg_type + \"' callback:\", e, e.stack, msg);\n",
       "            }\n",
       "        }\n",
       "    };\n",
       "}\n",
       "\n",
       "// from http://stackoverflow.com/questions/1114465/getting-mouse-location-in-canvas\n",
       "mpl.findpos = function(e) {\n",
       "    //this section is from http://www.quirksmode.org/js/events_properties.html\n",
       "    var targ;\n",
       "    if (!e)\n",
       "        e = window.event;\n",
       "    if (e.target)\n",
       "        targ = e.target;\n",
       "    else if (e.srcElement)\n",
       "        targ = e.srcElement;\n",
       "    if (targ.nodeType == 3) // defeat Safari bug\n",
       "        targ = targ.parentNode;\n",
       "\n",
       "    // jQuery normalizes the pageX and pageY\n",
       "    // pageX,Y are the mouse positions relative to the document\n",
       "    // offset() returns the position of the element relative to the document\n",
       "    var x = e.pageX - $(targ).offset().left;\n",
       "    var y = e.pageY - $(targ).offset().top;\n",
       "\n",
       "    return {\"x\": x, \"y\": y};\n",
       "};\n",
       "\n",
       "/*\n",
       " * return a copy of an object with only non-object keys\n",
       " * we need this to avoid circular references\n",
       " * http://stackoverflow.com/a/24161582/3208463\n",
       " */\n",
       "function simpleKeys (original) {\n",
       "  return Object.keys(original).reduce(function (obj, key) {\n",
       "    if (typeof original[key] !== 'object')\n",
       "        obj[key] = original[key]\n",
       "    return obj;\n",
       "  }, {});\n",
       "}\n",
       "\n",
       "mpl.figure.prototype.mouse_event = function(event, name) {\n",
       "    var canvas_pos = mpl.findpos(event)\n",
       "\n",
       "    if (name === 'button_press')\n",
       "    {\n",
       "        this.canvas.focus();\n",
       "        this.canvas_div.focus();\n",
       "    }\n",
       "\n",
       "    var x = canvas_pos.x * mpl.ratio;\n",
       "    var y = canvas_pos.y * mpl.ratio;\n",
       "\n",
       "    this.send_message(name, {x: x, y: y, button: event.button,\n",
       "                             step: event.step,\n",
       "                             guiEvent: simpleKeys(event)});\n",
       "\n",
       "    /* This prevents the web browser from automatically changing to\n",
       "     * the text insertion cursor when the button is pressed.  We want\n",
       "     * to control all of the cursor setting manually through the\n",
       "     * 'cursor' event from matplotlib */\n",
       "    event.preventDefault();\n",
       "    return false;\n",
       "}\n",
       "\n",
       "mpl.figure.prototype._key_event_extra = function(event, name) {\n",
       "    // Handle any extra behaviour associated with a key event\n",
       "}\n",
       "\n",
       "mpl.figure.prototype.key_event = function(event, name) {\n",
       "\n",
       "    // Prevent repeat events\n",
       "    if (name == 'key_press')\n",
       "    {\n",
       "        if (event.which === this._key)\n",
       "            return;\n",
       "        else\n",
       "            this._key = event.which;\n",
       "    }\n",
       "    if (name == 'key_release')\n",
       "        this._key = null;\n",
       "\n",
       "    var value = '';\n",
       "    if (event.ctrlKey && event.which != 17)\n",
       "        value += \"ctrl+\";\n",
       "    if (event.altKey && event.which != 18)\n",
       "        value += \"alt+\";\n",
       "    if (event.shiftKey && event.which != 16)\n",
       "        value += \"shift+\";\n",
       "\n",
       "    value += 'k';\n",
       "    value += event.which.toString();\n",
       "\n",
       "    this._key_event_extra(event, name);\n",
       "\n",
       "    this.send_message(name, {key: value,\n",
       "                             guiEvent: simpleKeys(event)});\n",
       "    return false;\n",
       "}\n",
       "\n",
       "mpl.figure.prototype.toolbar_button_onclick = function(name) {\n",
       "    if (name == 'download') {\n",
       "        this.handle_save(this, null);\n",
       "    } else {\n",
       "        this.send_message(\"toolbar_button\", {name: name});\n",
       "    }\n",
       "};\n",
       "\n",
       "mpl.figure.prototype.toolbar_button_onmouseover = function(tooltip) {\n",
       "    this.message.textContent = tooltip;\n",
       "};\n",
       "mpl.toolbar_items = [[\"Home\", \"Reset original view\", \"fa fa-home icon-home\", \"home\"], [\"Back\", \"Back to previous view\", \"fa fa-arrow-left icon-arrow-left\", \"back\"], [\"Forward\", \"Forward to next view\", \"fa fa-arrow-right icon-arrow-right\", \"forward\"], [\"\", \"\", \"\", \"\"], [\"Pan\", \"Pan axes with left mouse, zoom with right\", \"fa fa-arrows icon-move\", \"pan\"], [\"Zoom\", \"Zoom to rectangle\", \"fa fa-square-o icon-check-empty\", \"zoom\"], [\"\", \"\", \"\", \"\"], [\"Download\", \"Download plot\", \"fa fa-floppy-o icon-save\", \"download\"]];\n",
       "\n",
       "mpl.extensions = [\"eps\", \"jpeg\", \"pdf\", \"png\", \"ps\", \"raw\", \"svg\", \"tif\"];\n",
       "\n",
       "mpl.default_extension = \"png\";var comm_websocket_adapter = function(comm) {\n",
       "    // Create a \"websocket\"-like object which calls the given IPython comm\n",
       "    // object with the appropriate methods. Currently this is a non binary\n",
       "    // socket, so there is still some room for performance tuning.\n",
       "    var ws = {};\n",
       "\n",
       "    ws.close = function() {\n",
       "        comm.close()\n",
       "    };\n",
       "    ws.send = function(m) {\n",
       "        //console.log('sending', m);\n",
       "        comm.send(m);\n",
       "    };\n",
       "    // Register the callback with on_msg.\n",
       "    comm.on_msg(function(msg) {\n",
       "        //console.log('receiving', msg['content']['data'], msg);\n",
       "        // Pass the mpl event to the overridden (by mpl) onmessage function.\n",
       "        ws.onmessage(msg['content']['data'])\n",
       "    });\n",
       "    return ws;\n",
       "}\n",
       "\n",
       "mpl.mpl_figure_comm = function(comm, msg) {\n",
       "    // This is the function which gets called when the mpl process\n",
       "    // starts-up an IPython Comm through the \"matplotlib\" channel.\n",
       "\n",
       "    var id = msg.content.data.id;\n",
       "    // Get hold of the div created by the display call when the Comm\n",
       "    // socket was opened in Python.\n",
       "    var element = $(\"#\" + id);\n",
       "    var ws_proxy = comm_websocket_adapter(comm)\n",
       "\n",
       "    function ondownload(figure, format) {\n",
       "        window.open(figure.imageObj.src);\n",
       "    }\n",
       "\n",
       "    var fig = new mpl.figure(id, ws_proxy,\n",
       "                           ondownload,\n",
       "                           element.get(0));\n",
       "\n",
       "    // Call onopen now - mpl needs it, as it is assuming we've passed it a real\n",
       "    // web socket which is closed, not our websocket->open comm proxy.\n",
       "    ws_proxy.onopen();\n",
       "\n",
       "    fig.parent_element = element.get(0);\n",
       "    fig.cell_info = mpl.find_output_cell(\"<div id='\" + id + \"'></div>\");\n",
       "    if (!fig.cell_info) {\n",
       "        console.error(\"Failed to find cell for figure\", id, fig);\n",
       "        return;\n",
       "    }\n",
       "\n",
       "    var output_index = fig.cell_info[2]\n",
       "    var cell = fig.cell_info[0];\n",
       "\n",
       "};\n",
       "\n",
       "mpl.figure.prototype.handle_close = function(fig, msg) {\n",
       "    var width = fig.canvas.width/mpl.ratio\n",
       "    fig.root.unbind('remove')\n",
       "\n",
       "    // Update the output cell to use the data from the current canvas.\n",
       "    fig.push_to_output();\n",
       "    var dataURL = fig.canvas.toDataURL();\n",
       "    // Re-enable the keyboard manager in IPython - without this line, in FF,\n",
       "    // the notebook keyboard shortcuts fail.\n",
       "    IPython.keyboard_manager.enable()\n",
       "    $(fig.parent_element).html('<img src=\"' + dataURL + '\" width=\"' + width + '\">');\n",
       "    fig.close_ws(fig, msg);\n",
       "}\n",
       "\n",
       "mpl.figure.prototype.close_ws = function(fig, msg){\n",
       "    fig.send_message('closing', msg);\n",
       "    // fig.ws.close()\n",
       "}\n",
       "\n",
       "mpl.figure.prototype.push_to_output = function(remove_interactive) {\n",
       "    // Turn the data on the canvas into data in the output cell.\n",
       "    var width = this.canvas.width/mpl.ratio\n",
       "    var dataURL = this.canvas.toDataURL();\n",
       "    this.cell_info[1]['text/html'] = '<img src=\"' + dataURL + '\" width=\"' + width + '\">';\n",
       "}\n",
       "\n",
       "mpl.figure.prototype.updated_canvas_event = function() {\n",
       "    // Tell IPython that the notebook contents must change.\n",
       "    IPython.notebook.set_dirty(true);\n",
       "    this.send_message(\"ack\", {});\n",
       "    var fig = this;\n",
       "    // Wait a second, then push the new image to the DOM so\n",
       "    // that it is saved nicely (might be nice to debounce this).\n",
       "    setTimeout(function () { fig.push_to_output() }, 1000);\n",
       "}\n",
       "\n",
       "mpl.figure.prototype._init_toolbar = function() {\n",
       "    var fig = this;\n",
       "\n",
       "    var nav_element = $('<div/>')\n",
       "    nav_element.attr('style', 'width: 100%');\n",
       "    this.root.append(nav_element);\n",
       "\n",
       "    // Define a callback function for later on.\n",
       "    function toolbar_event(event) {\n",
       "        return fig.toolbar_button_onclick(event['data']);\n",
       "    }\n",
       "    function toolbar_mouse_event(event) {\n",
       "        return fig.toolbar_button_onmouseover(event['data']);\n",
       "    }\n",
       "\n",
       "    for(var toolbar_ind in mpl.toolbar_items){\n",
       "        var name = mpl.toolbar_items[toolbar_ind][0];\n",
       "        var tooltip = mpl.toolbar_items[toolbar_ind][1];\n",
       "        var image = mpl.toolbar_items[toolbar_ind][2];\n",
       "        var method_name = mpl.toolbar_items[toolbar_ind][3];\n",
       "\n",
       "        if (!name) { continue; };\n",
       "\n",
       "        var button = $('<button class=\"btn btn-default\" href=\"#\" title=\"' + name + '\"><i class=\"fa ' + image + ' fa-lg\"></i></button>');\n",
       "        button.click(method_name, toolbar_event);\n",
       "        button.mouseover(tooltip, toolbar_mouse_event);\n",
       "        nav_element.append(button);\n",
       "    }\n",
       "\n",
       "    // Add the status bar.\n",
       "    var status_bar = $('<span class=\"mpl-message\" style=\"text-align:right; float: right;\"/>');\n",
       "    nav_element.append(status_bar);\n",
       "    this.message = status_bar[0];\n",
       "\n",
       "    // Add the close button to the window.\n",
       "    var buttongrp = $('<div class=\"btn-group inline pull-right\"></div>');\n",
       "    var button = $('<button class=\"btn btn-mini btn-primary\" href=\"#\" title=\"Stop Interaction\"><i class=\"fa fa-power-off icon-remove icon-large\"></i></button>');\n",
       "    button.click(function (evt) { fig.handle_close(fig, {}); } );\n",
       "    button.mouseover('Stop Interaction', toolbar_mouse_event);\n",
       "    buttongrp.append(button);\n",
       "    var titlebar = this.root.find($('.ui-dialog-titlebar'));\n",
       "    titlebar.prepend(buttongrp);\n",
       "}\n",
       "\n",
       "mpl.figure.prototype._root_extra_style = function(el){\n",
       "    var fig = this\n",
       "    el.on(\"remove\", function(){\n",
       "\tfig.close_ws(fig, {});\n",
       "    });\n",
       "}\n",
       "\n",
       "mpl.figure.prototype._canvas_extra_style = function(el){\n",
       "    // this is important to make the div 'focusable\n",
       "    el.attr('tabindex', 0)\n",
       "    // reach out to IPython and tell the keyboard manager to turn it's self\n",
       "    // off when our div gets focus\n",
       "\n",
       "    // location in version 3\n",
       "    if (IPython.notebook.keyboard_manager) {\n",
       "        IPython.notebook.keyboard_manager.register_events(el);\n",
       "    }\n",
       "    else {\n",
       "        // location in version 2\n",
       "        IPython.keyboard_manager.register_events(el);\n",
       "    }\n",
       "\n",
       "}\n",
       "\n",
       "mpl.figure.prototype._key_event_extra = function(event, name) {\n",
       "    var manager = IPython.notebook.keyboard_manager;\n",
       "    if (!manager)\n",
       "        manager = IPython.keyboard_manager;\n",
       "\n",
       "    // Check for shift+enter\n",
       "    if (event.shiftKey && event.which == 13) {\n",
       "        this.canvas_div.blur();\n",
       "        event.shiftKey = false;\n",
       "        // Send a \"J\" for go to next cell\n",
       "        event.which = 74;\n",
       "        event.keyCode = 74;\n",
       "        manager.command_mode();\n",
       "        manager.handle_keydown(event);\n",
       "    }\n",
       "}\n",
       "\n",
       "mpl.figure.prototype.handle_save = function(fig, msg) {\n",
       "    fig.ondownload(fig, null);\n",
       "}\n",
       "\n",
       "\n",
       "mpl.find_output_cell = function(html_output) {\n",
       "    // Return the cell and output element which can be found *uniquely* in the notebook.\n",
       "    // Note - this is a bit hacky, but it is done because the \"notebook_saving.Notebook\"\n",
       "    // IPython event is triggered only after the cells have been serialised, which for\n",
       "    // our purposes (turning an active figure into a static one), is too late.\n",
       "    var cells = IPython.notebook.get_cells();\n",
       "    var ncells = cells.length;\n",
       "    for (var i=0; i<ncells; i++) {\n",
       "        var cell = cells[i];\n",
       "        if (cell.cell_type === 'code'){\n",
       "            for (var j=0; j<cell.output_area.outputs.length; j++) {\n",
       "                var data = cell.output_area.outputs[j];\n",
       "                if (data.data) {\n",
       "                    // IPython >= 3 moved mimebundle to data attribute of output\n",
       "                    data = data.data;\n",
       "                }\n",
       "                if (data['text/html'] == html_output) {\n",
       "                    return [cell, data, j];\n",
       "                }\n",
       "            }\n",
       "        }\n",
       "    }\n",
       "}\n",
       "\n",
       "// Register the function which deals with the matplotlib target/channel.\n",
       "// The kernel may be null if the page has been refreshed.\n",
       "if (IPython.notebook.kernel != null) {\n",
       "    IPython.notebook.kernel.comm_manager.register_target('matplotlib', mpl.mpl_figure_comm);\n",
       "}\n"
      ],
      "text/plain": [
       "<IPython.core.display.Javascript object>"
      ]
     },
     "metadata": {},
     "output_type": "display_data"
    },
    {
     "data": {
      "text/html": [
       "<img src=\"data:image/png;base64,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\" width=\"576\">"
      ],
      "text/plain": [
       "<IPython.core.display.HTML object>"
      ]
     },
     "metadata": {},
     "output_type": "display_data"
    }
   ],
   "source": [
    "from importlib import reload\n",
    "reload(plt)\n",
    "%matplotlib notebook\n",
    "fig = plt.figure(figsize=[8, 8])\n",
    "plt.axes(xlim=(-11,11), ylim=(-11,11))\n",
    "circlesPlot = [createCircle(c) for c in circle_color]\n",
    "ax=plt.gca()\n",
    "for c in circlesPlot:\n",
    "    ax.add_patch(c)\n",
    "ax.axis('off')\n",
    "plt.title('Energy Map')\n",
    "plt.show()\n",
    "cid = fig.canvas.mpl_connect('mouse_notify_event', onclick)"
   ]
  },
  {
   "cell_type": "markdown",
   "metadata": {},
   "source": [
    "### More interactive one"
   ]
  },
  {
   "cell_type": "code",
   "execution_count": 62,
   "metadata": {},
   "outputs": [],
   "source": [
    "def generateCirclesInteractive(r):\n",
    "    res = []\n",
    "    radius = 1\n",
    "    edgeLen = 2 * r - 1\n",
    "    for i in range(edgeLen):\n",
    "        for j in range(edgeLen):\n",
    "            cur = ((2*i+1) * radius - (edgeLen-1) * radius, (2*j+1) * radius - (edgeLen-1) * radius)\n",
    "            res.append(cur)\n",
    "    return res"
   ]
  },
  {
   "cell_type": "code",
   "execution_count": 63,
   "metadata": {},
   "outputs": [],
   "source": [
    "from IPython.html.widgets import *\n",
    "def circlePlotImage(f):\n",
    "    circlesCoor = generateCirclesInteractive(f)\n",
    "    fig = plt.figure(figsize=[8, 8])\n",
    "    plt.axes(xlim=(-11,11), ylim=(-11,11))\n",
    "    ax=plt.gca()\n",
    "    circles = [createCircle(cc) for cc in circlesCoor]\n",
    "    for c in circles:\n",
    "        ax.add_patch(c)\n",
    "    ax.axis('off')\n",
    "    plt.show()"
   ]
  },
  {
   "cell_type": "code",
   "execution_count": 64,
   "metadata": {
    "scrolled": false
   },
   "outputs": [
    {
     "data": {
      "application/vnd.jupyter.widget-view+json": {
       "model_id": "21428804752c425b8b7722b4261f0542",
       "version_major": 2,
       "version_minor": 0
      },
      "text/plain": [
       "interactive(children=(IntSlider(value=3, description='f', max=5, min=1), Output()), _dom_classes=('widget-inte…"
      ]
     },
     "metadata": {},
     "output_type": "display_data"
    },
    {
     "data": {
      "text/plain": [
       "<function __main__.circlePlotImage(f)>"
      ]
     },
     "execution_count": 64,
     "metadata": {},
     "output_type": "execute_result"
    }
   ],
   "source": [
    "interact(circlePlotImage, f=(1,5))"
   ]
  },
  {
   "cell_type": "code",
   "execution_count": null,
   "metadata": {},
   "outputs": [],
   "source": []
  },
  {
   "cell_type": "code",
   "execution_count": null,
   "metadata": {},
   "outputs": [],
   "source": []
  },
  {
   "cell_type": "code",
   "execution_count": null,
   "metadata": {},
   "outputs": [],
   "source": []
  }
 ],
 "metadata": {
  "kernelspec": {
   "display_name": "Python 3",
   "language": "python",
   "name": "python3"
  },
  "language_info": {
   "codemirror_mode": {
    "name": "ipython",
    "version": 3
   },
   "file_extension": ".py",
   "mimetype": "text/x-python",
   "name": "python",
   "nbconvert_exporter": "python",
   "pygments_lexer": "ipython3",
   "version": "3.6.7"
  }
 },
 "nbformat": 4,
 "nbformat_minor": 2
}
