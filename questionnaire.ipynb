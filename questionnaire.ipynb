{
 "cells": [
  {
   "cell_type": "markdown",
   "metadata": {},
   "source": [
    "EQUATIONS TEXT\n",
    "\n",
    "- add equation , text description , questions \n",
    "\n",
    "Q : \n",
    "1.1 The description and eqn makes you fully understand the concept of ... (1 - 10 ) \n",
    "1.2 What did you understand (text)\n",
    "1.3 Did you feel any textual distractions in understanding ? \n",
    "1.4 How well does the equation make you understand how the function changes value with changes in parameter (1-10)\n",
    "1.5 Can you comment on the nature of function\n",
    "1.6 How well can you understand the relationship between the force and potential with varying parameter ( 1- 10)\n"
   ]
  },
  {
   "cell_type": "markdown",
   "metadata": {},
   "source": [
    "STATIC\n",
    " - all above + picture of plot\n",
    " \n",
    " Q : \n",
    " 2.0 The image matches with your understanding of 1.1,1.4,1.6 (1-10)\n",
    " 2.1 The image helps you understand 1.1,1.4,1.6 better (1-10)\n",
    " 2.2 Can you comment something new on the nature of the function. \n",
    " 2.3 Was the image helpful or distracting 1-10\n",
    " \n",
    " "
   ]
  },
  {
   "cell_type": "markdown",
   "metadata": {},
   "source": [
    "INTERACTIVE\n",
    "- all in text + interactive plot plus questions\n",
    "Q : \n",
    " 3.0 The interaction matches with your understanding of 2.0,2.1,2.3 (1-10)\n",
    " 3.1 The plot helps you understand 2.0,2.1,2.3 better (1-10)\n",
    " 3.2 Can you comment something new on the nature of the function. \n",
    " 3.3 Was the interaction helpful or distracting -10 - +10\n",
    " 3.4 What did you dislike about the interaction \n",
    " 3.5 What interactions could have helped you better\n",
    " 3.6 What interactions did you use the most and why ?\n",
    " add a task / challenge  "
   ]
  },
  {
   "cell_type": "code",
   "execution_count": null,
   "metadata": {},
   "outputs": [],
   "source": []
  }
 ],
 "metadata": {
  "kernelspec": {
   "display_name": "Python [default]",
   "language": "python",
   "name": "python3"
  },
  "language_info": {
   "codemirror_mode": {
    "name": "ipython",
    "version": 3
   },
   "file_extension": ".py",
   "mimetype": "text/x-python",
   "name": "python",
   "nbconvert_exporter": "python",
   "pygments_lexer": "ipython3",
   "version": "3.6.8"
  }
 },
 "nbformat": 4,
 "nbformat_minor": 2
}
