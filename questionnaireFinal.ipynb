{
 "cells": [
  {
   "cell_type": "markdown",
   "metadata": {},
   "source": [
    "# Questionnaire of How People Learning Project"
   ]
  },
  {
   "cell_type": "code",
   "execution_count": 1,
   "metadata": {},
   "outputs": [],
   "source": [
    "from sympy import *\n",
    "from sympy import symbols\n",
    "import holoviews as hv \n",
    "from holoviews import streams\n",
    "from holoviews import opts\n",
    "import numpy as np\n",
    "from ipywidgets import interact, widgets,HBox\n",
    "from IPython.display import display\n",
    "from holoviews.streams import Stream, param\n",
    "from IPython.core.display import display, HTML\n",
    "from ipywidgets import interact, widgets,HBox, Layout,Label\n",
    "import ipywidgets as widgets\n",
    "from sympy.parsing.sympy_parser import parse_expr\n",
    "init_printing(use_unicode=True)\n",
    "from scipy.spatial import distance_matrix\n",
    "from IPython.display import Image\n",
    "from save import *\n",
    "from IPython.display import display\n",
    "from IPython.display import Markdown\n",
    "np.seterr(divide='ignore', invalid='ignore')\n",
    "\n",
    "mode = 0 # if mode = 1, all text boxes should be filled\n",
    "         # else the text box can be empty\n",
    "\n",
    "# put the save function in the front\n",
    "def saveAll(list_slider):\n",
    "    response_list = {}\n",
    "    for k, v in list_slider.items():\n",
    "        response_list[k] = v.get_state()['value']\n",
    "        if response_list[k] == '' and mode:\n",
    "            print('You need to response to Q{}'.format(k))\n",
    "            return\n",
    "        elif response_list[k] == '' and not mode:\n",
    "            response_list[k] = 'EMPTY'\n",
    "            \n",
    "    readAndSave(response_list)\n",
    "    return"
   ]
  },
  {
   "cell_type": "markdown",
   "metadata": {},
   "source": [
    "## Part1: Textual Description"
   ]
  },
  {
   "cell_type": "code",
   "execution_count": 2,
   "metadata": {},
   "outputs": [],
   "source": [
    "a, b, r = symbols(\"a b r\")\n",
    "lennardJones = a/r**12 - b/r**6\n",
    "force = -lennardJones.diff(r)\n",
    "\n",
    "rMin = symbols('rMin')\n",
    "equationDistanceMinimum = Eq(force.subs({r: rMin}) / rMin, 0)\n",
    "eMin = symbols('eMin')\n",
    "equationEnergieMinimum = Eq(lennardJones.subs({r:rMin}), -eMin)\n",
    "criticalPointSolutions = solve([equationDistanceMinimum, equationEnergieMinimum], a, b)\n",
    "lennardJonesCritical = lennardJones.subs(criticalPointSolutions)\n",
    "lennardJonesScaled = expand(lennardJonesCritical / eMin)\n",
    "\n",
    "list_formulas = {\n",
    "    '1': Markdown('**equationDistanceMinimum:**'),\n",
    "    '2': Markdown('**equationEnergieMinimum:**'),\n",
    "    '3': Markdown('**criticalPointSolutions:**'),\n",
    "    '4': Markdown('**lennardJonesCritical:**'),\n",
    "    '5': Markdown('**lennardJonesScaled:**')\n",
    "}\n",
    "\n",
    "list_functions = {\n",
    "    '1': equationDistanceMinimum,\n",
    "    '2': equationEnergieMinimum,\n",
    "    '3': criticalPointSolutions,\n",
    "    '4': lennardJonesCritical,\n",
    "    '5': lennardJonesScaled\n",
    "}\n",
    "rho = symbols('rho')\n",
    "energy = expand(lennardJonesScaled.subs({r: rho * rMin}))\n",
    "forceScaled = expand(energy.diff(rho))\n",
    "\n",
    "energyAttractive = expand(lennardJonesScaled.subs({r: rho * rMin})).as_terms()[0][1][0]\n",
    "energyRepulsive = expand(lennardJonesScaled.subs({r: rho * rMin})).as_terms()[0][0][0]\n",
    "forceScaledAttractive = expand(forceScaled.subs({r: rho * rMin})).as_terms()[0][1][0]\n",
    "forceScaledRepulsive = expand(forceScaled.subs({r: rho * rMin})).as_terms()[0][0][0]\n",
    "\n",
    "list_formulas2 = {\n",
    "    '1': Markdown('**energyAttractive:**'),\n",
    "    '2': Markdown('**energyRepulsive:**'),\n",
    "    '3': Markdown('**forceScaledAttractive:**'),\n",
    "    '4': Markdown('**forceScaledRepulsive:**')\n",
    "}\n",
    "\n",
    "list_functions2 = {\n",
    "    '1': energyAttractive,\n",
    "    '2': equationEnergieMinimum,\n",
    "    '3': criticalPointSolutions,\n",
    "    '4': lennardJonesCritical\n",
    "}\n",
    "\n",
    "parabolaApproximation = series(energy, rho, n=3, x0=1).removeO()\n",
    "cubicApproximation = series(energy, rho, n=4, x0=1).removeO()\n",
    "t, mu = symbols(\"t mu\")\n",
    "fEqualsMA = Eq(mu*rho(t).diff(t,2)-12/(rho(t)**13)+12/(rho(t)**7))\n",
    "#charateristicPeriod = 2*np.pi/np.sqrt(72)\n",
    "\n",
    "list_formulas3 = {\n",
    "    '1': Markdown('**parabolaApproximation:**'),\n",
    "    '2': Markdown('**cubicApproximation:**'),\n",
    "    '3': Markdown('**fEqualsMA:**')\n",
    "}\n",
    "\n",
    "list_functions3 = {\n",
    "    '1': parabolaApproximation,\n",
    "    '2': cubicApproximation,\n",
    "    '3': fEqualsMA\n",
    "}\n",
    "\n",
    "\n",
    "slider = lambda minimum, maximum: \\\n",
    "                widgets.IntSlider(\n",
    "                    value=0,\n",
    "                    min=minimum,\n",
    "                    max=maximum,\n",
    "                    step=1,\n",
    "                    disabled=False,\n",
    "                    continuous_update=False,\n",
    "                    orientation='horizontal',\n",
    "                    readout=True,\n",
    "                    readout_format='d'\n",
    "                )\n",
    "text = lambda : \\\n",
    "            widgets.Text(\n",
    "                placeholder='Type something',\n",
    "                description=\"\",\n",
    "                disabled=False\n",
    "            )\n"
   ]
  },
  {
   "cell_type": "code",
   "execution_count": 3,
   "metadata": {
    "scrolled": false
   },
   "outputs": [
    {
     "data": {
      "text/markdown": [
       "#### Le potentiel de Lennard-Jones"
      ],
      "text/plain": [
       "<IPython.core.display.Markdown object>"
      ]
     },
     "metadata": {},
     "output_type": "display_data"
    },
    {
     "data": {
      "text/markdown": [
       "**lennardJones:**"
      ],
      "text/plain": [
       "<IPython.core.display.Markdown object>"
      ]
     },
     "metadata": {},
     "output_type": "display_data"
    },
    {
     "data": {
      "image/png": "[encoded data removed]",
      "text/latex": [
       "$$\\frac{a}{r^{12}} - \\frac{b}{r^{6}}$$"
      ],
      "text/plain": [
       " a    b \n",
       "─── - ──\n",
       " 12    6\n",
       "r     r "
      ]
     },
     "metadata": {},
     "output_type": "display_data"
    },
    {
     "data": {
      "text/markdown": [
       "La force est la derivée (en 1D) du potentiel()"
      ],
      "text/plain": [
       "<IPython.core.display.Markdown object>"
      ]
     },
     "metadata": {},
     "output_type": "display_data"
    },
    {
     "data": {
      "text/markdown": [
       "**force:**"
      ],
      "text/plain": [
       "<IPython.core.display.Markdown object>"
      ]
     },
     "metadata": {},
     "output_type": "display_data"
    },
    {
     "data": {
      "image/png": "[encoded data removed]",
      "text/latex": [
       "$$\\frac{12 a}{r^{13}} - \\frac{6 b}{r^{7}}$$"
      ],
      "text/plain": [
       "12⋅a   6⋅b\n",
       "──── - ───\n",
       " 13      7\n",
       "r       r "
      ]
     },
     "metadata": {},
     "output_type": "display_data"
    },
    {
     "data": {
      "text/markdown": [
       "#### Le potentiel de Lennard-Jones normalisé"
      ],
      "text/plain": [
       "<IPython.core.display.Markdown object>"
      ]
     },
     "metadata": {},
     "output_type": "display_data"
    },
    {
     "data": {
      "text/markdown": [
       "La résolution du système à deux équations permet de trouver l'expression de a et b en fonction de rmin et emin."
      ],
      "text/plain": [
       "<IPython.core.display.Markdown object>"
      ]
     },
     "metadata": {},
     "output_type": "display_data"
    },
    {
     "data": {
      "text/markdown": [
       "est une règle, i.e. r prend la valeur rMin"
      ],
      "text/plain": [
       "<IPython.core.display.Markdown object>"
      ]
     },
     "metadata": {},
     "output_type": "display_data"
    },
    {
     "data": {
      "text/markdown": [
       "**equationDistanceMinimum:**"
      ],
      "text/plain": [
       "<IPython.core.display.Markdown object>"
      ]
     },
     "metadata": {},
     "output_type": "display_data"
    },
    {
     "data": {
      "image/png": "[encoded data removed]",
      "text/latex": [
       "$$\\frac{1}{rMin} \\left(\\frac{12 a}{rMin^{13}} - \\frac{6 b}{rMin^{7}}\\right) = 0$$"
      ],
      "text/plain": [
       " 12⋅a     6⋅b     \n",
       "────── - ─────    \n",
       "    13       7    \n",
       "rMin     rMin     \n",
       "────────────── = 0\n",
       "     rMin         "
      ]
     },
     "metadata": {},
     "output_type": "display_data"
    },
    {
     "data": {
      "text/markdown": [
       "**equationEnergieMinimum:**"
      ],
      "text/plain": [
       "<IPython.core.display.Markdown object>"
      ]
     },
     "metadata": {},
     "output_type": "display_data"
    },
    {
     "data": {
      "image/png": "[encoded data removed]",
      "text/latex": [
       "$$\\frac{a}{rMin^{12}} - \\frac{b}{rMin^{6}} = - eMin$$"
      ],
      "text/plain": [
       "  a        b          \n",
       "────── - ───── = -eMin\n",
       "    12       6        \n",
       "rMin     rMin         "
      ]
     },
     "metadata": {},
     "output_type": "display_data"
    },
    {
     "data": {
      "text/markdown": [
       "**criticalPointSolutions:**"
      ],
      "text/plain": [
       "<IPython.core.display.Markdown object>"
      ]
     },
     "metadata": {},
     "output_type": "display_data"
    },
    {
     "data": {
      "image/png": "[encoded data removed]",
      "text/latex": [
       "$$\\left \\{ a : eMin rMin^{12}, \\quad b : 2 eMin rMin^{6}\\right \\}$$"
      ],
      "text/plain": [
       "⎧            12                6⎫\n",
       "⎨a: eMin⋅rMin  , b: 2⋅eMin⋅rMin ⎬\n",
       "⎩                               ⎭"
      ]
     },
     "metadata": {},
     "output_type": "display_data"
    },
    {
     "data": {
      "text/markdown": [
       "**lennardJonesCritical:**"
      ],
      "text/plain": [
       "<IPython.core.display.Markdown object>"
      ]
     },
     "metadata": {},
     "output_type": "display_data"
    },
    {
     "data": {
      "image/png": "[encoded data removed]",
      "text/latex": [
       "$$- \\frac{2 eMin}{r^{6}} rMin^{6} + \\frac{eMin rMin^{12}}{r^{12}}$$"
      ],
      "text/plain": [
       "             6            12\n",
       "  2⋅eMin⋅rMin    eMin⋅rMin  \n",
       "- ──────────── + ───────────\n",
       "        6             12    \n",
       "       r             r      "
      ]
     },
     "metadata": {},
     "output_type": "display_data"
    },
    {
     "data": {
      "text/markdown": [
       "**lennardJonesScaled:**"
      ],
      "text/plain": [
       "<IPython.core.display.Markdown object>"
      ]
     },
     "metadata": {},
     "output_type": "display_data"
    },
    {
     "data": {
      "image/png": "[encoded data removed]",
      "text/latex": [
       "$$- \\frac{2 rMin^{6}}{r^{6}} + \\frac{rMin^{12}}{r^{12}}$$"
      ],
      "text/plain": [
       "        6       12\n",
       "  2⋅rMin    rMin  \n",
       "- ─────── + ──────\n",
       "      6       12  \n",
       "     r       r    "
      ]
     },
     "metadata": {},
     "output_type": "display_data"
    },
    {
     "data": {
      "text/markdown": [
       "la fonction énergie est l' equivalent normalisé de l' expression initiale du potentiel de Lennard - Jones. L' énergie est exprimée par rapport à l' énergie minimale et rho la distance par rapport à la distance minimale."
      ],
      "text/plain": [
       "<IPython.core.display.Markdown object>"
      ]
     },
     "metadata": {},
     "output_type": "display_data"
    },
    {
     "data": {
      "text/markdown": [
       "**energy:**"
      ],
      "text/plain": [
       "<IPython.core.display.Markdown object>"
      ]
     },
     "metadata": {},
     "output_type": "display_data"
    },
    {
     "data": {
      "image/png": "[encoded data removed]",
      "text/latex": [
       "$$- \\frac{2}{\\rho^{6}} + \\frac{1}{\\rho^{12}}$$"
      ],
      "text/plain": [
       "  2     1 \n",
       "- ── + ───\n",
       "   6    12\n",
       "  ρ    ρ  "
      ]
     },
     "metadata": {},
     "output_type": "display_data"
    },
    {
     "data": {
      "text/markdown": [
       "**forceScaled:**"
      ],
      "text/plain": [
       "<IPython.core.display.Markdown object>"
      ]
     },
     "metadata": {},
     "output_type": "display_data"
    },
    {
     "data": {
      "image/png": "[encoded data removed]",
      "text/latex": [
       "$$\\frac{12}{\\rho^{7}} - \\frac{12}{\\rho^{13}}$$"
      ],
      "text/plain": [
       "12    12\n",
       "── - ───\n",
       " 7    13\n",
       "ρ    ρ  "
      ]
     },
     "metadata": {},
     "output_type": "display_data"
    },
    {
     "data": {
      "text/markdown": [
       "**energyAttractive:**"
      ],
      "text/plain": [
       "<IPython.core.display.Markdown object>"
      ]
     },
     "metadata": {},
     "output_type": "display_data"
    },
    {
     "data": {
      "image/png": "[encoded data removed]",
      "text/latex": [
       "$$- \\frac{2}{\\rho^{6}}$$"
      ],
      "text/plain": [
       "-2 \n",
       "───\n",
       "  6\n",
       " ρ "
      ]
     },
     "metadata": {},
     "output_type": "display_data"
    },
    {
     "data": {
      "text/markdown": [
       "**energyRepulsive:**"
      ],
      "text/plain": [
       "<IPython.core.display.Markdown object>"
      ]
     },
     "metadata": {},
     "output_type": "display_data"
    },
    {
     "data": {
      "image/png": "[encoded data removed]",
      "text/latex": [
       "$$\\frac{a}{rMin^{12}} - \\frac{b}{rMin^{6}} = - eMin$$"
      ],
      "text/plain": [
       "  a        b          \n",
       "────── - ───── = -eMin\n",
       "    12       6        \n",
       "rMin     rMin         "
      ]
     },
     "metadata": {},
     "output_type": "display_data"
    },
    {
     "data": {
      "text/markdown": [
       "**forceScaledAttractive:**"
      ],
      "text/plain": [
       "<IPython.core.display.Markdown object>"
      ]
     },
     "metadata": {},
     "output_type": "display_data"
    },
    {
     "data": {
      "image/png": "[encoded data removed]",
      "text/latex": [
       "$$\\left \\{ a : eMin rMin^{12}, \\quad b : 2 eMin rMin^{6}\\right \\}$$"
      ],
      "text/plain": [
       "⎧            12                6⎫\n",
       "⎨a: eMin⋅rMin  , b: 2⋅eMin⋅rMin ⎬\n",
       "⎩                               ⎭"
      ]
     },
     "metadata": {},
     "output_type": "display_data"
    },
    {
     "data": {
      "text/markdown": [
       "**forceScaledRepulsive:**"
      ],
      "text/plain": [
       "<IPython.core.display.Markdown object>"
      ]
     },
     "metadata": {},
     "output_type": "display_data"
    },
    {
     "data": {
      "image/png": "[encoded data removed]",
      "text/latex": [
       "$$- \\frac{2 eMin}{r^{6}} rMin^{6} + \\frac{eMin rMin^{12}}{r^{12}}$$"
      ],
      "text/plain": [
       "             6            12\n",
       "  2⋅eMin⋅rMin    eMin⋅rMin  \n",
       "- ──────────── + ───────────\n",
       "        6             12    \n",
       "       r             r      "
      ]
     },
     "metadata": {},
     "output_type": "display_data"
    },
    {
     "data": {
      "text/markdown": [
       "Le developpement en series entiere, i.e. expansion de Taylor, permet d' approximer la courbe avec une parabole ou un polynome cubique."
      ],
      "text/plain": [
       "<IPython.core.display.Markdown object>"
      ]
     },
     "metadata": {},
     "output_type": "display_data"
    },
    {
     "data": {
      "text/markdown": [
       "**parabolaApproximation:**"
      ],
      "text/plain": [
       "<IPython.core.display.Markdown object>"
      ]
     },
     "metadata": {},
     "output_type": "display_data"
    },
    {
     "data": {
      "image/png": "[encoded data removed]",
      "text/latex": [
       "$$36 \\left(\\rho - 1\\right)^{2} - 1$$"
      ],
      "text/plain": [
       "          2    \n",
       "36⋅(ρ - 1)  - 1"
      ]
     },
     "metadata": {},
     "output_type": "display_data"
    },
    {
     "data": {
      "text/markdown": [
       "**cubicApproximation:**"
      ],
      "text/plain": [
       "<IPython.core.display.Markdown object>"
      ]
     },
     "metadata": {},
     "output_type": "display_data"
    },
    {
     "data": {
      "image/png": "[encoded data removed]",
      "text/latex": [
       "$$- 252 \\left(\\rho - 1\\right)^{3} + 36 \\left(\\rho - 1\\right)^{2} - 1$$"
      ],
      "text/plain": [
       "             3             2    \n",
       "- 252⋅(ρ - 1)  + 36⋅(ρ - 1)  - 1"
      ]
     },
     "metadata": {},
     "output_type": "display_data"
    },
    {
     "data": {
      "text/markdown": [
       "**fEqualsMA:**"
      ],
      "text/plain": [
       "<IPython.core.display.Markdown object>"
      ]
     },
     "metadata": {},
     "output_type": "display_data"
    },
    {
     "data": {
      "image/png": "[encoded data removed]",
      "text/latex": [
       "$$\\mu \\frac{d^{2}}{d t^{2}}  \\rho{\\left (t \\right )} + \\frac{12}{\\rho^{7}{\\left (t \\right )}} - \\frac{12}{\\rho^{13}{\\left (t \\right )}} = 0$$"
      ],
      "text/plain": [
       "    2                           \n",
       "   d            12      12      \n",
       "μ⋅───(ρ(t)) + ───── - ────── = 0\n",
       "    2          7       13       \n",
       "  dt          ρ (t)   ρ  (t)    "
      ]
     },
     "metadata": {},
     "output_type": "display_data"
    },
    {
     "data": {
      "text/html": [
       "<h2>Questions about textual description</h2> <H4>Scale is from LEAST -> 1 to 10 -> BEST OR STRONGLY DISAGREE to STRONGLY AGREE</H4>"
      ],
      "text/plain": [
       "<IPython.core.display.HTML object>"
      ]
     },
     "metadata": {},
     "output_type": "display_data"
    },
    {
     "data": {
      "application/vnd.jupyter.widget-view+json": {
       "model_id": "dabbd1484e1c4341b5a6b97c7503d14d",
       "version_major": 2,
       "version_minor": 0
      },
      "text/plain": [
       "HBox(children=(Label(value='How well do the textual description and the corresponding equation help you fully …"
      ]
     },
     "metadata": {},
     "output_type": "display_data"
    },
    {
     "data": {
      "application/vnd.jupyter.widget-view+json": {
       "model_id": "75f15280ff3a45b9a2bf4b7c5e337f69",
       "version_major": 2,
       "version_minor": 0
      },
      "text/plain": [
       "HBox(children=(Label(value='How well does the equation help you understand how the function changes in value w…"
      ]
     },
     "metadata": {},
     "output_type": "display_data"
    },
    {
     "data": {
      "application/vnd.jupyter.widget-view+json": {
       "model_id": "2ceea385d4fd4c1e8f13b21cb8baaf86",
       "version_major": 2,
       "version_minor": 0
      },
      "text/plain": [
       "HBox(children=(Label(value='How well can you understand the relationship between the force and potential with …"
      ]
     },
     "metadata": {},
     "output_type": "display_data"
    },
    {
     "data": {
      "application/vnd.jupyter.widget-view+json": {
       "model_id": "29cba6f468fc4499bf90bc106989a848",
       "version_major": 2,
       "version_minor": 0
      },
      "text/plain": [
       "HBox(children=(Label(value='What did you understand from the given textual description and equation?'), Text(v…"
      ]
     },
     "metadata": {},
     "output_type": "display_data"
    },
    {
     "data": {
      "application/vnd.jupyter.widget-view+json": {
       "model_id": "f252e415d2fa49d6b788719ca35fb21b",
       "version_major": 2,
       "version_minor": 0
      },
      "text/plain": [
       "HBox(children=(Label(value='Did you feel textual descriptions distracting in understanding?'), Text(value='', …"
      ]
     },
     "metadata": {},
     "output_type": "display_data"
    },
    {
     "data": {
      "application/vnd.jupyter.widget-view+json": {
       "model_id": "3fbe0945199043328fea34398d4ef0b1",
       "version_major": 2,
       "version_minor": 0
      },
      "text/plain": [
       "HBox(children=(Label(value='From the information given above, what can you comment on the nature of function?'…"
      ]
     },
     "metadata": {},
     "output_type": "display_data"
    }
   ],
   "source": [
    "list_questions_1 = {\n",
    "    '1.1': 'How well do the textual description and the corresponding equation help you fully understand the concepts?',\n",
    "    '1.2': 'How well does the equation help you understand how the function changes in value when parameters change?',\n",
    "    '1.3': 'How well can you understand the relationship between the force and potential with varying parameter?',\n",
    "    '1.4': 'What did you understand from the given textual description and equation?',\n",
    "    '1.5': 'Did you feel textual descriptions distracting in understanding?',\n",
    "    '1.6': 'From the information given above, what can you comment on the nature of function?'\n",
    "}\n",
    "\n",
    "list_sliders_1 = {\n",
    "    '1.1': slider(1,10),\n",
    "    '1.2': slider(1,10),\n",
    "    '1.3': slider(1,10),\n",
    "    '1.4': text(),\n",
    "    '1.5': text(),\n",
    "    '1.6': text()\n",
    "}\n",
    "display(Markdown(\"#### Le potentiel de Lennard-Jones\"))\n",
    "display(Markdown('**lennardJones:**'),lennardJones)\n",
    "display(Markdown(\"La force est la derivée (en 1D) du potentiel()\"))\n",
    "display(Markdown('**force:**'),force)\n",
    "display(Markdown(\"#### Le potentiel de Lennard-Jones normalisé\"))\n",
    "display(Markdown(\"La résolution du système à deux équations permet de trouver l'expression de a et b en fonction de rmin et emin.\"))\n",
    "display(Markdown(\"est une règle, i.e. r prend la valeur rMin\"))\n",
    "display(list_formulas['1'], list_functions['1'])\n",
    "display(list_formulas['2'], list_functions['2'])\n",
    "display(list_formulas['3'], list_functions['3'])\n",
    "display(list_formulas['4'], list_functions['4'])\n",
    "display(list_formulas['5'], list_functions['5'])\n",
    "display(Markdown(\"la fonction énergie est l' equivalent normalisé de l' expression initiale du potentiel de Lennard - Jones. L' énergie est exprimée par rapport à l' énergie minimale et rho la distance par rapport à la distance minimale.\"))\n",
    "display(Markdown('**energy:**'), energy)\n",
    "display(Markdown('**forceScaled:**'), forceScaled)\n",
    "display(list_formulas2['1'], list_functions2['1'])\n",
    "display(list_formulas2['2'], list_functions2['2'])\n",
    "display(list_formulas2['3'], list_functions2['3'])\n",
    "display(list_formulas2['4'], list_functions2['4'])\n",
    "display(Markdown(\"Le developpement en series entiere, i.e. expansion de Taylor, permet d' approximer la courbe avec une parabole ou un polynome cubique.\"))\n",
    "display(list_formulas3['1'], list_functions3['1'])\n",
    "display(list_formulas3['2'], list_functions3['2'])\n",
    "display(list_formulas3['3'], list_functions3['3'])\n",
    "\n",
    "\n",
    "display(HTML('<h2>Questions about textual description</h2> <H4>Scale is from LEAST -> 1 to 10 -> BEST OR STRONGLY DISAGREE to STRONGLY AGREE</H4>'))\n",
    "display(HBox([Label(list_questions_1['1.1']), list_sliders_1['1.1']]))\n",
    "display(HBox([Label(list_questions_1['1.2']), list_sliders_1['1.2']]))\n",
    "display(HBox([Label(list_questions_1['1.3']), list_sliders_1['1.3']]))\n",
    "display(HBox([Label(list_questions_1['1.4']), list_sliders_1['1.4']]))\n",
    "display(HBox([Label(list_questions_1['1.5']), list_sliders_1['1.5']]))\n",
    "display(HBox([Label(list_questions_1['1.6']), list_sliders_1['1.6']]))"
   ]
  },
  {
   "cell_type": "markdown",
   "metadata": {},
   "source": [
    "## Part2: Static Plotting"
   ]
  },
  {
   "cell_type": "code",
   "execution_count": 4,
   "metadata": {},
   "outputs": [
    {
     "data": {
      "text/html": [
       "<h2>Questions about static plot</h2> <H4>Scale is from LEAST -> 1 to 10 -> BEST OR STRONGLY DISAGREE to STRONGLY AGREE</H4>"
      ],
      "text/plain": [
       "<IPython.core.display.HTML object>"
      ]
     },
     "metadata": {},
     "output_type": "display_data"
    },
    {
     "data": {
      "text/html": [
       "<img src=\"plot/staticPlot.png\"/>"
      ],
      "text/plain": [
       "<IPython.core.display.Image object>"
      ]
     },
     "metadata": {},
     "output_type": "display_data"
    },
    {
     "data": {
      "text/markdown": [
       "This static plot depicts the four relationships shown as equations in last section, with parameters ε = 0.67, r = 1.031; please answer the following questions before proceeding to the next section."
      ],
      "text/plain": [
       "<IPython.core.display.Markdown object>"
      ]
     },
     "metadata": {},
     "output_type": "display_data"
    },
    {
     "data": {
      "application/vnd.jupyter.widget-view+json": {
       "model_id": "05f835d42864460280138373cf5278d2",
       "version_major": 2,
       "version_minor": 0
      },
      "text/plain": [
       "HBox(children=(Label(value='How well does the static plot help you fully understand the concepts?'), IntSlider…"
      ]
     },
     "metadata": {},
     "output_type": "display_data"
    },
    {
     "data": {
      "application/vnd.jupyter.widget-view+json": {
       "model_id": "87de355f38ca4310a10e18cfbb33fda3",
       "version_major": 2,
       "version_minor": 0
      },
      "text/plain": [
       "HBox(children=(Label(value='How well does the static plot help you understand how the function changes in valu…"
      ]
     },
     "metadata": {},
     "output_type": "display_data"
    },
    {
     "data": {
      "application/vnd.jupyter.widget-view+json": {
       "model_id": "837a99ae9ee442cfa029c9d007143657",
       "version_major": 2,
       "version_minor": 0
      },
      "text/plain": [
       "HBox(children=(Label(value='After seeing the plot, how well can you understand the relation between force/pote…"
      ]
     },
     "metadata": {},
     "output_type": "display_data"
    },
    {
     "data": {
      "application/vnd.jupyter.widget-view+json": {
       "model_id": "cc0a952edbd348d88c813c17dd8fbe3c",
       "version_major": 2,
       "version_minor": 0
      },
      "text/plain": [
       "HBox(children=(Label(value='To which degree does the image matches with your understanding of 1.1, 1.2 and 1.3…"
      ]
     },
     "metadata": {},
     "output_type": "display_data"
    },
    {
     "data": {
      "application/vnd.jupyter.widget-view+json": {
       "model_id": "dcde3f37415f473c89d899757e2c8b53",
       "version_major": 2,
       "version_minor": 0
      },
      "text/plain": [
       "HBox(children=(Label(value='To which degree does the image helps you understand 1.1, 1.2 and 1.3 better?'), In…"
      ]
     },
     "metadata": {},
     "output_type": "display_data"
    },
    {
     "data": {
      "application/vnd.jupyter.widget-view+json": {
       "model_id": "33acba8dca124300a5061b612b3ca736",
       "version_major": 2,
       "version_minor": 0
      },
      "text/plain": [
       "HBox(children=(Label(value='To which degree is the image helpful for your understanding ?'), IntSlider(value=0…"
      ]
     },
     "metadata": {},
     "output_type": "display_data"
    },
    {
     "data": {
      "application/vnd.jupyter.widget-view+json": {
       "model_id": "732f446eddde4164a63a26ed40eea823",
       "version_major": 2,
       "version_minor": 0
      },
      "text/plain": [
       "HBox(children=(Label(value='After seeing the static plot, can you comment something new on the nature of the f…"
      ]
     },
     "metadata": {},
     "output_type": "display_data"
    },
    {
     "data": {
      "application/vnd.jupyter.widget-view+json": {
       "model_id": "eaa6b877f3974373b2665920481e6d4d",
       "version_major": 2,
       "version_minor": 0
      },
      "text/plain": [
       "HBox(children=(Label(value='What did you understand from the given static plot?'), Text(value='', placeholder=…"
      ]
     },
     "metadata": {},
     "output_type": "display_data"
    },
    {
     "data": {
      "application/vnd.jupyter.widget-view+json": {
       "model_id": "7d85a438b9834f71aa2fbc9fca876991",
       "version_major": 2,
       "version_minor": 0
      },
      "text/plain": [
       "HBox(children=(Label(value='Did you feel static plot distracting in understanding?'), Text(value='', placehold…"
      ]
     },
     "metadata": {},
     "output_type": "display_data"
    },
    {
     "data": {
      "application/vnd.jupyter.widget-view+json": {
       "model_id": "3530cc76d2ee418a8b7e5b6d08fa4282",
       "version_major": 2,
       "version_minor": 0
      },
      "text/plain": [
       "HBox(children=(Label(value='From the information given above, can you comment on the nature of function?'), Te…"
      ]
     },
     "metadata": {},
     "output_type": "display_data"
    }
   ],
   "source": [
    "list_questions_2 = {\n",
    "    '2.1': 'How well does the static plot help you fully understand the concepts?',\n",
    "    '2.2': 'How well does the static plot help you understand how the function changes in value when parameters change?',\n",
    "    '2.3': 'After seeing the plot, how well can you understand the relation between force/potential and varying parameter?',\n",
    "    '2.4': 'To which degree does the image matches with your understanding of 1.1, 1.2 and 1.3',\n",
    "    '2.5': 'To which degree does the image helps you understand 1.1, 1.2 and 1.3 better?',\n",
    "    '2.6': 'To which degree is the image helpful for your understanding ?',\n",
    "    '2.7': 'After seeing the static plot, can you comment something new on the nature of the function?',\n",
    "    '2.8': 'What did you understand from the given static plot?',\n",
    "    '2.9': 'Did you feel static plot distracting in understanding?',\n",
    "    '2.10': 'From the information given above, can you comment on the nature of function?'\n",
    "}\n",
    "\n",
    "list_sliders_2 = {\n",
    "    '2.1': slider(1,10),\n",
    "    '2.2': slider(1,10),\n",
    "    '2.3': slider(1,10),\n",
    "    '2.4': slider(1,10),\n",
    "    '2.5': slider(-10,10),\n",
    "    '2.6': slider(-10,10),\n",
    "    '2.7': text(),\n",
    "    '2.8': text(),\n",
    "    '2.9': text(),\n",
    "    '2.10': text()\n",
    "}\n",
    "display(HTML('<h2>Questions about static plot</h2> <H4>Scale is from LEAST -> 1 to 10 -> BEST OR STRONGLY DISAGREE to STRONGLY AGREE</H4>'))\n",
    "text_description = 'This static plot depicts the four relationships shown as equations in last section, with parameters \\u03B5 = 0.67, r = 1.031; please answer the following questions before proceeding to the next section.'\n",
    "display(Image(url='plot/staticPlot.png'))\n",
    "display(Markdown(text_description))\n",
    "display(HBox([Label(list_questions_2['2.1']), list_sliders_2['2.1']]))\n",
    "display(HBox([Label(list_questions_2['2.2']), list_sliders_2['2.2']]))\n",
    "display(HBox([Label(list_questions_2['2.3']), list_sliders_2['2.3']]))\n",
    "display(HBox([Label(list_questions_2['2.4']), list_sliders_2['2.4']]))\n",
    "display(HBox([Label(list_questions_2['2.5']), list_sliders_2['2.5']]))\n",
    "display(HBox([Label(list_questions_2['2.6']), list_sliders_2['2.6']]))\n",
    "display(HBox([Label(list_questions_2['2.7']), list_sliders_2['2.7']]))\n",
    "display(HBox([Label(list_questions_2['2.8']), list_sliders_2['2.8']]))\n",
    "display(HBox([Label(list_questions_2['2.9']), list_sliders_2['2.9']]))\n",
    "display(HBox([Label(list_questions_2['2.10']),list_sliders_2['2.10']]))"
   ]
  },
  {
   "cell_type": "markdown",
   "metadata": {},
   "source": [
    "## Part3: Interactive Plotting"
   ]
  },
  {
   "cell_type": "code",
   "execution_count": 5,
   "metadata": {},
   "outputs": [
    {
     "data": {
      "text/html": [
       "\n",
       "<link rel=\"stylesheet\" href=\"https://code.jquery.com/ui/1.10.4/themes/smoothness/jquery-ui.css\">\n",
       "<style>div.hololayout {\n",
       "  display: flex;\n",
       "  align-items: center;\n",
       "  margin: 0;\n",
       "}\n",
       "\n",
       "div.holoframe {\n",
       "  width: 75%;\n",
       "}\n",
       "\n",
       "div.holowell {\n",
       "  display: flex;\n",
       "  align-items: center;\n",
       "}\n",
       "\n",
       "form.holoform {\n",
       "  background-color: #fafafa;\n",
       "  border-radius: 5px;\n",
       "  overflow: hidden;\n",
       "  padding-left: 0.8em;\n",
       "  padding-right: 0.8em;\n",
       "  padding-top: 0.4em;\n",
       "  padding-bottom: 0.4em;\n",
       "  box-shadow: inset 0 1px 1px rgba(0, 0, 0, 0.05);\n",
       "  margin-bottom: 20px;\n",
       "  border: 1px solid #e3e3e3;\n",
       "}\n",
       "\n",
       "div.holowidgets {\n",
       "  padding-right: 0;\n",
       "  width: 25%;\n",
       "}\n",
       "\n",
       "div.holoslider {\n",
       "  min-height: 0 !important;\n",
       "  height: 0.8em;\n",
       "  width: 100%;\n",
       "}\n",
       "\n",
       "div.holoformgroup {\n",
       "  padding-top: 0.5em;\n",
       "  margin-bottom: 0.5em;\n",
       "}\n",
       "\n",
       "div.hologroup {\n",
       "  padding-left: 0;\n",
       "  padding-right: 0.8em;\n",
       "  width: 100%;\n",
       "}\n",
       "\n",
       ".holoselect {\n",
       "  width: 92%;\n",
       "  margin-left: 0;\n",
       "  margin-right: 0;\n",
       "}\n",
       "\n",
       ".holotext {\n",
       "  padding-left:  0.5em;\n",
       "  padding-right: 0;\n",
       "  width: 100%;\n",
       "}\n",
       "\n",
       ".holowidgets .ui-resizable-se {\n",
       "  visibility: hidden\n",
       "}\n",
       "\n",
       ".holoframe > .ui-resizable-se {\n",
       "  visibility: hidden\n",
       "}\n",
       "\n",
       ".holowidgets .ui-resizable-s {\n",
       "  visibility: hidden\n",
       "}\n",
       "\n",
       "\n",
       "/* CSS rules for noUISlider based slider used by JupyterLab extension  */\n",
       "\n",
       ".noUi-handle {\n",
       "  width: 20px !important;\n",
       "  height: 20px !important;\n",
       "  left: -5px !important;\n",
       "  top: -5px !important;\n",
       "}\n",
       "\n",
       ".noUi-handle:before, .noUi-handle:after {\n",
       "  visibility: hidden;\n",
       "  height: 0px;\n",
       "}\n",
       "\n",
       ".noUi-target {\n",
       "  margin-left: 0.5em;\n",
       "  margin-right: 0.5em;\n",
       "}\n",
       "</style>\n",
       "\n",
       "\n",
       "<div class=\"logo-block\">\n",
       "<img src='data:image/png;base64,iVBORw0KGgoAAAANSUhEUgAAAEAAAABACAYAAACqaXHeAAAABHNCSVQICAgIfAhkiAAAAAlwSFlz\n",
       "AAAB+wAAAfsBxc2miwAAABl0RVh0U29mdHdhcmUAd3d3Lmlua3NjYXBlLm9yZ5vuPBoAAA6zSURB\n",
       "VHic7ZtpeFRVmsf/5966taWqUlUJ2UioBBJiIBAwCZtog9IOgjqACsogKtqirT2ttt069nQ/zDzt\n",
       "tI4+CrJIREFaFgWhBXpUNhHZQoKBkIUASchWla1S+3ar7r1nPkDaCAnZKoQP/D7mnPOe9/xy76n3\n",
       "nFSAW9ziFoPFNED2LLK5wcyBDObkb8ZkxuaoSYlI6ZcOKq1eWFdedqNzGHQBk9RMEwFAASkk0Xw3\n",
       "ETacDNi2vtvc7L0ROdw0AjoSotQVkKSvHQz/wRO1lScGModBFbDMaNRN1A4tUBCS3lk7BWhQkgpD\n",
       "lG4852/+7DWr1R3uHAZVQDsbh6ZPN7CyxUrCzJMRouusj0ipRwD2uKm0Zn5d2dFwzX1TCGhnmdGo\n",
       "G62Nna+isiUqhkzuKrkQaJlPEv5mFl2fvGg2t/VnzkEV8F5ioioOEWkLG86fvbpthynjdhXYZziQ\n",
       "x1hC9J2NFyi8vCTt91Fh04KGip0AaG9zuCk2wQCVyoNU3Hjezee9bq92duzzTmxsRJoy+jEZZZYo\n",
       "GTKJ6SJngdJqAfRzpze0+jHreUtPc7gpBLQnIYK6BYp/uGhw9YK688eu7v95ysgshcg9qSLMo3JC\n",
       "4jqLKQFBgdKDPoQ+Pltb8dUyQLpeDjeVgI6EgLIQFT5tEl3rn2losHVsexbZ3EyT9wE1uGdkIPcy\n",
       "BGxn8QUq1QrA5nqW5i2tLqvrrM9NK6AdkVIvL9E9bZL/oyfMVd/jqvc8LylzRBKDJSzIExwhQzuL\n",
       "QYGQj4rHfFTc8mUdu3E7yoLtbTe9gI4EqVgVkug2i5+uXGo919ixbRog+3fTbQ8qJe4ZOYNfMoTI\n",
       "OoshUNosgO60AisX15aeI2PSIp5KiFLI9ubb1vV3Qb2ltwLakUCDAkWX7/nHKRmmGIl9VgYsUhJm\n",
       "2NXjKYADtM1ygne9QQDIXlk49FBstMKx66D1v4+XuQr7vqTe0VcBHQlRWiOCbmmSYe2SqtL6q5rJ\n",
       "zsTb7lKx3FKOYC4DoqyS/B5bvLPxvD9Qtf6saxYLQGJErmDOdOMr/zo96km1nElr8bmPOBwI9COv\n",
       "HnFPRIwmkSOv9kcAS4heRsidOkpeWBgZM+UBrTFAXNYL5Vf2ii9c1trNzpYdaoVil3WIc+wdk+gQ\n",
       "noie3ecCcxt9ITcLAPWt/laGEO/9U6PmzZkenTtsSMQ8uYywJVW+grCstAvCIaAdArAsIWkRDDs/\n",
       "KzLm2YcjY1Lv0UdW73HabE9n6V66cxSzfEmuJssTpKGVp+0vHq73FwL46eOjpMpbRAnNmJFrGJNu\n",
       "Ukf9Yrz+3rghiumCKNXXWPhLYcjxGsIpoCMsIRoFITkW8AuyM8jC1+/QLx4bozCEJIq38+1rtpR6\n",
       "V/yzb8eBlRb3fo5l783N0CWolAzJHaVNzkrTzlEp2bQ2q3TC5gn6wpnoQAmwSiGh2GitnTmVMc5O\n",
       "UyfKWUKCIsU7+fZDKwqdT6DDpvkzAX4/+AMFjk0tDp5GRXLpQ2MUmhgDp5gxQT8+Y7hyPsMi8uxF\n",
       "71H0oebujHALECjFKaW9Lm68n18wXp2kVzIcABytD5iXFzg+WVXkegpAsOOYziqo0OkK76GyquC3\n",
       "ltZAzMhhqlSNmmWTE5T6e3IN05ITFLM4GdN0vtZ3ob8Jh1NAKXFbm5PtLU/eqTSlGjkNAJjdgn/N\n",
       "aedXa0tdi7+t9G0FIF49rtMSEgAs1kDLkTPO7ebm4IUWeyh1bKomXqlgMG6kJmHcSM0clYLJ8XtR\n",
       "1GTnbV3F6I5wCGikAb402npp1h1s7LQUZZSMIfALFOuL3UUrfnS8+rez7v9qcold5tilgHbO1fjK\n",
       "9ubb17u9oshxzMiUBKXWqJNxd+fqb0tLVs4lILFnK71H0Ind7uiPgACVcFJlrb0tV6DzxqqTIhUM\n",
       "CwDf1/rrVhTa33/3pGPxJYdQ2l2cbgVcQSosdx8uqnDtbGjh9SlDVSMNWhlnilfqZk42Th2ZpLpf\n",
       "xrHec5e815zrr0dfBZSwzkZfqsv+1FS1KUknUwPARVvItfKUY+cn57yP7qv07UE3p8B2uhUwLk09\n",
       "e0SCOrK+hbdYHYLjRIl71wWzv9jpEoeOHhGRrJAzyEyNiJuUqX0g2sBN5kGK6y2Blp5M3lsB9Qh4\n",
       "y2Ja6x6+i0ucmKgwMATwhSjdUu49tKrQ/pvN5d53ml2CGwCmJipmKjgmyuaXzNeL2a0AkQ01Th5j\n",
       "2DktO3Jyk8f9vcOBQHV94OK+fPumJmvQHxJoWkaKWq9Vs+yUsbq0zGT1I4RgeH2b5wef7+c7bl8F\n",
       "eKgoHVVZa8ZPEORzR6sT1BzDUAD/d9F78e2Tzv99v8D+fLVTqAKAsbGamKey1Mt9Ann4eH3gTXTz\n",
       "idWtAJ8PQWOk7NzSeQn/OTHDuEikVF1R4z8BQCy+6D1aWRfY0tTGG2OM8rRoPaeIj5ZHzJxszElN\n",
       "VM8K8JS5WOfv8mzRnQAKoEhmt8gyPM4lU9SmBK1MCQBnW4KONT86v1hZ1PbwSXPw4JWussVjtH9Y\n",
       "NCoiL9UoH/6PSu8jFrfY2t36erQHXLIEakMi1SydmzB31h3GGXFDFNPaK8Rme9B79Ixrd0WN+1ij\n",
       "NRQ/doRmuFLBkHSTOm5GruG+pFjFdAmorG4IXH1Qua6ASniclfFtDYt+oUjKipPrCQB7QBQ2lrgP\n",
       "fFzm+9XWUtcqJ3/5vDLDpJ79XHZk3u8nGZ42qlj1+ydtbxysCezrydp6ugmipNJ7WBPB5tydY0jP\n",
       "HaVNzs3QzeE4ZpTbI+ZbnSFPbVOw9vsfnVvqWnirPyCNGD08IlqtYkh2hjZ5dErEQzoNm+6ykyOt\n",
       "Lt5/PQEuSRRKo22VkydK+vvS1XEKlhCJAnsqvcVvH7f/ZU2R67eXbMEGAMiIV5oWZWiWvz5Fv2xG\n",
       "sjqNJQRvn3Rs2lji/lNP19VjAQDgD7FHhujZB9OGqYxRkZxixgRDVlqS6uEOFaJUVu0rPFzctrnF\n",
       "JqijImVp8dEKVWyUXDk92zAuMZ6bFwpBU1HrOw6AdhQgUooChb0+ItMbWJitSo5Ws3IAOGEOtL53\n",
       "0vHZih9sC4vtofZ7Qu6523V/fmGcds1TY3V36pUsBwAbSlxnVh2xLfAD/IAIMDf7XYIkNmXfpp2l\n",
       "18rkAJAy9HKFaIr/qULkeQQKy9zf1JgDB2uaeFNGijo5QsUyacNUUTOnGO42xSnv4oOwpDi1zYkc\n",
       "efUc3I5Gk6PhyTuVKaOGyLUAYPGIoY9Pu/atL/L92+4q9wbflRJ2Trpm/jPjdBtfnqB/dIThcl8A\n",
       "KG7hbRuKnb8qsQsVvVlTrwQAQMUlf3kwJI24Z4JhPMtcfng5GcH49GsrxJpGvvHIaeem2ma+KSjQ\n",
       "lIwUdYyCY8j4dE1KzijNnIP2llF2wcXNnsoapw9XxsgYAl6k+KzUXbi2yP3KR2ecf6z3BFsBICdW\n",
       "nvnIaG3eHybqX7vbpEqUMT+9OL4Qpe8VON7dXuFd39v19FoAABRVePbGGuXTszO0P7tu6lghUonE\n",
       "llRdrhArLvmKdh9u29jcFiRRkfLUxBiFNiqSU9icoZQHo5mYBI1MBgBH6wMNb+U7Pnw337H4gi1Y\n",
       "ciWs+uks3Z9fztUvfzxTm9Ne8XXkvQLHNytOOZeiD4e0PgkAIAYCYknKUNUDSXEKzdWNpnil7r4p\n",
       "xqkjTarZMtk/K8TQ6Qve78qqvXurGwIJqcOUKfUWHsm8KGvxSP68YudXq4pcj39X49uOK2X142O0\n",
       "Tz5/u/7TVybqH0rSya6ZBwD21/gubbrgWdDgEOx9WUhfBaC2ibcEBYm7a7x+ukrBMNcEZggyR0TE\n",
       "T8zUPjikQ4VosQZbTpS4vqizBKvqmvjsqnpfzaZyx9JPiz1/bfGKdgD45XB1zoIMzYbfTdS/NClB\n",
       "Gct0USiY3YL/g0LHy/uq/Ef6uo5+n0R/vyhp17Klpge763f8rMu6YU/zrn2nml+2WtH+Z+5IAAFc\n",
       "2bUTdTDOSNa9+cQY7YLsOIXhevEkCvzph7a8laecz/Un/z4/Ae04XeL3UQb57IwU9ZDr9UuKVajv\n",
       "nxp1+1UVIo/LjztZkKH59fO3G/JemqCfmaCRqbqbd90ZZ8FfjtkfAyD0J/9+C2h1hDwsSxvGjNDc\n",
       "b4zk5NfrSwiQblLHzZhg+Jf4aPlUwpDqkQqa9nimbt1/TDH8OitGMaQnj+RJS6B1fbF7SY1TqO5v\n",
       "/v0WAADl1f7zokgS7s7VT2DZ7pegUjBM7mjtiDZbcN4j0YrHH0rXpCtY0qPX0cVL0rv5jv/ZXend\n",
       "0u/EESYBAFBU4T4Qa5TflZOhTe7pmKpaP8kCVUVw1+yhXfJWvn1P3hnXi33JsTN6PnP3hHZ8Z3/h\n",
       "aLHzmkNPuPj7Bc/F/Q38CwjTpSwQXgE4Vmwry9tpfq/ZFgqFMy4AVDtCvi8rvMvOmv0N4YwbVgEA\n",
       "sPM72/KVnzfspmH7HQGCRLG2yL1+z8XwvPcdCbsAANh+xPzstgMtxeGKt+6MK3/tacfvwhWvIwMi\n",
       "oKEBtm0H7W+UVfkc/Y1V0BhoPlDr/w1w/eu1vjIgAgDg22OtX6/eYfnEz/focrZTHAFR+PSs56/7\n",
       "q32nwpjazxgwAQCwcU/T62t3WL7r6/jVRa6/byp1rei+Z98ZUAEAhEPHPc8fKnTU9nbgtnOe8h0l\n",
       "9hcGIqmODLQAHCy2Xti6v/XNRivf43f4fFvIteu854+VHnR7q9tfBlwAAGz+pnndB9vM26UebAe8\n",
       "SLHujPOTPVW+rwY+sxskAAC2HrA8t2Vvc7ffP1r9o+vwR2dcr92InIAbKKC1FZ5tB1tf+/G8p8sv\n",
       "N/9Q5zd/XR34LYCwV5JdccMEAMDBk45DH243r/X4xGvqxFa/GNpS7n6rwOwNWwHVE26oAADYurf1\n",
       "zx/utOzt+DMKYM0p17YtZZ5VNzqfsB2HewG1WXE8PoZ7gOclbTIvynZf9JV+fqZtfgs/8F/Nu5rB\n",
       "EIBmJ+8QRMmpU7EzGRsf2FzuePqYRbzh/zE26EwdrT10f6r6o8HOYzCJB9Dpff8tbnGLG8L/A/WE\n",
       "roTBs2RqAAAAAElFTkSuQmCC'\n",
       "     style='height:25px; border-radius:12px; display: inline-block; float: left; vertical-align: middle'></img>\n",
       "\n",
       "\n",
       "\n",
       "\n",
       "  <img src='data:image/png;base64,iVBORw0KGgoAAAANSUhEUgAAACAAAAAgCAYAAABzenr0AAAABHNCSVQICAgIfAhkiAAAAAlwSFlz\n",
       "AAAFMAAABTABZarKtgAAABl0RVh0U29mdHdhcmUAd3d3Lmlua3NjYXBlLm9yZ5vuPBoAAArNSURB\n",
       "VFiFnVd5VFNXGv/ee0kgGyQhbFoXIKCFYEXEDVErTucMoKUOWA/VLsNSLPQgFTOdyrHPiIp1lFIQ\n",
       "OlaPShEG3EpPcQmISCuV1bQ1CLKIULeQhJA9JO+9+UMT0x5aPfOdc895373f/e7v/t537/ddBF5Q\n",
       "JBIJl81mJwCACEVRQBCEQhAEAQCgnghCURRCkmS7Wq2+WlJSYn0Rv8jzDHAcD0EQJIVGo5mFQuGF\n",
       "jIyMu39kq1KpkOrq6gU6nS6aIAiGzWY7VVBQ0P9/AcjNzWXy+fxcOp2uiY+Przm0d6+n8dblv/Fo\n",
       "kzM4SzYfPlRePvFnjnt6ehh1dXVv2mw2nlar/byoqMj8wgBwHBchCJIZEhJSeu1yHVi7vtu02t8+\n",
       "NykQ7BMWoOUMhXQsXLv5IQAwSJJEEASxcDicoeTk5DtCoZBy9XX69Gnv3t7ebJIky3EcH3guAKlU\n",
       "GoGiaOKWLVsOvhs7/9XXPMde3/IyIFbMnaPDuD5AUdQuOf2XlD0npTExMWYAgNbWVpZcLg8xGAzB\n",
       "JEnSvby82tPT052LaTQatLy8fBtJkt/s3Lnz5h8CwHFcRKPRNu/YsePAjh072KTs0IGCxRg8RgUB\n",
       "TGpSx6cmHgMAfNqN6Xa1GvJ/D35gYAAViURkcXHxUrPZHDRv3rxv4uLiDI7xPXv2bLdYLBUFBQWD\n",
       "jj7M8ZGbm8tkMpmSrKysQiaTScXGxtpqL7dManT6tcu5mgEWWJyOhicozpk+c3NsbKzNFcBbWWEf\n",
       "1Td9/upA30i3ZJv0h8bGxiSFQmFcuHDhOACAWCy+0d3dvX3lypUtzc3N9t8AiIuLk4SEhByLiooy\n",
       "AgAcO3ZsNlPgH3Cttb35JZo+bCYXIQAA9MDiUW7sWS1KN687w6Mera2twa2trfMvXboUOS28Pyb1\n",
       "U08McRtf/sXBSmt5cc35pqamVQqFwhoZGallMpnU/fv3e7RaberVq1d/AABAn1IfQqfTNRs3blQB\n",
       "AFy+fJk7Nja2XCKRnD3dNSorusPq6NfTPR+gPiEEoLRFXO1tS2+zavv27ReftjNttyr0S1/j0rUP\n",
       "PEJQwNwQYGgAACQSyXmNRhMtk8lYAAApKSlKDMP0+fn5QU4ACIKkxMfH1zjYuHnz5uspKSlOfdX7\n",
       "u68fvOePcCzKQR4YVCgATGfa/F3pnzaHWOAXSDyaMCqH2+r8VXErP3D+snXr1tV2dXW94dATExOr\n",
       "6XT6JgAAVCKRcDEMM4WHh9sAAHJyUqNu//wDymKx7AAAVVVVPiaTKXxByrYMvBsxEMSTwPXhuL+8\n",
       "e/fu9fv371+flvbemogYNz+TnsBOFEwMFO8/KzEYDKFVVVX+AAChoaGT7u7ud48ePRro0DEMs+bl\n",
       "5bFRNpud4O3tfdGBzq5uy/5wTUPM/q2zC9atmbVqeHg4Pi0t7WxGRoZFH5rw76I7LI8HqHfwPL7d\n",
       "rfVagzw1NfW81t4ePUfsP/OrnWZ6fPSuUqFQSEkkkrOjo6OvuQR5q0ajiXLoPj4+lzgcTjwKACLH\n",
       "9SqXy2kzhBO8haGo+UA2wZW+p880DxeveGt9aHx9fT09ctlq3sC0NT9e6xsbjuZblSxl7wKtVotM\n",
       "m6PnXvlmZJBtX91CEMQsxyJsNlteXl4udugIghAajQYFAEhPTx9AEGQOimGY8y4oLt63KlJkdB4t\n",
       "P282Z/c/dPrDH04ktJ9P2tfWXP3+2o1vHzunEp6Xq0lsGt08KzUrcSGTQ3n3XeefLCs5UqnT6Rap\n",
       "VCoEACA7O/snvV4f5gJooLa2NsihoygKKEVRzquTND2OCpttGXdG1tOxwOlgzdvE9v30rV+m3W5I\n",
       "2jfJNQmLH85QUUzPNTwvkAx0+vVGhq2/VV9fT+dyuZ01NTXOXQOA3fGxevXq2waDYY5r8KIoij5b\n",
       "jzB5Cz2oKdOo0erOm+1tVuVtBMZXElNMRJR1fvvjx9iPLQ/RjpuB0Xu/Vp7YmH1864YNG3oNBkPw\n",
       "VD7mzp1rJUnSzZUBmqsBggAgGFC/n6jVA+3WoN3tu1Gg39cg2tEx1Cg3CIJHsclxnl2HRorMN8Z0\n",
       "fRW+vr7GJ36Q56Z5h9BIknzGAMJWtvdQYs0EZe3/FSwqk5tpXEMb1JoYD+n8xRdQJl/fMPEgzKhS\n",
       "L40KCD7lGzg92qIyovpb3y/msT2un2psvFpWVvYyl8vtc1nDSXFXV5c7iqLOtEyS5LNBAADfWeKm\n",
       "Ly4uuvR1++sfv51/P5sfnHm2/Iy+mBmwsaHJbpt+Q0jHSS7TZ/PSNVkNJ/973OxtemD1s91CPb12\n",
       "h9MfvZsk5meo1eqo5ORkxTNWn7HR1tY2l8PhOAsUiqIolCRJcETtv/61qzNySYK5trZ2TCgUUiwW\n",
       "S1FSUhLR+bA/kAzwXcAbHa/cFhrTXrJ/v+7IkSPu3Je4Xm5eboJv2wba5QbO5fQwxhsP679Y+nFO\n",
       "jgAAoKSkJILFYjnBGI1G0YYNGwYBnqRoiqIQlKKojurq6gUAAAKBgKQoiuGYkJWVpTCZTOKmI1Xd\n",
       "HwnDcm+cOnOMw+H0FxYWbqpvqv/r9EV+bky+O+/QoUPiqJRt9JphTLFHbKBCR87tWL9EPN9oNIZn\n",
       "ZWUpXHaMCQQCEgCgsrIyEgBuoGq1+qpOp4t2GPH5/BvFxcVLHXpgYGDD8ePH/56Xl2cCAMjMzOxP\n",
       "S0s7pWfow4RCbz/fAF9RT0+P9yeffHJySSqev+9nxLD1FaAlTR8vlJ8vxxzsFhUVLRMIBB0OvwaD\n",
       "YRlFUdfQkpISK0EQ9J6eHgYAQEZGxl2z2Rw0MjJCBwBITk5+xOVyfzpw4ECSw5lQKKQIbxtJm4EN\n",
       "8eZ7jPz0oNv+dK5FG/jq54eH+IFr/S1KabBy0UerAvI+++wzD4vFEpCWljYEACCTyVh2ux3FcXwS\n",
       "BQCw2WxVdXV1bzrQRURE1FVVVTn1zMzM/pkzZ35/9OjRd0pLS19RqVQIy4/tCwDgOcPTQvFQEQBA\n",
       "aWnpK0ERK2LbyVllN341GUJ4YDu8zD5bKyur7O+85tx9Z2fnO1ar9QjA04KkpaVFs2LFir8olcq7\n",
       "YWFhJpFINNnX16drbGyMjY6Ovg0AIBaLjcuXL5d3d3d7XbhwIW704b3F479MeD1qVfJ5Og/bvb4R\n",
       "LwaDMZabm9uwflNa/z/3HOIv5NsDEK7XS7FeevXPvYNLvm5S/GglCK5KpZorlUobXE8g5ObmMqVS\n",
       "6UG1Wu1BURSHoijOiRMnwgoLC7coFAqBo+9Fm0KhEKStmvvto3TeucFN7pVJYbytarXaQyqVHsRx\n",
       "3N15TF1BuBaljr4rV66wOzo63mAymXdzcnKuwwtIUVHRMqvVGkgQxMV7NXvyJijGvcNXB/7z5Zdf\n",
       "bicI4gSO40NTAgD4bVnuODIAT2pElUq1FEEQO4fD6QsPD++fqixHEATj8/ntjoCrqKhwS0hIsJWV\n",
       "leURBHEOx3G563pT3tn5+flBDAbjg6CgoMMpKSlK17GhoSFMJpMFPk04DJIkEQzDzCwW6+5UD5Oa\n",
       "mhrfO3fufECS5GHXnf8pAAAAHMfdURTdimGYPjExsTo0NHTyj2ynEplMxurs7HyHIAiKJMlSHMct\n",
       "U9k9N2vl5+cH0en0TRiGWX18fC65vnh+LxqNBq2oqFhgMpmi7XY7arVaj+zdu/fxn/l/4bSZl5fH\n",
       "5nK5CQAQMtXznCRJePpEbwOAZhzHX4ix/wHzzC/tu64gcwAAAABJRU5ErkJggg=='\n",
       "       style='height:15px; border-radius:12px; display: inline-block; float: left'></img>\n",
       "  \n",
       "\n",
       "\n",
       "</div>\n"
      ]
     },
     "metadata": {},
     "output_type": "display_data"
    },
    {
     "data": {
      "application/javascript": [
       "function HoloViewsWidget() {\n",
       "}\n",
       "\n",
       "HoloViewsWidget.prototype.init_slider = function(init_val){\n",
       "  if(this.load_json) {\n",
       "    this.from_json()\n",
       "  } else {\n",
       "    this.update_cache();\n",
       "  }\n",
       "}\n",
       "\n",
       "HoloViewsWidget.prototype.populate_cache = function(idx){\n",
       "  this.cache[idx].innerHTML = this.frames[idx];\n",
       "  if (this.embed) {\n",
       "    delete this.frames[idx];\n",
       "  }\n",
       "}\n",
       "\n",
       "HoloViewsWidget.prototype.process_error = function(msg){\n",
       "}\n",
       "\n",
       "HoloViewsWidget.prototype.from_json = function() {\n",
       "  var data_url = this.json_path + this.id + '.json';\n",
       "  $.getJSON(data_url, $.proxy(function(json_data) {\n",
       "    this.frames = json_data;\n",
       "    this.update_cache();\n",
       "    this.update(0);\n",
       "  }, this));\n",
       "}\n",
       "\n",
       "HoloViewsWidget.prototype.dynamic_update = function(current){\n",
       "  if (current === undefined) {\n",
       "    return\n",
       "  }\n",
       "  this.current = current;\n",
       "  if (this.comm) {\n",
       "    var msg = {comm_id: this.id+'_client', content: current}\n",
       "    this.comm.send(msg);\n",
       "  }\n",
       "}\n",
       "\n",
       "HoloViewsWidget.prototype.update_cache = function(force){\n",
       "  var frame_len = Object.keys(this.frames).length;\n",
       "  for (var i=0; i<frame_len; i++) {\n",
       "    if(!this.load_json || this.dynamic)  {\n",
       "      var frame = Object.keys(this.frames)[i];\n",
       "    } else {\n",
       "      var frame = i;\n",
       "    }\n",
       "    if(!(frame in this.cache) || force) {\n",
       "      if ((frame in this.cache) && force) { this.cache[frame].remove() }\n",
       "      var div = document.createElement(\"div\");\n",
       "      var parent = document.getElementById(\"_anim_img\"+this.id);\n",
       "      div.style.display = \"none\";\n",
       "      parent.appendChild(div)\n",
       "      this.cache[frame] = div;\n",
       "      var cache_id = \"_anim_img\"+this.id+\"_\"+frame;\n",
       "      this.populate_cache(frame);\n",
       "    }\n",
       "  }\n",
       "}\n",
       "\n",
       "HoloViewsWidget.prototype.update = function(current){\n",
       "  if(current in this.cache) {\n",
       "    for (var index in this.cache) {\n",
       "      this.cache[index].style.display = \"none\";\n",
       "    }\n",
       "    this.cache[current].style.display = \"\";\n",
       "    this.wait = false;\n",
       "  }\n",
       "}\n",
       "\n",
       "HoloViewsWidget.prototype.init_comms = function() {\n",
       "  var that = this\n",
       "  HoloViews.comm_manager.register_target(this.plot_id, this.id, function (msg) { that.msg_handler(msg) })\n",
       "  if (!this.cached || this.dynamic) {\n",
       "    function ack_callback(msg) {\n",
       "      var msg = msg.metadata;\n",
       "      var comm_id = msg.comm_id;\n",
       "      var comm_status = HoloViews.comm_status[comm_id];\n",
       "      if (that.queue.length > 0) {\n",
       "        that.time = Date.now();\n",
       "        that.dynamic_update(that.queue[that.queue.length-1]);\n",
       "        that.queue = [];\n",
       "      } else {\n",
       "        that.wait = false;\n",
       "      }\n",
       "      if ((msg.msg_type == \"Ready\") && msg.content) {\n",
       "        console.log(\"Python callback returned following output:\", msg.content);\n",
       "      } else if (msg.msg_type == \"Error\") {\n",
       "        console.log(\"Python failed with the following traceback:\", msg.traceback)\n",
       "      }\n",
       "    }\n",
       "    var comm = HoloViews.comm_manager.get_client_comm(this.plot_id, this.id+'_client', ack_callback);\n",
       "    return comm\n",
       "  }\n",
       "}\n",
       "\n",
       "HoloViewsWidget.prototype.msg_handler = function(msg) {\n",
       "  var metadata = msg.metadata;\n",
       "  if ((metadata.msg_type == \"Ready\")) {\n",
       "    if (metadata.content) {\n",
       "      console.log(\"Python callback returned following output:\", metadata.content);\n",
       "    }\n",
       "\treturn;\n",
       "  } else if (metadata.msg_type == \"Error\") {\n",
       "    console.log(\"Python failed with the following traceback:\", metadata.traceback)\n",
       "    return\n",
       "  }\n",
       "  this.process_msg(msg)\n",
       "}\n",
       "\n",
       "HoloViewsWidget.prototype.process_msg = function(msg) {\n",
       "}\n",
       "\n",
       "function SelectionWidget(frames, id, slider_ids, keyMap, dim_vals, notFound, load_json, mode, cached, json_path, dynamic, plot_id){\n",
       "  this.frames = frames;\n",
       "  this.id = id;\n",
       "  this.plot_id = plot_id;\n",
       "  this.slider_ids = slider_ids;\n",
       "  this.keyMap = keyMap\n",
       "  this.current_frame = 0;\n",
       "  this.current_vals = dim_vals;\n",
       "  this.load_json = load_json;\n",
       "  this.mode = mode;\n",
       "  this.notFound = notFound;\n",
       "  this.cached = cached;\n",
       "  this.dynamic = dynamic;\n",
       "  this.cache = {};\n",
       "  this.json_path = json_path;\n",
       "  this.init_slider(this.current_vals[0]);\n",
       "  this.queue = [];\n",
       "  this.wait = false;\n",
       "  if (!this.cached || this.dynamic) {\n",
       "    this.comm = this.init_comms();\n",
       "  }\n",
       "}\n",
       "\n",
       "SelectionWidget.prototype = new HoloViewsWidget;\n",
       "\n",
       "\n",
       "SelectionWidget.prototype.get_key = function(current_vals) {\n",
       "  var key = \"(\";\n",
       "  for (var i=0; i<this.slider_ids.length; i++)\n",
       "  {\n",
       "    var val = this.current_vals[i];\n",
       "    if (!(typeof val === 'string')) {\n",
       "      if (val % 1 === 0) { val = val.toFixed(1); }\n",
       "      else { val = val.toFixed(10); val = val.slice(0, val.length-1);}\n",
       "    }\n",
       "    key += \"'\" + val + \"'\";\n",
       "    if(i != this.slider_ids.length-1) { key += ', ';}\n",
       "    else if(this.slider_ids.length == 1) { key += ',';}\n",
       "  }\n",
       "  key += \")\";\n",
       "  return this.keyMap[key];\n",
       "}\n",
       "\n",
       "SelectionWidget.prototype.set_frame = function(dim_val, dim_idx){\n",
       "  this.current_vals[dim_idx] = dim_val;\n",
       "  var key = this.current_vals;\n",
       "  if (!this.dynamic) {\n",
       "    key = this.get_key(key)\n",
       "  }\n",
       "  if (this.dynamic || !this.cached) {\n",
       "    if ((this.time !== undefined) && ((this.wait) && ((this.time + 10000) > Date.now()))) {\n",
       "      this.queue.push(key);\n",
       "      return\n",
       "    }\n",
       "    this.queue = [];\n",
       "    this.time = Date.now();\n",
       "    this.current_frame = key;\n",
       "    this.wait = true;\n",
       "    this.dynamic_update(key)\n",
       "  } else if (key !== undefined) {\n",
       "    this.update(key)\n",
       "  }\n",
       "}\n",
       "\n",
       "\n",
       "/* Define the ScrubberWidget class */\n",
       "function ScrubberWidget(frames, num_frames, id, interval, load_json, mode, cached, json_path, dynamic, plot_id){\n",
       "  this.slider_id = \"_anim_slider\" + id;\n",
       "  this.loop_select_id = \"_anim_loop_select\" + id;\n",
       "  this.id = id;\n",
       "  this.plot_id = plot_id;\n",
       "  this.interval = interval;\n",
       "  this.current_frame = 0;\n",
       "  this.direction = 0;\n",
       "  this.dynamic = dynamic;\n",
       "  this.timer = null;\n",
       "  this.load_json = load_json;\n",
       "  this.mode = mode;\n",
       "  this.cached = cached;\n",
       "  this.frames = frames;\n",
       "  this.cache = {};\n",
       "  this.length = num_frames;\n",
       "  this.json_path = json_path;\n",
       "  document.getElementById(this.slider_id).max = this.length - 1;\n",
       "  this.init_slider(0);\n",
       "  this.wait = false;\n",
       "  this.queue = [];\n",
       "  if (!this.cached || this.dynamic) {\n",
       "    this.comm = this.init_comms()\n",
       "  }\n",
       "}\n",
       "\n",
       "ScrubberWidget.prototype = new HoloViewsWidget;\n",
       "\n",
       "ScrubberWidget.prototype.set_frame = function(frame){\n",
       "  this.current_frame = frame;\n",
       "  var widget = document.getElementById(this.slider_id);\n",
       "  if (widget === null) {\n",
       "    this.pause_animation();\n",
       "    return\n",
       "  }\n",
       "  widget.value = this.current_frame;\n",
       "  if (this.dynamic || !this.cached) {\n",
       "    if ((this.time !== undefined) && ((this.wait) && ((this.time + 10000) > Date.now()))) {\n",
       "      this.queue.push(frame);\n",
       "      return\n",
       "    }\n",
       "    this.queue = [];\n",
       "    this.time = Date.now();\n",
       "    this.wait = true;\n",
       "    this.dynamic_update(frame)\n",
       "  } else {\n",
       "    this.update(frame)\n",
       "  }\n",
       "}\n",
       "\n",
       "ScrubberWidget.prototype.get_loop_state = function(){\n",
       "  var button_group = document[this.loop_select_id].state;\n",
       "  for (var i = 0; i < button_group.length; i++) {\n",
       "    var button = button_group[i];\n",
       "    if (button.checked) {\n",
       "      return button.value;\n",
       "    }\n",
       "  }\n",
       "  return undefined;\n",
       "}\n",
       "\n",
       "\n",
       "ScrubberWidget.prototype.next_frame = function() {\n",
       "  this.set_frame(Math.min(this.length - 1, this.current_frame + 1));\n",
       "}\n",
       "\n",
       "ScrubberWidget.prototype.previous_frame = function() {\n",
       "  this.set_frame(Math.max(0, this.current_frame - 1));\n",
       "}\n",
       "\n",
       "ScrubberWidget.prototype.first_frame = function() {\n",
       "  this.set_frame(0);\n",
       "}\n",
       "\n",
       "ScrubberWidget.prototype.last_frame = function() {\n",
       "  this.set_frame(this.length - 1);\n",
       "}\n",
       "\n",
       "ScrubberWidget.prototype.slower = function() {\n",
       "  this.interval /= 0.7;\n",
       "  if(this.direction > 0){this.play_animation();}\n",
       "  else if(this.direction < 0){this.reverse_animation();}\n",
       "}\n",
       "\n",
       "ScrubberWidget.prototype.faster = function() {\n",
       "  this.interval *= 0.7;\n",
       "  if(this.direction > 0){this.play_animation();}\n",
       "  else if(this.direction < 0){this.reverse_animation();}\n",
       "}\n",
       "\n",
       "ScrubberWidget.prototype.anim_step_forward = function() {\n",
       "  if(this.current_frame < this.length - 1){\n",
       "    this.next_frame();\n",
       "  }else{\n",
       "    var loop_state = this.get_loop_state();\n",
       "    if(loop_state == \"loop\"){\n",
       "      this.first_frame();\n",
       "    }else if(loop_state == \"reflect\"){\n",
       "      this.last_frame();\n",
       "      this.reverse_animation();\n",
       "    }else{\n",
       "      this.pause_animation();\n",
       "      this.last_frame();\n",
       "    }\n",
       "  }\n",
       "}\n",
       "\n",
       "ScrubberWidget.prototype.anim_step_reverse = function() {\n",
       "  if(this.current_frame > 0){\n",
       "    this.previous_frame();\n",
       "  } else {\n",
       "    var loop_state = this.get_loop_state();\n",
       "    if(loop_state == \"loop\"){\n",
       "      this.last_frame();\n",
       "    }else if(loop_state == \"reflect\"){\n",
       "      this.first_frame();\n",
       "      this.play_animation();\n",
       "    }else{\n",
       "      this.pause_animation();\n",
       "      this.first_frame();\n",
       "    }\n",
       "  }\n",
       "}\n",
       "\n",
       "ScrubberWidget.prototype.pause_animation = function() {\n",
       "  this.direction = 0;\n",
       "  if (this.timer){\n",
       "    clearInterval(this.timer);\n",
       "    this.timer = null;\n",
       "  }\n",
       "}\n",
       "\n",
       "ScrubberWidget.prototype.play_animation = function() {\n",
       "  this.pause_animation();\n",
       "  this.direction = 1;\n",
       "  var t = this;\n",
       "  if (!this.timer) this.timer = setInterval(function(){t.anim_step_forward();}, this.interval);\n",
       "}\n",
       "\n",
       "ScrubberWidget.prototype.reverse_animation = function() {\n",
       "  this.pause_animation();\n",
       "  this.direction = -1;\n",
       "  var t = this;\n",
       "  if (!this.timer) this.timer = setInterval(function(){t.anim_step_reverse();}, this.interval);\n",
       "}\n",
       "\n",
       "function extend(destination, source) {\n",
       "  for (var k in source) {\n",
       "    if (source.hasOwnProperty(k)) {\n",
       "      destination[k] = source[k];\n",
       "    }\n",
       "  }\n",
       "  return destination;\n",
       "}\n",
       "\n",
       "function update_widget(widget, values) {\n",
       "  if (widget.hasClass(\"ui-slider\")) {\n",
       "    widget.slider('option', {\n",
       "      min: 0,\n",
       "      max: values.length-1,\n",
       "      dim_vals: values,\n",
       "      value: 0,\n",
       "      dim_labels: values\n",
       "    })\n",
       "    widget.slider('option', 'slide').call(widget, event, {value: 0})\n",
       "  } else {\n",
       "    widget.empty();\n",
       "    for (var i=0; i<values.length; i++){\n",
       "      widget.append($(\"<option>\", {\n",
       "        value: i,\n",
       "        text: values[i]\n",
       "      }))\n",
       "    };\n",
       "    widget.data('values', values);\n",
       "    widget.data('value', 0);\n",
       "    widget.trigger(\"change\");\n",
       "  };\n",
       "}\n",
       "\n",
       "function init_slider(id, plot_id, dim, values, next_vals, labels, dynamic, step, value, next_dim,\n",
       "                     dim_idx, delay, jQueryUI_CDN, UNDERSCORE_CDN) {\n",
       "  // Slider JS Block START\n",
       "  function loadcssfile(filename){\n",
       "    var fileref=document.createElement(\"link\")\n",
       "    fileref.setAttribute(\"rel\", \"stylesheet\")\n",
       "    fileref.setAttribute(\"type\", \"text/css\")\n",
       "    fileref.setAttribute(\"href\", filename)\n",
       "    document.getElementsByTagName(\"head\")[0].appendChild(fileref)\n",
       "  }\n",
       "  loadcssfile(\"https://code.jquery.com/ui/1.10.4/themes/smoothness/jquery-ui.css\");\n",
       "  /* Check if jQuery and jQueryUI have been loaded\n",
       "     otherwise load with require.js */\n",
       "  var jQuery = window.jQuery,\n",
       "    // check for old versions of jQuery\n",
       "    oldjQuery = jQuery && !!jQuery.fn.jquery.match(/^1\\.[0-4](\\.|$)/),\n",
       "    jquery_path = '',\n",
       "    paths = {},\n",
       "    noConflict;\n",
       "  var jQueryUI = jQuery.ui;\n",
       "  // check for jQuery\n",
       "  if (!jQuery || oldjQuery) {\n",
       "    // load if it's not available or doesn't meet min standards\n",
       "    paths.jQuery = jQuery;\n",
       "    noConflict = !!oldjQuery;\n",
       "  } else {\n",
       "    // register the current jQuery\n",
       "    define('jquery', [], function() { return jQuery; });\n",
       "  }\n",
       "  if (!jQueryUI) {\n",
       "    paths.jQueryUI = jQueryUI_CDN.slice(null, -3);\n",
       "  } else {\n",
       "    define('jQueryUI', [], function() { return jQuery.ui; });\n",
       "  }\n",
       "  paths.underscore = UNDERSCORE_CDN.slice(null, -3);\n",
       "  var jquery_require = {\n",
       "    paths: paths,\n",
       "    shim: {\n",
       "      \"jQueryUI\": {\n",
       "        exports:\"$\",\n",
       "        deps: ['jquery']\n",
       "      },\n",
       "      \"underscore\": {\n",
       "        exports: '_'\n",
       "      }\n",
       "    }\n",
       "  }\n",
       "  require.config(jquery_require);\n",
       "  require([\"jQueryUI\", \"underscore\"], function(jUI, _){\n",
       "    if (noConflict) $.noConflict(true);\n",
       "    var vals = values;\n",
       "    if (dynamic && vals.constructor === Array) {\n",
       "      var default_value = parseFloat(value);\n",
       "      var min = parseFloat(vals[0]);\n",
       "      var max = parseFloat(vals[vals.length-1]);\n",
       "      var wstep = step;\n",
       "      var wlabels = [default_value];\n",
       "      var init_label = default_value;\n",
       "    } else {\n",
       "      var min = 0;\n",
       "      if (dynamic) {\n",
       "        var max = Object.keys(vals).length - 1;\n",
       "        var init_label = labels[value];\n",
       "        var default_value = values[value];\n",
       "      } else {\n",
       "        var max = vals.length - 1;\n",
       "        var init_label = labels[value];\n",
       "        var default_value = value;\n",
       "      }\n",
       "      var wstep = 1;\n",
       "      var wlabels = labels;\n",
       "    }\n",
       "    function adjustFontSize(text) {\n",
       "      var width_ratio = (text.parent().width()/8)/text.val().length;\n",
       "      var size = Math.min(0.9, Math.max(0.6, width_ratio))+'em';\n",
       "      text.css('font-size', size);\n",
       "    }\n",
       "    var slider = $('#_anim_widget'+id+'_'+dim);\n",
       "    slider.slider({\n",
       "      animate: \"fast\",\n",
       "      min: min,\n",
       "      max: max,\n",
       "      step: wstep,\n",
       "      value: default_value,\n",
       "      dim_vals: vals,\n",
       "      dim_labels: wlabels,\n",
       "      next_vals: next_vals,\n",
       "      slide: function(event, ui) {\n",
       "        var vals = slider.slider(\"option\", \"dim_vals\");\n",
       "        var next_vals = slider.slider(\"option\", \"next_vals\");\n",
       "        var dlabels = slider.slider(\"option\", \"dim_labels\");\n",
       "        if (dynamic) {\n",
       "          var dim_val = ui.value;\n",
       "          if (vals.constructor === Array) {\n",
       "            var label = ui.value;\n",
       "          } else {\n",
       "            var label = dlabels[ui.value];\n",
       "          }\n",
       "        } else {\n",
       "          var dim_val = vals[ui.value];\n",
       "          var label = dlabels[ui.value];\n",
       "        }\n",
       "        var text = $('#textInput'+id+'_'+dim);\n",
       "        text.val(label);\n",
       "        adjustFontSize(text);\n",
       "        HoloViews.index[plot_id].set_frame(dim_val, dim_idx);\n",
       "        if (Object.keys(next_vals).length > 0) {\n",
       "          var new_vals = next_vals[dim_val];\n",
       "          var next_widget = $('#_anim_widget'+id+'_'+next_dim);\n",
       "          update_widget(next_widget, new_vals);\n",
       "        }\n",
       "      }\n",
       "    });\n",
       "    slider.keypress(function(event) {\n",
       "      if (event.which == 80 || event.which == 112) {\n",
       "        var start = slider.slider(\"option\", \"value\");\n",
       "        var stop =  slider.slider(\"option\", \"max\");\n",
       "        for (var i=start; i<=stop; i++) {\n",
       "          var delay = i*delay;\n",
       "          $.proxy(function doSetTimeout(i) { setTimeout($.proxy(function() {\n",
       "            var val = {value:i};\n",
       "            slider.slider('value',i);\n",
       "            slider.slider(\"option\", \"slide\")(null, val);\n",
       "          }, slider), delay);}, slider)(i);\n",
       "        }\n",
       "      }\n",
       "      if (event.which == 82 || event.which == 114) {\n",
       "        var start = slider.slider(\"option\", \"value\");\n",
       "        var stop =  slider.slider(\"option\", \"min\");\n",
       "        var count = 0;\n",
       "        for (var i=start; i>=stop; i--) {\n",
       "          var delay = count*delay;\n",
       "          count = count + 1;\n",
       "          $.proxy(function doSetTimeout(i) { setTimeout($.proxy(function() {\n",
       "            var val = {value:i};\n",
       "            slider.slider('value',i);\n",
       "            slider.slider(\"option\", \"slide\")(null, val);\n",
       "          }, slider), delay);}, slider)(i);\n",
       "        }\n",
       "      }\n",
       "    });\n",
       "    var textInput = $('#textInput'+id+'_'+dim)\n",
       "    textInput.val(init_label);\n",
       "    adjustFontSize(textInput);\n",
       "  });\n",
       "}\n",
       "\n",
       "function init_dropdown(id, plot_id, dim, vals, value, next_vals, labels, next_dim, dim_idx, dynamic) {\n",
       "  var widget = $(\"#_anim_widget\"+id+'_'+dim);\n",
       "  widget.data('values', vals)\n",
       "  for (var i=0; i<vals.length; i++){\n",
       "    if (dynamic) {\n",
       "      var val = vals[i];\n",
       "    } else {\n",
       "      var val = i;\n",
       "    }\n",
       "    widget.append($(\"<option>\", {\n",
       "      value: val,\n",
       "      text: labels[i]\n",
       "    }));\n",
       "  };\n",
       "  widget.data(\"next_vals\", next_vals);\n",
       "  widget.val(value);\n",
       "  widget.on('change', function(event, ui) {\n",
       "    if (dynamic) {\n",
       "      var dim_val = parseInt(this.value);\n",
       "    } else {\n",
       "      var dim_val = $.data(this, 'values')[this.value];\n",
       "    }\n",
       "    var next_vals = $.data(this, \"next_vals\");\n",
       "    if (Object.keys(next_vals).length > 0) {\n",
       "      var new_vals = next_vals[dim_val];\n",
       "      var next_widget = $('#_anim_widget'+id+'_'+next_dim);\n",
       "      update_widget(next_widget, new_vals);\n",
       "    }\n",
       "    var widgets = HoloViews.index[plot_id]\n",
       "    if (widgets) {\n",
       "      widgets.set_frame(dim_val, dim_idx);\n",
       "    }\n",
       "  });\n",
       "}\n",
       "\n",
       "\n",
       "if (window.HoloViews === undefined) {\n",
       "  window.HoloViews = {}\n",
       "  window.PyViz = window.HoloViews\n",
       "} else if (window.PyViz === undefined) {\n",
       "  window.PyViz = window.HoloViews\n",
       "}\n",
       "\n",
       "\n",
       "var _namespace = {\n",
       "  init_slider: init_slider,\n",
       "  init_dropdown: init_dropdown,\n",
       "  comms: {},\n",
       "  comm_status: {},\n",
       "  index: {},\n",
       "  plot_index: {},\n",
       "  kernels: {},\n",
       "  receivers: {}\n",
       "}\n",
       "\n",
       "for (var k in _namespace) {\n",
       "  if (!(k in window.HoloViews)) {\n",
       "    window.HoloViews[k] = _namespace[k];\n",
       "  }\n",
       "}\n",
       "\n",
       "// Define MPL specific subclasses\n",
       "function MPLSelectionWidget() {\n",
       "  SelectionWidget.apply(this, arguments);\n",
       "}\n",
       "\n",
       "function MPLScrubberWidget() {\n",
       "  ScrubberWidget.apply(this, arguments);\n",
       "}\n",
       "\n",
       "// Let them inherit from the baseclasses\n",
       "MPLSelectionWidget.prototype = Object.create(SelectionWidget.prototype);\n",
       "MPLScrubberWidget.prototype = Object.create(ScrubberWidget.prototype);\n",
       "\n",
       "// Define methods to override on widgets\n",
       "var MPLMethods = {\n",
       "  init_slider : function(init_val){\n",
       "    if(this.load_json) {\n",
       "      this.from_json()\n",
       "    } else {\n",
       "      this.update_cache();\n",
       "    }\n",
       "    if (this.dynamic | !this.cached | (this.current_vals === undefined)) {\n",
       "      this.update(0)\n",
       "    } else {\n",
       "      this.set_frame(this.current_vals[0], 0)\n",
       "    }\n",
       "  },\n",
       "  process_msg : function(msg) {\n",
       "    var data = msg.content.data;\n",
       "    this.frames[this.current] = data;\n",
       "    this.update_cache(true);\n",
       "    this.update(this.current);\n",
       "  }\n",
       "}\n",
       "// Extend MPL widgets with backend specific methods\n",
       "extend(MPLSelectionWidget.prototype, MPLMethods);\n",
       "extend(MPLScrubberWidget.prototype, MPLMethods);\n",
       "\n",
       "window.HoloViews.MPLSelectionWidget = MPLSelectionWidget\n",
       "window.HoloViews.MPLScrubberWidget = MPLScrubberWidget\n",
       "\n",
       "    function JupyterCommManager() {\n",
       "    }\n",
       "\n",
       "    JupyterCommManager.prototype.register_target = function(plot_id, comm_id, msg_handler) {\n",
       "      if (window.comm_manager || ((window.Jupyter !== undefined) && (Jupyter.notebook.kernel != null))) {\n",
       "        var comm_manager = window.comm_manager || Jupyter.notebook.kernel.comm_manager;\n",
       "        comm_manager.register_target(comm_id, function(comm) {\n",
       "          comm.on_msg(msg_handler);\n",
       "        });\n",
       "      } else if ((plot_id in window.PyViz.kernels) && (window.PyViz.kernels[plot_id])) {\n",
       "        window.PyViz.kernels[plot_id].registerCommTarget(comm_id, function(comm) {\n",
       "          comm.onMsg = msg_handler;\n",
       "        });\n",
       "      }\n",
       "    }\n",
       "\n",
       "    JupyterCommManager.prototype.get_client_comm = function(plot_id, comm_id, msg_handler) {\n",
       "      if (comm_id in window.PyViz.comms) {\n",
       "        return window.PyViz.comms[comm_id];\n",
       "      } else if (window.comm_manager || ((window.Jupyter !== undefined) && (Jupyter.notebook.kernel != null))) {\n",
       "        var comm_manager = window.comm_manager || Jupyter.notebook.kernel.comm_manager;\n",
       "        var comm = comm_manager.new_comm(comm_id, {}, {}, {}, comm_id);\n",
       "        if (msg_handler) {\n",
       "          comm.on_msg(msg_handler);\n",
       "        }\n",
       "      } else if ((plot_id in window.PyViz.kernels) && (window.PyViz.kernels[plot_id])) {\n",
       "        var comm = window.PyViz.kernels[plot_id].connectToComm(comm_id);\n",
       "        comm.open();\n",
       "        if (msg_handler) {\n",
       "          comm.onMsg = msg_handler;\n",
       "        }\n",
       "      }\n",
       "\n",
       "      window.PyViz.comms[comm_id] = comm;\n",
       "      return comm;\n",
       "    }\n",
       "\n",
       "    window.PyViz.comm_manager = new JupyterCommManager();\n",
       "    \n",
       "\n",
       "var JS_MIME_TYPE = 'application/javascript';\n",
       "var HTML_MIME_TYPE = 'text/html';\n",
       "var EXEC_MIME_TYPE = 'application/vnd.holoviews_exec.v0+json';\n",
       "var CLASS_NAME = 'output';\n",
       "\n",
       "/**\n",
       " * Render data to the DOM node\n",
       " */\n",
       "function render(props, node) {\n",
       "  var div = document.createElement(\"div\");\n",
       "  var script = document.createElement(\"script\");\n",
       "  node.appendChild(div);\n",
       "  node.appendChild(script);\n",
       "}\n",
       "\n",
       "/**\n",
       " * Handle when a new output is added\n",
       " */\n",
       "function handle_add_output(event, handle) {\n",
       "  var output_area = handle.output_area;\n",
       "  var output = handle.output;\n",
       "  if ((output.data == undefined) || (!output.data.hasOwnProperty(EXEC_MIME_TYPE))) {\n",
       "    return\n",
       "  }\n",
       "  var id = output.metadata[EXEC_MIME_TYPE][\"id\"];\n",
       "  var toinsert = output_area.element.find(\".\" + CLASS_NAME.split(' ')[0]);\n",
       "  if (id !== undefined) {\n",
       "    var nchildren = toinsert.length;\n",
       "    var html_node = toinsert[nchildren-1].children[0];\n",
       "    html_node.innerHTML = output.data[HTML_MIME_TYPE];\n",
       "    var scripts = [];\n",
       "    var nodelist = html_node.querySelectorAll(\"script\");\n",
       "    for (var i in nodelist) {\n",
       "      if (nodelist.hasOwnProperty(i)) {\n",
       "        scripts.push(nodelist[i])\n",
       "      }\n",
       "    }\n",
       "\n",
       "    scripts.forEach( function (oldScript) {\n",
       "      var newScript = document.createElement(\"script\");\n",
       "      var attrs = [];\n",
       "      var nodemap = oldScript.attributes;\n",
       "      for (var j in nodemap) {\n",
       "        if (nodemap.hasOwnProperty(j)) {\n",
       "          attrs.push(nodemap[j])\n",
       "        }\n",
       "      }\n",
       "      attrs.forEach(function(attr) { newScript.setAttribute(attr.name, attr.value) });\n",
       "      newScript.appendChild(document.createTextNode(oldScript.innerHTML));\n",
       "      oldScript.parentNode.replaceChild(newScript, oldScript);\n",
       "    });\n",
       "    if (JS_MIME_TYPE in output.data) {\n",
       "      toinsert[nchildren-1].children[1].textContent = output.data[JS_MIME_TYPE];\n",
       "    }\n",
       "    output_area._hv_plot_id = id;\n",
       "    if ((window.Bokeh !== undefined) && (id in Bokeh.index)) {\n",
       "      window.PyViz.plot_index[id] = Bokeh.index[id];\n",
       "    } else {\n",
       "      window.PyViz.plot_index[id] = null;\n",
       "    }\n",
       "  } else if (output.metadata[EXEC_MIME_TYPE][\"server_id\"] !== undefined) {\n",
       "    var bk_div = document.createElement(\"div\");\n",
       "    bk_div.innerHTML = output.data[HTML_MIME_TYPE];\n",
       "    var script_attrs = bk_div.children[0].attributes;\n",
       "    for (var i = 0; i < script_attrs.length; i++) {\n",
       "      toinsert[toinsert.length - 1].childNodes[1].setAttribute(script_attrs[i].name, script_attrs[i].value);\n",
       "    }\n",
       "    // store reference to server id on output_area\n",
       "    output_area._bokeh_server_id = output.metadata[EXEC_MIME_TYPE][\"server_id\"];\n",
       "  }\n",
       "}\n",
       "\n",
       "/**\n",
       " * Handle when an output is cleared or removed\n",
       " */\n",
       "function handle_clear_output(event, handle) {\n",
       "  var id = handle.cell.output_area._hv_plot_id;\n",
       "  var server_id = handle.cell.output_area._bokeh_server_id;\n",
       "  if (((id === undefined) || !(id in PyViz.plot_index)) && (server_id !== undefined)) { return; }\n",
       "  var comm = window.PyViz.comm_manager.get_client_comm(\"hv-extension-comm\", \"hv-extension-comm\", function () {});\n",
       "  if (server_id !== null) {\n",
       "    comm.send({event_type: 'server_delete', 'id': server_id});\n",
       "    return;\n",
       "  } else if (comm !== null) {\n",
       "    comm.send({event_type: 'delete', 'id': id});\n",
       "  }\n",
       "  delete PyViz.plot_index[id];\n",
       "  if ((window.Bokeh !== undefined) & (id in window.Bokeh.index)) {\n",
       "    var doc = window.Bokeh.index[id].model.document\n",
       "    doc.clear();\n",
       "    const i = window.Bokeh.documents.indexOf(doc);\n",
       "    if (i > -1) {\n",
       "      window.Bokeh.documents.splice(i, 1);\n",
       "    }\n",
       "  }\n",
       "}\n",
       "\n",
       "/**\n",
       " * Handle kernel restart event\n",
       " */\n",
       "function handle_kernel_cleanup(event, handle) {\n",
       "  delete PyViz.comms[\"hv-extension-comm\"];\n",
       "  window.PyViz.plot_index = {}\n",
       "}\n",
       "\n",
       "/**\n",
       " * Handle update_display_data messages\n",
       " */\n",
       "function handle_update_output(event, handle) {\n",
       "  handle_clear_output(event, {cell: {output_area: handle.output_area}})\n",
       "  handle_add_output(event, handle)\n",
       "}\n",
       "\n",
       "function register_renderer(events, OutputArea) {\n",
       "  function append_mime(data, metadata, element) {\n",
       "    // create a DOM node to render to\n",
       "    var toinsert = this.create_output_subarea(\n",
       "    metadata,\n",
       "    CLASS_NAME,\n",
       "    EXEC_MIME_TYPE\n",
       "    );\n",
       "    this.keyboard_manager.register_events(toinsert);\n",
       "    // Render to node\n",
       "    var props = {data: data, metadata: metadata[EXEC_MIME_TYPE]};\n",
       "    render(props, toinsert[0]);\n",
       "    element.append(toinsert);\n",
       "    return toinsert\n",
       "  }\n",
       "\n",
       "  events.on('output_added.OutputArea', handle_add_output);\n",
       "  events.on('output_updated.OutputArea', handle_update_output);\n",
       "  events.on('clear_output.CodeCell', handle_clear_output);\n",
       "  events.on('delete.Cell', handle_clear_output);\n",
       "  events.on('kernel_ready.Kernel', handle_kernel_cleanup);\n",
       "\n",
       "  OutputArea.prototype.register_mime_type(EXEC_MIME_TYPE, append_mime, {\n",
       "    safe: true,\n",
       "    index: 0\n",
       "  });\n",
       "}\n",
       "\n",
       "if (window.Jupyter !== undefined) {\n",
       "  try {\n",
       "    var events = require('base/js/events');\n",
       "    var OutputArea = require('notebook/js/outputarea').OutputArea;\n",
       "    if (OutputArea.prototype.mime_types().indexOf(EXEC_MIME_TYPE) == -1) {\n",
       "      register_renderer(events, OutputArea);\n",
       "    }\n",
       "  } catch(err) {\n",
       "  }\n",
       "}\n"
      ],
      "application/vnd.holoviews_load.v0+json": "function HoloViewsWidget() {\n}\n\nHoloViewsWidget.prototype.init_slider = function(init_val){\n  if(this.load_json) {\n    this.from_json()\n  } else {\n    this.update_cache();\n  }\n}\n\nHoloViewsWidget.prototype.populate_cache = function(idx){\n  this.cache[idx].innerHTML = this.frames[idx];\n  if (this.embed) {\n    delete this.frames[idx];\n  }\n}\n\nHoloViewsWidget.prototype.process_error = function(msg){\n}\n\nHoloViewsWidget.prototype.from_json = function() {\n  var data_url = this.json_path + this.id + '.json';\n  $.getJSON(data_url, $.proxy(function(json_data) {\n    this.frames = json_data;\n    this.update_cache();\n    this.update(0);\n  }, this));\n}\n\nHoloViewsWidget.prototype.dynamic_update = function(current){\n  if (current === undefined) {\n    return\n  }\n  this.current = current;\n  if (this.comm) {\n    var msg = {comm_id: this.id+'_client', content: current}\n    this.comm.send(msg);\n  }\n}\n\nHoloViewsWidget.prototype.update_cache = function(force){\n  var frame_len = Object.keys(this.frames).length;\n  for (var i=0; i<frame_len; i++) {\n    if(!this.load_json || this.dynamic)  {\n      var frame = Object.keys(this.frames)[i];\n    } else {\n      var frame = i;\n    }\n    if(!(frame in this.cache) || force) {\n      if ((frame in this.cache) && force) { this.cache[frame].remove() }\n      var div = document.createElement(\"div\");\n      var parent = document.getElementById(\"_anim_img\"+this.id);\n      div.style.display = \"none\";\n      parent.appendChild(div)\n      this.cache[frame] = div;\n      var cache_id = \"_anim_img\"+this.id+\"_\"+frame;\n      this.populate_cache(frame);\n    }\n  }\n}\n\nHoloViewsWidget.prototype.update = function(current){\n  if(current in this.cache) {\n    for (var index in this.cache) {\n      this.cache[index].style.display = \"none\";\n    }\n    this.cache[current].style.display = \"\";\n    this.wait = false;\n  }\n}\n\nHoloViewsWidget.prototype.init_comms = function() {\n  var that = this\n  HoloViews.comm_manager.register_target(this.plot_id, this.id, function (msg) { that.msg_handler(msg) })\n  if (!this.cached || this.dynamic) {\n    function ack_callback(msg) {\n      var msg = msg.metadata;\n      var comm_id = msg.comm_id;\n      var comm_status = HoloViews.comm_status[comm_id];\n      if (that.queue.length > 0) {\n        that.time = Date.now();\n        that.dynamic_update(that.queue[that.queue.length-1]);\n        that.queue = [];\n      } else {\n        that.wait = false;\n      }\n      if ((msg.msg_type == \"Ready\") && msg.content) {\n        console.log(\"Python callback returned following output:\", msg.content);\n      } else if (msg.msg_type == \"Error\") {\n        console.log(\"Python failed with the following traceback:\", msg.traceback)\n      }\n    }\n    var comm = HoloViews.comm_manager.get_client_comm(this.plot_id, this.id+'_client', ack_callback);\n    return comm\n  }\n}\n\nHoloViewsWidget.prototype.msg_handler = function(msg) {\n  var metadata = msg.metadata;\n  if ((metadata.msg_type == \"Ready\")) {\n    if (metadata.content) {\n      console.log(\"Python callback returned following output:\", metadata.content);\n    }\n\treturn;\n  } else if (metadata.msg_type == \"Error\") {\n    console.log(\"Python failed with the following traceback:\", metadata.traceback)\n    return\n  }\n  this.process_msg(msg)\n}\n\nHoloViewsWidget.prototype.process_msg = function(msg) {\n}\n\nfunction SelectionWidget(frames, id, slider_ids, keyMap, dim_vals, notFound, load_json, mode, cached, json_path, dynamic, plot_id){\n  this.frames = frames;\n  this.id = id;\n  this.plot_id = plot_id;\n  this.slider_ids = slider_ids;\n  this.keyMap = keyMap\n  this.current_frame = 0;\n  this.current_vals = dim_vals;\n  this.load_json = load_json;\n  this.mode = mode;\n  this.notFound = notFound;\n  this.cached = cached;\n  this.dynamic = dynamic;\n  this.cache = {};\n  this.json_path = json_path;\n  this.init_slider(this.current_vals[0]);\n  this.queue = [];\n  this.wait = false;\n  if (!this.cached || this.dynamic) {\n    this.comm = this.init_comms();\n  }\n}\n\nSelectionWidget.prototype = new HoloViewsWidget;\n\n\nSelectionWidget.prototype.get_key = function(current_vals) {\n  var key = \"(\";\n  for (var i=0; i<this.slider_ids.length; i++)\n  {\n    var val = this.current_vals[i];\n    if (!(typeof val === 'string')) {\n      if (val % 1 === 0) { val = val.toFixed(1); }\n      else { val = val.toFixed(10); val = val.slice(0, val.length-1);}\n    }\n    key += \"'\" + val + \"'\";\n    if(i != this.slider_ids.length-1) { key += ', ';}\n    else if(this.slider_ids.length == 1) { key += ',';}\n  }\n  key += \")\";\n  return this.keyMap[key];\n}\n\nSelectionWidget.prototype.set_frame = function(dim_val, dim_idx){\n  this.current_vals[dim_idx] = dim_val;\n  var key = this.current_vals;\n  if (!this.dynamic) {\n    key = this.get_key(key)\n  }\n  if (this.dynamic || !this.cached) {\n    if ((this.time !== undefined) && ((this.wait) && ((this.time + 10000) > Date.now()))) {\n      this.queue.push(key);\n      return\n    }\n    this.queue = [];\n    this.time = Date.now();\n    this.current_frame = key;\n    this.wait = true;\n    this.dynamic_update(key)\n  } else if (key !== undefined) {\n    this.update(key)\n  }\n}\n\n\n/* Define the ScrubberWidget class */\nfunction ScrubberWidget(frames, num_frames, id, interval, load_json, mode, cached, json_path, dynamic, plot_id){\n  this.slider_id = \"_anim_slider\" + id;\n  this.loop_select_id = \"_anim_loop_select\" + id;\n  this.id = id;\n  this.plot_id = plot_id;\n  this.interval = interval;\n  this.current_frame = 0;\n  this.direction = 0;\n  this.dynamic = dynamic;\n  this.timer = null;\n  this.load_json = load_json;\n  this.mode = mode;\n  this.cached = cached;\n  this.frames = frames;\n  this.cache = {};\n  this.length = num_frames;\n  this.json_path = json_path;\n  document.getElementById(this.slider_id).max = this.length - 1;\n  this.init_slider(0);\n  this.wait = false;\n  this.queue = [];\n  if (!this.cached || this.dynamic) {\n    this.comm = this.init_comms()\n  }\n}\n\nScrubberWidget.prototype = new HoloViewsWidget;\n\nScrubberWidget.prototype.set_frame = function(frame){\n  this.current_frame = frame;\n  var widget = document.getElementById(this.slider_id);\n  if (widget === null) {\n    this.pause_animation();\n    return\n  }\n  widget.value = this.current_frame;\n  if (this.dynamic || !this.cached) {\n    if ((this.time !== undefined) && ((this.wait) && ((this.time + 10000) > Date.now()))) {\n      this.queue.push(frame);\n      return\n    }\n    this.queue = [];\n    this.time = Date.now();\n    this.wait = true;\n    this.dynamic_update(frame)\n  } else {\n    this.update(frame)\n  }\n}\n\nScrubberWidget.prototype.get_loop_state = function(){\n  var button_group = document[this.loop_select_id].state;\n  for (var i = 0; i < button_group.length; i++) {\n    var button = button_group[i];\n    if (button.checked) {\n      return button.value;\n    }\n  }\n  return undefined;\n}\n\n\nScrubberWidget.prototype.next_frame = function() {\n  this.set_frame(Math.min(this.length - 1, this.current_frame + 1));\n}\n\nScrubberWidget.prototype.previous_frame = function() {\n  this.set_frame(Math.max(0, this.current_frame - 1));\n}\n\nScrubberWidget.prototype.first_frame = function() {\n  this.set_frame(0);\n}\n\nScrubberWidget.prototype.last_frame = function() {\n  this.set_frame(this.length - 1);\n}\n\nScrubberWidget.prototype.slower = function() {\n  this.interval /= 0.7;\n  if(this.direction > 0){this.play_animation();}\n  else if(this.direction < 0){this.reverse_animation();}\n}\n\nScrubberWidget.prototype.faster = function() {\n  this.interval *= 0.7;\n  if(this.direction > 0){this.play_animation();}\n  else if(this.direction < 0){this.reverse_animation();}\n}\n\nScrubberWidget.prototype.anim_step_forward = function() {\n  if(this.current_frame < this.length - 1){\n    this.next_frame();\n  }else{\n    var loop_state = this.get_loop_state();\n    if(loop_state == \"loop\"){\n      this.first_frame();\n    }else if(loop_state == \"reflect\"){\n      this.last_frame();\n      this.reverse_animation();\n    }else{\n      this.pause_animation();\n      this.last_frame();\n    }\n  }\n}\n\nScrubberWidget.prototype.anim_step_reverse = function() {\n  if(this.current_frame > 0){\n    this.previous_frame();\n  } else {\n    var loop_state = this.get_loop_state();\n    if(loop_state == \"loop\"){\n      this.last_frame();\n    }else if(loop_state == \"reflect\"){\n      this.first_frame();\n      this.play_animation();\n    }else{\n      this.pause_animation();\n      this.first_frame();\n    }\n  }\n}\n\nScrubberWidget.prototype.pause_animation = function() {\n  this.direction = 0;\n  if (this.timer){\n    clearInterval(this.timer);\n    this.timer = null;\n  }\n}\n\nScrubberWidget.prototype.play_animation = function() {\n  this.pause_animation();\n  this.direction = 1;\n  var t = this;\n  if (!this.timer) this.timer = setInterval(function(){t.anim_step_forward();}, this.interval);\n}\n\nScrubberWidget.prototype.reverse_animation = function() {\n  this.pause_animation();\n  this.direction = -1;\n  var t = this;\n  if (!this.timer) this.timer = setInterval(function(){t.anim_step_reverse();}, this.interval);\n}\n\nfunction extend(destination, source) {\n  for (var k in source) {\n    if (source.hasOwnProperty(k)) {\n      destination[k] = source[k];\n    }\n  }\n  return destination;\n}\n\nfunction update_widget(widget, values) {\n  if (widget.hasClass(\"ui-slider\")) {\n    widget.slider('option', {\n      min: 0,\n      max: values.length-1,\n      dim_vals: values,\n      value: 0,\n      dim_labels: values\n    })\n    widget.slider('option', 'slide').call(widget, event, {value: 0})\n  } else {\n    widget.empty();\n    for (var i=0; i<values.length; i++){\n      widget.append($(\"<option>\", {\n        value: i,\n        text: values[i]\n      }))\n    };\n    widget.data('values', values);\n    widget.data('value', 0);\n    widget.trigger(\"change\");\n  };\n}\n\nfunction init_slider(id, plot_id, dim, values, next_vals, labels, dynamic, step, value, next_dim,\n                     dim_idx, delay, jQueryUI_CDN, UNDERSCORE_CDN) {\n  // Slider JS Block START\n  function loadcssfile(filename){\n    var fileref=document.createElement(\"link\")\n    fileref.setAttribute(\"rel\", \"stylesheet\")\n    fileref.setAttribute(\"type\", \"text/css\")\n    fileref.setAttribute(\"href\", filename)\n    document.getElementsByTagName(\"head\")[0].appendChild(fileref)\n  }\n  loadcssfile(\"https://code.jquery.com/ui/1.10.4/themes/smoothness/jquery-ui.css\");\n  /* Check if jQuery and jQueryUI have been loaded\n     otherwise load with require.js */\n  var jQuery = window.jQuery,\n    // check for old versions of jQuery\n    oldjQuery = jQuery && !!jQuery.fn.jquery.match(/^1\\.[0-4](\\.|$)/),\n    jquery_path = '',\n    paths = {},\n    noConflict;\n  var jQueryUI = jQuery.ui;\n  // check for jQuery\n  if (!jQuery || oldjQuery) {\n    // load if it's not available or doesn't meet min standards\n    paths.jQuery = jQuery;\n    noConflict = !!oldjQuery;\n  } else {\n    // register the current jQuery\n    define('jquery', [], function() { return jQuery; });\n  }\n  if (!jQueryUI) {\n    paths.jQueryUI = jQueryUI_CDN.slice(null, -3);\n  } else {\n    define('jQueryUI', [], function() { return jQuery.ui; });\n  }\n  paths.underscore = UNDERSCORE_CDN.slice(null, -3);\n  var jquery_require = {\n    paths: paths,\n    shim: {\n      \"jQueryUI\": {\n        exports:\"$\",\n        deps: ['jquery']\n      },\n      \"underscore\": {\n        exports: '_'\n      }\n    }\n  }\n  require.config(jquery_require);\n  require([\"jQueryUI\", \"underscore\"], function(jUI, _){\n    if (noConflict) $.noConflict(true);\n    var vals = values;\n    if (dynamic && vals.constructor === Array) {\n      var default_value = parseFloat(value);\n      var min = parseFloat(vals[0]);\n      var max = parseFloat(vals[vals.length-1]);\n      var wstep = step;\n      var wlabels = [default_value];\n      var init_label = default_value;\n    } else {\n      var min = 0;\n      if (dynamic) {\n        var max = Object.keys(vals).length - 1;\n        var init_label = labels[value];\n        var default_value = values[value];\n      } else {\n        var max = vals.length - 1;\n        var init_label = labels[value];\n        var default_value = value;\n      }\n      var wstep = 1;\n      var wlabels = labels;\n    }\n    function adjustFontSize(text) {\n      var width_ratio = (text.parent().width()/8)/text.val().length;\n      var size = Math.min(0.9, Math.max(0.6, width_ratio))+'em';\n      text.css('font-size', size);\n    }\n    var slider = $('#_anim_widget'+id+'_'+dim);\n    slider.slider({\n      animate: \"fast\",\n      min: min,\n      max: max,\n      step: wstep,\n      value: default_value,\n      dim_vals: vals,\n      dim_labels: wlabels,\n      next_vals: next_vals,\n      slide: function(event, ui) {\n        var vals = slider.slider(\"option\", \"dim_vals\");\n        var next_vals = slider.slider(\"option\", \"next_vals\");\n        var dlabels = slider.slider(\"option\", \"dim_labels\");\n        if (dynamic) {\n          var dim_val = ui.value;\n          if (vals.constructor === Array) {\n            var label = ui.value;\n          } else {\n            var label = dlabels[ui.value];\n          }\n        } else {\n          var dim_val = vals[ui.value];\n          var label = dlabels[ui.value];\n        }\n        var text = $('#textInput'+id+'_'+dim);\n        text.val(label);\n        adjustFontSize(text);\n        HoloViews.index[plot_id].set_frame(dim_val, dim_idx);\n        if (Object.keys(next_vals).length > 0) {\n          var new_vals = next_vals[dim_val];\n          var next_widget = $('#_anim_widget'+id+'_'+next_dim);\n          update_widget(next_widget, new_vals);\n        }\n      }\n    });\n    slider.keypress(function(event) {\n      if (event.which == 80 || event.which == 112) {\n        var start = slider.slider(\"option\", \"value\");\n        var stop =  slider.slider(\"option\", \"max\");\n        for (var i=start; i<=stop; i++) {\n          var delay = i*delay;\n          $.proxy(function doSetTimeout(i) { setTimeout($.proxy(function() {\n            var val = {value:i};\n            slider.slider('value',i);\n            slider.slider(\"option\", \"slide\")(null, val);\n          }, slider), delay);}, slider)(i);\n        }\n      }\n      if (event.which == 82 || event.which == 114) {\n        var start = slider.slider(\"option\", \"value\");\n        var stop =  slider.slider(\"option\", \"min\");\n        var count = 0;\n        for (var i=start; i>=stop; i--) {\n          var delay = count*delay;\n          count = count + 1;\n          $.proxy(function doSetTimeout(i) { setTimeout($.proxy(function() {\n            var val = {value:i};\n            slider.slider('value',i);\n            slider.slider(\"option\", \"slide\")(null, val);\n          }, slider), delay);}, slider)(i);\n        }\n      }\n    });\n    var textInput = $('#textInput'+id+'_'+dim)\n    textInput.val(init_label);\n    adjustFontSize(textInput);\n  });\n}\n\nfunction init_dropdown(id, plot_id, dim, vals, value, next_vals, labels, next_dim, dim_idx, dynamic) {\n  var widget = $(\"#_anim_widget\"+id+'_'+dim);\n  widget.data('values', vals)\n  for (var i=0; i<vals.length; i++){\n    if (dynamic) {\n      var val = vals[i];\n    } else {\n      var val = i;\n    }\n    widget.append($(\"<option>\", {\n      value: val,\n      text: labels[i]\n    }));\n  };\n  widget.data(\"next_vals\", next_vals);\n  widget.val(value);\n  widget.on('change', function(event, ui) {\n    if (dynamic) {\n      var dim_val = parseInt(this.value);\n    } else {\n      var dim_val = $.data(this, 'values')[this.value];\n    }\n    var next_vals = $.data(this, \"next_vals\");\n    if (Object.keys(next_vals).length > 0) {\n      var new_vals = next_vals[dim_val];\n      var next_widget = $('#_anim_widget'+id+'_'+next_dim);\n      update_widget(next_widget, new_vals);\n    }\n    var widgets = HoloViews.index[plot_id]\n    if (widgets) {\n      widgets.set_frame(dim_val, dim_idx);\n    }\n  });\n}\n\n\nif (window.HoloViews === undefined) {\n  window.HoloViews = {}\n  window.PyViz = window.HoloViews\n} else if (window.PyViz === undefined) {\n  window.PyViz = window.HoloViews\n}\n\n\nvar _namespace = {\n  init_slider: init_slider,\n  init_dropdown: init_dropdown,\n  comms: {},\n  comm_status: {},\n  index: {},\n  plot_index: {},\n  kernels: {},\n  receivers: {}\n}\n\nfor (var k in _namespace) {\n  if (!(k in window.HoloViews)) {\n    window.HoloViews[k] = _namespace[k];\n  }\n}\n\n// Define MPL specific subclasses\nfunction MPLSelectionWidget() {\n  SelectionWidget.apply(this, arguments);\n}\n\nfunction MPLScrubberWidget() {\n  ScrubberWidget.apply(this, arguments);\n}\n\n// Let them inherit from the baseclasses\nMPLSelectionWidget.prototype = Object.create(SelectionWidget.prototype);\nMPLScrubberWidget.prototype = Object.create(ScrubberWidget.prototype);\n\n// Define methods to override on widgets\nvar MPLMethods = {\n  init_slider : function(init_val){\n    if(this.load_json) {\n      this.from_json()\n    } else {\n      this.update_cache();\n    }\n    if (this.dynamic | !this.cached | (this.current_vals === undefined)) {\n      this.update(0)\n    } else {\n      this.set_frame(this.current_vals[0], 0)\n    }\n  },\n  process_msg : function(msg) {\n    var data = msg.content.data;\n    this.frames[this.current] = data;\n    this.update_cache(true);\n    this.update(this.current);\n  }\n}\n// Extend MPL widgets with backend specific methods\nextend(MPLSelectionWidget.prototype, MPLMethods);\nextend(MPLScrubberWidget.prototype, MPLMethods);\n\nwindow.HoloViews.MPLSelectionWidget = MPLSelectionWidget\nwindow.HoloViews.MPLScrubberWidget = MPLScrubberWidget\n\n    function JupyterCommManager() {\n    }\n\n    JupyterCommManager.prototype.register_target = function(plot_id, comm_id, msg_handler) {\n      if (window.comm_manager || ((window.Jupyter !== undefined) && (Jupyter.notebook.kernel != null))) {\n        var comm_manager = window.comm_manager || Jupyter.notebook.kernel.comm_manager;\n        comm_manager.register_target(comm_id, function(comm) {\n          comm.on_msg(msg_handler);\n        });\n      } else if ((plot_id in window.PyViz.kernels) && (window.PyViz.kernels[plot_id])) {\n        window.PyViz.kernels[plot_id].registerCommTarget(comm_id, function(comm) {\n          comm.onMsg = msg_handler;\n        });\n      }\n    }\n\n    JupyterCommManager.prototype.get_client_comm = function(plot_id, comm_id, msg_handler) {\n      if (comm_id in window.PyViz.comms) {\n        return window.PyViz.comms[comm_id];\n      } else if (window.comm_manager || ((window.Jupyter !== undefined) && (Jupyter.notebook.kernel != null))) {\n        var comm_manager = window.comm_manager || Jupyter.notebook.kernel.comm_manager;\n        var comm = comm_manager.new_comm(comm_id, {}, {}, {}, comm_id);\n        if (msg_handler) {\n          comm.on_msg(msg_handler);\n        }\n      } else if ((plot_id in window.PyViz.kernels) && (window.PyViz.kernels[plot_id])) {\n        var comm = window.PyViz.kernels[plot_id].connectToComm(comm_id);\n        comm.open();\n        if (msg_handler) {\n          comm.onMsg = msg_handler;\n        }\n      }\n\n      window.PyViz.comms[comm_id] = comm;\n      return comm;\n    }\n\n    window.PyViz.comm_manager = new JupyterCommManager();\n    \n\nvar JS_MIME_TYPE = 'application/javascript';\nvar HTML_MIME_TYPE = 'text/html';\nvar EXEC_MIME_TYPE = 'application/vnd.holoviews_exec.v0+json';\nvar CLASS_NAME = 'output';\n\n/**\n * Render data to the DOM node\n */\nfunction render(props, node) {\n  var div = document.createElement(\"div\");\n  var script = document.createElement(\"script\");\n  node.appendChild(div);\n  node.appendChild(script);\n}\n\n/**\n * Handle when a new output is added\n */\nfunction handle_add_output(event, handle) {\n  var output_area = handle.output_area;\n  var output = handle.output;\n  if ((output.data == undefined) || (!output.data.hasOwnProperty(EXEC_MIME_TYPE))) {\n    return\n  }\n  var id = output.metadata[EXEC_MIME_TYPE][\"id\"];\n  var toinsert = output_area.element.find(\".\" + CLASS_NAME.split(' ')[0]);\n  if (id !== undefined) {\n    var nchildren = toinsert.length;\n    var html_node = toinsert[nchildren-1].children[0];\n    html_node.innerHTML = output.data[HTML_MIME_TYPE];\n    var scripts = [];\n    var nodelist = html_node.querySelectorAll(\"script\");\n    for (var i in nodelist) {\n      if (nodelist.hasOwnProperty(i)) {\n        scripts.push(nodelist[i])\n      }\n    }\n\n    scripts.forEach( function (oldScript) {\n      var newScript = document.createElement(\"script\");\n      var attrs = [];\n      var nodemap = oldScript.attributes;\n      for (var j in nodemap) {\n        if (nodemap.hasOwnProperty(j)) {\n          attrs.push(nodemap[j])\n        }\n      }\n      attrs.forEach(function(attr) { newScript.setAttribute(attr.name, attr.value) });\n      newScript.appendChild(document.createTextNode(oldScript.innerHTML));\n      oldScript.parentNode.replaceChild(newScript, oldScript);\n    });\n    if (JS_MIME_TYPE in output.data) {\n      toinsert[nchildren-1].children[1].textContent = output.data[JS_MIME_TYPE];\n    }\n    output_area._hv_plot_id = id;\n    if ((window.Bokeh !== undefined) && (id in Bokeh.index)) {\n      window.PyViz.plot_index[id] = Bokeh.index[id];\n    } else {\n      window.PyViz.plot_index[id] = null;\n    }\n  } else if (output.metadata[EXEC_MIME_TYPE][\"server_id\"] !== undefined) {\n    var bk_div = document.createElement(\"div\");\n    bk_div.innerHTML = output.data[HTML_MIME_TYPE];\n    var script_attrs = bk_div.children[0].attributes;\n    for (var i = 0; i < script_attrs.length; i++) {\n      toinsert[toinsert.length - 1].childNodes[1].setAttribute(script_attrs[i].name, script_attrs[i].value);\n    }\n    // store reference to server id on output_area\n    output_area._bokeh_server_id = output.metadata[EXEC_MIME_TYPE][\"server_id\"];\n  }\n}\n\n/**\n * Handle when an output is cleared or removed\n */\nfunction handle_clear_output(event, handle) {\n  var id = handle.cell.output_area._hv_plot_id;\n  var server_id = handle.cell.output_area._bokeh_server_id;\n  if (((id === undefined) || !(id in PyViz.plot_index)) && (server_id !== undefined)) { return; }\n  var comm = window.PyViz.comm_manager.get_client_comm(\"hv-extension-comm\", \"hv-extension-comm\", function () {});\n  if (server_id !== null) {\n    comm.send({event_type: 'server_delete', 'id': server_id});\n    return;\n  } else if (comm !== null) {\n    comm.send({event_type: 'delete', 'id': id});\n  }\n  delete PyViz.plot_index[id];\n  if ((window.Bokeh !== undefined) & (id in window.Bokeh.index)) {\n    var doc = window.Bokeh.index[id].model.document\n    doc.clear();\n    const i = window.Bokeh.documents.indexOf(doc);\n    if (i > -1) {\n      window.Bokeh.documents.splice(i, 1);\n    }\n  }\n}\n\n/**\n * Handle kernel restart event\n */\nfunction handle_kernel_cleanup(event, handle) {\n  delete PyViz.comms[\"hv-extension-comm\"];\n  window.PyViz.plot_index = {}\n}\n\n/**\n * Handle update_display_data messages\n */\nfunction handle_update_output(event, handle) {\n  handle_clear_output(event, {cell: {output_area: handle.output_area}})\n  handle_add_output(event, handle)\n}\n\nfunction register_renderer(events, OutputArea) {\n  function append_mime(data, metadata, element) {\n    // create a DOM node to render to\n    var toinsert = this.create_output_subarea(\n    metadata,\n    CLASS_NAME,\n    EXEC_MIME_TYPE\n    );\n    this.keyboard_manager.register_events(toinsert);\n    // Render to node\n    var props = {data: data, metadata: metadata[EXEC_MIME_TYPE]};\n    render(props, toinsert[0]);\n    element.append(toinsert);\n    return toinsert\n  }\n\n  events.on('output_added.OutputArea', handle_add_output);\n  events.on('output_updated.OutputArea', handle_update_output);\n  events.on('clear_output.CodeCell', handle_clear_output);\n  events.on('delete.Cell', handle_clear_output);\n  events.on('kernel_ready.Kernel', handle_kernel_cleanup);\n\n  OutputArea.prototype.register_mime_type(EXEC_MIME_TYPE, append_mime, {\n    safe: true,\n    index: 0\n  });\n}\n\nif (window.Jupyter !== undefined) {\n  try {\n    var events = require('base/js/events');\n    var OutputArea = require('notebook/js/outputarea').OutputArea;\n    if (OutputArea.prototype.mime_types().indexOf(EXEC_MIME_TYPE) == -1) {\n      register_renderer(events, OutputArea);\n    }\n  } catch(err) {\n  }\n}\n"
     },
     "metadata": {},
     "output_type": "display_data"
    },
    {
     "data": {
      "text/html": [
       "<h2>Interact with the plot below and answer the following questions</h2>"
      ],
      "text/plain": [
       "<IPython.core.display.HTML object>"
      ]
     },
     "metadata": {},
     "output_type": "display_data"
    },
    {
     "data": {
      "application/javascript": [
       "\n",
       "// Ugly hack - see HoloViews #2574 for more information\n",
       "if (!(document.getElementById('362ab88c19ab4941a8a40939b324ac42')) && !(document.getElementById('_anim_img362ab88c19ab4941a8a40939b324ac42'))) {\n",
       "  console.log(\"Creating DOM nodes dynamically for assumed nbconvert export. To generate clean HTML output set HV_DOC_HTML as an environment variable.\")\n",
       "  var htmlObject = document.createElement('div');\n",
       "  htmlObject.innerHTML = `<div class=\"hololayout row row-fluid\">\n",
       "  <div class=\"holoframe\" id=\"display_area362ab88c19ab4941a8a40939b324ac42\">\n",
       "    <div id=\"_anim_img362ab88c19ab4941a8a40939b324ac42\">\n",
       "      \n",
       "      \n",
       "      \n",
       "    </div>\n",
       "  </div>\n",
       "  <div class=\"holowidgets\" id=\"widget_area362ab88c19ab4941a8a40939b324ac42\">\n",
       "    <form class=\"holoform well\" id=\"form362ab88c19ab4941a8a40939b324ac42\">\n",
       "      \n",
       "      \n",
       "      <div class=\"form-group control-group holoformgroup\" style=''>\n",
       "        <label for=\"textInput362ab88c19ab4941a8a40939b324ac42_eps0\">\n",
       "          <strong>eps0:</strong>\n",
       "        </label>\n",
       "        <div class=\"holowell\">\n",
       "          <div class=\"hologroup\">\n",
       "            <input type=\"text\" class=\"holotext form-control input-small\"\n",
       "                   id=\"textInput362ab88c19ab4941a8a40939b324ac42_eps0\" value=\"\" readonly>\n",
       "          </div>\n",
       "          <div class=\"holoslider\"\n",
       "               id=\"_anim_widget362ab88c19ab4941a8a40939b324ac42_eps0\"></div>\n",
       "        </div>\n",
       "      </div>\n",
       "      \n",
       "        \n",
       "      \n",
       "      <div class=\"form-group control-group holoformgroup\" style=''>\n",
       "        <label for=\"textInput362ab88c19ab4941a8a40939b324ac42_r0\">\n",
       "          <strong>r0:</strong>\n",
       "        </label>\n",
       "        <div class=\"holowell\">\n",
       "          <div class=\"hologroup\">\n",
       "            <input type=\"text\" class=\"holotext form-control input-small\"\n",
       "                   id=\"textInput362ab88c19ab4941a8a40939b324ac42_r0\" value=\"\" readonly>\n",
       "          </div>\n",
       "          <div class=\"holoslider\"\n",
       "               id=\"_anim_widget362ab88c19ab4941a8a40939b324ac42_r0\"></div>\n",
       "        </div>\n",
       "      </div>\n",
       "      \n",
       "        \n",
       "        </form>\n",
       "    </div>\n",
       "</div>`;\n",
       "  var scriptTags = document.getElementsByTagName('script');\n",
       "  var parentTag = scriptTags[scriptTags.length-1].parentNode;\n",
       "  if (parentTag.attributes.length && (parentTag.attributes[0].name == 'data-shell-mode')) {\n",
       "    alert('Displaying PyViz objects in JupyterLab requires the jupyterlab_pyviz extension to be installed, install it with:\\n\\n\\tjupyter labextension install @pyviz/jupyterlab_pyviz');\n",
       "  } else {\n",
       "    parentTag.append(htmlObject)\n",
       "  }\n",
       "}\n",
       "/* Instantiate the MPLSelectionWidget class. */\n",
       "/* The IDs given should match those used in the template above. */\n",
       "var widget_ids = new Array(2);\n",
       "\n",
       "\n",
       "widget_ids[0] = \"_anim_widget362ab88c19ab4941a8a40939b324ac42_eps0\";\n",
       "\n",
       "widget_ids[1] = \"_anim_widget362ab88c19ab4941a8a40939b324ac42_r0\";\n",
       "\n",
       "\n",
       "function create_widget() {\n",
       "  var frame_data = {\"0\": \"<img src='data:image/png;base64,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' style='max-width:100%; margin: auto; display: block; '/>\"};\n",
       "  var dim_vals = [0.200000000, 0.700000000];\n",
       "  var keyMap = {};\n",
       "  var notFound = \"<h2 style='vertical-align: middle>No frame at selected dimension value.<h2>\";\n",
       "\n",
       "  var anim = new HoloViews.MPLSelectionWidget(frame_data, \"362ab88c19ab4941a8a40939b324ac42\", widget_ids,\n",
       "  keyMap, dim_vals, notFound, false, \"default\",\n",
       "  false, \"./json_figures/\", true, \"362ab88c19ab4941a8a40939b324ac42\");\n",
       "\n",
       "  HoloViews.index['362ab88c19ab4941a8a40939b324ac42'] = anim;\n",
       "}\n",
       "\n",
       "\n",
       "\n",
       "\n",
       "HoloViews.init_slider('362ab88c19ab4941a8a40939b324ac42', '362ab88c19ab4941a8a40939b324ac42', 'eps0', ['0.200000000', '5.0'], {}, [], true, 0.01, 0.2, 'None', 0, 50, 'https://code.jquery.com/ui/1.10.4/jquery-ui.min.js', 'https://cdnjs.cloudflare.com/ajax/libs/underscore.js/1.8.3/underscore-min.js')\n",
       "\n",
       "\n",
       "\n",
       "\n",
       "\n",
       "HoloViews.init_slider('362ab88c19ab4941a8a40939b324ac42', '362ab88c19ab4941a8a40939b324ac42', 'r0', ['0.700000000', '2.0'], {}, [], true, 0.001, 0.7, 'None', 1, 50, 'https://code.jquery.com/ui/1.10.4/jquery-ui.min.js', 'https://cdnjs.cloudflare.com/ajax/libs/underscore.js/1.8.3/underscore-min.js')\n",
       "\n",
       "\n",
       "\n",
       "\n",
       "create_widget();\n"
      ],
      "application/vnd.holoviews_exec.v0+json": "",
      "text/html": [
       "<div class=\"hololayout row row-fluid\">\n",
       "  <div class=\"holoframe\" id=\"display_area362ab88c19ab4941a8a40939b324ac42\">\n",
       "    <div id=\"_anim_img362ab88c19ab4941a8a40939b324ac42\">\n",
       "      \n",
       "      \n",
       "      \n",
       "    </div>\n",
       "  </div>\n",
       "  <div class=\"holowidgets\" id=\"widget_area362ab88c19ab4941a8a40939b324ac42\">\n",
       "    <form class=\"holoform well\" id=\"form362ab88c19ab4941a8a40939b324ac42\">\n",
       "      \n",
       "      \n",
       "      <div class=\"form-group control-group holoformgroup\" style=''>\n",
       "        <label for=\"textInput362ab88c19ab4941a8a40939b324ac42_eps0\">\n",
       "          <strong>eps0:</strong>\n",
       "        </label>\n",
       "        <div class=\"holowell\">\n",
       "          <div class=\"hologroup\">\n",
       "            <input type=\"text\" class=\"holotext form-control input-small\"\n",
       "                   id=\"textInput362ab88c19ab4941a8a40939b324ac42_eps0\" value=\"\" readonly>\n",
       "          </div>\n",
       "          <div class=\"holoslider\"\n",
       "               id=\"_anim_widget362ab88c19ab4941a8a40939b324ac42_eps0\"></div>\n",
       "        </div>\n",
       "      </div>\n",
       "      \n",
       "        \n",
       "      \n",
       "      <div class=\"form-group control-group holoformgroup\" style=''>\n",
       "        <label for=\"textInput362ab88c19ab4941a8a40939b324ac42_r0\">\n",
       "          <strong>r0:</strong>\n",
       "        </label>\n",
       "        <div class=\"holowell\">\n",
       "          <div class=\"hologroup\">\n",
       "            <input type=\"text\" class=\"holotext form-control input-small\"\n",
       "                   id=\"textInput362ab88c19ab4941a8a40939b324ac42_r0\" value=\"\" readonly>\n",
       "          </div>\n",
       "          <div class=\"holoslider\"\n",
       "               id=\"_anim_widget362ab88c19ab4941a8a40939b324ac42_r0\"></div>\n",
       "        </div>\n",
       "      </div>\n",
       "      \n",
       "        \n",
       "        </form>\n",
       "    </div>\n",
       "</div>"
      ],
      "text/plain": [
       ":DynamicMap   [eps0,r0]\n",
       "   :Overlay\n",
       "      .Curve.Approximation_parabolique_du_potentiel_LJ :Curve   [Distance Interatomique r]   (Energy Potentiellenormalisee E [KJ/mol]& Force F[N])\n",
       "      .Curve.Force_du_potential_approximé              :Curve   [Distance Interatomique r]   (Energy Potentiellenormalisee E [KJ/mol]& Force F[N])\n",
       "      .Curve.Potentiel_de_LJ                           :Curve   [Distance Interatomique r]   (Energy Potentiellenormalisee E [KJ/mol]& Force F[N])\n",
       "      .Curve.Force_LJ                                  :Curve   [Distance Interatomique r]   (Energy Potentiellenormalisee E [KJ/mol]& Force F[N])\n",
       "      .Text.I                                          :Text   [x,y]"
      ]
     },
     "metadata": {
      "application/vnd.holoviews_exec.v0+json": {
       "id": "362ab88c19ab4941a8a40939b324ac42"
      }
     },
     "output_type": "display_data"
    },
    {
     "data": {
      "application/vnd.jupyter.widget-view+json": {
       "model_id": "32c031d40b8f48639d4b54a62600c961",
       "version_major": 2,
       "version_minor": 0
      },
      "text/plain": [
       "HBox(children=(Label(value='Which color is the Force Plot?'), RadioButtons(options=('yellow', 'blue', 'red', '…"
      ]
     },
     "metadata": {},
     "output_type": "display_data"
    },
    {
     "data": {
      "application/vnd.jupyter.widget-view+json": {
       "model_id": "25c52abe2caf44f6b973bdc3beb7ab63",
       "version_major": 2,
       "version_minor": 0
      },
      "text/plain": [
       "HBox(children=(Label(value=\"What's the  value of eps0 in [0.2,5] such that the slope of Approx Parabolique is …"
      ]
     },
     "metadata": {},
     "output_type": "display_data"
    },
    {
     "data": {
      "application/vnd.jupyter.widget-view+json": {
       "model_id": "a917f25d2245465da3847a37ddea3d3b",
       "version_major": 2,
       "version_minor": 0
      },
      "text/plain": [
       "HBox(children=(Label(value=\"What's the  value of r0 in [0.7,2] such that the minima of Force is at 0.8\"), Text…"
      ]
     },
     "metadata": {},
     "output_type": "display_data"
    },
    {
     "data": {
      "application/vnd.jupyter.widget-view+json": {
       "model_id": "4f7fb46a0a424edeb9f61a47a174f425",
       "version_major": 2,
       "version_minor": 0
      },
      "text/plain": [
       "Button(button_style='info', description='Show Answers', style=ButtonStyle(), tooltip='Click me')"
      ]
     },
     "metadata": {},
     "output_type": "display_data"
    }
   ],
   "source": [
    "r,a,b = symbols('r a b')\n",
    "\n",
    "lennardJones = a/r**12 - b/r**6; \n",
    "lennardJones\n",
    "force = diff(lennardJones,r)\n",
    "force\n",
    "\n",
    "rMin , eMin = symbols('rMin eMin')\n",
    "equationDistanceMinimum = force.subs(r,rMin)\n",
    "#print(equationDistanceMinimum)\n",
    "equationEnergieMinimum = lennardJones.subs(r,rMin) + eMin\n",
    "#print(equationEnergieMinimum)\n",
    "criticalPointSolutions = solve([equationEnergieMinimum,equationDistanceMinimum])\n",
    "#print(criticalPointSolutions)\n",
    "\n",
    "def substitute(var,critical_sol,equ):\n",
    "    return equ.subs(var,critical_sol[0][var])\n",
    "\n",
    "lennardJonesCritical = substitute(b,criticalPointSolutions,lennardJones)\n",
    "lennardJonesCritical = substitute(a,criticalPointSolutions,lennardJonesCritical)\n",
    "#print(lennardJonesCritical)\n",
    "lennardJonesScaled = expand(lennardJonesCritical/eMin)\n",
    "#print(lennardJonesScaled)\n",
    "\n",
    "\n",
    "hv.extension('matplotlib')\n",
    "approxLennardJonesWithUnits = lambda eps0, r0, r: -eps0 + (36 * (r - r0)**2 * eps0) / r0**2\n",
    "approxForceWithUnits = lambda eps0, r0, r: (72 * (r - r0) * eps0) / r0**2\n",
    "lennardJonesWithUnits = lambda eps0, r0, r: (-((2* r0**6)/r**6) + r0**12/r**12) * eps0\n",
    "forceWithUnits = lambda eps0, r0, r: ((12 * r0**6)/r**7 - (12 * r0**12)/r**13) * eps0\n",
    "\n",
    "\n",
    "def force_potential(eps0, r0):\n",
    "    xs = np.linspace(0.5, 2, 1000)\n",
    "    xDim = hv.Dimension('Distance Interatomique r')\n",
    "    yDimEnergy = hv.Dimension('Energy Potentiellenormalisee E [KJ/mol]& Force F[N]',range = (-3,5))\n",
    "    curve_approxLennardJonesWithUnits = hv.Curve((xs, approxLennardJonesWithUnits(r=xs, eps0=eps0, r0=r0)),label = 'Approximation parabolique du potentiel LJ').redim(y=yDimEnergy).redim(x =xDim).opts(color='red')\n",
    "    curve_approxForceWithUnits = hv.Curve((xs, approxForceWithUnits(r=xs, eps0=eps0, r0=r0)),label = 'Force du potential approximé').redim(y=yDimEnergy).redim(x =xDim).opts(color='blue')\n",
    "    curve_lennardJonesWithUnits = hv.Curve((xs, lennardJonesWithUnits(r=xs, eps0=eps0, r0=r0)),label = 'Potentiel de LJ').redim(y=yDimEnergy).redim(x =xDim).opts(color='green')\n",
    "    curve_forceWithUnits = hv.Curve((xs, forceWithUnits(r=xs, eps0=eps0, r0=r0)),label = \"Force LJ\").redim(y=yDimEnergy).redim(x =xDim).opts(color='yellow')\n",
    "    equ = hv.Text(1.75, 1, 'E = 72*($ε_0^2$)/($r_0^2$) = %.2f'%(72*eps0**2/r0**2))\n",
    "    return curve_approxLennardJonesWithUnits * curve_approxForceWithUnits * curve_lennardJonesWithUnits * curve_forceWithUnits * equ\n",
    "\n",
    "material_force_potential = hv.DynamicMap(force_potential, kdims=['eps0', 'r0']).redim.range(eps0=(.2, 5.), r0=(.7, 2.)).opts(legend_position='right')\n",
    "display(HTML('<h2>Interact with the plot below and answer the following questions</h2>'))\n",
    "\n",
    "radio_colors = widgets.RadioButtons(\n",
    "    options=['yellow', 'blue', 'red','green'],\n",
    "#     value='pineapple',\n",
    "    description='',\n",
    "    disabled=False\n",
    ")\n",
    "\n",
    "text_eps0 = widgets.Text(\n",
    "    value='',\n",
    "    placeholder='hint: try slider eps0',\n",
    "    description='',\n",
    "    disabled=False\n",
    ")\n",
    "\n",
    "text_r0 = widgets.Text(\n",
    "    value='',\n",
    "    placeholder='hint: try slider r0',\n",
    "    description='',\n",
    "    disabled=False\n",
    ")\n",
    "\n",
    "\n",
    "submit_interact = widgets.Button(\n",
    "    description='Show Answers',\n",
    "    disabled=False,\n",
    "    button_style='info', # 'success', 'info', 'warning', 'danger' or ''\n",
    "    tooltip='Click me'\n",
    ")\n",
    "\n",
    "def showAns(target):\n",
    "    display(HTML('<p>Reference answers: Yellow; esp0=5; r0=0.8</p>'))\n",
    "    return\n",
    "\n",
    "submit_interact.on_click(showAns)\n",
    "interact_q_text = {\\\n",
    "    'i.1':'Which color is the Force Plot?',\n",
    "    'i.2':'What\\'s the  value of eps0 in [0.2,5] such that the slope of Approx Parabolique is highest',\n",
    "    'i.3':'What\\'s the  value of r0 in [0.7,2] such that the minima of Force is at 0.8'\n",
    "}\n",
    "\n",
    "list_widgets_interaction = {\\\n",
    "                'i.1':radio_colors,\n",
    "                'i.2':text_eps0,\n",
    "                 'i.3':text_r0,\n",
    "                'submit_interact_button':submit_interact\n",
    "                    }\n",
    "display(material_force_potential)\n",
    "display(HBox([Label(interact_q_text['i.1']),radio_colors ])) \n",
    "\n",
    "\n",
    "display(HBox([Label(interact_q_text['i.2']),text_eps0 ]))  \n",
    "display(HBox([Label(interact_q_text['i.3']),text_r0 ]))        \n",
    "display(submit_interact)\n",
    "\n"
   ]
  },
  {
   "cell_type": "code",
   "execution_count": 6,
   "metadata": {},
   "outputs": [
    {
     "data": {
      "text/html": [
       "<h2>Questions about interactive plot</h2> <H4>Scale is from LEAST -> 1 to 10 -> BEST OR STRONGLY DISAGREE to STRONGLY AGREE</H4>"
      ],
      "text/plain": [
       "<IPython.core.display.HTML object>"
      ]
     },
     "metadata": {},
     "output_type": "display_data"
    },
    {
     "data": {
      "application/vnd.jupyter.widget-view+json": {
       "model_id": "368c5869249b4f77a705d4c327c295ed",
       "version_major": 2,
       "version_minor": 0
      },
      "text/plain": [
       "HBox(children=(Label(value='How well does the interactive plot help you fully understand the concepts?'), IntS…"
      ]
     },
     "metadata": {},
     "output_type": "display_data"
    },
    {
     "data": {
      "application/vnd.jupyter.widget-view+json": {
       "model_id": "eebf03b8db1f408caf4caf502ec22004",
       "version_major": 2,
       "version_minor": 0
      },
      "text/plain": [
       "HBox(children=(Label(value='How well does the interactive plot help you understand how function changes in val…"
      ]
     },
     "metadata": {},
     "output_type": "display_data"
    },
    {
     "data": {
      "application/vnd.jupyter.widget-view+json": {
       "model_id": "47898cb07dbd4d2b93a4a30d1c689e99",
       "version_major": 2,
       "version_minor": 0
      },
      "text/plain": [
       "HBox(children=(Label(value='How well does the  interactive plot help you understand the relationship between t…"
      ]
     },
     "metadata": {},
     "output_type": "display_data"
    },
    {
     "data": {
      "application/vnd.jupyter.widget-view+json": {
       "model_id": "8a940785167d40ef9fef5a64fa0af09b",
       "version_major": 2,
       "version_minor": 0
      },
      "text/plain": [
       "HBox(children=(Label(value='The interactive plot matches with your prior understanding of the concepts '), Int…"
      ]
     },
     "metadata": {},
     "output_type": "display_data"
    },
    {
     "data": {
      "application/vnd.jupyter.widget-view+json": {
       "model_id": "010b564e5f134762b38776e404443657",
       "version_major": 2,
       "version_minor": 0
      },
      "text/plain": [
       "HBox(children=(Label(value='The interactive plot matches with your prior understanding of how the Force, Poten…"
      ]
     },
     "metadata": {},
     "output_type": "display_data"
    },
    {
     "data": {
      "application/vnd.jupyter.widget-view+json": {
       "model_id": "e56026967faa4a2089ea2a379b1b7223",
       "version_major": 2,
       "version_minor": 0
      },
      "text/plain": [
       "HBox(children=(Label(value='The interactive plot matches with your prior understanding of how the Force, Poten…"
      ]
     },
     "metadata": {},
     "output_type": "display_data"
    },
    {
     "data": {
      "application/vnd.jupyter.widget-view+json": {
       "model_id": "6e2c63fb9eca488ebe9d389b26f1e69d",
       "version_major": 2,
       "version_minor": 0
      },
      "text/plain": [
       "HBox(children=(Label(value='The interactive plot helps you BETTER UNDERSTAND the concepts compared to just STA…"
      ]
     },
     "metadata": {},
     "output_type": "display_data"
    },
    {
     "data": {
      "application/vnd.jupyter.widget-view+json": {
       "model_id": "d34773768bba4c90936ab7e7a0025d9e",
       "version_major": 2,
       "version_minor": 0
      },
      "text/plain": [
       "HBox(children=(Label(value='The interactive plot helps you BETTER UNDERSTAND how the Force, Potential function…"
      ]
     },
     "metadata": {},
     "output_type": "display_data"
    },
    {
     "data": {
      "application/vnd.jupyter.widget-view+json": {
       "model_id": "bfda9ffcd67546d9b85bb88a6ac84087",
       "version_major": 2,
       "version_minor": 0
      },
      "text/plain": [
       "HBox(children=(Label(value='The interactive plot helps you BETTER UNDERSTANDhow the Force, Potential functions…"
      ]
     },
     "metadata": {},
     "output_type": "display_data"
    },
    {
     "data": {
      "application/vnd.jupyter.widget-view+json": {
       "model_id": "3601c58f45e74251867edacf1b10b93e",
       "version_major": 2,
       "version_minor": 0
      },
      "text/plain": [
       "HBox(children=(Label(value='To what degree is the interactive plot helful to you for understanding the concept…"
      ]
     },
     "metadata": {},
     "output_type": "display_data"
    },
    {
     "data": {
      "application/vnd.jupyter.widget-view+json": {
       "model_id": "4950fc8395e14739a92a6e1947461080",
       "version_major": 2,
       "version_minor": 0
      },
      "text/plain": [
       "HBox(children=(Label(value='Can you comment something about new which the interactive plot made you understand…"
      ]
     },
     "metadata": {},
     "output_type": "display_data"
    },
    {
     "data": {
      "application/vnd.jupyter.widget-view+json": {
       "model_id": "0ee1ca091e10403a87a2ec745d7d6444",
       "version_major": 2,
       "version_minor": 0
      },
      "text/plain": [
       "HBox(children=(Label(value='What did you dislike about the interactive plot?'), Text(value='', placeholder='Re…"
      ]
     },
     "metadata": {},
     "output_type": "display_data"
    },
    {
     "data": {
      "application/vnd.jupyter.widget-view+json": {
       "model_id": "e50e4cf0aa444c44b895b572d755d97c",
       "version_major": 2,
       "version_minor": 0
      },
      "text/plain": [
       "HBox(children=(Label(value='What interactions did you use the most and why ?'), Text(value='', placeholder='Re…"
      ]
     },
     "metadata": {},
     "output_type": "display_data"
    },
    {
     "data": {
      "application/vnd.jupyter.widget-view+json": {
       "model_id": "7d45b1a68f6f46f7b8cddefc356917f1",
       "version_major": 2,
       "version_minor": 0
      },
      "text/plain": [
       "HBox(children=(Label(value='What other interactions could have helped you better?'), Text(value='', placeholde…"
      ]
     },
     "metadata": {},
     "output_type": "display_data"
    },
    {
     "data": {
      "application/vnd.jupyter.widget-view+json": {
       "model_id": "46f8bdfdecf446edaf54a74c646bbc1d",
       "version_major": 2,
       "version_minor": 0
      },
      "text/plain": [
       "HBox(children=(Label(value='Can you comment something about new which the interactive plot made you understand…"
      ]
     },
     "metadata": {},
     "output_type": "display_data"
    },
    {
     "data": {
      "application/vnd.jupyter.widget-view+json": {
       "model_id": "d215dabb71f442b6b3741a998ac32d29",
       "version_major": 2,
       "version_minor": 0
      },
      "text/plain": [
       "Button(button_style='success', description='Submit Response', icon='check', style=ButtonStyle(), tooltip='Clic…"
      ]
     },
     "metadata": {},
     "output_type": "display_data"
    }
   ],
   "source": [
    "options_list =['Strongly Disagree', 'Disagree', 'Neutral', 'Agree', 'Strongly Agree']\n",
    "numerical_Scale = ['1','2','3','4','5']\n",
    "list_sliders_3 = {}\n",
    "def genSlider(q_num, scale = 'agree'):\n",
    "    def_val = 3\n",
    "    scaleList = options_list\n",
    "    if (not(scale == 'agree')):\n",
    "        scaleList = numerical_Scale\n",
    "        def_val = 3\n",
    "    \n",
    "        \n",
    "    slider = widgets.IntSlider(\n",
    "                    value=0,\n",
    "                    min=1,\n",
    "                    max=10,\n",
    "                    step=1,\n",
    "                    disabled=False,\n",
    "                    continuous_update=False,\n",
    "                    orientation='horizontal',\n",
    "                    readout=True,\n",
    "                    readout_format='d'\n",
    "                )\n",
    "    list_sliders_3[q_num] = slider\n",
    "    return slider\n",
    "\n",
    "def gentext(q_num,hint_text='Response here'):\n",
    "    scaleList = options_list\n",
    "    text_this = widgets.Text(\n",
    "    value='',\n",
    "    placeholder=hint_text,\n",
    "    description='',\n",
    "    disabled=False\n",
    "    )\n",
    "    list_sliders_3[q_num] = text_this\n",
    "    return text_this\n",
    "\n",
    "list_questions_3={\\\n",
    "    '3.1':'How well does the interactive plot help you fully understand the concepts?',\n",
    "    '3.2':'How well does the interactive plot help you understand how function changes in value when parameters change?',\n",
    "    '3.3':'How well does the  interactive plot help you understand the relationship between the force with varying parameters?',\n",
    "    '3.4':'The interactive plot matches with your prior understanding of the concepts ',\n",
    "    '3.5':'The interactive plot matches with your prior understanding of how the Force, Potential functions would look like ?',\n",
    "    '3.6':'The interactive plot matches with your prior understanding of how the Force, Potential functions vary with r0 , eps0 ?',\n",
    "    '3.7':'The interactive plot helps you BETTER UNDERSTAND the concepts compared to just STATIC PLOT?',\n",
    "    '3.8':'The interactive plot helps you BETTER UNDERSTAND how the Force, Potential functions would look like ?',\n",
    "    '3.9': 'The interactive plot helps you BETTER UNDERSTANDhow the Force, Potential functions  would vary with r0 , eps0 ?',\n",
    "    '3.10': 'To what degree is the interactive plot helful to you for understanding the concepts ?',\n",
    "    '3.11':'Can you comment something about new which the interactive plot made you understand / realize ?',\n",
    "    '3.12':'What did you dislike about the interactive plot?',\n",
    "    '3.13': 'What interactions did you use the most and why ?',\n",
    "    '3.14': 'What other interactions could have helped you better?'\n",
    "}\n",
    "display(HTML('<h2>Questions about interactive plot</h2> <H4>Scale is from LEAST -> 1 to 10 -> BEST OR STRONGLY DISAGREE to STRONGLY AGREE</H4>'))\n",
    "display(HBox([Label(list_questions_3['3.1']),genSlider('3.1','no') ]))\n",
    "display(HBox([Label(list_questions_3['3.2']),genSlider('3.2','no')]))\n",
    "display(HBox([Label(list_questions_3['3.3']),genSlider('3.3','no')]))\n",
    "display(HBox([Label(list_questions_3['3.4']),genSlider('3.4','agree')]))\n",
    "display(HBox([Label(list_questions_3['3.5']),genSlider('3.5','agree')]))\n",
    "display(HBox([Label(list_questions_3['3.6']),genSlider('3.6','agree')]))\n",
    "display(HBox([Label(list_questions_3['3.7']),genSlider('3.7','agree')]))\n",
    "display(HBox([Label(list_questions_3['3.8']),genSlider('3.8','agree')]))\n",
    "display(HBox([Label(list_questions_3['3.9']),genSlider('3.9','agree')]))\n",
    "display(HBox([Label(list_questions_3['3.10']),genSlider('3.10','NO')]))\n",
    "display(HBox([Label(list_questions_3['3.11']),gentext('3.11')]))\n",
    "display(HBox([Label(list_questions_3['3.12']),gentext('3.12')]))\n",
    "display(HBox([Label(list_questions_3['3.13']),gentext('3.13')]))\n",
    "display(HBox([Label(list_questions_3['3.14']),gentext('3.14')]))\n",
    "display(HBox([Label(list_questions_3['3.11']),gentext('3.11')]))\n",
    "\n",
    "submitButton = widgets.Button(\n",
    "    description='Submit Response',\n",
    "    disabled=False,\n",
    "    button_style='success', # 'success', 'info', 'warning', 'danger' or ''\n",
    "    tooltip='Click me',\n",
    "    icon='check'\n",
    ")\n",
    "list_sliders = {**list_sliders_1, **list_sliders_2, **list_sliders_3}\n",
    "def saveResponse(target):\n",
    "    saveAll(list_sliders)\n",
    "submitButton.on_click(saveResponse)\n",
    "submitButton"
   ]
  },
  {
   "cell_type": "code",
   "execution_count": null,
   "metadata": {
    "scrolled": false
   },
   "outputs": [],
   "source": []
  }
 ],
 "metadata": {
  "kernelspec": {
   "display_name": "Python 3",
   "language": "python",
   "name": "python3"
  },
  "language_info": {
   "codemirror_mode": {
    "name": "ipython",
    "version": 3
   },
   "file_extension": ".py",
   "mimetype": "text/x-python",
   "name": "python",
   "nbconvert_exporter": "python",
   "pygments_lexer": "ipython3",
   "version": "3.6.8"
  }
 },
 "nbformat": 4,
 "nbformat_minor": 2
}
