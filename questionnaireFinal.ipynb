{
 "cells": [
  {
   "cell_type": "markdown",
   "metadata": {},
   "source": [
    "# Questionnaire of How People Learning Project"
   ]
  },
  {
   "cell_type": "code",
   "execution_count": 7,
   "metadata": {},
   "outputs": [
    {
     "data": {
      "text/html": [
       "<script>\n",
       "code_show=true; \n",
       "function code_toggle() {\n",
       " if (code_show){\n",
       " $('div.input').hide();\n",
       " } else {\n",
       " $('div.input').show();\n",
       " }\n",
       " code_show = !code_show\n",
       "} \n",
       "$( document ).ready(code_toggle);\n",
       "</script>\n",
       "<form action=\"javascript:code_toggle()\"><input type=\"submit\" value=\"Click here to toggle on/off the raw code.\"></form>"
      ],
      "text/plain": [
       "<IPython.core.display.HTML object>"
      ]
     },
     "execution_count": 7,
     "metadata": {},
     "output_type": "execute_result"
    }
   ],
   "source": [
    "from IPython.display import HTML\n",
    "\n",
    "HTML('''<script>\n",
    "code_show=true; \n",
    "function code_toggle() {\n",
    " if (code_show){\n",
    " $('div.input').hide();\n",
    " } else {\n",
    " $('div.input').show();\n",
    " }\n",
    " code_show = !code_show\n",
    "} \n",
    "$( document ).ready(code_toggle);\n",
    "</script>\n",
    "<form action=\"javascript:code_toggle()\"><input type=\"submit\" value=\"Click here to toggle on/off the raw code.\"></form>''')"
   ]
  },
  {
   "cell_type": "code",
   "execution_count": 8,
   "metadata": {
    "tags": [
     "hidecode"
    ]
   },
   "outputs": [],
   "source": [
    "from sympy import *\n",
    "from sympy import symbols\n",
    "import holoviews as hv \n",
    "from holoviews import streams\n",
    "from holoviews import opts\n",
    "import numpy as np\n",
    "from ipywidgets import interact, widgets,HBox\n",
    "from IPython.display import display\n",
    "from holoviews.streams import Stream, param\n",
    "from IPython.core.display import display, HTML\n",
    "from ipywidgets import interact, widgets,HBox, Layout,Label\n",
    "import ipywidgets as widgets\n",
    "from sympy.parsing.sympy_parser import parse_expr\n",
    "init_printing(use_unicode=True)\n",
    "from scipy.spatial import distance_matrix\n",
    "from IPython.display import Image\n",
    "from save import *\n",
    "from IPython.display import display\n",
    "from IPython.display import Markdown\n",
    "np.seterr(divide='ignore', invalid='ignore')\n",
    "\n",
    "mode = 0 # if mode = 1, all text boxes should be filled\n",
    "         # else the text box can be empty\n",
    "\n",
    "# put the save function in the front\n",
    "def saveAll(list_slider):\n",
    "    response_list = {}\n",
    "    for k, v in list_slider.items():\n",
    "        response_list[k] = v.get_state()['value']\n",
    "        if response_list[k] == '' and mode:\n",
    "            print('You need to response to Q{}'.format(k))\n",
    "            return\n",
    "        elif response_list[k] == '' and not mode:\n",
    "            response_list[k] = 'EMPTY'\n",
    "            \n",
    "    readAndSave(response_list)\n",
    "    return"
   ]
  },
  {
   "cell_type": "markdown",
   "metadata": {},
   "source": [
    "## Part1: Textual Description\n",
    "\n",
    "Read the below equations and answer the questions which follow."
   ]
  },
  {
   "cell_type": "code",
   "execution_count": 9,
   "metadata": {
    "scrolled": false
   },
   "outputs": [
    {
     "data": {
      "text/markdown": [
       "#### Le potentiel de Lennard-Jones"
      ],
      "text/plain": [
       "<IPython.core.display.Markdown object>"
      ]
     },
     "metadata": {},
     "output_type": "display_data"
    },
    {
     "data": {
      "text/markdown": [
       "**lennardJones:**"
      ],
      "text/plain": [
       "<IPython.core.display.Markdown object>"
      ]
     },
     "metadata": {},
     "output_type": "display_data"
    },
    {
     "data": {
      "image/png": "[encoded data removed]",
      "text/latex": [
       "$$\\frac{a}{r^{12}} - \\frac{b}{r^{6}}$$"
      ],
      "text/plain": [
       " a    b \n",
       "─── - ──\n",
       " 12    6\n",
       "r     r "
      ]
     },
     "metadata": {},
     "output_type": "display_data"
    },
    {
     "data": {
      "text/markdown": [
       "La force est la derivée (en 1D) du potentiel()"
      ],
      "text/plain": [
       "<IPython.core.display.Markdown object>"
      ]
     },
     "metadata": {},
     "output_type": "display_data"
    },
    {
     "data": {
      "text/markdown": [
       "**force:**"
      ],
      "text/plain": [
       "<IPython.core.display.Markdown object>"
      ]
     },
     "metadata": {},
     "output_type": "display_data"
    },
    {
     "data": {
      "image/png": "[encoded data removed]",
      "text/latex": [
       "$$\\frac{12 a}{r^{13}} - \\frac{6 b}{r^{7}}$$"
      ],
      "text/plain": [
       "12⋅a   6⋅b\n",
       "──── - ───\n",
       " 13      7\n",
       "r       r "
      ]
     },
     "metadata": {},
     "output_type": "display_data"
    },
    {
     "data": {
      "text/markdown": [
       "#### Le potentiel de Lennard-Jones normalisé"
      ],
      "text/plain": [
       "<IPython.core.display.Markdown object>"
      ]
     },
     "metadata": {},
     "output_type": "display_data"
    },
    {
     "data": {
      "text/markdown": [
       "La résolution du système à deux équations permet de trouver l'expression de a et b en fonction de rmin et emin."
      ],
      "text/plain": [
       "<IPython.core.display.Markdown object>"
      ]
     },
     "metadata": {},
     "output_type": "display_data"
    },
    {
     "data": {
      "text/markdown": [
       "est une règle, i.e. r prend la valeur rMin"
      ],
      "text/plain": [
       "<IPython.core.display.Markdown object>"
      ]
     },
     "metadata": {},
     "output_type": "display_data"
    },
    {
     "data": {
      "text/markdown": [
       "**equationDistanceMinimum:**"
      ],
      "text/plain": [
       "<IPython.core.display.Markdown object>"
      ]
     },
     "metadata": {},
     "output_type": "display_data"
    },
    {
     "data": {
      "image/png": "[encoded data removed]",
      "text/latex": [
       "$$\\frac{1}{rMin} \\left(\\frac{12 a}{rMin^{13}} - \\frac{6 b}{rMin^{7}}\\right) = 0$$"
      ],
      "text/plain": [
       " 12⋅a     6⋅b     \n",
       "────── - ─────    \n",
       "    13       7    \n",
       "rMin     rMin     \n",
       "────────────── = 0\n",
       "     rMin         "
      ]
     },
     "metadata": {},
     "output_type": "display_data"
    },
    {
     "data": {
      "text/markdown": [
       "**equationEnergieMinimum:**"
      ],
      "text/plain": [
       "<IPython.core.display.Markdown object>"
      ]
     },
     "metadata": {},
     "output_type": "display_data"
    },
    {
     "data": {
      "image/png": "[encoded data removed]",
      "text/latex": [
       "$$\\frac{a}{rMin^{12}} - \\frac{b}{rMin^{6}} = - eMin$$"
      ],
      "text/plain": [
       "  a        b          \n",
       "────── - ───── = -eMin\n",
       "    12       6        \n",
       "rMin     rMin         "
      ]
     },
     "metadata": {},
     "output_type": "display_data"
    },
    {
     "data": {
      "text/markdown": [
       "**criticalPointSolutions:**"
      ],
      "text/plain": [
       "<IPython.core.display.Markdown object>"
      ]
     },
     "metadata": {},
     "output_type": "display_data"
    },
    {
     "data": {
      "image/png": "[encoded data removed]",
      "text/latex": [
       "$$\\left \\{ a : eMin rMin^{12}, \\quad b : 2 eMin rMin^{6}\\right \\}$$"
      ],
      "text/plain": [
       "⎧            12                6⎫\n",
       "⎨a: eMin⋅rMin  , b: 2⋅eMin⋅rMin ⎬\n",
       "⎩                               ⎭"
      ]
     },
     "metadata": {},
     "output_type": "display_data"
    },
    {
     "data": {
      "text/markdown": [
       "**lennardJonesCritical:**"
      ],
      "text/plain": [
       "<IPython.core.display.Markdown object>"
      ]
     },
     "metadata": {},
     "output_type": "display_data"
    },
    {
     "data": {
      "image/png": "[encoded data removed]",
      "text/latex": [
       "$$- \\frac{2 eMin}{r^{6}} rMin^{6} + \\frac{eMin rMin^{12}}{r^{12}}$$"
      ],
      "text/plain": [
       "             6            12\n",
       "  2⋅eMin⋅rMin    eMin⋅rMin  \n",
       "- ──────────── + ───────────\n",
       "        6             12    \n",
       "       r             r      "
      ]
     },
     "metadata": {},
     "output_type": "display_data"
    },
    {
     "data": {
      "text/markdown": [
       "**lennardJonesScaled:**"
      ],
      "text/plain": [
       "<IPython.core.display.Markdown object>"
      ]
     },
     "metadata": {},
     "output_type": "display_data"
    },
    {
     "data": {
      "image/png": "[encoded data removed]",
      "text/latex": [
       "$$- \\frac{2 rMin^{6}}{r^{6}} + \\frac{rMin^{12}}{r^{12}}$$"
      ],
      "text/plain": [
       "        6       12\n",
       "  2⋅rMin    rMin  \n",
       "- ─────── + ──────\n",
       "      6       12  \n",
       "     r       r    "
      ]
     },
     "metadata": {},
     "output_type": "display_data"
    },
    {
     "data": {
      "text/markdown": [
       "la fonction énergie est l' equivalent normalisé de l' expression initiale du potentiel de Lennard - Jones. L' énergie est exprimée par rapport à l' énergie minimale et rho la distance par rapport à la distance minimale."
      ],
      "text/plain": [
       "<IPython.core.display.Markdown object>"
      ]
     },
     "metadata": {},
     "output_type": "display_data"
    },
    {
     "data": {
      "text/markdown": [
       "**energy:**"
      ],
      "text/plain": [
       "<IPython.core.display.Markdown object>"
      ]
     },
     "metadata": {},
     "output_type": "display_data"
    },
    {
     "data": {
      "image/png": "[encoded data removed]",
      "text/latex": [
       "$$- \\frac{2}{\\rho^{6}} + \\frac{1}{\\rho^{12}}$$"
      ],
      "text/plain": [
       "  2     1 \n",
       "- ── + ───\n",
       "   6    12\n",
       "  ρ    ρ  "
      ]
     },
     "metadata": {},
     "output_type": "display_data"
    },
    {
     "data": {
      "text/markdown": [
       "**forceScaled:**"
      ],
      "text/plain": [
       "<IPython.core.display.Markdown object>"
      ]
     },
     "metadata": {},
     "output_type": "display_data"
    },
    {
     "data": {
      "image/png": "[encoded data removed]",
      "text/latex": [
       "$$\\frac{12}{\\rho^{7}} - \\frac{12}{\\rho^{13}}$$"
      ],
      "text/plain": [
       "12    12\n",
       "── - ───\n",
       " 7    13\n",
       "ρ    ρ  "
      ]
     },
     "metadata": {},
     "output_type": "display_data"
    },
    {
     "data": {
      "text/markdown": [
       "**energyAttractive:**"
      ],
      "text/plain": [
       "<IPython.core.display.Markdown object>"
      ]
     },
     "metadata": {},
     "output_type": "display_data"
    },
    {
     "data": {
      "image/png": "[encoded data removed]",
      "text/latex": [
       "$$- \\frac{2}{\\rho^{6}}$$"
      ],
      "text/plain": [
       "-2 \n",
       "───\n",
       "  6\n",
       " ρ "
      ]
     },
     "metadata": {},
     "output_type": "display_data"
    },
    {
     "data": {
      "text/markdown": [
       "**energyRepulsive:**"
      ],
      "text/plain": [
       "<IPython.core.display.Markdown object>"
      ]
     },
     "metadata": {},
     "output_type": "display_data"
    },
    {
     "data": {
      "image/png": "[encoded data removed]",
      "text/latex": [
       "$$\\frac{a}{rMin^{12}} - \\frac{b}{rMin^{6}} = - eMin$$"
      ],
      "text/plain": [
       "  a        b          \n",
       "────── - ───── = -eMin\n",
       "    12       6        \n",
       "rMin     rMin         "
      ]
     },
     "metadata": {},
     "output_type": "display_data"
    },
    {
     "data": {
      "text/markdown": [
       "**forceScaledAttractive:**"
      ],
      "text/plain": [
       "<IPython.core.display.Markdown object>"
      ]
     },
     "metadata": {},
     "output_type": "display_data"
    },
    {
     "data": {
      "image/png": "[encoded data removed]",
      "text/latex": [
       "$$\\left \\{ a : eMin rMin^{12}, \\quad b : 2 eMin rMin^{6}\\right \\}$$"
      ],
      "text/plain": [
       "⎧            12                6⎫\n",
       "⎨a: eMin⋅rMin  , b: 2⋅eMin⋅rMin ⎬\n",
       "⎩                               ⎭"
      ]
     },
     "metadata": {},
     "output_type": "display_data"
    },
    {
     "data": {
      "text/markdown": [
       "**forceScaledRepulsive:**"
      ],
      "text/plain": [
       "<IPython.core.display.Markdown object>"
      ]
     },
     "metadata": {},
     "output_type": "display_data"
    },
    {
     "data": {
      "image/png": "[encoded data removed]",
      "text/latex": [
       "$$- \\frac{2 eMin}{r^{6}} rMin^{6} + \\frac{eMin rMin^{12}}{r^{12}}$$"
      ],
      "text/plain": [
       "             6            12\n",
       "  2⋅eMin⋅rMin    eMin⋅rMin  \n",
       "- ──────────── + ───────────\n",
       "        6             12    \n",
       "       r             r      "
      ]
     },
     "metadata": {},
     "output_type": "display_data"
    },
    {
     "data": {
      "text/markdown": [
       "Le developpement en series entiere, i.e. expansion de Taylor, permet d' approximer la courbe avec une parabole ou un polynome cubique."
      ],
      "text/plain": [
       "<IPython.core.display.Markdown object>"
      ]
     },
     "metadata": {},
     "output_type": "display_data"
    },
    {
     "data": {
      "text/markdown": [
       "**parabolaApproximation:**"
      ],
      "text/plain": [
       "<IPython.core.display.Markdown object>"
      ]
     },
     "metadata": {},
     "output_type": "display_data"
    },
    {
     "data": {
      "image/png": "[encoded data removed]",
      "text/latex": [
       "$$36 \\left(\\rho - 1\\right)^{2} - 1$$"
      ],
      "text/plain": [
       "          2    \n",
       "36⋅(ρ - 1)  - 1"
      ]
     },
     "metadata": {},
     "output_type": "display_data"
    },
    {
     "data": {
      "text/markdown": [
       "**cubicApproximation:**"
      ],
      "text/plain": [
       "<IPython.core.display.Markdown object>"
      ]
     },
     "metadata": {},
     "output_type": "display_data"
    },
    {
     "data": {
      "image/png": "[encoded data removed]",
      "text/latex": [
       "$$- 252 \\left(\\rho - 1\\right)^{3} + 36 \\left(\\rho - 1\\right)^{2} - 1$$"
      ],
      "text/plain": [
       "             3             2    \n",
       "- 252⋅(ρ - 1)  + 36⋅(ρ - 1)  - 1"
      ]
     },
     "metadata": {},
     "output_type": "display_data"
    },
    {
     "data": {
      "text/html": [
       "<h2>Questions about textual description</h2> <H4>Scale is from LEAST -> 1 to 10 -> BEST OR STRONGLY DISAGREE to STRONGLY AGREE</H4>"
      ],
      "text/plain": [
       "<IPython.core.display.HTML object>"
      ]
     },
     "metadata": {},
     "output_type": "display_data"
    },
    {
     "data": {
      "application/vnd.jupyter.widget-view+json": {
       "model_id": "096b237601ae4d71904a22cc8fc00224",
       "version_major": 2,
       "version_minor": 0
      },
      "text/html": [
       "<p>Failed to display Jupyter Widget of type <code>HBox</code>.</p>\n",
       "<p>\n",
       "  If you're reading this message in the Jupyter Notebook or JupyterLab Notebook, it may mean\n",
       "  that the widgets JavaScript is still loading. If this message persists, it\n",
       "  likely means that the widgets JavaScript library is either not installed or\n",
       "  not enabled. See the <a href=\"https://ipywidgets.readthedocs.io/en/stable/user_install.html\">Jupyter\n",
       "  Widgets Documentation</a> for setup instructions.\n",
       "</p>\n",
       "<p>\n",
       "  If you're reading this message in another frontend (for example, a static\n",
       "  rendering on GitHub or <a href=\"https://nbviewer.jupyter.org/\">NBViewer</a>),\n",
       "  it may mean that your frontend doesn't currently support widgets.\n",
       "</p>\n"
      ],
      "text/plain": [
       "HBox(children=(Label(value='How well do the textual description and the corresponding equation help you fully understand the concepts?'), IntSlider(value=1, continuous_update=False, max=10, min=1)))"
      ]
     },
     "metadata": {},
     "output_type": "display_data"
    },
    {
     "data": {
      "application/vnd.jupyter.widget-view+json": {
       "model_id": "45689b0c30e2465ba6a63ea720a6936d",
       "version_major": 2,
       "version_minor": 0
      },
      "text/html": [
       "<p>Failed to display Jupyter Widget of type <code>HBox</code>.</p>\n",
       "<p>\n",
       "  If you're reading this message in the Jupyter Notebook or JupyterLab Notebook, it may mean\n",
       "  that the widgets JavaScript is still loading. If this message persists, it\n",
       "  likely means that the widgets JavaScript library is either not installed or\n",
       "  not enabled. See the <a href=\"https://ipywidgets.readthedocs.io/en/stable/user_install.html\">Jupyter\n",
       "  Widgets Documentation</a> for setup instructions.\n",
       "</p>\n",
       "<p>\n",
       "  If you're reading this message in another frontend (for example, a static\n",
       "  rendering on GitHub or <a href=\"https://nbviewer.jupyter.org/\">NBViewer</a>),\n",
       "  it may mean that your frontend doesn't currently support widgets.\n",
       "</p>\n"
      ],
      "text/plain": [
       "HBox(children=(Label(value='How well does the equation help you understand how the function changes in value when parameters change?'), IntSlider(value=1, continuous_update=False, max=10, min=1)))"
      ]
     },
     "metadata": {},
     "output_type": "display_data"
    },
    {
     "data": {
      "application/vnd.jupyter.widget-view+json": {
       "model_id": "dfda0b0315a84a62bfc87e2fd9bcbb0f",
       "version_major": 2,
       "version_minor": 0
      },
      "text/html": [
       "<p>Failed to display Jupyter Widget of type <code>HBox</code>.</p>\n",
       "<p>\n",
       "  If you're reading this message in the Jupyter Notebook or JupyterLab Notebook, it may mean\n",
       "  that the widgets JavaScript is still loading. If this message persists, it\n",
       "  likely means that the widgets JavaScript library is either not installed or\n",
       "  not enabled. See the <a href=\"https://ipywidgets.readthedocs.io/en/stable/user_install.html\">Jupyter\n",
       "  Widgets Documentation</a> for setup instructions.\n",
       "</p>\n",
       "<p>\n",
       "  If you're reading this message in another frontend (for example, a static\n",
       "  rendering on GitHub or <a href=\"https://nbviewer.jupyter.org/\">NBViewer</a>),\n",
       "  it may mean that your frontend doesn't currently support widgets.\n",
       "</p>\n"
      ],
      "text/plain": [
       "HBox(children=(Label(value='How well can you understand the relationship between the force and potential with varying parameter?'), IntSlider(value=1, continuous_update=False, max=10, min=1)))"
      ]
     },
     "metadata": {},
     "output_type": "display_data"
    },
    {
     "data": {
      "application/vnd.jupyter.widget-view+json": {
       "model_id": "92b6ed2a172d4b819b1c37998e6132ae",
       "version_major": 2,
       "version_minor": 0
      },
      "text/html": [
       "<p>Failed to display Jupyter Widget of type <code>HBox</code>.</p>\n",
       "<p>\n",
       "  If you're reading this message in the Jupyter Notebook or JupyterLab Notebook, it may mean\n",
       "  that the widgets JavaScript is still loading. If this message persists, it\n",
       "  likely means that the widgets JavaScript library is either not installed or\n",
       "  not enabled. See the <a href=\"https://ipywidgets.readthedocs.io/en/stable/user_install.html\">Jupyter\n",
       "  Widgets Documentation</a> for setup instructions.\n",
       "</p>\n",
       "<p>\n",
       "  If you're reading this message in another frontend (for example, a static\n",
       "  rendering on GitHub or <a href=\"https://nbviewer.jupyter.org/\">NBViewer</a>),\n",
       "  it may mean that your frontend doesn't currently support widgets.\n",
       "</p>\n"
      ],
      "text/plain": [
       "HBox(children=(Label(value='What did you understand from the given textual description and equation?'), Text(value='', placeholder='Type something')))"
      ]
     },
     "metadata": {},
     "output_type": "display_data"
    },
    {
     "data": {
      "application/vnd.jupyter.widget-view+json": {
       "model_id": "d4ccd7f85ffc4afdadeddc1f114e2767",
       "version_major": 2,
       "version_minor": 0
      },
      "text/html": [
       "<p>Failed to display Jupyter Widget of type <code>HBox</code>.</p>\n",
       "<p>\n",
       "  If you're reading this message in the Jupyter Notebook or JupyterLab Notebook, it may mean\n",
       "  that the widgets JavaScript is still loading. If this message persists, it\n",
       "  likely means that the widgets JavaScript library is either not installed or\n",
       "  not enabled. See the <a href=\"https://ipywidgets.readthedocs.io/en/stable/user_install.html\">Jupyter\n",
       "  Widgets Documentation</a> for setup instructions.\n",
       "</p>\n",
       "<p>\n",
       "  If you're reading this message in another frontend (for example, a static\n",
       "  rendering on GitHub or <a href=\"https://nbviewer.jupyter.org/\">NBViewer</a>),\n",
       "  it may mean that your frontend doesn't currently support widgets.\n",
       "</p>\n"
      ],
      "text/plain": [
       "HBox(children=(Label(value='Did you feel textual descriptions distracting in understanding?'), Text(value='', placeholder='Type something')))"
      ]
     },
     "metadata": {},
     "output_type": "display_data"
    },
    {
     "data": {
      "application/vnd.jupyter.widget-view+json": {
       "model_id": "3ca8b2f9433f49b0ad5bbfe2e773950a",
       "version_major": 2,
       "version_minor": 0
      },
      "text/html": [
       "<p>Failed to display Jupyter Widget of type <code>HBox</code>.</p>\n",
       "<p>\n",
       "  If you're reading this message in the Jupyter Notebook or JupyterLab Notebook, it may mean\n",
       "  that the widgets JavaScript is still loading. If this message persists, it\n",
       "  likely means that the widgets JavaScript library is either not installed or\n",
       "  not enabled. See the <a href=\"https://ipywidgets.readthedocs.io/en/stable/user_install.html\">Jupyter\n",
       "  Widgets Documentation</a> for setup instructions.\n",
       "</p>\n",
       "<p>\n",
       "  If you're reading this message in another frontend (for example, a static\n",
       "  rendering on GitHub or <a href=\"https://nbviewer.jupyter.org/\">NBViewer</a>),\n",
       "  it may mean that your frontend doesn't currently support widgets.\n",
       "</p>\n"
      ],
      "text/plain": [
       "HBox(children=(Label(value='From the information given above, what can you comment on the nature of function?'), Text(value='', placeholder='Type something')))"
      ]
     },
     "metadata": {},
     "output_type": "display_data"
    }
   ],
   "source": [
    "slider = lambda minimum, maximum: widgets.IntSlider(\n",
    "    value=0,\n",
    "    min=minimum,\n",
    "    max=maximum,\n",
    "    step=1,\n",
    "    disabled=False,\n",
    "    continuous_update=False,\n",
    "    orientation='horizontal',\n",
    "    readout=True,\n",
    "    readout_format='d')\n",
    "\n",
    "text = lambda : \\\n",
    "widgets.Text(\n",
    "    placeholder='Type something',\n",
    "    disabled=False)\n",
    "\n",
    "\n",
    "a, b, r = symbols(\"a b r\")\n",
    "lennardJones = a/r**12 - b/r**6\n",
    "force = -lennardJones.diff(r)\n",
    "rMin = symbols('rMin')\n",
    "equationDistanceMinimum = Eq(force.subs({r: rMin}) / rMin, 0)\n",
    "eMin = symbols('eMin')\n",
    "equationEnergieMinimum = Eq(lennardJones.subs({r:rMin}), -eMin)\n",
    "criticalPointSolutions = solve([equationDistanceMinimum, equationEnergieMinimum], a, b)\n",
    "lennardJonesCritical = lennardJones.subs(criticalPointSolutions)\n",
    "lennardJonesScaled = expand(lennardJonesCritical / eMin)\n",
    "\n",
    "list_formulas = {\n",
    "        '1': Markdown('**equationDistanceMinimum:**'),\n",
    "        '2': Markdown('**equationEnergieMinimum:**'),\n",
    "        '3': Markdown('**criticalPointSolutions:**'),\n",
    "        '4': Markdown('**lennardJonesCritical:**'),\n",
    "        '5': Markdown('**lennardJonesScaled:**')\n",
    "    }\n",
    "    \n",
    "list_functions = {\n",
    "        '1': equationDistanceMinimum,\n",
    "        '2': equationEnergieMinimum,\n",
    "        '3': criticalPointSolutions,\n",
    "        '4': lennardJonesCritical,\n",
    "        '5': lennardJonesScaled\n",
    "    }\n",
    "rho = symbols('rho')\n",
    "energy = expand(lennardJonesScaled.subs({r: rho * rMin}))\n",
    "forceScaled = expand(energy.diff(rho))\n",
    "\n",
    "energyAttractive = expand(lennardJonesScaled.subs({r: rho * rMin})).as_terms()[0][1][0]\n",
    "energyRepulsive = expand(lennardJonesScaled.subs({r: rho * rMin})).as_terms()[0][0][0]\n",
    "forceScaledAttractive = expand(forceScaled.subs({r: rho * rMin})).as_terms()[0][1][0]\n",
    "forceScaledRepulsive = expand(forceScaled.subs({r: rho * rMin})).as_terms()[0][0][0]\n",
    "\n",
    "list_formulas2 = {\n",
    "    '1': Markdown('**energyAttractive:**'),\n",
    "    '2': Markdown('**energyRepulsive:**'),\n",
    "    '3': Markdown('**forceScaledAttractive:**'),\n",
    "    '4': Markdown('**forceScaledRepulsive:**')\n",
    "}\n",
    "\n",
    "\n",
    "list_functions2 = {\n",
    "    '1': energyAttractive,\n",
    "    '2': equationEnergieMinimum,\n",
    "    '3': criticalPointSolutions,\n",
    "    '4': lennardJonesCritical\n",
    "}\n",
    "    \n",
    "parabolaApproximation = series(energy, rho, n=3, x0=1).removeO()\n",
    "cubicApproximation = series(energy, rho, n=4, x0=1).removeO()\n",
    "list_formulas3 = {\n",
    "    '1': Markdown('**parabolaApproximation:**'),\n",
    "    '2': Markdown('**cubicApproximation:**')\n",
    "}\n",
    "\n",
    "list_functions3 = {\n",
    "    '1': parabolaApproximation,\n",
    "    '2': cubicApproximation\n",
    "}\n",
    "\n",
    "\n",
    "list_questions_1 = {\n",
    "    '1.1': 'How well do the textual description and the corresponding equation help you fully understand the concepts?',\n",
    "    '1.2': 'How well does the equation help you understand how the function changes in value when parameters change?',\n",
    "    '1.3': 'How well can you understand the relationship between the force and potential with varying parameter?',\n",
    "    '1.4': 'What did you understand from the given textual description and equation?',\n",
    "    '1.5': 'Did you feel textual descriptions distracting in understanding?',\n",
    "    '1.6': 'From the information given above, what can you comment on the nature of function?'\n",
    "}\n",
    "\n",
    "list_sliders_1 = {\n",
    "    '1.1': slider(1,10),\n",
    "    '1.2': slider(1,10),\n",
    "    '1.3': slider(1,10),\n",
    "    '1.4': text(),\n",
    "    '1.5': text(),\n",
    "    '1.6': text()\n",
    "}\n",
    "display(Markdown(\"#### Le potentiel de Lennard-Jones\"))\n",
    "display(Markdown('**lennardJones:**'),lennardJones)\n",
    "display(Markdown(\"La force est la derivée (en 1D) du potentiel()\"))\n",
    "display(Markdown('**force:**'),force)\n",
    "display(Markdown(\"#### Le potentiel de Lennard-Jones normalisé\"))\n",
    "display(Markdown(\"La résolution du système à deux équations permet de trouver l'expression de a et b en fonction de rmin et emin.\"))\n",
    "display(Markdown(\"est une règle, i.e. r prend la valeur rMin\"))\n",
    "display(list_formulas['1'], list_functions['1'])\n",
    "display(list_formulas['2'], list_functions['2'])\n",
    "display(list_formulas['3'], list_functions['3'])\n",
    "display(list_formulas['4'], list_functions['4'])\n",
    "display(list_formulas['5'], list_functions['5'])\n",
    "display(Markdown(\"la fonction énergie est l' equivalent normalisé de l' expression initiale du potentiel de Lennard - Jones. L' énergie est exprimée par rapport à l' énergie minimale et rho la distance par rapport à la distance minimale.\"))\n",
    "display(Markdown('**energy:**'), energy)\n",
    "display(Markdown('**forceScaled:**'), forceScaled)\n",
    "display(list_formulas2['1'], list_functions2['1'])\n",
    "display(list_formulas2['2'], list_functions2['2'])\n",
    "display(list_formulas2['3'], list_functions2['3'])\n",
    "display(list_formulas2['4'], list_functions2['4'])\n",
    "display(Markdown(\"Le developpement en series entiere, i.e. expansion de Taylor, permet d' approximer la courbe avec une parabole ou un polynome cubique.\"))\n",
    "display(list_formulas3['1'], list_functions3['1'])\n",
    "display(list_formulas3['2'], list_functions3['2'])\n",
    "\n",
    "display(HTML('<h2>Questions about textual description</h2> <H4>Scale is from LEAST -> 1 to 10 -> BEST OR STRONGLY DISAGREE to STRONGLY AGREE</H4>'))\n",
    "display(HBox([Label(list_questions_1['1.1']), list_sliders_1['1.1']]))\n",
    "display(HBox([Label(list_questions_1['1.2']), list_sliders_1['1.2']]))\n",
    "display(HBox([Label(list_questions_1['1.3']), list_sliders_1['1.3']]))\n",
    "display(HBox([Label(list_questions_1['1.4']), list_sliders_1['1.4']]))\n",
    "display(HBox([Label(list_questions_1['1.5']), list_sliders_1['1.5']]))\n",
    "display(HBox([Label(list_questions_1['1.6']), list_sliders_1['1.6']]))"
   ]
  },
  {
   "cell_type": "markdown",
   "metadata": {},
   "source": [
    "## Part2: Static Plotting\n",
    "\n",
    "Understand the plot below and answer the questions which follow."
   ]
  },
  {
   "cell_type": "code",
   "execution_count": 10,
   "metadata": {},
   "outputs": [
    {
     "data": {
      "text/html": [
       "<h2>Questions about static plot</h2> <H4>Scale is from LEAST -> 1 to 10 -> BEST OR STRONGLY DISAGREE to STRONGLY AGREE</H4>"
      ],
      "text/plain": [
       "<IPython.core.display.HTML object>"
      ]
     },
     "metadata": {},
     "output_type": "display_data"
    },
    {
     "data": {
      "text/html": [
       "<img src=\"plot/staticPlot.png\"/>"
      ],
      "text/plain": [
       "<IPython.core.display.Image object>"
      ]
     },
     "metadata": {},
     "output_type": "display_data"
    },
    {
     "data": {
      "text/markdown": [
       "This static plot depicts the four relationships shown as equations in last section, with parameters ε = 0.67, r = 1.031; please answer the following questions before proceeding to the next section."
      ],
      "text/plain": [
       "<IPython.core.display.Markdown object>"
      ]
     },
     "metadata": {},
     "output_type": "display_data"
    },
    {
     "data": {
      "application/vnd.jupyter.widget-view+json": {
       "model_id": "5447a92f2737496c96e886839da90606",
       "version_major": 2,
       "version_minor": 0
      },
      "text/html": [
       "<p>Failed to display Jupyter Widget of type <code>HBox</code>.</p>\n",
       "<p>\n",
       "  If you're reading this message in the Jupyter Notebook or JupyterLab Notebook, it may mean\n",
       "  that the widgets JavaScript is still loading. If this message persists, it\n",
       "  likely means that the widgets JavaScript library is either not installed or\n",
       "  not enabled. See the <a href=\"https://ipywidgets.readthedocs.io/en/stable/user_install.html\">Jupyter\n",
       "  Widgets Documentation</a> for setup instructions.\n",
       "</p>\n",
       "<p>\n",
       "  If you're reading this message in another frontend (for example, a static\n",
       "  rendering on GitHub or <a href=\"https://nbviewer.jupyter.org/\">NBViewer</a>),\n",
       "  it may mean that your frontend doesn't currently support widgets.\n",
       "</p>\n"
      ],
      "text/plain": [
       "HBox(children=(Label(value='How well does the static plot help you fully understand the concepts?'), IntSlider(value=1, continuous_update=False, max=10, min=1)))"
      ]
     },
     "metadata": {},
     "output_type": "display_data"
    },
    {
     "data": {
      "application/vnd.jupyter.widget-view+json": {
       "model_id": "4fd8ee1d8a264dad9cffc6b24327bc6f",
       "version_major": 2,
       "version_minor": 0
      },
      "text/html": [
       "<p>Failed to display Jupyter Widget of type <code>HBox</code>.</p>\n",
       "<p>\n",
       "  If you're reading this message in the Jupyter Notebook or JupyterLab Notebook, it may mean\n",
       "  that the widgets JavaScript is still loading. If this message persists, it\n",
       "  likely means that the widgets JavaScript library is either not installed or\n",
       "  not enabled. See the <a href=\"https://ipywidgets.readthedocs.io/en/stable/user_install.html\">Jupyter\n",
       "  Widgets Documentation</a> for setup instructions.\n",
       "</p>\n",
       "<p>\n",
       "  If you're reading this message in another frontend (for example, a static\n",
       "  rendering on GitHub or <a href=\"https://nbviewer.jupyter.org/\">NBViewer</a>),\n",
       "  it may mean that your frontend doesn't currently support widgets.\n",
       "</p>\n"
      ],
      "text/plain": [
       "HBox(children=(Label(value='How well does the static plot help you understand how the function changes in value when parameters change?'), IntSlider(value=1, continuous_update=False, max=10, min=1)))"
      ]
     },
     "metadata": {},
     "output_type": "display_data"
    },
    {
     "data": {
      "application/vnd.jupyter.widget-view+json": {
       "model_id": "d8ae33602c76462e88706f0e42af5e45",
       "version_major": 2,
       "version_minor": 0
      },
      "text/html": [
       "<p>Failed to display Jupyter Widget of type <code>HBox</code>.</p>\n",
       "<p>\n",
       "  If you're reading this message in the Jupyter Notebook or JupyterLab Notebook, it may mean\n",
       "  that the widgets JavaScript is still loading. If this message persists, it\n",
       "  likely means that the widgets JavaScript library is either not installed or\n",
       "  not enabled. See the <a href=\"https://ipywidgets.readthedocs.io/en/stable/user_install.html\">Jupyter\n",
       "  Widgets Documentation</a> for setup instructions.\n",
       "</p>\n",
       "<p>\n",
       "  If you're reading this message in another frontend (for example, a static\n",
       "  rendering on GitHub or <a href=\"https://nbviewer.jupyter.org/\">NBViewer</a>),\n",
       "  it may mean that your frontend doesn't currently support widgets.\n",
       "</p>\n"
      ],
      "text/plain": [
       "HBox(children=(Label(value='After seeing the plot, how well can you understand the relation between force/potential and varying parameter?'), IntSlider(value=1, continuous_update=False, max=10, min=1)))"
      ]
     },
     "metadata": {},
     "output_type": "display_data"
    },
    {
     "data": {
      "application/vnd.jupyter.widget-view+json": {
       "model_id": "2a245a78c19b4b7aba0c9a38c7a98c40",
       "version_major": 2,
       "version_minor": 0
      },
      "text/html": [
       "<p>Failed to display Jupyter Widget of type <code>HBox</code>.</p>\n",
       "<p>\n",
       "  If you're reading this message in the Jupyter Notebook or JupyterLab Notebook, it may mean\n",
       "  that the widgets JavaScript is still loading. If this message persists, it\n",
       "  likely means that the widgets JavaScript library is either not installed or\n",
       "  not enabled. See the <a href=\"https://ipywidgets.readthedocs.io/en/stable/user_install.html\">Jupyter\n",
       "  Widgets Documentation</a> for setup instructions.\n",
       "</p>\n",
       "<p>\n",
       "  If you're reading this message in another frontend (for example, a static\n",
       "  rendering on GitHub or <a href=\"https://nbviewer.jupyter.org/\">NBViewer</a>),\n",
       "  it may mean that your frontend doesn't currently support widgets.\n",
       "</p>\n"
      ],
      "text/plain": [
       "HBox(children=(Label(value='To which degree does the image matches with your understanding of 1.1, 1.2 and 1.3'), IntSlider(value=1, continuous_update=False, max=10, min=1)))"
      ]
     },
     "metadata": {},
     "output_type": "display_data"
    },
    {
     "data": {
      "application/vnd.jupyter.widget-view+json": {
       "model_id": "4d9c634023144829adfdc1ed6d994cc5",
       "version_major": 2,
       "version_minor": 0
      },
      "text/html": [
       "<p>Failed to display Jupyter Widget of type <code>HBox</code>.</p>\n",
       "<p>\n",
       "  If you're reading this message in the Jupyter Notebook or JupyterLab Notebook, it may mean\n",
       "  that the widgets JavaScript is still loading. If this message persists, it\n",
       "  likely means that the widgets JavaScript library is either not installed or\n",
       "  not enabled. See the <a href=\"https://ipywidgets.readthedocs.io/en/stable/user_install.html\">Jupyter\n",
       "  Widgets Documentation</a> for setup instructions.\n",
       "</p>\n",
       "<p>\n",
       "  If you're reading this message in another frontend (for example, a static\n",
       "  rendering on GitHub or <a href=\"https://nbviewer.jupyter.org/\">NBViewer</a>),\n",
       "  it may mean that your frontend doesn't currently support widgets.\n",
       "</p>\n"
      ],
      "text/plain": [
       "HBox(children=(Label(value='To which degree does the image helps you understand 1.1, 1.2 and 1.3 better?'), IntSlider(value=0, continuous_update=False, max=10, min=-10)))"
      ]
     },
     "metadata": {},
     "output_type": "display_data"
    },
    {
     "data": {
      "application/vnd.jupyter.widget-view+json": {
       "model_id": "427cd8691c7d4e4bb49a5dd013b18a48",
       "version_major": 2,
       "version_minor": 0
      },
      "text/html": [
       "<p>Failed to display Jupyter Widget of type <code>HBox</code>.</p>\n",
       "<p>\n",
       "  If you're reading this message in the Jupyter Notebook or JupyterLab Notebook, it may mean\n",
       "  that the widgets JavaScript is still loading. If this message persists, it\n",
       "  likely means that the widgets JavaScript library is either not installed or\n",
       "  not enabled. See the <a href=\"https://ipywidgets.readthedocs.io/en/stable/user_install.html\">Jupyter\n",
       "  Widgets Documentation</a> for setup instructions.\n",
       "</p>\n",
       "<p>\n",
       "  If you're reading this message in another frontend (for example, a static\n",
       "  rendering on GitHub or <a href=\"https://nbviewer.jupyter.org/\">NBViewer</a>),\n",
       "  it may mean that your frontend doesn't currently support widgets.\n",
       "</p>\n"
      ],
      "text/plain": [
       "HBox(children=(Label(value='To which degree is the image helpful for your understanding ?'), IntSlider(value=0, continuous_update=False, max=10, min=-10)))"
      ]
     },
     "metadata": {},
     "output_type": "display_data"
    },
    {
     "data": {
      "application/vnd.jupyter.widget-view+json": {
       "model_id": "a8464279f3d84ea19c3c4c49aca701e8",
       "version_major": 2,
       "version_minor": 0
      },
      "text/html": [
       "<p>Failed to display Jupyter Widget of type <code>HBox</code>.</p>\n",
       "<p>\n",
       "  If you're reading this message in the Jupyter Notebook or JupyterLab Notebook, it may mean\n",
       "  that the widgets JavaScript is still loading. If this message persists, it\n",
       "  likely means that the widgets JavaScript library is either not installed or\n",
       "  not enabled. See the <a href=\"https://ipywidgets.readthedocs.io/en/stable/user_install.html\">Jupyter\n",
       "  Widgets Documentation</a> for setup instructions.\n",
       "</p>\n",
       "<p>\n",
       "  If you're reading this message in another frontend (for example, a static\n",
       "  rendering on GitHub or <a href=\"https://nbviewer.jupyter.org/\">NBViewer</a>),\n",
       "  it may mean that your frontend doesn't currently support widgets.\n",
       "</p>\n"
      ],
      "text/plain": [
       "HBox(children=(Label(value='After seeing the static plot, can you comment something new on the nature of the function?'), Text(value='', placeholder='Type something')))"
      ]
     },
     "metadata": {},
     "output_type": "display_data"
    },
    {
     "data": {
      "application/vnd.jupyter.widget-view+json": {
       "model_id": "53fed028b37f4fe1bde7af60ea24ac07",
       "version_major": 2,
       "version_minor": 0
      },
      "text/html": [
       "<p>Failed to display Jupyter Widget of type <code>HBox</code>.</p>\n",
       "<p>\n",
       "  If you're reading this message in the Jupyter Notebook or JupyterLab Notebook, it may mean\n",
       "  that the widgets JavaScript is still loading. If this message persists, it\n",
       "  likely means that the widgets JavaScript library is either not installed or\n",
       "  not enabled. See the <a href=\"https://ipywidgets.readthedocs.io/en/stable/user_install.html\">Jupyter\n",
       "  Widgets Documentation</a> for setup instructions.\n",
       "</p>\n",
       "<p>\n",
       "  If you're reading this message in another frontend (for example, a static\n",
       "  rendering on GitHub or <a href=\"https://nbviewer.jupyter.org/\">NBViewer</a>),\n",
       "  it may mean that your frontend doesn't currently support widgets.\n",
       "</p>\n"
      ],
      "text/plain": [
       "HBox(children=(Label(value='What did you understand from the given static plot?'), Text(value='', placeholder='Type something')))"
      ]
     },
     "metadata": {},
     "output_type": "display_data"
    },
    {
     "data": {
      "application/vnd.jupyter.widget-view+json": {
       "model_id": "5d0d2dd0920144f69dceac8d95419818",
       "version_major": 2,
       "version_minor": 0
      },
      "text/html": [
       "<p>Failed to display Jupyter Widget of type <code>HBox</code>.</p>\n",
       "<p>\n",
       "  If you're reading this message in the Jupyter Notebook or JupyterLab Notebook, it may mean\n",
       "  that the widgets JavaScript is still loading. If this message persists, it\n",
       "  likely means that the widgets JavaScript library is either not installed or\n",
       "  not enabled. See the <a href=\"https://ipywidgets.readthedocs.io/en/stable/user_install.html\">Jupyter\n",
       "  Widgets Documentation</a> for setup instructions.\n",
       "</p>\n",
       "<p>\n",
       "  If you're reading this message in another frontend (for example, a static\n",
       "  rendering on GitHub or <a href=\"https://nbviewer.jupyter.org/\">NBViewer</a>),\n",
       "  it may mean that your frontend doesn't currently support widgets.\n",
       "</p>\n"
      ],
      "text/plain": [
       "HBox(children=(Label(value='Did you feel static plot distracting in understanding?'), Text(value='', placeholder='Type something')))"
      ]
     },
     "metadata": {},
     "output_type": "display_data"
    },
    {
     "data": {
      "application/vnd.jupyter.widget-view+json": {
       "model_id": "9548928029a84c78bbc57a652d217cd5",
       "version_major": 2,
       "version_minor": 0
      },
      "text/html": [
       "<p>Failed to display Jupyter Widget of type <code>HBox</code>.</p>\n",
       "<p>\n",
       "  If you're reading this message in the Jupyter Notebook or JupyterLab Notebook, it may mean\n",
       "  that the widgets JavaScript is still loading. If this message persists, it\n",
       "  likely means that the widgets JavaScript library is either not installed or\n",
       "  not enabled. See the <a href=\"https://ipywidgets.readthedocs.io/en/stable/user_install.html\">Jupyter\n",
       "  Widgets Documentation</a> for setup instructions.\n",
       "</p>\n",
       "<p>\n",
       "  If you're reading this message in another frontend (for example, a static\n",
       "  rendering on GitHub or <a href=\"https://nbviewer.jupyter.org/\">NBViewer</a>),\n",
       "  it may mean that your frontend doesn't currently support widgets.\n",
       "</p>\n"
      ],
      "text/plain": [
       "HBox(children=(Label(value='From the information given above, can you comment on the nature of function?'), Text(value='', placeholder='Type something')))"
      ]
     },
     "metadata": {},
     "output_type": "display_data"
    }
   ],
   "source": [
    "list_questions_2 = {\n",
    "    '2.1': 'How well does the static plot help you fully understand the concepts?',\n",
    "    '2.2': 'How well does the static plot help you understand how the function changes in value when parameters change?',\n",
    "    '2.3': 'After seeing the plot, how well can you understand the relation between force/potential and varying parameter?',\n",
    "    '2.4': 'To which degree does the image matches with your understanding of 1.1, 1.2 and 1.3',\n",
    "    '2.5': 'To which degree does the image helps you understand 1.1, 1.2 and 1.3 better?',\n",
    "    '2.6': 'To which degree is the image helpful for your understanding ?',\n",
    "    '2.7': 'After seeing the static plot, can you comment something new on the nature of the function?',\n",
    "    '2.8': 'What did you understand from the given static plot?',\n",
    "    '2.9': 'Did you feel static plot distracting in understanding?',\n",
    "    '2.10': 'From the information given above, can you comment on the nature of function?'\n",
    "}\n",
    "\n",
    "list_sliders_2 = {\n",
    "    '2.1': slider(1,10),\n",
    "    '2.2': slider(1,10),\n",
    "    '2.3': slider(1,10),\n",
    "    '2.4': slider(1,10),\n",
    "    '2.5': slider(-10,10),\n",
    "    '2.6': slider(-10,10),\n",
    "    '2.7': text(),\n",
    "    '2.8': text(),\n",
    "    '2.9': text(),\n",
    "    '2.10': text()\n",
    "}\n",
    "display(HTML('<h2>Questions about static plot</h2> <H4>Scale is from LEAST -> 1 to 10 -> BEST OR STRONGLY DISAGREE to STRONGLY AGREE</H4>'))\n",
    "text_description = 'This static plot depicts the four relationships shown as equations in last section, with parameters \\u03B5 = 0.67, r = 1.031; please answer the following questions before proceeding to the next section.'\n",
    "display(Image(url='plot/staticPlot.png'))\n",
    "display(Markdown(text_description))\n",
    "display(HBox([Label(list_questions_2['2.1']), list_sliders_2['2.1']]))\n",
    "display(HBox([Label(list_questions_2['2.2']), list_sliders_2['2.2']]))\n",
    "display(HBox([Label(list_questions_2['2.3']), list_sliders_2['2.3']]))\n",
    "display(HBox([Label(list_questions_2['2.4']), list_sliders_2['2.4']]))\n",
    "display(HBox([Label(list_questions_2['2.5']), list_sliders_2['2.5']]))\n",
    "display(HBox([Label(list_questions_2['2.6']), list_sliders_2['2.6']]))\n",
    "display(HBox([Label(list_questions_2['2.7']), list_sliders_2['2.7']]))\n",
    "display(HBox([Label(list_questions_2['2.8']), list_sliders_2['2.8']]))\n",
    "display(HBox([Label(list_questions_2['2.9']), list_sliders_2['2.9']]))\n",
    "display(HBox([Label(list_questions_2['2.10']),list_sliders_2['2.10']]))"
   ]
  },
  {
   "cell_type": "markdown",
   "metadata": {},
   "source": [
    "## Part3: Interactive Plotting"
   ]
  },
  {
   "cell_type": "code",
   "execution_count": 11,
   "metadata": {},
   "outputs": [
    {
     "data": {
      "text/html": [
       "\n",
       "<link rel=\"stylesheet\" href=\"https://code.jquery.com/ui/1.10.4/themes/smoothness/jquery-ui.css\">\n",
       "<style>div.hololayout {\n",
       "  display: flex;\n",
       "  align-items: center;\n",
       "  margin: 0;\n",
       "}\n",
       "\n",
       "div.holoframe {\n",
       "  width: 75%;\n",
       "}\n",
       "\n",
       "div.holowell {\n",
       "  display: flex;\n",
       "  align-items: center;\n",
       "}\n",
       "\n",
       "form.holoform {\n",
       "  background-color: #fafafa;\n",
       "  border-radius: 5px;\n",
       "  overflow: hidden;\n",
       "  padding-left: 0.8em;\n",
       "  padding-right: 0.8em;\n",
       "  padding-top: 0.4em;\n",
       "  padding-bottom: 0.4em;\n",
       "  box-shadow: inset 0 1px 1px rgba(0, 0, 0, 0.05);\n",
       "  margin-bottom: 20px;\n",
       "  border: 1px solid #e3e3e3;\n",
       "}\n",
       "\n",
       "div.holowidgets {\n",
       "  padding-right: 0;\n",
       "  width: 25%;\n",
       "}\n",
       "\n",
       "div.holoslider {\n",
       "  min-height: 0 !important;\n",
       "  height: 0.8em;\n",
       "  width: 100%;\n",
       "}\n",
       "\n",
       "div.holoformgroup {\n",
       "  padding-top: 0.5em;\n",
       "  margin-bottom: 0.5em;\n",
       "}\n",
       "\n",
       "div.hologroup {\n",
       "  padding-left: 0;\n",
       "  padding-right: 0.8em;\n",
       "  width: 100%;\n",
       "}\n",
       "\n",
       ".holoselect {\n",
       "  width: 92%;\n",
       "  margin-left: 0;\n",
       "  margin-right: 0;\n",
       "}\n",
       "\n",
       ".holotext {\n",
       "  padding-left:  0.5em;\n",
       "  padding-right: 0;\n",
       "  width: 100%;\n",
       "}\n",
       "\n",
       ".holowidgets .ui-resizable-se {\n",
       "  visibility: hidden\n",
       "}\n",
       "\n",
       ".holoframe > .ui-resizable-se {\n",
       "  visibility: hidden\n",
       "}\n",
       "\n",
       ".holowidgets .ui-resizable-s {\n",
       "  visibility: hidden\n",
       "}\n",
       "\n",
       "\n",
       "/* CSS rules for noUISlider based slider used by JupyterLab extension  */\n",
       "\n",
       ".noUi-handle {\n",
       "  width: 20px !important;\n",
       "  height: 20px !important;\n",
       "  left: -5px !important;\n",
       "  top: -5px !important;\n",
       "}\n",
       "\n",
       ".noUi-handle:before, .noUi-handle:after {\n",
       "  visibility: hidden;\n",
       "  height: 0px;\n",
       "}\n",
       "\n",
       ".noUi-target {\n",
       "  margin-left: 0.5em;\n",
       "  margin-right: 0.5em;\n",
       "}\n",
       "</style>\n",
       "\n",
       "\n",
       "<div class=\"logo-block\">\n",
       "<img src='data:image/png;base64,iVBORw0KGgoAAAANSUhEUgAAAEAAAABACAYAAACqaXHeAAAABHNCSVQICAgIfAhkiAAAAAlwSFlz\n",
       "AAAB+wAAAfsBxc2miwAAABl0RVh0U29mdHdhcmUAd3d3Lmlua3NjYXBlLm9yZ5vuPBoAAA6zSURB\n",
       "VHic7ZtpeFRVmsf/5966taWqUlUJ2UioBBJiIBAwCZtog9IOgjqACsogKtqirT2ttt069nQ/zDzt\n",
       "tI4+CrJIREFaFgWhBXpUNhHZQoKBkIUASchWla1S+3ar7r1nPkDaCAnZKoQP/D7mnPOe9/xy76n3\n",
       "nFSAW9ziFoPFNED2LLK5wcyBDObkb8ZkxuaoSYlI6ZcOKq1eWFdedqNzGHQBk9RMEwFAASkk0Xw3\n",
       "ETacDNi2vtvc7L0ROdw0AjoSotQVkKSvHQz/wRO1lScGModBFbDMaNRN1A4tUBCS3lk7BWhQkgpD\n",
       "lG4852/+7DWr1R3uHAZVQDsbh6ZPN7CyxUrCzJMRouusj0ipRwD2uKm0Zn5d2dFwzX1TCGhnmdGo\n",
       "G62Nna+isiUqhkzuKrkQaJlPEv5mFl2fvGg2t/VnzkEV8F5ioioOEWkLG86fvbpthynjdhXYZziQ\n",
       "x1hC9J2NFyi8vCTt91Fh04KGip0AaG9zuCk2wQCVyoNU3Hjezee9bq92duzzTmxsRJoy+jEZZZYo\n",
       "GTKJ6SJngdJqAfRzpze0+jHreUtPc7gpBLQnIYK6BYp/uGhw9YK688eu7v95ysgshcg9qSLMo3JC\n",
       "4jqLKQFBgdKDPoQ+Pltb8dUyQLpeDjeVgI6EgLIQFT5tEl3rn2losHVsexbZ3EyT9wE1uGdkIPcy\n",
       "BGxn8QUq1QrA5nqW5i2tLqvrrM9NK6AdkVIvL9E9bZL/oyfMVd/jqvc8LylzRBKDJSzIExwhQzuL\n",
       "QYGQj4rHfFTc8mUdu3E7yoLtbTe9gI4EqVgVkug2i5+uXGo919ixbRog+3fTbQ8qJe4ZOYNfMoTI\n",
       "OoshUNosgO60AisX15aeI2PSIp5KiFLI9ubb1vV3Qb2ltwLakUCDAkWX7/nHKRmmGIl9VgYsUhJm\n",
       "2NXjKYADtM1ygne9QQDIXlk49FBstMKx66D1v4+XuQr7vqTe0VcBHQlRWiOCbmmSYe2SqtL6q5rJ\n",
       "zsTb7lKx3FKOYC4DoqyS/B5bvLPxvD9Qtf6saxYLQGJErmDOdOMr/zo96km1nElr8bmPOBwI9COv\n",
       "HnFPRIwmkSOv9kcAS4heRsidOkpeWBgZM+UBrTFAXNYL5Vf2ii9c1trNzpYdaoVil3WIc+wdk+gQ\n",
       "noie3ecCcxt9ITcLAPWt/laGEO/9U6PmzZkenTtsSMQ8uYywJVW+grCstAvCIaAdArAsIWkRDDs/\n",
       "KzLm2YcjY1Lv0UdW73HabE9n6V66cxSzfEmuJssTpKGVp+0vHq73FwL46eOjpMpbRAnNmJFrGJNu\n",
       "Ukf9Yrz+3rghiumCKNXXWPhLYcjxGsIpoCMsIRoFITkW8AuyM8jC1+/QLx4bozCEJIq38+1rtpR6\n",
       "V/yzb8eBlRb3fo5l783N0CWolAzJHaVNzkrTzlEp2bQ2q3TC5gn6wpnoQAmwSiGh2GitnTmVMc5O\n",
       "UyfKWUKCIsU7+fZDKwqdT6DDpvkzAX4/+AMFjk0tDp5GRXLpQ2MUmhgDp5gxQT8+Y7hyPsMi8uxF\n",
       "71H0oebujHALECjFKaW9Lm68n18wXp2kVzIcABytD5iXFzg+WVXkegpAsOOYziqo0OkK76GyquC3\n",
       "ltZAzMhhqlSNmmWTE5T6e3IN05ITFLM4GdN0vtZ3ob8Jh1NAKXFbm5PtLU/eqTSlGjkNAJjdgn/N\n",
       "aedXa0tdi7+t9G0FIF49rtMSEgAs1kDLkTPO7ebm4IUWeyh1bKomXqlgMG6kJmHcSM0clYLJ8XtR\n",
       "1GTnbV3F6I5wCGikAb402npp1h1s7LQUZZSMIfALFOuL3UUrfnS8+rez7v9qcold5tilgHbO1fjK\n",
       "9ubb17u9oshxzMiUBKXWqJNxd+fqb0tLVs4lILFnK71H0Ind7uiPgACVcFJlrb0tV6DzxqqTIhUM\n",
       "CwDf1/rrVhTa33/3pGPxJYdQ2l2cbgVcQSosdx8uqnDtbGjh9SlDVSMNWhlnilfqZk42Th2ZpLpf\n",
       "xrHec5e815zrr0dfBZSwzkZfqsv+1FS1KUknUwPARVvItfKUY+cn57yP7qv07UE3p8B2uhUwLk09\n",
       "e0SCOrK+hbdYHYLjRIl71wWzv9jpEoeOHhGRrJAzyEyNiJuUqX0g2sBN5kGK6y2Blp5M3lsB9Qh4\n",
       "y2Ja6x6+i0ucmKgwMATwhSjdUu49tKrQ/pvN5d53ml2CGwCmJipmKjgmyuaXzNeL2a0AkQ01Th5j\n",
       "2DktO3Jyk8f9vcOBQHV94OK+fPumJmvQHxJoWkaKWq9Vs+yUsbq0zGT1I4RgeH2b5wef7+c7bl8F\n",
       "eKgoHVVZa8ZPEORzR6sT1BzDUAD/d9F78e2Tzv99v8D+fLVTqAKAsbGamKey1Mt9Ann4eH3gTXTz\n",
       "idWtAJ8PQWOk7NzSeQn/OTHDuEikVF1R4z8BQCy+6D1aWRfY0tTGG2OM8rRoPaeIj5ZHzJxszElN\n",
       "VM8K8JS5WOfv8mzRnQAKoEhmt8gyPM4lU9SmBK1MCQBnW4KONT86v1hZ1PbwSXPw4JWussVjtH9Y\n",
       "NCoiL9UoH/6PSu8jFrfY2t36erQHXLIEakMi1SydmzB31h3GGXFDFNPaK8Rme9B79Ixrd0WN+1ij\n",
       "NRQ/doRmuFLBkHSTOm5GruG+pFjFdAmorG4IXH1Qua6ASniclfFtDYt+oUjKipPrCQB7QBQ2lrgP\n",
       "fFzm+9XWUtcqJ3/5vDLDpJ79XHZk3u8nGZ42qlj1+ydtbxysCezrydp6ugmipNJ7WBPB5tydY0jP\n",
       "HaVNzs3QzeE4ZpTbI+ZbnSFPbVOw9vsfnVvqWnirPyCNGD08IlqtYkh2hjZ5dErEQzoNm+6ykyOt\n",
       "Lt5/PQEuSRRKo22VkydK+vvS1XEKlhCJAnsqvcVvH7f/ZU2R67eXbMEGAMiIV5oWZWiWvz5Fv2xG\n",
       "sjqNJQRvn3Rs2lji/lNP19VjAQDgD7FHhujZB9OGqYxRkZxixgRDVlqS6uEOFaJUVu0rPFzctrnF\n",
       "JqijImVp8dEKVWyUXDk92zAuMZ6bFwpBU1HrOw6AdhQgUooChb0+ItMbWJitSo5Ws3IAOGEOtL53\n",
       "0vHZih9sC4vtofZ7Qu6523V/fmGcds1TY3V36pUsBwAbSlxnVh2xLfAD/IAIMDf7XYIkNmXfpp2l\n",
       "18rkAJAy9HKFaIr/qULkeQQKy9zf1JgDB2uaeFNGijo5QsUyacNUUTOnGO42xSnv4oOwpDi1zYkc\n",
       "efUc3I5Gk6PhyTuVKaOGyLUAYPGIoY9Pu/atL/L92+4q9wbflRJ2Trpm/jPjdBtfnqB/dIThcl8A\n",
       "KG7hbRuKnb8qsQsVvVlTrwQAQMUlf3kwJI24Z4JhPMtcfng5GcH49GsrxJpGvvHIaeem2ma+KSjQ\n",
       "lIwUdYyCY8j4dE1KzijNnIP2llF2wcXNnsoapw9XxsgYAl6k+KzUXbi2yP3KR2ecf6z3BFsBICdW\n",
       "nvnIaG3eHybqX7vbpEqUMT+9OL4Qpe8VON7dXuFd39v19FoAABRVePbGGuXTszO0P7tu6lghUonE\n",
       "llRdrhArLvmKdh9u29jcFiRRkfLUxBiFNiqSU9icoZQHo5mYBI1MBgBH6wMNb+U7Pnw337H4gi1Y\n",
       "ciWs+uks3Z9fztUvfzxTm9Ne8XXkvQLHNytOOZeiD4e0PgkAIAYCYknKUNUDSXEKzdWNpnil7r4p\n",
       "xqkjTarZMtk/K8TQ6Qve78qqvXurGwIJqcOUKfUWHsm8KGvxSP68YudXq4pcj39X49uOK2X142O0\n",
       "Tz5/u/7TVybqH0rSya6ZBwD21/gubbrgWdDgEOx9WUhfBaC2ibcEBYm7a7x+ukrBMNcEZggyR0TE\n",
       "T8zUPjikQ4VosQZbTpS4vqizBKvqmvjsqnpfzaZyx9JPiz1/bfGKdgD45XB1zoIMzYbfTdS/NClB\n",
       "Gct0USiY3YL/g0LHy/uq/Ef6uo5+n0R/vyhp17Klpge763f8rMu6YU/zrn2nml+2WtH+Z+5IAAFc\n",
       "2bUTdTDOSNa9+cQY7YLsOIXhevEkCvzph7a8laecz/Un/z4/Ae04XeL3UQb57IwU9ZDr9UuKVajv\n",
       "nxp1+1UVIo/LjztZkKH59fO3G/JemqCfmaCRqbqbd90ZZ8FfjtkfAyD0J/9+C2h1hDwsSxvGjNDc\n",
       "b4zk5NfrSwiQblLHzZhg+Jf4aPlUwpDqkQqa9nimbt1/TDH8OitGMaQnj+RJS6B1fbF7SY1TqO5v\n",
       "/v0WAADl1f7zokgS7s7VT2DZ7pegUjBM7mjtiDZbcN4j0YrHH0rXpCtY0qPX0cVL0rv5jv/ZXend\n",
       "0u/EESYBAFBU4T4Qa5TflZOhTe7pmKpaP8kCVUVw1+yhXfJWvn1P3hnXi33JsTN6PnP3hHZ8Z3/h\n",
       "aLHzmkNPuPj7Bc/F/Q38CwjTpSwQXgE4Vmwry9tpfq/ZFgqFMy4AVDtCvi8rvMvOmv0N4YwbVgEA\n",
       "sPM72/KVnzfspmH7HQGCRLG2yL1+z8XwvPcdCbsAANh+xPzstgMtxeGKt+6MK3/tacfvwhWvIwMi\n",
       "oKEBtm0H7W+UVfkc/Y1V0BhoPlDr/w1w/eu1vjIgAgDg22OtX6/eYfnEz/focrZTHAFR+PSs56/7\n",
       "q32nwpjazxgwAQCwcU/T62t3WL7r6/jVRa6/byp1rei+Z98ZUAEAhEPHPc8fKnTU9nbgtnOe8h0l\n",
       "9hcGIqmODLQAHCy2Xti6v/XNRivf43f4fFvIteu854+VHnR7q9tfBlwAAGz+pnndB9vM26UebAe8\n",
       "SLHujPOTPVW+rwY+sxskAAC2HrA8t2Vvc7ffP1r9o+vwR2dcr92InIAbKKC1FZ5tB1tf+/G8p8sv\n",
       "N/9Q5zd/XR34LYCwV5JdccMEAMDBk45DH243r/X4xGvqxFa/GNpS7n6rwOwNWwHVE26oAADYurf1\n",
       "zx/utOzt+DMKYM0p17YtZZ5VNzqfsB2HewG1WXE8PoZ7gOclbTIvynZf9JV+fqZtfgs/8F/Nu5rB\n",
       "EIBmJ+8QRMmpU7EzGRsf2FzuePqYRbzh/zE26EwdrT10f6r6o8HOYzCJB9Dpff8tbnGLG8L/A/WE\n",
       "roTBs2RqAAAAAElFTkSuQmCC'\n",
       "     style='height:25px; border-radius:12px; display: inline-block; float: left; vertical-align: middle'></img>\n",
       "\n",
       "\n",
       "\n",
       "\n",
       "  <img src='data:image/png;base64,iVBORw0KGgoAAAANSUhEUgAAACAAAAAgCAYAAABzenr0AAAABHNCSVQICAgIfAhkiAAAAAlwSFlz\n",
       "AAAFMAAABTABZarKtgAAABl0RVh0U29mdHdhcmUAd3d3Lmlua3NjYXBlLm9yZ5vuPBoAAArNSURB\n",
       "VFiFnVd5VFNXGv/ee0kgGyQhbFoXIKCFYEXEDVErTucMoKUOWA/VLsNSLPQgFTOdyrHPiIp1lFIQ\n",
       "OlaPShEG3EpPcQmISCuV1bQ1CLKIULeQhJA9JO+9+UMT0x5aPfOdc895373f/e7v/t537/ddBF5Q\n",
       "JBIJl81mJwCACEVRQBCEQhAEAQCgnghCURRCkmS7Wq2+WlJSYn0Rv8jzDHAcD0EQJIVGo5mFQuGF\n",
       "jIyMu39kq1KpkOrq6gU6nS6aIAiGzWY7VVBQ0P9/AcjNzWXy+fxcOp2uiY+Przm0d6+n8dblv/Fo\n",
       "kzM4SzYfPlRePvFnjnt6ehh1dXVv2mw2nlar/byoqMj8wgBwHBchCJIZEhJSeu1yHVi7vtu02t8+\n",
       "NykQ7BMWoOUMhXQsXLv5IQAwSJJEEASxcDicoeTk5DtCoZBy9XX69Gnv3t7ebJIky3EcH3guAKlU\n",
       "GoGiaOKWLVsOvhs7/9XXPMde3/IyIFbMnaPDuD5AUdQuOf2XlD0npTExMWYAgNbWVpZcLg8xGAzB\n",
       "JEnSvby82tPT052LaTQatLy8fBtJkt/s3Lnz5h8CwHFcRKPRNu/YsePAjh072KTs0IGCxRg8RgUB\n",
       "TGpSx6cmHgMAfNqN6Xa1GvJ/D35gYAAViURkcXHxUrPZHDRv3rxv4uLiDI7xPXv2bLdYLBUFBQWD\n",
       "jj7M8ZGbm8tkMpmSrKysQiaTScXGxtpqL7dManT6tcu5mgEWWJyOhicozpk+c3NsbKzNFcBbWWEf\n",
       "1Td9/upA30i3ZJv0h8bGxiSFQmFcuHDhOACAWCy+0d3dvX3lypUtzc3N9t8AiIuLk4SEhByLiooy\n",
       "AgAcO3ZsNlPgH3Cttb35JZo+bCYXIQAA9MDiUW7sWS1KN687w6Mera2twa2trfMvXboUOS28Pyb1\n",
       "U08McRtf/sXBSmt5cc35pqamVQqFwhoZGallMpnU/fv3e7RaberVq1d/AABAn1IfQqfTNRs3blQB\n",
       "AFy+fJk7Nja2XCKRnD3dNSorusPq6NfTPR+gPiEEoLRFXO1tS2+zavv27ReftjNttyr0S1/j0rUP\n",
       "PEJQwNwQYGgAACQSyXmNRhMtk8lYAAApKSlKDMP0+fn5QU4ACIKkxMfH1zjYuHnz5uspKSlOfdX7\n",
       "u68fvOePcCzKQR4YVCgATGfa/F3pnzaHWOAXSDyaMCqH2+r8VXErP3D+snXr1tV2dXW94dATExOr\n",
       "6XT6JgAAVCKRcDEMM4WHh9sAAHJyUqNu//wDymKx7AAAVVVVPiaTKXxByrYMvBsxEMSTwPXhuL+8\n",
       "e/fu9fv371+flvbemogYNz+TnsBOFEwMFO8/KzEYDKFVVVX+AAChoaGT7u7ud48ePRro0DEMs+bl\n",
       "5bFRNpud4O3tfdGBzq5uy/5wTUPM/q2zC9atmbVqeHg4Pi0t7WxGRoZFH5rw76I7LI8HqHfwPL7d\n",
       "rfVagzw1NfW81t4ePUfsP/OrnWZ6fPSuUqFQSEkkkrOjo6OvuQR5q0ajiXLoPj4+lzgcTjwKACLH\n",
       "9SqXy2kzhBO8haGo+UA2wZW+p880DxeveGt9aHx9fT09ctlq3sC0NT9e6xsbjuZblSxl7wKtVotM\n",
       "m6PnXvlmZJBtX91CEMQsxyJsNlteXl4udugIghAajQYFAEhPTx9AEGQOimGY8y4oLt63KlJkdB4t\n",
       "P282Z/c/dPrDH04ktJ9P2tfWXP3+2o1vHzunEp6Xq0lsGt08KzUrcSGTQ3n3XeefLCs5UqnT6Rap\n",
       "VCoEACA7O/snvV4f5gJooLa2NsihoygKKEVRzquTND2OCpttGXdG1tOxwOlgzdvE9v30rV+m3W5I\n",
       "2jfJNQmLH85QUUzPNTwvkAx0+vVGhq2/VV9fT+dyuZ01NTXOXQOA3fGxevXq2waDYY5r8KIoij5b\n",
       "jzB5Cz2oKdOo0erOm+1tVuVtBMZXElNMRJR1fvvjx9iPLQ/RjpuB0Xu/Vp7YmH1864YNG3oNBkPw\n",
       "VD7mzp1rJUnSzZUBmqsBggAgGFC/n6jVA+3WoN3tu1Gg39cg2tEx1Cg3CIJHsclxnl2HRorMN8Z0\n",
       "fRW+vr7GJ36Q56Z5h9BIknzGAMJWtvdQYs0EZe3/FSwqk5tpXEMb1JoYD+n8xRdQJl/fMPEgzKhS\n",
       "L40KCD7lGzg92qIyovpb3y/msT2un2psvFpWVvYyl8vtc1nDSXFXV5c7iqLOtEyS5LNBAADfWeKm\n",
       "Ly4uuvR1++sfv51/P5sfnHm2/Iy+mBmwsaHJbpt+Q0jHSS7TZ/PSNVkNJ/973OxtemD1s91CPb12\n",
       "h9MfvZsk5meo1eqo5ORkxTNWn7HR1tY2l8PhOAsUiqIolCRJcETtv/61qzNySYK5trZ2TCgUUiwW\n",
       "S1FSUhLR+bA/kAzwXcAbHa/cFhrTXrJ/v+7IkSPu3Je4Xm5eboJv2wba5QbO5fQwxhsP679Y+nFO\n",
       "jgAAoKSkJILFYjnBGI1G0YYNGwYBnqRoiqIQlKKojurq6gUAAAKBgKQoiuGYkJWVpTCZTOKmI1Xd\n",
       "HwnDcm+cOnOMw+H0FxYWbqpvqv/r9EV+bky+O+/QoUPiqJRt9JphTLFHbKBCR87tWL9EPN9oNIZn\n",
       "ZWUpXHaMCQQCEgCgsrIyEgBuoGq1+qpOp4t2GPH5/BvFxcVLHXpgYGDD8ePH/56Xl2cCAMjMzOxP\n",
       "S0s7pWfow4RCbz/fAF9RT0+P9yeffHJySSqev+9nxLD1FaAlTR8vlJ8vxxzsFhUVLRMIBB0OvwaD\n",
       "YRlFUdfQkpISK0EQ9J6eHgYAQEZGxl2z2Rw0MjJCBwBITk5+xOVyfzpw4ECSw5lQKKQIbxtJm4EN\n",
       "8eZ7jPz0oNv+dK5FG/jq54eH+IFr/S1KabBy0UerAvI+++wzD4vFEpCWljYEACCTyVh2ux3FcXwS\n",
       "BQCw2WxVdXV1bzrQRURE1FVVVTn1zMzM/pkzZ35/9OjRd0pLS19RqVQIy4/tCwDgOcPTQvFQEQBA\n",
       "aWnpK0ERK2LbyVllN341GUJ4YDu8zD5bKyur7O+85tx9Z2fnO1ar9QjA04KkpaVFs2LFir8olcq7\n",
       "YWFhJpFINNnX16drbGyMjY6Ovg0AIBaLjcuXL5d3d3d7XbhwIW704b3F479MeD1qVfJ5Og/bvb4R\n",
       "LwaDMZabm9uwflNa/z/3HOIv5NsDEK7XS7FeevXPvYNLvm5S/GglCK5KpZorlUobXE8g5ObmMqVS\n",
       "6UG1Wu1BURSHoijOiRMnwgoLC7coFAqBo+9Fm0KhEKStmvvto3TeucFN7pVJYbytarXaQyqVHsRx\n",
       "3N15TF1BuBaljr4rV66wOzo63mAymXdzcnKuwwtIUVHRMqvVGkgQxMV7NXvyJijGvcNXB/7z5Zdf\n",
       "bicI4gSO40NTAgD4bVnuODIAT2pElUq1FEEQO4fD6QsPD++fqixHEATj8/ntjoCrqKhwS0hIsJWV\n",
       "leURBHEOx3G563pT3tn5+flBDAbjg6CgoMMpKSlK17GhoSFMJpMFPk04DJIkEQzDzCwW6+5UD5Oa\n",
       "mhrfO3fufECS5GHXnf8pAAAAHMfdURTdimGYPjExsTo0NHTyj2ynEplMxurs7HyHIAiKJMlSHMct\n",
       "U9k9N2vl5+cH0en0TRiGWX18fC65vnh+LxqNBq2oqFhgMpmi7XY7arVaj+zdu/fxn/l/4bSZl5fH\n",
       "5nK5CQAQMtXznCRJePpEbwOAZhzHX4ix/wHzzC/tu64gcwAAAABJRU5ErkJggg=='\n",
       "       style='height:15px; border-radius:12px; display: inline-block; float: left'></img>\n",
       "  \n",
       "\n",
       "\n",
       "</div>\n"
      ]
     },
     "metadata": {},
     "output_type": "display_data"
    },
    {
     "data": {
      "application/javascript": [
       "function HoloViewsWidget() {\n",
       "}\n",
       "\n",
       "HoloViewsWidget.prototype.init_slider = function(init_val){\n",
       "  if(this.load_json) {\n",
       "    this.from_json()\n",
       "  } else {\n",
       "    this.update_cache();\n",
       "  }\n",
       "}\n",
       "\n",
       "HoloViewsWidget.prototype.populate_cache = function(idx){\n",
       "  this.cache[idx].innerHTML = this.frames[idx];\n",
       "  if (this.embed) {\n",
       "    delete this.frames[idx];\n",
       "  }\n",
       "}\n",
       "\n",
       "HoloViewsWidget.prototype.process_error = function(msg){\n",
       "}\n",
       "\n",
       "HoloViewsWidget.prototype.from_json = function() {\n",
       "  var data_url = this.json_path + this.id + '.json';\n",
       "  $.getJSON(data_url, $.proxy(function(json_data) {\n",
       "    this.frames = json_data;\n",
       "    this.update_cache();\n",
       "    this.update(0);\n",
       "  }, this));\n",
       "}\n",
       "\n",
       "HoloViewsWidget.prototype.dynamic_update = function(current){\n",
       "  if (current === undefined) {\n",
       "    return\n",
       "  }\n",
       "  this.current = current;\n",
       "  if (this.comm) {\n",
       "    var msg = {comm_id: this.id+'_client', content: current}\n",
       "    this.comm.send(msg);\n",
       "  }\n",
       "}\n",
       "\n",
       "HoloViewsWidget.prototype.update_cache = function(force){\n",
       "  var frame_len = Object.keys(this.frames).length;\n",
       "  for (var i=0; i<frame_len; i++) {\n",
       "    if(!this.load_json || this.dynamic)  {\n",
       "      var frame = Object.keys(this.frames)[i];\n",
       "    } else {\n",
       "      var frame = i;\n",
       "    }\n",
       "    if(!(frame in this.cache) || force) {\n",
       "      if ((frame in this.cache) && force) { this.cache[frame].remove() }\n",
       "      var div = document.createElement(\"div\");\n",
       "      var parent = document.getElementById(\"_anim_img\"+this.id);\n",
       "      div.style.display = \"none\";\n",
       "      parent.appendChild(div)\n",
       "      this.cache[frame] = div;\n",
       "      var cache_id = \"_anim_img\"+this.id+\"_\"+frame;\n",
       "      this.populate_cache(frame);\n",
       "    }\n",
       "  }\n",
       "}\n",
       "\n",
       "HoloViewsWidget.prototype.update = function(current){\n",
       "  if(current in this.cache) {\n",
       "    for (var index in this.cache) {\n",
       "      this.cache[index].style.display = \"none\";\n",
       "    }\n",
       "    this.cache[current].style.display = \"\";\n",
       "    this.wait = false;\n",
       "  }\n",
       "}\n",
       "\n",
       "HoloViewsWidget.prototype.init_comms = function() {\n",
       "  var that = this\n",
       "  HoloViews.comm_manager.register_target(this.plot_id, this.id, function (msg) { that.msg_handler(msg) })\n",
       "  if (!this.cached || this.dynamic) {\n",
       "    function ack_callback(msg) {\n",
       "      var msg = msg.metadata;\n",
       "      var comm_id = msg.comm_id;\n",
       "      var comm_status = HoloViews.comm_status[comm_id];\n",
       "      if (that.queue.length > 0) {\n",
       "        that.time = Date.now();\n",
       "        that.dynamic_update(that.queue[that.queue.length-1]);\n",
       "        that.queue = [];\n",
       "      } else {\n",
       "        that.wait = false;\n",
       "      }\n",
       "      if ((msg.msg_type == \"Ready\") && msg.content) {\n",
       "        console.log(\"Python callback returned following output:\", msg.content);\n",
       "      } else if (msg.msg_type == \"Error\") {\n",
       "        console.log(\"Python failed with the following traceback:\", msg.traceback)\n",
       "      }\n",
       "    }\n",
       "    var comm = HoloViews.comm_manager.get_client_comm(this.plot_id, this.id+'_client', ack_callback);\n",
       "    return comm\n",
       "  }\n",
       "}\n",
       "\n",
       "HoloViewsWidget.prototype.msg_handler = function(msg) {\n",
       "  var metadata = msg.metadata;\n",
       "  if ((metadata.msg_type == \"Ready\")) {\n",
       "    if (metadata.content) {\n",
       "      console.log(\"Python callback returned following output:\", metadata.content);\n",
       "    }\n",
       "\treturn;\n",
       "  } else if (metadata.msg_type == \"Error\") {\n",
       "    console.log(\"Python failed with the following traceback:\", metadata.traceback)\n",
       "    return\n",
       "  }\n",
       "  this.process_msg(msg)\n",
       "}\n",
       "\n",
       "HoloViewsWidget.prototype.process_msg = function(msg) {\n",
       "}\n",
       "\n",
       "function SelectionWidget(frames, id, slider_ids, keyMap, dim_vals, notFound, load_json, mode, cached, json_path, dynamic, plot_id){\n",
       "  this.frames = frames;\n",
       "  this.id = id;\n",
       "  this.plot_id = plot_id;\n",
       "  this.slider_ids = slider_ids;\n",
       "  this.keyMap = keyMap\n",
       "  this.current_frame = 0;\n",
       "  this.current_vals = dim_vals;\n",
       "  this.load_json = load_json;\n",
       "  this.mode = mode;\n",
       "  this.notFound = notFound;\n",
       "  this.cached = cached;\n",
       "  this.dynamic = dynamic;\n",
       "  this.cache = {};\n",
       "  this.json_path = json_path;\n",
       "  this.init_slider(this.current_vals[0]);\n",
       "  this.queue = [];\n",
       "  this.wait = false;\n",
       "  if (!this.cached || this.dynamic) {\n",
       "    this.comm = this.init_comms();\n",
       "  }\n",
       "}\n",
       "\n",
       "SelectionWidget.prototype = new HoloViewsWidget;\n",
       "\n",
       "\n",
       "SelectionWidget.prototype.get_key = function(current_vals) {\n",
       "  var key = \"(\";\n",
       "  for (var i=0; i<this.slider_ids.length; i++)\n",
       "  {\n",
       "    var val = this.current_vals[i];\n",
       "    if (!(typeof val === 'string')) {\n",
       "      if (val % 1 === 0) { val = val.toFixed(1); }\n",
       "      else { val = val.toFixed(10); val = val.slice(0, val.length-1);}\n",
       "    }\n",
       "    key += \"'\" + val + \"'\";\n",
       "    if(i != this.slider_ids.length-1) { key += ', ';}\n",
       "    else if(this.slider_ids.length == 1) { key += ',';}\n",
       "  }\n",
       "  key += \")\";\n",
       "  return this.keyMap[key];\n",
       "}\n",
       "\n",
       "SelectionWidget.prototype.set_frame = function(dim_val, dim_idx){\n",
       "  this.current_vals[dim_idx] = dim_val;\n",
       "  var key = this.current_vals;\n",
       "  if (!this.dynamic) {\n",
       "    key = this.get_key(key)\n",
       "  }\n",
       "  if (this.dynamic || !this.cached) {\n",
       "    if ((this.time !== undefined) && ((this.wait) && ((this.time + 10000) > Date.now()))) {\n",
       "      this.queue.push(key);\n",
       "      return\n",
       "    }\n",
       "    this.queue = [];\n",
       "    this.time = Date.now();\n",
       "    this.current_frame = key;\n",
       "    this.wait = true;\n",
       "    this.dynamic_update(key)\n",
       "  } else if (key !== undefined) {\n",
       "    this.update(key)\n",
       "  }\n",
       "}\n",
       "\n",
       "\n",
       "/* Define the ScrubberWidget class */\n",
       "function ScrubberWidget(frames, num_frames, id, interval, load_json, mode, cached, json_path, dynamic, plot_id){\n",
       "  this.slider_id = \"_anim_slider\" + id;\n",
       "  this.loop_select_id = \"_anim_loop_select\" + id;\n",
       "  this.id = id;\n",
       "  this.plot_id = plot_id;\n",
       "  this.interval = interval;\n",
       "  this.current_frame = 0;\n",
       "  this.direction = 0;\n",
       "  this.dynamic = dynamic;\n",
       "  this.timer = null;\n",
       "  this.load_json = load_json;\n",
       "  this.mode = mode;\n",
       "  this.cached = cached;\n",
       "  this.frames = frames;\n",
       "  this.cache = {};\n",
       "  this.length = num_frames;\n",
       "  this.json_path = json_path;\n",
       "  document.getElementById(this.slider_id).max = this.length - 1;\n",
       "  this.init_slider(0);\n",
       "  this.wait = false;\n",
       "  this.queue = [];\n",
       "  if (!this.cached || this.dynamic) {\n",
       "    this.comm = this.init_comms()\n",
       "  }\n",
       "}\n",
       "\n",
       "ScrubberWidget.prototype = new HoloViewsWidget;\n",
       "\n",
       "ScrubberWidget.prototype.set_frame = function(frame){\n",
       "  this.current_frame = frame;\n",
       "  var widget = document.getElementById(this.slider_id);\n",
       "  if (widget === null) {\n",
       "    this.pause_animation();\n",
       "    return\n",
       "  }\n",
       "  widget.value = this.current_frame;\n",
       "  if (this.dynamic || !this.cached) {\n",
       "    if ((this.time !== undefined) && ((this.wait) && ((this.time + 10000) > Date.now()))) {\n",
       "      this.queue.push(frame);\n",
       "      return\n",
       "    }\n",
       "    this.queue = [];\n",
       "    this.time = Date.now();\n",
       "    this.wait = true;\n",
       "    this.dynamic_update(frame)\n",
       "  } else {\n",
       "    this.update(frame)\n",
       "  }\n",
       "}\n",
       "\n",
       "ScrubberWidget.prototype.get_loop_state = function(){\n",
       "  var button_group = document[this.loop_select_id].state;\n",
       "  for (var i = 0; i < button_group.length; i++) {\n",
       "    var button = button_group[i];\n",
       "    if (button.checked) {\n",
       "      return button.value;\n",
       "    }\n",
       "  }\n",
       "  return undefined;\n",
       "}\n",
       "\n",
       "\n",
       "ScrubberWidget.prototype.next_frame = function() {\n",
       "  this.set_frame(Math.min(this.length - 1, this.current_frame + 1));\n",
       "}\n",
       "\n",
       "ScrubberWidget.prototype.previous_frame = function() {\n",
       "  this.set_frame(Math.max(0, this.current_frame - 1));\n",
       "}\n",
       "\n",
       "ScrubberWidget.prototype.first_frame = function() {\n",
       "  this.set_frame(0);\n",
       "}\n",
       "\n",
       "ScrubberWidget.prototype.last_frame = function() {\n",
       "  this.set_frame(this.length - 1);\n",
       "}\n",
       "\n",
       "ScrubberWidget.prototype.slower = function() {\n",
       "  this.interval /= 0.7;\n",
       "  if(this.direction > 0){this.play_animation();}\n",
       "  else if(this.direction < 0){this.reverse_animation();}\n",
       "}\n",
       "\n",
       "ScrubberWidget.prototype.faster = function() {\n",
       "  this.interval *= 0.7;\n",
       "  if(this.direction > 0){this.play_animation();}\n",
       "  else if(this.direction < 0){this.reverse_animation();}\n",
       "}\n",
       "\n",
       "ScrubberWidget.prototype.anim_step_forward = function() {\n",
       "  if(this.current_frame < this.length - 1){\n",
       "    this.next_frame();\n",
       "  }else{\n",
       "    var loop_state = this.get_loop_state();\n",
       "    if(loop_state == \"loop\"){\n",
       "      this.first_frame();\n",
       "    }else if(loop_state == \"reflect\"){\n",
       "      this.last_frame();\n",
       "      this.reverse_animation();\n",
       "    }else{\n",
       "      this.pause_animation();\n",
       "      this.last_frame();\n",
       "    }\n",
       "  }\n",
       "}\n",
       "\n",
       "ScrubberWidget.prototype.anim_step_reverse = function() {\n",
       "  if(this.current_frame > 0){\n",
       "    this.previous_frame();\n",
       "  } else {\n",
       "    var loop_state = this.get_loop_state();\n",
       "    if(loop_state == \"loop\"){\n",
       "      this.last_frame();\n",
       "    }else if(loop_state == \"reflect\"){\n",
       "      this.first_frame();\n",
       "      this.play_animation();\n",
       "    }else{\n",
       "      this.pause_animation();\n",
       "      this.first_frame();\n",
       "    }\n",
       "  }\n",
       "}\n",
       "\n",
       "ScrubberWidget.prototype.pause_animation = function() {\n",
       "  this.direction = 0;\n",
       "  if (this.timer){\n",
       "    clearInterval(this.timer);\n",
       "    this.timer = null;\n",
       "  }\n",
       "}\n",
       "\n",
       "ScrubberWidget.prototype.play_animation = function() {\n",
       "  this.pause_animation();\n",
       "  this.direction = 1;\n",
       "  var t = this;\n",
       "  if (!this.timer) this.timer = setInterval(function(){t.anim_step_forward();}, this.interval);\n",
       "}\n",
       "\n",
       "ScrubberWidget.prototype.reverse_animation = function() {\n",
       "  this.pause_animation();\n",
       "  this.direction = -1;\n",
       "  var t = this;\n",
       "  if (!this.timer) this.timer = setInterval(function(){t.anim_step_reverse();}, this.interval);\n",
       "}\n",
       "\n",
       "function extend(destination, source) {\n",
       "  for (var k in source) {\n",
       "    if (source.hasOwnProperty(k)) {\n",
       "      destination[k] = source[k];\n",
       "    }\n",
       "  }\n",
       "  return destination;\n",
       "}\n",
       "\n",
       "function update_widget(widget, values) {\n",
       "  if (widget.hasClass(\"ui-slider\")) {\n",
       "    widget.slider('option', {\n",
       "      min: 0,\n",
       "      max: values.length-1,\n",
       "      dim_vals: values,\n",
       "      value: 0,\n",
       "      dim_labels: values\n",
       "    })\n",
       "    widget.slider('option', 'slide').call(widget, event, {value: 0})\n",
       "  } else {\n",
       "    widget.empty();\n",
       "    for (var i=0; i<values.length; i++){\n",
       "      widget.append($(\"<option>\", {\n",
       "        value: i,\n",
       "        text: values[i]\n",
       "      }))\n",
       "    };\n",
       "    widget.data('values', values);\n",
       "    widget.data('value', 0);\n",
       "    widget.trigger(\"change\");\n",
       "  };\n",
       "}\n",
       "\n",
       "function init_slider(id, plot_id, dim, values, next_vals, labels, dynamic, step, value, next_dim,\n",
       "                     dim_idx, delay, jQueryUI_CDN, UNDERSCORE_CDN) {\n",
       "  // Slider JS Block START\n",
       "  function loadcssfile(filename){\n",
       "    var fileref=document.createElement(\"link\")\n",
       "    fileref.setAttribute(\"rel\", \"stylesheet\")\n",
       "    fileref.setAttribute(\"type\", \"text/css\")\n",
       "    fileref.setAttribute(\"href\", filename)\n",
       "    document.getElementsByTagName(\"head\")[0].appendChild(fileref)\n",
       "  }\n",
       "  loadcssfile(\"https://code.jquery.com/ui/1.10.4/themes/smoothness/jquery-ui.css\");\n",
       "  /* Check if jQuery and jQueryUI have been loaded\n",
       "     otherwise load with require.js */\n",
       "  var jQuery = window.jQuery,\n",
       "    // check for old versions of jQuery\n",
       "    oldjQuery = jQuery && !!jQuery.fn.jquery.match(/^1\\.[0-4](\\.|$)/),\n",
       "    jquery_path = '',\n",
       "    paths = {},\n",
       "    noConflict;\n",
       "  var jQueryUI = jQuery.ui;\n",
       "  // check for jQuery\n",
       "  if (!jQuery || oldjQuery) {\n",
       "    // load if it's not available or doesn't meet min standards\n",
       "    paths.jQuery = jQuery;\n",
       "    noConflict = !!oldjQuery;\n",
       "  } else {\n",
       "    // register the current jQuery\n",
       "    define('jquery', [], function() { return jQuery; });\n",
       "  }\n",
       "  if (!jQueryUI) {\n",
       "    paths.jQueryUI = jQueryUI_CDN.slice(null, -3);\n",
       "  } else {\n",
       "    define('jQueryUI', [], function() { return jQuery.ui; });\n",
       "  }\n",
       "  paths.underscore = UNDERSCORE_CDN.slice(null, -3);\n",
       "  var jquery_require = {\n",
       "    paths: paths,\n",
       "    shim: {\n",
       "      \"jQueryUI\": {\n",
       "        exports:\"$\",\n",
       "        deps: ['jquery']\n",
       "      },\n",
       "      \"underscore\": {\n",
       "        exports: '_'\n",
       "      }\n",
       "    }\n",
       "  }\n",
       "  require.config(jquery_require);\n",
       "  require([\"jQueryUI\", \"underscore\"], function(jUI, _){\n",
       "    if (noConflict) $.noConflict(true);\n",
       "    var vals = values;\n",
       "    if (dynamic && vals.constructor === Array) {\n",
       "      var default_value = parseFloat(value);\n",
       "      var min = parseFloat(vals[0]);\n",
       "      var max = parseFloat(vals[vals.length-1]);\n",
       "      var wstep = step;\n",
       "      var wlabels = [default_value];\n",
       "      var init_label = default_value;\n",
       "    } else {\n",
       "      var min = 0;\n",
       "      if (dynamic) {\n",
       "        var max = Object.keys(vals).length - 1;\n",
       "        var init_label = labels[value];\n",
       "        var default_value = values[value];\n",
       "      } else {\n",
       "        var max = vals.length - 1;\n",
       "        var init_label = labels[value];\n",
       "        var default_value = value;\n",
       "      }\n",
       "      var wstep = 1;\n",
       "      var wlabels = labels;\n",
       "    }\n",
       "    function adjustFontSize(text) {\n",
       "      var width_ratio = (text.parent().width()/8)/text.val().length;\n",
       "      var size = Math.min(0.9, Math.max(0.6, width_ratio))+'em';\n",
       "      text.css('font-size', size);\n",
       "    }\n",
       "    var slider = $('#_anim_widget'+id+'_'+dim);\n",
       "    slider.slider({\n",
       "      animate: \"fast\",\n",
       "      min: min,\n",
       "      max: max,\n",
       "      step: wstep,\n",
       "      value: default_value,\n",
       "      dim_vals: vals,\n",
       "      dim_labels: wlabels,\n",
       "      next_vals: next_vals,\n",
       "      slide: function(event, ui) {\n",
       "        var vals = slider.slider(\"option\", \"dim_vals\");\n",
       "        var next_vals = slider.slider(\"option\", \"next_vals\");\n",
       "        var dlabels = slider.slider(\"option\", \"dim_labels\");\n",
       "        if (dynamic) {\n",
       "          var dim_val = ui.value;\n",
       "          if (vals.constructor === Array) {\n",
       "            var label = ui.value;\n",
       "          } else {\n",
       "            var label = dlabels[ui.value];\n",
       "          }\n",
       "        } else {\n",
       "          var dim_val = vals[ui.value];\n",
       "          var label = dlabels[ui.value];\n",
       "        }\n",
       "        var text = $('#textInput'+id+'_'+dim);\n",
       "        text.val(label);\n",
       "        adjustFontSize(text);\n",
       "        HoloViews.index[plot_id].set_frame(dim_val, dim_idx);\n",
       "        if (Object.keys(next_vals).length > 0) {\n",
       "          var new_vals = next_vals[dim_val];\n",
       "          var next_widget = $('#_anim_widget'+id+'_'+next_dim);\n",
       "          update_widget(next_widget, new_vals);\n",
       "        }\n",
       "      }\n",
       "    });\n",
       "    slider.keypress(function(event) {\n",
       "      if (event.which == 80 || event.which == 112) {\n",
       "        var start = slider.slider(\"option\", \"value\");\n",
       "        var stop =  slider.slider(\"option\", \"max\");\n",
       "        for (var i=start; i<=stop; i++) {\n",
       "          var delay = i*delay;\n",
       "          $.proxy(function doSetTimeout(i) { setTimeout($.proxy(function() {\n",
       "            var val = {value:i};\n",
       "            slider.slider('value',i);\n",
       "            slider.slider(\"option\", \"slide\")(null, val);\n",
       "          }, slider), delay);}, slider)(i);\n",
       "        }\n",
       "      }\n",
       "      if (event.which == 82 || event.which == 114) {\n",
       "        var start = slider.slider(\"option\", \"value\");\n",
       "        var stop =  slider.slider(\"option\", \"min\");\n",
       "        var count = 0;\n",
       "        for (var i=start; i>=stop; i--) {\n",
       "          var delay = count*delay;\n",
       "          count = count + 1;\n",
       "          $.proxy(function doSetTimeout(i) { setTimeout($.proxy(function() {\n",
       "            var val = {value:i};\n",
       "            slider.slider('value',i);\n",
       "            slider.slider(\"option\", \"slide\")(null, val);\n",
       "          }, slider), delay);}, slider)(i);\n",
       "        }\n",
       "      }\n",
       "    });\n",
       "    var textInput = $('#textInput'+id+'_'+dim)\n",
       "    textInput.val(init_label);\n",
       "    adjustFontSize(textInput);\n",
       "  });\n",
       "}\n",
       "\n",
       "function init_dropdown(id, plot_id, dim, vals, value, next_vals, labels, next_dim, dim_idx, dynamic) {\n",
       "  var widget = $(\"#_anim_widget\"+id+'_'+dim);\n",
       "  widget.data('values', vals)\n",
       "  for (var i=0; i<vals.length; i++){\n",
       "    if (dynamic) {\n",
       "      var val = vals[i];\n",
       "    } else {\n",
       "      var val = i;\n",
       "    }\n",
       "    widget.append($(\"<option>\", {\n",
       "      value: val,\n",
       "      text: labels[i]\n",
       "    }));\n",
       "  };\n",
       "  widget.data(\"next_vals\", next_vals);\n",
       "  widget.val(value);\n",
       "  widget.on('change', function(event, ui) {\n",
       "    if (dynamic) {\n",
       "      var dim_val = parseInt(this.value);\n",
       "    } else {\n",
       "      var dim_val = $.data(this, 'values')[this.value];\n",
       "    }\n",
       "    var next_vals = $.data(this, \"next_vals\");\n",
       "    if (Object.keys(next_vals).length > 0) {\n",
       "      var new_vals = next_vals[dim_val];\n",
       "      var next_widget = $('#_anim_widget'+id+'_'+next_dim);\n",
       "      update_widget(next_widget, new_vals);\n",
       "    }\n",
       "    var widgets = HoloViews.index[plot_id]\n",
       "    if (widgets) {\n",
       "      widgets.set_frame(dim_val, dim_idx);\n",
       "    }\n",
       "  });\n",
       "}\n",
       "\n",
       "\n",
       "if (window.HoloViews === undefined) {\n",
       "  window.HoloViews = {}\n",
       "  window.PyViz = window.HoloViews\n",
       "} else if (window.PyViz === undefined) {\n",
       "  window.PyViz = window.HoloViews\n",
       "}\n",
       "\n",
       "\n",
       "var _namespace = {\n",
       "  init_slider: init_slider,\n",
       "  init_dropdown: init_dropdown,\n",
       "  comms: {},\n",
       "  comm_status: {},\n",
       "  index: {},\n",
       "  plot_index: {},\n",
       "  kernels: {},\n",
       "  receivers: {}\n",
       "}\n",
       "\n",
       "for (var k in _namespace) {\n",
       "  if (!(k in window.HoloViews)) {\n",
       "    window.HoloViews[k] = _namespace[k];\n",
       "  }\n",
       "}\n",
       "\n",
       "// Define MPL specific subclasses\n",
       "function MPLSelectionWidget() {\n",
       "  SelectionWidget.apply(this, arguments);\n",
       "}\n",
       "\n",
       "function MPLScrubberWidget() {\n",
       "  ScrubberWidget.apply(this, arguments);\n",
       "}\n",
       "\n",
       "// Let them inherit from the baseclasses\n",
       "MPLSelectionWidget.prototype = Object.create(SelectionWidget.prototype);\n",
       "MPLScrubberWidget.prototype = Object.create(ScrubberWidget.prototype);\n",
       "\n",
       "// Define methods to override on widgets\n",
       "var MPLMethods = {\n",
       "  init_slider : function(init_val){\n",
       "    if(this.load_json) {\n",
       "      this.from_json()\n",
       "    } else {\n",
       "      this.update_cache();\n",
       "    }\n",
       "    if (this.dynamic | !this.cached | (this.current_vals === undefined)) {\n",
       "      this.update(0)\n",
       "    } else {\n",
       "      this.set_frame(this.current_vals[0], 0)\n",
       "    }\n",
       "  },\n",
       "  process_msg : function(msg) {\n",
       "    var data = msg.content.data;\n",
       "    this.frames[this.current] = data;\n",
       "    this.update_cache(true);\n",
       "    this.update(this.current);\n",
       "  }\n",
       "}\n",
       "// Extend MPL widgets with backend specific methods\n",
       "extend(MPLSelectionWidget.prototype, MPLMethods);\n",
       "extend(MPLScrubberWidget.prototype, MPLMethods);\n",
       "\n",
       "window.HoloViews.MPLSelectionWidget = MPLSelectionWidget\n",
       "window.HoloViews.MPLScrubberWidget = MPLScrubberWidget\n",
       "\n",
       "    function JupyterCommManager() {\n",
       "    }\n",
       "\n",
       "    JupyterCommManager.prototype.register_target = function(plot_id, comm_id, msg_handler) {\n",
       "      if (window.comm_manager || ((window.Jupyter !== undefined) && (Jupyter.notebook.kernel != null))) {\n",
       "        var comm_manager = window.comm_manager || Jupyter.notebook.kernel.comm_manager;\n",
       "        comm_manager.register_target(comm_id, function(comm) {\n",
       "          comm.on_msg(msg_handler);\n",
       "        });\n",
       "      } else if ((plot_id in window.PyViz.kernels) && (window.PyViz.kernels[plot_id])) {\n",
       "        window.PyViz.kernels[plot_id].registerCommTarget(comm_id, function(comm) {\n",
       "          comm.onMsg = msg_handler;\n",
       "        });\n",
       "      }\n",
       "    }\n",
       "\n",
       "    JupyterCommManager.prototype.get_client_comm = function(plot_id, comm_id, msg_handler) {\n",
       "      if (comm_id in window.PyViz.comms) {\n",
       "        return window.PyViz.comms[comm_id];\n",
       "      } else if (window.comm_manager || ((window.Jupyter !== undefined) && (Jupyter.notebook.kernel != null))) {\n",
       "        var comm_manager = window.comm_manager || Jupyter.notebook.kernel.comm_manager;\n",
       "        var comm = comm_manager.new_comm(comm_id, {}, {}, {}, comm_id);\n",
       "        if (msg_handler) {\n",
       "          comm.on_msg(msg_handler);\n",
       "        }\n",
       "      } else if ((plot_id in window.PyViz.kernels) && (window.PyViz.kernels[plot_id])) {\n",
       "        var comm = window.PyViz.kernels[plot_id].connectToComm(comm_id);\n",
       "        comm.open();\n",
       "        if (msg_handler) {\n",
       "          comm.onMsg = msg_handler;\n",
       "        }\n",
       "      }\n",
       "\n",
       "      window.PyViz.comms[comm_id] = comm;\n",
       "      return comm;\n",
       "    }\n",
       "\n",
       "    window.PyViz.comm_manager = new JupyterCommManager();\n",
       "    \n",
       "\n",
       "var JS_MIME_TYPE = 'application/javascript';\n",
       "var HTML_MIME_TYPE = 'text/html';\n",
       "var EXEC_MIME_TYPE = 'application/vnd.holoviews_exec.v0+json';\n",
       "var CLASS_NAME = 'output';\n",
       "\n",
       "/**\n",
       " * Render data to the DOM node\n",
       " */\n",
       "function render(props, node) {\n",
       "  var div = document.createElement(\"div\");\n",
       "  var script = document.createElement(\"script\");\n",
       "  node.appendChild(div);\n",
       "  node.appendChild(script);\n",
       "}\n",
       "\n",
       "/**\n",
       " * Handle when a new output is added\n",
       " */\n",
       "function handle_add_output(event, handle) {\n",
       "  var output_area = handle.output_area;\n",
       "  var output = handle.output;\n",
       "  if ((output.data == undefined) || (!output.data.hasOwnProperty(EXEC_MIME_TYPE))) {\n",
       "    return\n",
       "  }\n",
       "  var id = output.metadata[EXEC_MIME_TYPE][\"id\"];\n",
       "  var toinsert = output_area.element.find(\".\" + CLASS_NAME.split(' ')[0]);\n",
       "  if (id !== undefined) {\n",
       "    var nchildren = toinsert.length;\n",
       "    var html_node = toinsert[nchildren-1].children[0];\n",
       "    html_node.innerHTML = output.data[HTML_MIME_TYPE];\n",
       "    var scripts = [];\n",
       "    var nodelist = html_node.querySelectorAll(\"script\");\n",
       "    for (var i in nodelist) {\n",
       "      if (nodelist.hasOwnProperty(i)) {\n",
       "        scripts.push(nodelist[i])\n",
       "      }\n",
       "    }\n",
       "\n",
       "    scripts.forEach( function (oldScript) {\n",
       "      var newScript = document.createElement(\"script\");\n",
       "      var attrs = [];\n",
       "      var nodemap = oldScript.attributes;\n",
       "      for (var j in nodemap) {\n",
       "        if (nodemap.hasOwnProperty(j)) {\n",
       "          attrs.push(nodemap[j])\n",
       "        }\n",
       "      }\n",
       "      attrs.forEach(function(attr) { newScript.setAttribute(attr.name, attr.value) });\n",
       "      newScript.appendChild(document.createTextNode(oldScript.innerHTML));\n",
       "      oldScript.parentNode.replaceChild(newScript, oldScript);\n",
       "    });\n",
       "    if (JS_MIME_TYPE in output.data) {\n",
       "      toinsert[nchildren-1].children[1].textContent = output.data[JS_MIME_TYPE];\n",
       "    }\n",
       "    output_area._hv_plot_id = id;\n",
       "    if ((window.Bokeh !== undefined) && (id in Bokeh.index)) {\n",
       "      window.PyViz.plot_index[id] = Bokeh.index[id];\n",
       "    } else {\n",
       "      window.PyViz.plot_index[id] = null;\n",
       "    }\n",
       "  } else if (output.metadata[EXEC_MIME_TYPE][\"server_id\"] !== undefined) {\n",
       "    var bk_div = document.createElement(\"div\");\n",
       "    bk_div.innerHTML = output.data[HTML_MIME_TYPE];\n",
       "    var script_attrs = bk_div.children[0].attributes;\n",
       "    for (var i = 0; i < script_attrs.length; i++) {\n",
       "      toinsert[toinsert.length - 1].childNodes[1].setAttribute(script_attrs[i].name, script_attrs[i].value);\n",
       "    }\n",
       "    // store reference to server id on output_area\n",
       "    output_area._bokeh_server_id = output.metadata[EXEC_MIME_TYPE][\"server_id\"];\n",
       "  }\n",
       "}\n",
       "\n",
       "/**\n",
       " * Handle when an output is cleared or removed\n",
       " */\n",
       "function handle_clear_output(event, handle) {\n",
       "  var id = handle.cell.output_area._hv_plot_id;\n",
       "  var server_id = handle.cell.output_area._bokeh_server_id;\n",
       "  if (((id === undefined) || !(id in PyViz.plot_index)) && (server_id !== undefined)) { return; }\n",
       "  var comm = window.PyViz.comm_manager.get_client_comm(\"hv-extension-comm\", \"hv-extension-comm\", function () {});\n",
       "  if (server_id !== null) {\n",
       "    comm.send({event_type: 'server_delete', 'id': server_id});\n",
       "    return;\n",
       "  } else if (comm !== null) {\n",
       "    comm.send({event_type: 'delete', 'id': id});\n",
       "  }\n",
       "  delete PyViz.plot_index[id];\n",
       "  if ((window.Bokeh !== undefined) & (id in window.Bokeh.index)) {\n",
       "    var doc = window.Bokeh.index[id].model.document\n",
       "    doc.clear();\n",
       "    const i = window.Bokeh.documents.indexOf(doc);\n",
       "    if (i > -1) {\n",
       "      window.Bokeh.documents.splice(i, 1);\n",
       "    }\n",
       "  }\n",
       "}\n",
       "\n",
       "/**\n",
       " * Handle kernel restart event\n",
       " */\n",
       "function handle_kernel_cleanup(event, handle) {\n",
       "  delete PyViz.comms[\"hv-extension-comm\"];\n",
       "  window.PyViz.plot_index = {}\n",
       "}\n",
       "\n",
       "/**\n",
       " * Handle update_display_data messages\n",
       " */\n",
       "function handle_update_output(event, handle) {\n",
       "  handle_clear_output(event, {cell: {output_area: handle.output_area}})\n",
       "  handle_add_output(event, handle)\n",
       "}\n",
       "\n",
       "function register_renderer(events, OutputArea) {\n",
       "  function append_mime(data, metadata, element) {\n",
       "    // create a DOM node to render to\n",
       "    var toinsert = this.create_output_subarea(\n",
       "    metadata,\n",
       "    CLASS_NAME,\n",
       "    EXEC_MIME_TYPE\n",
       "    );\n",
       "    this.keyboard_manager.register_events(toinsert);\n",
       "    // Render to node\n",
       "    var props = {data: data, metadata: metadata[EXEC_MIME_TYPE]};\n",
       "    render(props, toinsert[0]);\n",
       "    element.append(toinsert);\n",
       "    return toinsert\n",
       "  }\n",
       "\n",
       "  events.on('output_added.OutputArea', handle_add_output);\n",
       "  events.on('output_updated.OutputArea', handle_update_output);\n",
       "  events.on('clear_output.CodeCell', handle_clear_output);\n",
       "  events.on('delete.Cell', handle_clear_output);\n",
       "  events.on('kernel_ready.Kernel', handle_kernel_cleanup);\n",
       "\n",
       "  OutputArea.prototype.register_mime_type(EXEC_MIME_TYPE, append_mime, {\n",
       "    safe: true,\n",
       "    index: 0\n",
       "  });\n",
       "}\n",
       "\n",
       "if (window.Jupyter !== undefined) {\n",
       "  try {\n",
       "    var events = require('base/js/events');\n",
       "    var OutputArea = require('notebook/js/outputarea').OutputArea;\n",
       "    if (OutputArea.prototype.mime_types().indexOf(EXEC_MIME_TYPE) == -1) {\n",
       "      register_renderer(events, OutputArea);\n",
       "    }\n",
       "  } catch(err) {\n",
       "  }\n",
       "}\n"
      ],
      "application/vnd.holoviews_load.v0+json": "function HoloViewsWidget() {\n}\n\nHoloViewsWidget.prototype.init_slider = function(init_val){\n  if(this.load_json) {\n    this.from_json()\n  } else {\n    this.update_cache();\n  }\n}\n\nHoloViewsWidget.prototype.populate_cache = function(idx){\n  this.cache[idx].innerHTML = this.frames[idx];\n  if (this.embed) {\n    delete this.frames[idx];\n  }\n}\n\nHoloViewsWidget.prototype.process_error = function(msg){\n}\n\nHoloViewsWidget.prototype.from_json = function() {\n  var data_url = this.json_path + this.id + '.json';\n  $.getJSON(data_url, $.proxy(function(json_data) {\n    this.frames = json_data;\n    this.update_cache();\n    this.update(0);\n  }, this));\n}\n\nHoloViewsWidget.prototype.dynamic_update = function(current){\n  if (current === undefined) {\n    return\n  }\n  this.current = current;\n  if (this.comm) {\n    var msg = {comm_id: this.id+'_client', content: current}\n    this.comm.send(msg);\n  }\n}\n\nHoloViewsWidget.prototype.update_cache = function(force){\n  var frame_len = Object.keys(this.frames).length;\n  for (var i=0; i<frame_len; i++) {\n    if(!this.load_json || this.dynamic)  {\n      var frame = Object.keys(this.frames)[i];\n    } else {\n      var frame = i;\n    }\n    if(!(frame in this.cache) || force) {\n      if ((frame in this.cache) && force) { this.cache[frame].remove() }\n      var div = document.createElement(\"div\");\n      var parent = document.getElementById(\"_anim_img\"+this.id);\n      div.style.display = \"none\";\n      parent.appendChild(div)\n      this.cache[frame] = div;\n      var cache_id = \"_anim_img\"+this.id+\"_\"+frame;\n      this.populate_cache(frame);\n    }\n  }\n}\n\nHoloViewsWidget.prototype.update = function(current){\n  if(current in this.cache) {\n    for (var index in this.cache) {\n      this.cache[index].style.display = \"none\";\n    }\n    this.cache[current].style.display = \"\";\n    this.wait = false;\n  }\n}\n\nHoloViewsWidget.prototype.init_comms = function() {\n  var that = this\n  HoloViews.comm_manager.register_target(this.plot_id, this.id, function (msg) { that.msg_handler(msg) })\n  if (!this.cached || this.dynamic) {\n    function ack_callback(msg) {\n      var msg = msg.metadata;\n      var comm_id = msg.comm_id;\n      var comm_status = HoloViews.comm_status[comm_id];\n      if (that.queue.length > 0) {\n        that.time = Date.now();\n        that.dynamic_update(that.queue[that.queue.length-1]);\n        that.queue = [];\n      } else {\n        that.wait = false;\n      }\n      if ((msg.msg_type == \"Ready\") && msg.content) {\n        console.log(\"Python callback returned following output:\", msg.content);\n      } else if (msg.msg_type == \"Error\") {\n        console.log(\"Python failed with the following traceback:\", msg.traceback)\n      }\n    }\n    var comm = HoloViews.comm_manager.get_client_comm(this.plot_id, this.id+'_client', ack_callback);\n    return comm\n  }\n}\n\nHoloViewsWidget.prototype.msg_handler = function(msg) {\n  var metadata = msg.metadata;\n  if ((metadata.msg_type == \"Ready\")) {\n    if (metadata.content) {\n      console.log(\"Python callback returned following output:\", metadata.content);\n    }\n\treturn;\n  } else if (metadata.msg_type == \"Error\") {\n    console.log(\"Python failed with the following traceback:\", metadata.traceback)\n    return\n  }\n  this.process_msg(msg)\n}\n\nHoloViewsWidget.prototype.process_msg = function(msg) {\n}\n\nfunction SelectionWidget(frames, id, slider_ids, keyMap, dim_vals, notFound, load_json, mode, cached, json_path, dynamic, plot_id){\n  this.frames = frames;\n  this.id = id;\n  this.plot_id = plot_id;\n  this.slider_ids = slider_ids;\n  this.keyMap = keyMap\n  this.current_frame = 0;\n  this.current_vals = dim_vals;\n  this.load_json = load_json;\n  this.mode = mode;\n  this.notFound = notFound;\n  this.cached = cached;\n  this.dynamic = dynamic;\n  this.cache = {};\n  this.json_path = json_path;\n  this.init_slider(this.current_vals[0]);\n  this.queue = [];\n  this.wait = false;\n  if (!this.cached || this.dynamic) {\n    this.comm = this.init_comms();\n  }\n}\n\nSelectionWidget.prototype = new HoloViewsWidget;\n\n\nSelectionWidget.prototype.get_key = function(current_vals) {\n  var key = \"(\";\n  for (var i=0; i<this.slider_ids.length; i++)\n  {\n    var val = this.current_vals[i];\n    if (!(typeof val === 'string')) {\n      if (val % 1 === 0) { val = val.toFixed(1); }\n      else { val = val.toFixed(10); val = val.slice(0, val.length-1);}\n    }\n    key += \"'\" + val + \"'\";\n    if(i != this.slider_ids.length-1) { key += ', ';}\n    else if(this.slider_ids.length == 1) { key += ',';}\n  }\n  key += \")\";\n  return this.keyMap[key];\n}\n\nSelectionWidget.prototype.set_frame = function(dim_val, dim_idx){\n  this.current_vals[dim_idx] = dim_val;\n  var key = this.current_vals;\n  if (!this.dynamic) {\n    key = this.get_key(key)\n  }\n  if (this.dynamic || !this.cached) {\n    if ((this.time !== undefined) && ((this.wait) && ((this.time + 10000) > Date.now()))) {\n      this.queue.push(key);\n      return\n    }\n    this.queue = [];\n    this.time = Date.now();\n    this.current_frame = key;\n    this.wait = true;\n    this.dynamic_update(key)\n  } else if (key !== undefined) {\n    this.update(key)\n  }\n}\n\n\n/* Define the ScrubberWidget class */\nfunction ScrubberWidget(frames, num_frames, id, interval, load_json, mode, cached, json_path, dynamic, plot_id){\n  this.slider_id = \"_anim_slider\" + id;\n  this.loop_select_id = \"_anim_loop_select\" + id;\n  this.id = id;\n  this.plot_id = plot_id;\n  this.interval = interval;\n  this.current_frame = 0;\n  this.direction = 0;\n  this.dynamic = dynamic;\n  this.timer = null;\n  this.load_json = load_json;\n  this.mode = mode;\n  this.cached = cached;\n  this.frames = frames;\n  this.cache = {};\n  this.length = num_frames;\n  this.json_path = json_path;\n  document.getElementById(this.slider_id).max = this.length - 1;\n  this.init_slider(0);\n  this.wait = false;\n  this.queue = [];\n  if (!this.cached || this.dynamic) {\n    this.comm = this.init_comms()\n  }\n}\n\nScrubberWidget.prototype = new HoloViewsWidget;\n\nScrubberWidget.prototype.set_frame = function(frame){\n  this.current_frame = frame;\n  var widget = document.getElementById(this.slider_id);\n  if (widget === null) {\n    this.pause_animation();\n    return\n  }\n  widget.value = this.current_frame;\n  if (this.dynamic || !this.cached) {\n    if ((this.time !== undefined) && ((this.wait) && ((this.time + 10000) > Date.now()))) {\n      this.queue.push(frame);\n      return\n    }\n    this.queue = [];\n    this.time = Date.now();\n    this.wait = true;\n    this.dynamic_update(frame)\n  } else {\n    this.update(frame)\n  }\n}\n\nScrubberWidget.prototype.get_loop_state = function(){\n  var button_group = document[this.loop_select_id].state;\n  for (var i = 0; i < button_group.length; i++) {\n    var button = button_group[i];\n    if (button.checked) {\n      return button.value;\n    }\n  }\n  return undefined;\n}\n\n\nScrubberWidget.prototype.next_frame = function() {\n  this.set_frame(Math.min(this.length - 1, this.current_frame + 1));\n}\n\nScrubberWidget.prototype.previous_frame = function() {\n  this.set_frame(Math.max(0, this.current_frame - 1));\n}\n\nScrubberWidget.prototype.first_frame = function() {\n  this.set_frame(0);\n}\n\nScrubberWidget.prototype.last_frame = function() {\n  this.set_frame(this.length - 1);\n}\n\nScrubberWidget.prototype.slower = function() {\n  this.interval /= 0.7;\n  if(this.direction > 0){this.play_animation();}\n  else if(this.direction < 0){this.reverse_animation();}\n}\n\nScrubberWidget.prototype.faster = function() {\n  this.interval *= 0.7;\n  if(this.direction > 0){this.play_animation();}\n  else if(this.direction < 0){this.reverse_animation();}\n}\n\nScrubberWidget.prototype.anim_step_forward = function() {\n  if(this.current_frame < this.length - 1){\n    this.next_frame();\n  }else{\n    var loop_state = this.get_loop_state();\n    if(loop_state == \"loop\"){\n      this.first_frame();\n    }else if(loop_state == \"reflect\"){\n      this.last_frame();\n      this.reverse_animation();\n    }else{\n      this.pause_animation();\n      this.last_frame();\n    }\n  }\n}\n\nScrubberWidget.prototype.anim_step_reverse = function() {\n  if(this.current_frame > 0){\n    this.previous_frame();\n  } else {\n    var loop_state = this.get_loop_state();\n    if(loop_state == \"loop\"){\n      this.last_frame();\n    }else if(loop_state == \"reflect\"){\n      this.first_frame();\n      this.play_animation();\n    }else{\n      this.pause_animation();\n      this.first_frame();\n    }\n  }\n}\n\nScrubberWidget.prototype.pause_animation = function() {\n  this.direction = 0;\n  if (this.timer){\n    clearInterval(this.timer);\n    this.timer = null;\n  }\n}\n\nScrubberWidget.prototype.play_animation = function() {\n  this.pause_animation();\n  this.direction = 1;\n  var t = this;\n  if (!this.timer) this.timer = setInterval(function(){t.anim_step_forward();}, this.interval);\n}\n\nScrubberWidget.prototype.reverse_animation = function() {\n  this.pause_animation();\n  this.direction = -1;\n  var t = this;\n  if (!this.timer) this.timer = setInterval(function(){t.anim_step_reverse();}, this.interval);\n}\n\nfunction extend(destination, source) {\n  for (var k in source) {\n    if (source.hasOwnProperty(k)) {\n      destination[k] = source[k];\n    }\n  }\n  return destination;\n}\n\nfunction update_widget(widget, values) {\n  if (widget.hasClass(\"ui-slider\")) {\n    widget.slider('option', {\n      min: 0,\n      max: values.length-1,\n      dim_vals: values,\n      value: 0,\n      dim_labels: values\n    })\n    widget.slider('option', 'slide').call(widget, event, {value: 0})\n  } else {\n    widget.empty();\n    for (var i=0; i<values.length; i++){\n      widget.append($(\"<option>\", {\n        value: i,\n        text: values[i]\n      }))\n    };\n    widget.data('values', values);\n    widget.data('value', 0);\n    widget.trigger(\"change\");\n  };\n}\n\nfunction init_slider(id, plot_id, dim, values, next_vals, labels, dynamic, step, value, next_dim,\n                     dim_idx, delay, jQueryUI_CDN, UNDERSCORE_CDN) {\n  // Slider JS Block START\n  function loadcssfile(filename){\n    var fileref=document.createElement(\"link\")\n    fileref.setAttribute(\"rel\", \"stylesheet\")\n    fileref.setAttribute(\"type\", \"text/css\")\n    fileref.setAttribute(\"href\", filename)\n    document.getElementsByTagName(\"head\")[0].appendChild(fileref)\n  }\n  loadcssfile(\"https://code.jquery.com/ui/1.10.4/themes/smoothness/jquery-ui.css\");\n  /* Check if jQuery and jQueryUI have been loaded\n     otherwise load with require.js */\n  var jQuery = window.jQuery,\n    // check for old versions of jQuery\n    oldjQuery = jQuery && !!jQuery.fn.jquery.match(/^1\\.[0-4](\\.|$)/),\n    jquery_path = '',\n    paths = {},\n    noConflict;\n  var jQueryUI = jQuery.ui;\n  // check for jQuery\n  if (!jQuery || oldjQuery) {\n    // load if it's not available or doesn't meet min standards\n    paths.jQuery = jQuery;\n    noConflict = !!oldjQuery;\n  } else {\n    // register the current jQuery\n    define('jquery', [], function() { return jQuery; });\n  }\n  if (!jQueryUI) {\n    paths.jQueryUI = jQueryUI_CDN.slice(null, -3);\n  } else {\n    define('jQueryUI', [], function() { return jQuery.ui; });\n  }\n  paths.underscore = UNDERSCORE_CDN.slice(null, -3);\n  var jquery_require = {\n    paths: paths,\n    shim: {\n      \"jQueryUI\": {\n        exports:\"$\",\n        deps: ['jquery']\n      },\n      \"underscore\": {\n        exports: '_'\n      }\n    }\n  }\n  require.config(jquery_require);\n  require([\"jQueryUI\", \"underscore\"], function(jUI, _){\n    if (noConflict) $.noConflict(true);\n    var vals = values;\n    if (dynamic && vals.constructor === Array) {\n      var default_value = parseFloat(value);\n      var min = parseFloat(vals[0]);\n      var max = parseFloat(vals[vals.length-1]);\n      var wstep = step;\n      var wlabels = [default_value];\n      var init_label = default_value;\n    } else {\n      var min = 0;\n      if (dynamic) {\n        var max = Object.keys(vals).length - 1;\n        var init_label = labels[value];\n        var default_value = values[value];\n      } else {\n        var max = vals.length - 1;\n        var init_label = labels[value];\n        var default_value = value;\n      }\n      var wstep = 1;\n      var wlabels = labels;\n    }\n    function adjustFontSize(text) {\n      var width_ratio = (text.parent().width()/8)/text.val().length;\n      var size = Math.min(0.9, Math.max(0.6, width_ratio))+'em';\n      text.css('font-size', size);\n    }\n    var slider = $('#_anim_widget'+id+'_'+dim);\n    slider.slider({\n      animate: \"fast\",\n      min: min,\n      max: max,\n      step: wstep,\n      value: default_value,\n      dim_vals: vals,\n      dim_labels: wlabels,\n      next_vals: next_vals,\n      slide: function(event, ui) {\n        var vals = slider.slider(\"option\", \"dim_vals\");\n        var next_vals = slider.slider(\"option\", \"next_vals\");\n        var dlabels = slider.slider(\"option\", \"dim_labels\");\n        if (dynamic) {\n          var dim_val = ui.value;\n          if (vals.constructor === Array) {\n            var label = ui.value;\n          } else {\n            var label = dlabels[ui.value];\n          }\n        } else {\n          var dim_val = vals[ui.value];\n          var label = dlabels[ui.value];\n        }\n        var text = $('#textInput'+id+'_'+dim);\n        text.val(label);\n        adjustFontSize(text);\n        HoloViews.index[plot_id].set_frame(dim_val, dim_idx);\n        if (Object.keys(next_vals).length > 0) {\n          var new_vals = next_vals[dim_val];\n          var next_widget = $('#_anim_widget'+id+'_'+next_dim);\n          update_widget(next_widget, new_vals);\n        }\n      }\n    });\n    slider.keypress(function(event) {\n      if (event.which == 80 || event.which == 112) {\n        var start = slider.slider(\"option\", \"value\");\n        var stop =  slider.slider(\"option\", \"max\");\n        for (var i=start; i<=stop; i++) {\n          var delay = i*delay;\n          $.proxy(function doSetTimeout(i) { setTimeout($.proxy(function() {\n            var val = {value:i};\n            slider.slider('value',i);\n            slider.slider(\"option\", \"slide\")(null, val);\n          }, slider), delay);}, slider)(i);\n        }\n      }\n      if (event.which == 82 || event.which == 114) {\n        var start = slider.slider(\"option\", \"value\");\n        var stop =  slider.slider(\"option\", \"min\");\n        var count = 0;\n        for (var i=start; i>=stop; i--) {\n          var delay = count*delay;\n          count = count + 1;\n          $.proxy(function doSetTimeout(i) { setTimeout($.proxy(function() {\n            var val = {value:i};\n            slider.slider('value',i);\n            slider.slider(\"option\", \"slide\")(null, val);\n          }, slider), delay);}, slider)(i);\n        }\n      }\n    });\n    var textInput = $('#textInput'+id+'_'+dim)\n    textInput.val(init_label);\n    adjustFontSize(textInput);\n  });\n}\n\nfunction init_dropdown(id, plot_id, dim, vals, value, next_vals, labels, next_dim, dim_idx, dynamic) {\n  var widget = $(\"#_anim_widget\"+id+'_'+dim);\n  widget.data('values', vals)\n  for (var i=0; i<vals.length; i++){\n    if (dynamic) {\n      var val = vals[i];\n    } else {\n      var val = i;\n    }\n    widget.append($(\"<option>\", {\n      value: val,\n      text: labels[i]\n    }));\n  };\n  widget.data(\"next_vals\", next_vals);\n  widget.val(value);\n  widget.on('change', function(event, ui) {\n    if (dynamic) {\n      var dim_val = parseInt(this.value);\n    } else {\n      var dim_val = $.data(this, 'values')[this.value];\n    }\n    var next_vals = $.data(this, \"next_vals\");\n    if (Object.keys(next_vals).length > 0) {\n      var new_vals = next_vals[dim_val];\n      var next_widget = $('#_anim_widget'+id+'_'+next_dim);\n      update_widget(next_widget, new_vals);\n    }\n    var widgets = HoloViews.index[plot_id]\n    if (widgets) {\n      widgets.set_frame(dim_val, dim_idx);\n    }\n  });\n}\n\n\nif (window.HoloViews === undefined) {\n  window.HoloViews = {}\n  window.PyViz = window.HoloViews\n} else if (window.PyViz === undefined) {\n  window.PyViz = window.HoloViews\n}\n\n\nvar _namespace = {\n  init_slider: init_slider,\n  init_dropdown: init_dropdown,\n  comms: {},\n  comm_status: {},\n  index: {},\n  plot_index: {},\n  kernels: {},\n  receivers: {}\n}\n\nfor (var k in _namespace) {\n  if (!(k in window.HoloViews)) {\n    window.HoloViews[k] = _namespace[k];\n  }\n}\n\n// Define MPL specific subclasses\nfunction MPLSelectionWidget() {\n  SelectionWidget.apply(this, arguments);\n}\n\nfunction MPLScrubberWidget() {\n  ScrubberWidget.apply(this, arguments);\n}\n\n// Let them inherit from the baseclasses\nMPLSelectionWidget.prototype = Object.create(SelectionWidget.prototype);\nMPLScrubberWidget.prototype = Object.create(ScrubberWidget.prototype);\n\n// Define methods to override on widgets\nvar MPLMethods = {\n  init_slider : function(init_val){\n    if(this.load_json) {\n      this.from_json()\n    } else {\n      this.update_cache();\n    }\n    if (this.dynamic | !this.cached | (this.current_vals === undefined)) {\n      this.update(0)\n    } else {\n      this.set_frame(this.current_vals[0], 0)\n    }\n  },\n  process_msg : function(msg) {\n    var data = msg.content.data;\n    this.frames[this.current] = data;\n    this.update_cache(true);\n    this.update(this.current);\n  }\n}\n// Extend MPL widgets with backend specific methods\nextend(MPLSelectionWidget.prototype, MPLMethods);\nextend(MPLScrubberWidget.prototype, MPLMethods);\n\nwindow.HoloViews.MPLSelectionWidget = MPLSelectionWidget\nwindow.HoloViews.MPLScrubberWidget = MPLScrubberWidget\n\n    function JupyterCommManager() {\n    }\n\n    JupyterCommManager.prototype.register_target = function(plot_id, comm_id, msg_handler) {\n      if (window.comm_manager || ((window.Jupyter !== undefined) && (Jupyter.notebook.kernel != null))) {\n        var comm_manager = window.comm_manager || Jupyter.notebook.kernel.comm_manager;\n        comm_manager.register_target(comm_id, function(comm) {\n          comm.on_msg(msg_handler);\n        });\n      } else if ((plot_id in window.PyViz.kernels) && (window.PyViz.kernels[plot_id])) {\n        window.PyViz.kernels[plot_id].registerCommTarget(comm_id, function(comm) {\n          comm.onMsg = msg_handler;\n        });\n      }\n    }\n\n    JupyterCommManager.prototype.get_client_comm = function(plot_id, comm_id, msg_handler) {\n      if (comm_id in window.PyViz.comms) {\n        return window.PyViz.comms[comm_id];\n      } else if (window.comm_manager || ((window.Jupyter !== undefined) && (Jupyter.notebook.kernel != null))) {\n        var comm_manager = window.comm_manager || Jupyter.notebook.kernel.comm_manager;\n        var comm = comm_manager.new_comm(comm_id, {}, {}, {}, comm_id);\n        if (msg_handler) {\n          comm.on_msg(msg_handler);\n        }\n      } else if ((plot_id in window.PyViz.kernels) && (window.PyViz.kernels[plot_id])) {\n        var comm = window.PyViz.kernels[plot_id].connectToComm(comm_id);\n        comm.open();\n        if (msg_handler) {\n          comm.onMsg = msg_handler;\n        }\n      }\n\n      window.PyViz.comms[comm_id] = comm;\n      return comm;\n    }\n\n    window.PyViz.comm_manager = new JupyterCommManager();\n    \n\nvar JS_MIME_TYPE = 'application/javascript';\nvar HTML_MIME_TYPE = 'text/html';\nvar EXEC_MIME_TYPE = 'application/vnd.holoviews_exec.v0+json';\nvar CLASS_NAME = 'output';\n\n/**\n * Render data to the DOM node\n */\nfunction render(props, node) {\n  var div = document.createElement(\"div\");\n  var script = document.createElement(\"script\");\n  node.appendChild(div);\n  node.appendChild(script);\n}\n\n/**\n * Handle when a new output is added\n */\nfunction handle_add_output(event, handle) {\n  var output_area = handle.output_area;\n  var output = handle.output;\n  if ((output.data == undefined) || (!output.data.hasOwnProperty(EXEC_MIME_TYPE))) {\n    return\n  }\n  var id = output.metadata[EXEC_MIME_TYPE][\"id\"];\n  var toinsert = output_area.element.find(\".\" + CLASS_NAME.split(' ')[0]);\n  if (id !== undefined) {\n    var nchildren = toinsert.length;\n    var html_node = toinsert[nchildren-1].children[0];\n    html_node.innerHTML = output.data[HTML_MIME_TYPE];\n    var scripts = [];\n    var nodelist = html_node.querySelectorAll(\"script\");\n    for (var i in nodelist) {\n      if (nodelist.hasOwnProperty(i)) {\n        scripts.push(nodelist[i])\n      }\n    }\n\n    scripts.forEach( function (oldScript) {\n      var newScript = document.createElement(\"script\");\n      var attrs = [];\n      var nodemap = oldScript.attributes;\n      for (var j in nodemap) {\n        if (nodemap.hasOwnProperty(j)) {\n          attrs.push(nodemap[j])\n        }\n      }\n      attrs.forEach(function(attr) { newScript.setAttribute(attr.name, attr.value) });\n      newScript.appendChild(document.createTextNode(oldScript.innerHTML));\n      oldScript.parentNode.replaceChild(newScript, oldScript);\n    });\n    if (JS_MIME_TYPE in output.data) {\n      toinsert[nchildren-1].children[1].textContent = output.data[JS_MIME_TYPE];\n    }\n    output_area._hv_plot_id = id;\n    if ((window.Bokeh !== undefined) && (id in Bokeh.index)) {\n      window.PyViz.plot_index[id] = Bokeh.index[id];\n    } else {\n      window.PyViz.plot_index[id] = null;\n    }\n  } else if (output.metadata[EXEC_MIME_TYPE][\"server_id\"] !== undefined) {\n    var bk_div = document.createElement(\"div\");\n    bk_div.innerHTML = output.data[HTML_MIME_TYPE];\n    var script_attrs = bk_div.children[0].attributes;\n    for (var i = 0; i < script_attrs.length; i++) {\n      toinsert[toinsert.length - 1].childNodes[1].setAttribute(script_attrs[i].name, script_attrs[i].value);\n    }\n    // store reference to server id on output_area\n    output_area._bokeh_server_id = output.metadata[EXEC_MIME_TYPE][\"server_id\"];\n  }\n}\n\n/**\n * Handle when an output is cleared or removed\n */\nfunction handle_clear_output(event, handle) {\n  var id = handle.cell.output_area._hv_plot_id;\n  var server_id = handle.cell.output_area._bokeh_server_id;\n  if (((id === undefined) || !(id in PyViz.plot_index)) && (server_id !== undefined)) { return; }\n  var comm = window.PyViz.comm_manager.get_client_comm(\"hv-extension-comm\", \"hv-extension-comm\", function () {});\n  if (server_id !== null) {\n    comm.send({event_type: 'server_delete', 'id': server_id});\n    return;\n  } else if (comm !== null) {\n    comm.send({event_type: 'delete', 'id': id});\n  }\n  delete PyViz.plot_index[id];\n  if ((window.Bokeh !== undefined) & (id in window.Bokeh.index)) {\n    var doc = window.Bokeh.index[id].model.document\n    doc.clear();\n    const i = window.Bokeh.documents.indexOf(doc);\n    if (i > -1) {\n      window.Bokeh.documents.splice(i, 1);\n    }\n  }\n}\n\n/**\n * Handle kernel restart event\n */\nfunction handle_kernel_cleanup(event, handle) {\n  delete PyViz.comms[\"hv-extension-comm\"];\n  window.PyViz.plot_index = {}\n}\n\n/**\n * Handle update_display_data messages\n */\nfunction handle_update_output(event, handle) {\n  handle_clear_output(event, {cell: {output_area: handle.output_area}})\n  handle_add_output(event, handle)\n}\n\nfunction register_renderer(events, OutputArea) {\n  function append_mime(data, metadata, element) {\n    // create a DOM node to render to\n    var toinsert = this.create_output_subarea(\n    metadata,\n    CLASS_NAME,\n    EXEC_MIME_TYPE\n    );\n    this.keyboard_manager.register_events(toinsert);\n    // Render to node\n    var props = {data: data, metadata: metadata[EXEC_MIME_TYPE]};\n    render(props, toinsert[0]);\n    element.append(toinsert);\n    return toinsert\n  }\n\n  events.on('output_added.OutputArea', handle_add_output);\n  events.on('output_updated.OutputArea', handle_update_output);\n  events.on('clear_output.CodeCell', handle_clear_output);\n  events.on('delete.Cell', handle_clear_output);\n  events.on('kernel_ready.Kernel', handle_kernel_cleanup);\n\n  OutputArea.prototype.register_mime_type(EXEC_MIME_TYPE, append_mime, {\n    safe: true,\n    index: 0\n  });\n}\n\nif (window.Jupyter !== undefined) {\n  try {\n    var events = require('base/js/events');\n    var OutputArea = require('notebook/js/outputarea').OutputArea;\n    if (OutputArea.prototype.mime_types().indexOf(EXEC_MIME_TYPE) == -1) {\n      register_renderer(events, OutputArea);\n    }\n  } catch(err) {\n  }\n}\n"
     },
     "metadata": {},
     "output_type": "display_data"
    },
    {
     "data": {
      "text/html": [
       "<h2>Interact with the plot below and answer the following questions</h2>"
      ],
      "text/plain": [
       "<IPython.core.display.HTML object>"
      ]
     },
     "metadata": {},
     "output_type": "display_data"
    },
    {
     "data": {
      "application/javascript": [
       "\n",
       "// Ugly hack - see HoloViews #2574 for more information\n",
       "if (!(document.getElementById('8f733024197a4fdbbeafc11be6f1570b')) && !(document.getElementById('_anim_img8f733024197a4fdbbeafc11be6f1570b'))) {\n",
       "  console.log(\"Creating DOM nodes dynamically for assumed nbconvert export. To generate clean HTML output set HV_DOC_HTML as an environment variable.\")\n",
       "  var htmlObject = document.createElement('div');\n",
       "  htmlObject.innerHTML = `<div class=\"hololayout row row-fluid\">\n",
       "  <div class=\"holoframe\" id=\"display_area8f733024197a4fdbbeafc11be6f1570b\">\n",
       "    <div id=\"_anim_img8f733024197a4fdbbeafc11be6f1570b\">\n",
       "      \n",
       "      \n",
       "      \n",
       "    </div>\n",
       "  </div>\n",
       "  <div class=\"holowidgets\" id=\"widget_area8f733024197a4fdbbeafc11be6f1570b\">\n",
       "    <form class=\"holoform well\" id=\"form8f733024197a4fdbbeafc11be6f1570b\">\n",
       "      \n",
       "      \n",
       "      <div class=\"form-group control-group holoformgroup\" style=''>\n",
       "        <label for=\"textInput8f733024197a4fdbbeafc11be6f1570b_eps0\">\n",
       "          <strong>eps0:</strong>\n",
       "        </label>\n",
       "        <div class=\"holowell\">\n",
       "          <div class=\"hologroup\">\n",
       "            <input type=\"text\" class=\"holotext form-control input-small\"\n",
       "                   id=\"textInput8f733024197a4fdbbeafc11be6f1570b_eps0\" value=\"\" readonly>\n",
       "          </div>\n",
       "          <div class=\"holoslider\"\n",
       "               id=\"_anim_widget8f733024197a4fdbbeafc11be6f1570b_eps0\"></div>\n",
       "        </div>\n",
       "      </div>\n",
       "      \n",
       "        \n",
       "      \n",
       "      <div class=\"form-group control-group holoformgroup\" style=''>\n",
       "        <label for=\"textInput8f733024197a4fdbbeafc11be6f1570b_r0\">\n",
       "          <strong>r0:</strong>\n",
       "        </label>\n",
       "        <div class=\"holowell\">\n",
       "          <div class=\"hologroup\">\n",
       "            <input type=\"text\" class=\"holotext form-control input-small\"\n",
       "                   id=\"textInput8f733024197a4fdbbeafc11be6f1570b_r0\" value=\"\" readonly>\n",
       "          </div>\n",
       "          <div class=\"holoslider\"\n",
       "               id=\"_anim_widget8f733024197a4fdbbeafc11be6f1570b_r0\"></div>\n",
       "        </div>\n",
       "      </div>\n",
       "      \n",
       "        \n",
       "        </form>\n",
       "    </div>\n",
       "</div>`;\n",
       "  var scriptTags = document.getElementsByTagName('script');\n",
       "  var parentTag = scriptTags[scriptTags.length-1].parentNode;\n",
       "  if (parentTag.attributes.length && (parentTag.attributes[0].name == 'data-shell-mode')) {\n",
       "    alert('Displaying PyViz objects in JupyterLab requires the jupyterlab_pyviz extension to be installed, install it with:\\n\\n\\tjupyter labextension install @pyviz/jupyterlab_pyviz');\n",
       "  } else {\n",
       "    parentTag.append(htmlObject)\n",
       "  }\n",
       "}\n",
       "/* Instantiate the MPLSelectionWidget class. */\n",
       "/* The IDs given should match those used in the template above. */\n",
       "var widget_ids = new Array(2);\n",
       "\n",
       "\n",
       "widget_ids[0] = \"_anim_widget8f733024197a4fdbbeafc11be6f1570b_eps0\";\n",
       "\n",
       "widget_ids[1] = \"_anim_widget8f733024197a4fdbbeafc11be6f1570b_r0\";\n",
       "\n",
       "\n",
       "function create_widget() {\n",
       "  var frame_data = {\"0\": \"<img src='data:image/png;base64,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' style='max-width:100%; margin: auto; display: block; '/>\"};\n",
       "  var dim_vals = [0.200000000, 0.700000000];\n",
       "  var keyMap = {};\n",
       "  var notFound = \"<h2 style='vertical-align: middle>No frame at selected dimension value.<h2>\";\n",
       "\n",
       "  var anim = new HoloViews.MPLSelectionWidget(frame_data, \"8f733024197a4fdbbeafc11be6f1570b\", widget_ids,\n",
       "  keyMap, dim_vals, notFound, false, \"default\",\n",
       "  false, \"./json_figures/\", true, \"8f733024197a4fdbbeafc11be6f1570b\");\n",
       "\n",
       "  HoloViews.index['8f733024197a4fdbbeafc11be6f1570b'] = anim;\n",
       "}\n",
       "\n",
       "\n",
       "\n",
       "\n",
       "HoloViews.init_slider('8f733024197a4fdbbeafc11be6f1570b', '8f733024197a4fdbbeafc11be6f1570b', 'eps0', ['0.200000000', '5.0'], {}, [], true, 0.01, 0.2, 'None', 0, 50, 'https://code.jquery.com/ui/1.10.4/jquery-ui.min.js', 'https://cdnjs.cloudflare.com/ajax/libs/underscore.js/1.8.3/underscore-min.js')\n",
       "\n",
       "\n",
       "\n",
       "\n",
       "\n",
       "HoloViews.init_slider('8f733024197a4fdbbeafc11be6f1570b', '8f733024197a4fdbbeafc11be6f1570b', 'r0', ['0.700000000', '2.0'], {}, [], true, 0.001, 0.7, 'None', 1, 50, 'https://code.jquery.com/ui/1.10.4/jquery-ui.min.js', 'https://cdnjs.cloudflare.com/ajax/libs/underscore.js/1.8.3/underscore-min.js')\n",
       "\n",
       "\n",
       "\n",
       "\n",
       "create_widget();\n"
      ],
      "application/vnd.holoviews_exec.v0+json": "",
      "text/html": [
       "<div class=\"hololayout row row-fluid\">\n",
       "  <div class=\"holoframe\" id=\"display_area8f733024197a4fdbbeafc11be6f1570b\">\n",
       "    <div id=\"_anim_img8f733024197a4fdbbeafc11be6f1570b\">\n",
       "      \n",
       "      \n",
       "      \n",
       "    </div>\n",
       "  </div>\n",
       "  <div class=\"holowidgets\" id=\"widget_area8f733024197a4fdbbeafc11be6f1570b\">\n",
       "    <form class=\"holoform well\" id=\"form8f733024197a4fdbbeafc11be6f1570b\">\n",
       "      \n",
       "      \n",
       "      <div class=\"form-group control-group holoformgroup\" style=''>\n",
       "        <label for=\"textInput8f733024197a4fdbbeafc11be6f1570b_eps0\">\n",
       "          <strong>eps0:</strong>\n",
       "        </label>\n",
       "        <div class=\"holowell\">\n",
       "          <div class=\"hologroup\">\n",
       "            <input type=\"text\" class=\"holotext form-control input-small\"\n",
       "                   id=\"textInput8f733024197a4fdbbeafc11be6f1570b_eps0\" value=\"\" readonly>\n",
       "          </div>\n",
       "          <div class=\"holoslider\"\n",
       "               id=\"_anim_widget8f733024197a4fdbbeafc11be6f1570b_eps0\"></div>\n",
       "        </div>\n",
       "      </div>\n",
       "      \n",
       "        \n",
       "      \n",
       "      <div class=\"form-group control-group holoformgroup\" style=''>\n",
       "        <label for=\"textInput8f733024197a4fdbbeafc11be6f1570b_r0\">\n",
       "          <strong>r0:</strong>\n",
       "        </label>\n",
       "        <div class=\"holowell\">\n",
       "          <div class=\"hologroup\">\n",
       "            <input type=\"text\" class=\"holotext form-control input-small\"\n",
       "                   id=\"textInput8f733024197a4fdbbeafc11be6f1570b_r0\" value=\"\" readonly>\n",
       "          </div>\n",
       "          <div class=\"holoslider\"\n",
       "               id=\"_anim_widget8f733024197a4fdbbeafc11be6f1570b_r0\"></div>\n",
       "        </div>\n",
       "      </div>\n",
       "      \n",
       "        \n",
       "        </form>\n",
       "    </div>\n",
       "</div>"
      ],
      "text/plain": [
       ":DynamicMap   [eps0,r0]\n",
       "   :Overlay\n",
       "      .Curve.Approximation_parabolique_du_potentiel_LJ :Curve   [Distance Interatomique r]   (Energy Potentiellenormalisee E [KJ/mol]& Force F[N])\n",
       "      .Curve.Force_du_potential_approximé              :Curve   [Distance Interatomique r]   (Energy Potentiellenormalisee E [KJ/mol]& Force F[N])\n",
       "      .Curve.Potentiel_de_LJ                           :Curve   [Distance Interatomique r]   (Energy Potentiellenormalisee E [KJ/mol]& Force F[N])\n",
       "      .Curve.Force_LJ                                  :Curve   [Distance Interatomique r]   (Energy Potentiellenormalisee E [KJ/mol]& Force F[N])\n",
       "      .Text.I                                          :Text   [x,y]"
      ]
     },
     "metadata": {
      "application/vnd.holoviews_exec.v0+json": {
       "id": "8f733024197a4fdbbeafc11be6f1570b"
      }
     },
     "output_type": "display_data"
    },
    {
     "data": {
      "application/vnd.jupyter.widget-view+json": {
       "model_id": "29bfd4ba8c8e41eb9ed9efa934e9e790",
       "version_major": 2,
       "version_minor": 0
      },
      "text/html": [
       "<p>Failed to display Jupyter Widget of type <code>HBox</code>.</p>\n",
       "<p>\n",
       "  If you're reading this message in the Jupyter Notebook or JupyterLab Notebook, it may mean\n",
       "  that the widgets JavaScript is still loading. If this message persists, it\n",
       "  likely means that the widgets JavaScript library is either not installed or\n",
       "  not enabled. See the <a href=\"https://ipywidgets.readthedocs.io/en/stable/user_install.html\">Jupyter\n",
       "  Widgets Documentation</a> for setup instructions.\n",
       "</p>\n",
       "<p>\n",
       "  If you're reading this message in another frontend (for example, a static\n",
       "  rendering on GitHub or <a href=\"https://nbviewer.jupyter.org/\">NBViewer</a>),\n",
       "  it may mean that your frontend doesn't currently support widgets.\n",
       "</p>\n"
      ],
      "text/plain": [
       "HBox(children=(Label(value='Which color is the Force Plot?'), RadioButtons(options=('yellow', 'blue', 'red', 'green'), value='yellow')))"
      ]
     },
     "metadata": {},
     "output_type": "display_data"
    },
    {
     "data": {
      "application/vnd.jupyter.widget-view+json": {
       "model_id": "e0e391128f344bfb81706e140cd3ea76",
       "version_major": 2,
       "version_minor": 0
      },
      "text/html": [
       "<p>Failed to display Jupyter Widget of type <code>HBox</code>.</p>\n",
       "<p>\n",
       "  If you're reading this message in the Jupyter Notebook or JupyterLab Notebook, it may mean\n",
       "  that the widgets JavaScript is still loading. If this message persists, it\n",
       "  likely means that the widgets JavaScript library is either not installed or\n",
       "  not enabled. See the <a href=\"https://ipywidgets.readthedocs.io/en/stable/user_install.html\">Jupyter\n",
       "  Widgets Documentation</a> for setup instructions.\n",
       "</p>\n",
       "<p>\n",
       "  If you're reading this message in another frontend (for example, a static\n",
       "  rendering on GitHub or <a href=\"https://nbviewer.jupyter.org/\">NBViewer</a>),\n",
       "  it may mean that your frontend doesn't currently support widgets.\n",
       "</p>\n"
      ],
      "text/plain": [
       "HBox(children=(Label(value=\"What's the  value of eps0 in [0.2,5] such that the slope of Approx Parabolique is highest\"), Text(value='', placeholder='hint: try slider eps0')))"
      ]
     },
     "metadata": {},
     "output_type": "display_data"
    },
    {
     "data": {
      "application/vnd.jupyter.widget-view+json": {
       "model_id": "ec8368f9bd5b4052af6fb86b9d3d9455",
       "version_major": 2,
       "version_minor": 0
      },
      "text/html": [
       "<p>Failed to display Jupyter Widget of type <code>HBox</code>.</p>\n",
       "<p>\n",
       "  If you're reading this message in the Jupyter Notebook or JupyterLab Notebook, it may mean\n",
       "  that the widgets JavaScript is still loading. If this message persists, it\n",
       "  likely means that the widgets JavaScript library is either not installed or\n",
       "  not enabled. See the <a href=\"https://ipywidgets.readthedocs.io/en/stable/user_install.html\">Jupyter\n",
       "  Widgets Documentation</a> for setup instructions.\n",
       "</p>\n",
       "<p>\n",
       "  If you're reading this message in another frontend (for example, a static\n",
       "  rendering on GitHub or <a href=\"https://nbviewer.jupyter.org/\">NBViewer</a>),\n",
       "  it may mean that your frontend doesn't currently support widgets.\n",
       "</p>\n"
      ],
      "text/plain": [
       "HBox(children=(Label(value=\"What's the  value of r0 in [0.7,2] such that the minima of Force is at 0.8\"), Text(value='', placeholder='hint: try slider r0')))"
      ]
     },
     "metadata": {},
     "output_type": "display_data"
    },
    {
     "data": {
      "application/vnd.jupyter.widget-view+json": {
       "model_id": "5f82ca3cd3a84df6bc72435cb3de4e4a",
       "version_major": 2,
       "version_minor": 0
      },
      "text/html": [
       "<p>Failed to display Jupyter Widget of type <code>Button</code>.</p>\n",
       "<p>\n",
       "  If you're reading this message in the Jupyter Notebook or JupyterLab Notebook, it may mean\n",
       "  that the widgets JavaScript is still loading. If this message persists, it\n",
       "  likely means that the widgets JavaScript library is either not installed or\n",
       "  not enabled. See the <a href=\"https://ipywidgets.readthedocs.io/en/stable/user_install.html\">Jupyter\n",
       "  Widgets Documentation</a> for setup instructions.\n",
       "</p>\n",
       "<p>\n",
       "  If you're reading this message in another frontend (for example, a static\n",
       "  rendering on GitHub or <a href=\"https://nbviewer.jupyter.org/\">NBViewer</a>),\n",
       "  it may mean that your frontend doesn't currently support widgets.\n",
       "</p>\n"
      ],
      "text/plain": [
       "Button(button_style='info', description='Show Answers', style=ButtonStyle(), tooltip='Click me')"
      ]
     },
     "metadata": {},
     "output_type": "display_data"
    }
   ],
   "source": [
    "r,a,b = symbols('r a b')\n",
    "\n",
    "lennardJones = a/r**12 - b/r**6; \n",
    "lennardJones\n",
    "force = diff(lennardJones,r)\n",
    "force\n",
    "\n",
    "rMin , eMin = symbols('rMin eMin')\n",
    "equationDistanceMinimum = force.subs(r,rMin)\n",
    "#print(equationDistanceMinimum)\n",
    "equationEnergieMinimum = lennardJones.subs(r,rMin) + eMin\n",
    "#print(equationEnergieMinimum)\n",
    "criticalPointSolutions = solve([equationEnergieMinimum,equationDistanceMinimum])\n",
    "#print(criticalPointSolutions)\n",
    "\n",
    "def substitute(var,critical_sol,equ):\n",
    "    return equ.subs(var,critical_sol[0][var])\n",
    "\n",
    "lennardJonesCritical = substitute(b,criticalPointSolutions,lennardJones)\n",
    "lennardJonesCritical = substitute(a,criticalPointSolutions,lennardJonesCritical)\n",
    "#print(lennardJonesCritical)\n",
    "lennardJonesScaled = expand(lennardJonesCritical/eMin)\n",
    "#print(lennardJonesScaled)\n",
    "\n",
    "\n",
    "hv.extension('matplotlib')\n",
    "approxLennardJonesWithUnits = lambda eps0, r0, r: -eps0 + (36 * (r - r0)**2 * eps0) / r0**2\n",
    "approxForceWithUnits = lambda eps0, r0, r: (72 * (r - r0) * eps0) / r0**2\n",
    "lennardJonesWithUnits = lambda eps0, r0, r: (-((2* r0**6)/r**6) + r0**12/r**12) * eps0\n",
    "forceWithUnits = lambda eps0, r0, r: ((12 * r0**6)/r**7 - (12 * r0**12)/r**13) * eps0\n",
    "\n",
    "\n",
    "def force_potential(eps0, r0):\n",
    "    xs = np.linspace(0.5, 2, 1000)\n",
    "    xDim = hv.Dimension('Distance Interatomique r')\n",
    "    yDimEnergy = hv.Dimension('Energy Potentiellenormalisee E [KJ/mol]& Force F[N]',range = (-3,5))\n",
    "    curve_approxLennardJonesWithUnits = hv.Curve((xs, approxLennardJonesWithUnits(r=xs, eps0=eps0, r0=r0)),label = 'Approximation parabolique du potentiel LJ').redim(y=yDimEnergy).redim(x =xDim).opts(color='red')\n",
    "    curve_approxForceWithUnits = hv.Curve((xs, approxForceWithUnits(r=xs, eps0=eps0, r0=r0)),label = 'Force du potential approximé').redim(y=yDimEnergy).redim(x =xDim).opts(color='blue')\n",
    "    curve_lennardJonesWithUnits = hv.Curve((xs, lennardJonesWithUnits(r=xs, eps0=eps0, r0=r0)),label = 'Potentiel de LJ').redim(y=yDimEnergy).redim(x =xDim).opts(color='green')\n",
    "    curve_forceWithUnits = hv.Curve((xs, forceWithUnits(r=xs, eps0=eps0, r0=r0)),label = \"Force LJ\").redim(y=yDimEnergy).redim(x =xDim).opts(color='yellow')\n",
    "    equ = hv.Text(1.75, 1, 'E = 72*($ε_0^2$)/($r_0^2$) = %.2f'%(72*eps0**2/r0**2))\n",
    "    return curve_approxLennardJonesWithUnits * curve_approxForceWithUnits * curve_lennardJonesWithUnits * curve_forceWithUnits * equ\n",
    "\n",
    "material_force_potential = hv.DynamicMap(force_potential, kdims=['eps0', 'r0']).redim.range(eps0=(.2, 5.), r0=(.7, 2.)).opts(legend_position='right')\n",
    "display(HTML('<h2>Interact with the plot below and answer the following questions</h2>'))\n",
    "\n",
    "radio_colors = widgets.RadioButtons(\n",
    "    options=['yellow', 'blue', 'red','green'],\n",
    "#     value='pineapple',\n",
    "    description='',\n",
    "    disabled=False\n",
    ")\n",
    "\n",
    "text_eps0 = widgets.Text(\n",
    "    value='',\n",
    "    placeholder='hint: try slider eps0',\n",
    "    description='',\n",
    "    disabled=False\n",
    ")\n",
    "\n",
    "text_r0 = widgets.Text(\n",
    "    value='',\n",
    "    placeholder='hint: try slider r0',\n",
    "    description='',\n",
    "    disabled=False\n",
    ")\n",
    "\n",
    "\n",
    "submit_interact = widgets.Button(\n",
    "    description='Show Answers',\n",
    "    disabled=False,\n",
    "    button_style='info', # 'success', 'info', 'warning', 'danger' or ''\n",
    "    tooltip='Click me'\n",
    ")\n",
    "\n",
    "def showAns(target):\n",
    "    display(HTML('<p>Reference answers: Yellow; esp0=5; r0=0.8</p>'))\n",
    "    return\n",
    "\n",
    "submit_interact.on_click(showAns)\n",
    "interact_q_text = {\\\n",
    "    'i.1':'Which color is the Force Plot?',\n",
    "    'i.2':'What\\'s the  value of eps0 in [0.2,5] such that the slope of Approx Parabolique is highest',\n",
    "    'i.3':'What\\'s the  value of r0 in [0.7,2] such that the minima of Force is at 0.8'\n",
    "}\n",
    "\n",
    "list_widgets_interaction = {\\\n",
    "                'i.1':radio_colors,\n",
    "                'i.2':text_eps0,\n",
    "                 'i.3':text_r0,\n",
    "                'submit_interact_button':submit_interact\n",
    "                    }\n",
    "display(material_force_potential)\n",
    "display(HBox([Label(interact_q_text['i.1']),radio_colors ])) \n",
    "\n",
    "\n",
    "display(HBox([Label(interact_q_text['i.2']),text_eps0 ]))  \n",
    "display(HBox([Label(interact_q_text['i.3']),text_r0 ]))        \n",
    "display(submit_interact)\n",
    "\n"
   ]
  },
  {
   "cell_type": "code",
   "execution_count": 12,
   "metadata": {},
   "outputs": [
    {
     "data": {
      "text/html": [
       "<h2>Questions about interactive plot</h2> <H4>Scale is from LEAST -> 1 to 10 -> BEST OR STRONGLY DISAGREE to STRONGLY AGREE</H4>"
      ],
      "text/plain": [
       "<IPython.core.display.HTML object>"
      ]
     },
     "metadata": {},
     "output_type": "display_data"
    },
    {
     "data": {
      "application/vnd.jupyter.widget-view+json": {
       "model_id": "decc63dbc9af4ca99773f6221f80dac0",
       "version_major": 2,
       "version_minor": 0
      },
      "text/html": [
       "<p>Failed to display Jupyter Widget of type <code>HBox</code>.</p>\n",
       "<p>\n",
       "  If you're reading this message in the Jupyter Notebook or JupyterLab Notebook, it may mean\n",
       "  that the widgets JavaScript is still loading. If this message persists, it\n",
       "  likely means that the widgets JavaScript library is either not installed or\n",
       "  not enabled. See the <a href=\"https://ipywidgets.readthedocs.io/en/stable/user_install.html\">Jupyter\n",
       "  Widgets Documentation</a> for setup instructions.\n",
       "</p>\n",
       "<p>\n",
       "  If you're reading this message in another frontend (for example, a static\n",
       "  rendering on GitHub or <a href=\"https://nbviewer.jupyter.org/\">NBViewer</a>),\n",
       "  it may mean that your frontend doesn't currently support widgets.\n",
       "</p>\n"
      ],
      "text/plain": [
       "HBox(children=(Label(value='How well does the interactive plot help you fully understand the concepts?'), IntSlider(value=1, continuous_update=False, max=10, min=1)))"
      ]
     },
     "metadata": {},
     "output_type": "display_data"
    },
    {
     "data": {
      "application/vnd.jupyter.widget-view+json": {
       "model_id": "e3cf9beeee8448dd8a468514c81e0d6e",
       "version_major": 2,
       "version_minor": 0
      },
      "text/html": [
       "<p>Failed to display Jupyter Widget of type <code>HBox</code>.</p>\n",
       "<p>\n",
       "  If you're reading this message in the Jupyter Notebook or JupyterLab Notebook, it may mean\n",
       "  that the widgets JavaScript is still loading. If this message persists, it\n",
       "  likely means that the widgets JavaScript library is either not installed or\n",
       "  not enabled. See the <a href=\"https://ipywidgets.readthedocs.io/en/stable/user_install.html\">Jupyter\n",
       "  Widgets Documentation</a> for setup instructions.\n",
       "</p>\n",
       "<p>\n",
       "  If you're reading this message in another frontend (for example, a static\n",
       "  rendering on GitHub or <a href=\"https://nbviewer.jupyter.org/\">NBViewer</a>),\n",
       "  it may mean that your frontend doesn't currently support widgets.\n",
       "</p>\n"
      ],
      "text/plain": [
       "HBox(children=(Label(value='How well does the interactive plot help you understand how function changes in value when parameters change?'), IntSlider(value=1, continuous_update=False, max=10, min=1)))"
      ]
     },
     "metadata": {},
     "output_type": "display_data"
    },
    {
     "data": {
      "application/vnd.jupyter.widget-view+json": {
       "model_id": "e451bd7603ec4d6c8e5618d93a0a4054",
       "version_major": 2,
       "version_minor": 0
      },
      "text/html": [
       "<p>Failed to display Jupyter Widget of type <code>HBox</code>.</p>\n",
       "<p>\n",
       "  If you're reading this message in the Jupyter Notebook or JupyterLab Notebook, it may mean\n",
       "  that the widgets JavaScript is still loading. If this message persists, it\n",
       "  likely means that the widgets JavaScript library is either not installed or\n",
       "  not enabled. See the <a href=\"https://ipywidgets.readthedocs.io/en/stable/user_install.html\">Jupyter\n",
       "  Widgets Documentation</a> for setup instructions.\n",
       "</p>\n",
       "<p>\n",
       "  If you're reading this message in another frontend (for example, a static\n",
       "  rendering on GitHub or <a href=\"https://nbviewer.jupyter.org/\">NBViewer</a>),\n",
       "  it may mean that your frontend doesn't currently support widgets.\n",
       "</p>\n"
      ],
      "text/plain": [
       "HBox(children=(Label(value='How well does the  interactive plot help you understand the relationship between the force with varying parameters?'), IntSlider(value=1, continuous_update=False, max=10, min=1)))"
      ]
     },
     "metadata": {},
     "output_type": "display_data"
    },
    {
     "data": {
      "application/vnd.jupyter.widget-view+json": {
       "model_id": "1bfb0629de7445d290dcf67c97deb41e",
       "version_major": 2,
       "version_minor": 0
      },
      "text/html": [
       "<p>Failed to display Jupyter Widget of type <code>HBox</code>.</p>\n",
       "<p>\n",
       "  If you're reading this message in the Jupyter Notebook or JupyterLab Notebook, it may mean\n",
       "  that the widgets JavaScript is still loading. If this message persists, it\n",
       "  likely means that the widgets JavaScript library is either not installed or\n",
       "  not enabled. See the <a href=\"https://ipywidgets.readthedocs.io/en/stable/user_install.html\">Jupyter\n",
       "  Widgets Documentation</a> for setup instructions.\n",
       "</p>\n",
       "<p>\n",
       "  If you're reading this message in another frontend (for example, a static\n",
       "  rendering on GitHub or <a href=\"https://nbviewer.jupyter.org/\">NBViewer</a>),\n",
       "  it may mean that your frontend doesn't currently support widgets.\n",
       "</p>\n"
      ],
      "text/plain": [
       "HBox(children=(Label(value='The interactive plot matches with your prior understanding of the concepts '), IntSlider(value=1, continuous_update=False, max=10, min=1)))"
      ]
     },
     "metadata": {},
     "output_type": "display_data"
    },
    {
     "data": {
      "application/vnd.jupyter.widget-view+json": {
       "model_id": "2b367a0dcd8c4db889bf5fadc3c2e880",
       "version_major": 2,
       "version_minor": 0
      },
      "text/html": [
       "<p>Failed to display Jupyter Widget of type <code>HBox</code>.</p>\n",
       "<p>\n",
       "  If you're reading this message in the Jupyter Notebook or JupyterLab Notebook, it may mean\n",
       "  that the widgets JavaScript is still loading. If this message persists, it\n",
       "  likely means that the widgets JavaScript library is either not installed or\n",
       "  not enabled. See the <a href=\"https://ipywidgets.readthedocs.io/en/stable/user_install.html\">Jupyter\n",
       "  Widgets Documentation</a> for setup instructions.\n",
       "</p>\n",
       "<p>\n",
       "  If you're reading this message in another frontend (for example, a static\n",
       "  rendering on GitHub or <a href=\"https://nbviewer.jupyter.org/\">NBViewer</a>),\n",
       "  it may mean that your frontend doesn't currently support widgets.\n",
       "</p>\n"
      ],
      "text/plain": [
       "HBox(children=(Label(value='The interactive plot matches with your prior understanding of how the Force, Potential functions would look like ?'), IntSlider(value=1, continuous_update=False, max=10, min=1)))"
      ]
     },
     "metadata": {},
     "output_type": "display_data"
    },
    {
     "data": {
      "application/vnd.jupyter.widget-view+json": {
       "model_id": "12a497b71eb94bee918b6c914fd99155",
       "version_major": 2,
       "version_minor": 0
      },
      "text/html": [
       "<p>Failed to display Jupyter Widget of type <code>HBox</code>.</p>\n",
       "<p>\n",
       "  If you're reading this message in the Jupyter Notebook or JupyterLab Notebook, it may mean\n",
       "  that the widgets JavaScript is still loading. If this message persists, it\n",
       "  likely means that the widgets JavaScript library is either not installed or\n",
       "  not enabled. See the <a href=\"https://ipywidgets.readthedocs.io/en/stable/user_install.html\">Jupyter\n",
       "  Widgets Documentation</a> for setup instructions.\n",
       "</p>\n",
       "<p>\n",
       "  If you're reading this message in another frontend (for example, a static\n",
       "  rendering on GitHub or <a href=\"https://nbviewer.jupyter.org/\">NBViewer</a>),\n",
       "  it may mean that your frontend doesn't currently support widgets.\n",
       "</p>\n"
      ],
      "text/plain": [
       "HBox(children=(Label(value='The interactive plot matches with your prior understanding of how the Force, Potential functions vary with r0 , eps0 ?'), IntSlider(value=1, continuous_update=False, max=10, min=1)))"
      ]
     },
     "metadata": {},
     "output_type": "display_data"
    },
    {
     "data": {
      "application/vnd.jupyter.widget-view+json": {
       "model_id": "1a70e203205c4a0892661b42748dfe73",
       "version_major": 2,
       "version_minor": 0
      },
      "text/html": [
       "<p>Failed to display Jupyter Widget of type <code>HBox</code>.</p>\n",
       "<p>\n",
       "  If you're reading this message in the Jupyter Notebook or JupyterLab Notebook, it may mean\n",
       "  that the widgets JavaScript is still loading. If this message persists, it\n",
       "  likely means that the widgets JavaScript library is either not installed or\n",
       "  not enabled. See the <a href=\"https://ipywidgets.readthedocs.io/en/stable/user_install.html\">Jupyter\n",
       "  Widgets Documentation</a> for setup instructions.\n",
       "</p>\n",
       "<p>\n",
       "  If you're reading this message in another frontend (for example, a static\n",
       "  rendering on GitHub or <a href=\"https://nbviewer.jupyter.org/\">NBViewer</a>),\n",
       "  it may mean that your frontend doesn't currently support widgets.\n",
       "</p>\n"
      ],
      "text/plain": [
       "HBox(children=(Label(value='The interactive plot helps you BETTER UNDERSTAND the concepts compared to just STATIC PLOT?'), IntSlider(value=1, continuous_update=False, max=10, min=1)))"
      ]
     },
     "metadata": {},
     "output_type": "display_data"
    },
    {
     "data": {
      "application/vnd.jupyter.widget-view+json": {
       "model_id": "68db33910b1240b588f0f61e07cdc698",
       "version_major": 2,
       "version_minor": 0
      },
      "text/html": [
       "<p>Failed to display Jupyter Widget of type <code>HBox</code>.</p>\n",
       "<p>\n",
       "  If you're reading this message in the Jupyter Notebook or JupyterLab Notebook, it may mean\n",
       "  that the widgets JavaScript is still loading. If this message persists, it\n",
       "  likely means that the widgets JavaScript library is either not installed or\n",
       "  not enabled. See the <a href=\"https://ipywidgets.readthedocs.io/en/stable/user_install.html\">Jupyter\n",
       "  Widgets Documentation</a> for setup instructions.\n",
       "</p>\n",
       "<p>\n",
       "  If you're reading this message in another frontend (for example, a static\n",
       "  rendering on GitHub or <a href=\"https://nbviewer.jupyter.org/\">NBViewer</a>),\n",
       "  it may mean that your frontend doesn't currently support widgets.\n",
       "</p>\n"
      ],
      "text/plain": [
       "HBox(children=(Label(value='The interactive plot helps you BETTER UNDERSTAND how the Force, Potential functions would look like ?'), IntSlider(value=1, continuous_update=False, max=10, min=1)))"
      ]
     },
     "metadata": {},
     "output_type": "display_data"
    },
    {
     "data": {
      "application/vnd.jupyter.widget-view+json": {
       "model_id": "8e58058820444144bdbbba01dc472d6a",
       "version_major": 2,
       "version_minor": 0
      },
      "text/html": [
       "<p>Failed to display Jupyter Widget of type <code>HBox</code>.</p>\n",
       "<p>\n",
       "  If you're reading this message in the Jupyter Notebook or JupyterLab Notebook, it may mean\n",
       "  that the widgets JavaScript is still loading. If this message persists, it\n",
       "  likely means that the widgets JavaScript library is either not installed or\n",
       "  not enabled. See the <a href=\"https://ipywidgets.readthedocs.io/en/stable/user_install.html\">Jupyter\n",
       "  Widgets Documentation</a> for setup instructions.\n",
       "</p>\n",
       "<p>\n",
       "  If you're reading this message in another frontend (for example, a static\n",
       "  rendering on GitHub or <a href=\"https://nbviewer.jupyter.org/\">NBViewer</a>),\n",
       "  it may mean that your frontend doesn't currently support widgets.\n",
       "</p>\n"
      ],
      "text/plain": [
       "HBox(children=(Label(value='The interactive plot helps you BETTER UNDERSTANDhow the Force, Potential functions  would vary with r0 , eps0 ?'), IntSlider(value=1, continuous_update=False, max=10, min=1)))"
      ]
     },
     "metadata": {},
     "output_type": "display_data"
    },
    {
     "data": {
      "application/vnd.jupyter.widget-view+json": {
       "model_id": "620266a3dc4c4115baeae1cf390c6e0c",
       "version_major": 2,
       "version_minor": 0
      },
      "text/html": [
       "<p>Failed to display Jupyter Widget of type <code>HBox</code>.</p>\n",
       "<p>\n",
       "  If you're reading this message in the Jupyter Notebook or JupyterLab Notebook, it may mean\n",
       "  that the widgets JavaScript is still loading. If this message persists, it\n",
       "  likely means that the widgets JavaScript library is either not installed or\n",
       "  not enabled. See the <a href=\"https://ipywidgets.readthedocs.io/en/stable/user_install.html\">Jupyter\n",
       "  Widgets Documentation</a> for setup instructions.\n",
       "</p>\n",
       "<p>\n",
       "  If you're reading this message in another frontend (for example, a static\n",
       "  rendering on GitHub or <a href=\"https://nbviewer.jupyter.org/\">NBViewer</a>),\n",
       "  it may mean that your frontend doesn't currently support widgets.\n",
       "</p>\n"
      ],
      "text/plain": [
       "HBox(children=(Label(value='To what degree is the interactive plot helful to you for understanding the concepts ?'), IntSlider(value=1, continuous_update=False, max=10, min=1)))"
      ]
     },
     "metadata": {},
     "output_type": "display_data"
    },
    {
     "data": {
      "application/vnd.jupyter.widget-view+json": {
       "model_id": "de329f04c770412d9f5081ccab58e788",
       "version_major": 2,
       "version_minor": 0
      },
      "text/html": [
       "<p>Failed to display Jupyter Widget of type <code>HBox</code>.</p>\n",
       "<p>\n",
       "  If you're reading this message in the Jupyter Notebook or JupyterLab Notebook, it may mean\n",
       "  that the widgets JavaScript is still loading. If this message persists, it\n",
       "  likely means that the widgets JavaScript library is either not installed or\n",
       "  not enabled. See the <a href=\"https://ipywidgets.readthedocs.io/en/stable/user_install.html\">Jupyter\n",
       "  Widgets Documentation</a> for setup instructions.\n",
       "</p>\n",
       "<p>\n",
       "  If you're reading this message in another frontend (for example, a static\n",
       "  rendering on GitHub or <a href=\"https://nbviewer.jupyter.org/\">NBViewer</a>),\n",
       "  it may mean that your frontend doesn't currently support widgets.\n",
       "</p>\n"
      ],
      "text/plain": [
       "HBox(children=(Label(value='Can you comment something about new which the interactive plot made you understand / realize ?'), Text(value='', placeholder='Response here')))"
      ]
     },
     "metadata": {},
     "output_type": "display_data"
    },
    {
     "data": {
      "application/vnd.jupyter.widget-view+json": {
       "model_id": "30448033204d415e83e86ef491bd2305",
       "version_major": 2,
       "version_minor": 0
      },
      "text/html": [
       "<p>Failed to display Jupyter Widget of type <code>HBox</code>.</p>\n",
       "<p>\n",
       "  If you're reading this message in the Jupyter Notebook or JupyterLab Notebook, it may mean\n",
       "  that the widgets JavaScript is still loading. If this message persists, it\n",
       "  likely means that the widgets JavaScript library is either not installed or\n",
       "  not enabled. See the <a href=\"https://ipywidgets.readthedocs.io/en/stable/user_install.html\">Jupyter\n",
       "  Widgets Documentation</a> for setup instructions.\n",
       "</p>\n",
       "<p>\n",
       "  If you're reading this message in another frontend (for example, a static\n",
       "  rendering on GitHub or <a href=\"https://nbviewer.jupyter.org/\">NBViewer</a>),\n",
       "  it may mean that your frontend doesn't currently support widgets.\n",
       "</p>\n"
      ],
      "text/plain": [
       "HBox(children=(Label(value='What did you dislike about the interactive plot?'), Text(value='', placeholder='Response here')))"
      ]
     },
     "metadata": {},
     "output_type": "display_data"
    },
    {
     "data": {
      "application/vnd.jupyter.widget-view+json": {
       "model_id": "52ba4031f8fa46b282f255929799eb9f",
       "version_major": 2,
       "version_minor": 0
      },
      "text/html": [
       "<p>Failed to display Jupyter Widget of type <code>HBox</code>.</p>\n",
       "<p>\n",
       "  If you're reading this message in the Jupyter Notebook or JupyterLab Notebook, it may mean\n",
       "  that the widgets JavaScript is still loading. If this message persists, it\n",
       "  likely means that the widgets JavaScript library is either not installed or\n",
       "  not enabled. See the <a href=\"https://ipywidgets.readthedocs.io/en/stable/user_install.html\">Jupyter\n",
       "  Widgets Documentation</a> for setup instructions.\n",
       "</p>\n",
       "<p>\n",
       "  If you're reading this message in another frontend (for example, a static\n",
       "  rendering on GitHub or <a href=\"https://nbviewer.jupyter.org/\">NBViewer</a>),\n",
       "  it may mean that your frontend doesn't currently support widgets.\n",
       "</p>\n"
      ],
      "text/plain": [
       "HBox(children=(Label(value='What interactions did you use the most and why ?'), Text(value='', placeholder='Response here')))"
      ]
     },
     "metadata": {},
     "output_type": "display_data"
    },
    {
     "data": {
      "application/vnd.jupyter.widget-view+json": {
       "model_id": "034a423f86ef4bd698f8acccfae9c8b9",
       "version_major": 2,
       "version_minor": 0
      },
      "text/html": [
       "<p>Failed to display Jupyter Widget of type <code>HBox</code>.</p>\n",
       "<p>\n",
       "  If you're reading this message in the Jupyter Notebook or JupyterLab Notebook, it may mean\n",
       "  that the widgets JavaScript is still loading. If this message persists, it\n",
       "  likely means that the widgets JavaScript library is either not installed or\n",
       "  not enabled. See the <a href=\"https://ipywidgets.readthedocs.io/en/stable/user_install.html\">Jupyter\n",
       "  Widgets Documentation</a> for setup instructions.\n",
       "</p>\n",
       "<p>\n",
       "  If you're reading this message in another frontend (for example, a static\n",
       "  rendering on GitHub or <a href=\"https://nbviewer.jupyter.org/\">NBViewer</a>),\n",
       "  it may mean that your frontend doesn't currently support widgets.\n",
       "</p>\n"
      ],
      "text/plain": [
       "HBox(children=(Label(value='What other interactions could have helped you better?'), Text(value='', placeholder='Response here')))"
      ]
     },
     "metadata": {},
     "output_type": "display_data"
    },
    {
     "data": {
      "application/vnd.jupyter.widget-view+json": {
       "model_id": "48b57cae0e31424f9f2deb19ced619e9",
       "version_major": 2,
       "version_minor": 0
      },
      "text/html": [
       "<p>Failed to display Jupyter Widget of type <code>HBox</code>.</p>\n",
       "<p>\n",
       "  If you're reading this message in the Jupyter Notebook or JupyterLab Notebook, it may mean\n",
       "  that the widgets JavaScript is still loading. If this message persists, it\n",
       "  likely means that the widgets JavaScript library is either not installed or\n",
       "  not enabled. See the <a href=\"https://ipywidgets.readthedocs.io/en/stable/user_install.html\">Jupyter\n",
       "  Widgets Documentation</a> for setup instructions.\n",
       "</p>\n",
       "<p>\n",
       "  If you're reading this message in another frontend (for example, a static\n",
       "  rendering on GitHub or <a href=\"https://nbviewer.jupyter.org/\">NBViewer</a>),\n",
       "  it may mean that your frontend doesn't currently support widgets.\n",
       "</p>\n"
      ],
      "text/plain": [
       "HBox(children=(Label(value='Can you comment something about new which the interactive plot made you understand / realize ?'), Text(value='', placeholder='Response here')))"
      ]
     },
     "metadata": {},
     "output_type": "display_data"
    },
    {
     "data": {
      "application/vnd.jupyter.widget-view+json": {
       "model_id": "c53bf05378f3418095d1710d342506aa",
       "version_major": 2,
       "version_minor": 0
      },
      "text/html": [
       "<p>Failed to display Jupyter Widget of type <code>Button</code>.</p>\n",
       "<p>\n",
       "  If you're reading this message in the Jupyter Notebook or JupyterLab Notebook, it may mean\n",
       "  that the widgets JavaScript is still loading. If this message persists, it\n",
       "  likely means that the widgets JavaScript library is either not installed or\n",
       "  not enabled. See the <a href=\"https://ipywidgets.readthedocs.io/en/stable/user_install.html\">Jupyter\n",
       "  Widgets Documentation</a> for setup instructions.\n",
       "</p>\n",
       "<p>\n",
       "  If you're reading this message in another frontend (for example, a static\n",
       "  rendering on GitHub or <a href=\"https://nbviewer.jupyter.org/\">NBViewer</a>),\n",
       "  it may mean that your frontend doesn't currently support widgets.\n",
       "</p>\n"
      ],
      "text/plain": [
       "Button(button_style='success', description='Submit Response', icon='check', style=ButtonStyle(), tooltip='Click me')"
      ]
     },
     "metadata": {},
     "output_type": "display_data"
    }
   ],
   "source": [
    "options_list =['Strongly Disagree', 'Disagree', 'Neutral', 'Agree', 'Strongly Agree']\n",
    "numerical_Scale = ['1','2','3','4','5']\n",
    "list_sliders_3 = {}\n",
    "def genSlider(q_num, scale = 'agree'):\n",
    "    def_val = 3\n",
    "    scaleList = options_list\n",
    "    if (not(scale == 'agree')):\n",
    "        scaleList = numerical_Scale\n",
    "        def_val = 3\n",
    "    \n",
    "        \n",
    "    slider = widgets.IntSlider(\n",
    "                    value=0,\n",
    "                    min=1,\n",
    "                    max=10,\n",
    "                    step=1,\n",
    "                    disabled=False,\n",
    "                    continuous_update=False,\n",
    "                    orientation='horizontal',\n",
    "                    readout=True,\n",
    "                    readout_format='d'\n",
    "                )\n",
    "    list_sliders_3[q_num] = slider\n",
    "    return slider\n",
    "\n",
    "def gentext(q_num,hint_text='Response here'):\n",
    "    scaleList = options_list\n",
    "    text_this = widgets.Text(\n",
    "    value='',\n",
    "    placeholder=hint_text,\n",
    "    description='',\n",
    "    disabled=False\n",
    "    )\n",
    "    list_sliders_3[q_num] = text_this\n",
    "    return text_this\n",
    "\n",
    "list_questions_3={\\\n",
    "    '3.1':'How well does the interactive plot help you fully understand the concepts?',\n",
    "    '3.2':'How well does the interactive plot help you understand how function changes in value when parameters change?',\n",
    "    '3.3':'How well does the  interactive plot help you understand the relationship between the force with varying parameters?',\n",
    "    '3.4':'The interactive plot matches with your prior understanding of the concepts ',\n",
    "    '3.5':'The interactive plot matches with your prior understanding of how the Force, Potential functions would look like ?',\n",
    "    '3.6':'The interactive plot matches with your prior understanding of how the Force, Potential functions vary with r0 , eps0 ?',\n",
    "    '3.7':'The interactive plot helps you BETTER UNDERSTAND the concepts compared to just STATIC PLOT?',\n",
    "    '3.8':'The interactive plot helps you BETTER UNDERSTAND how the Force, Potential functions would look like ?',\n",
    "    '3.9': 'The interactive plot helps you BETTER UNDERSTANDhow the Force, Potential functions  would vary with r0 , eps0 ?',\n",
    "    '3.10': 'To what degree is the interactive plot helful to you for understanding the concepts ?',\n",
    "    '3.11':'Can you comment something about new which the interactive plot made you understand / realize ?',\n",
    "    '3.12':'What did you dislike about the interactive plot?',\n",
    "    '3.13': 'What interactions did you use the most and why ?',\n",
    "    '3.14': 'What other interactions could have helped you better?'\n",
    "}\n",
    "display(HTML('<h2>Questions about interactive plot</h2> <H4>Scale is from LEAST -> 1 to 10 -> BEST OR STRONGLY DISAGREE to STRONGLY AGREE</H4>'))\n",
    "display(HBox([Label(list_questions_3['3.1']),genSlider('3.1','no') ]))\n",
    "display(HBox([Label(list_questions_3['3.2']),genSlider('3.2','no')]))\n",
    "display(HBox([Label(list_questions_3['3.3']),genSlider('3.3','no')]))\n",
    "display(HBox([Label(list_questions_3['3.4']),genSlider('3.4','agree')]))\n",
    "display(HBox([Label(list_questions_3['3.5']),genSlider('3.5','agree')]))\n",
    "display(HBox([Label(list_questions_3['3.6']),genSlider('3.6','agree')]))\n",
    "display(HBox([Label(list_questions_3['3.7']),genSlider('3.7','agree')]))\n",
    "display(HBox([Label(list_questions_3['3.8']),genSlider('3.8','agree')]))\n",
    "display(HBox([Label(list_questions_3['3.9']),genSlider('3.9','agree')]))\n",
    "display(HBox([Label(list_questions_3['3.10']),genSlider('3.10','NO')]))\n",
    "display(HBox([Label(list_questions_3['3.11']),gentext('3.11')]))\n",
    "display(HBox([Label(list_questions_3['3.12']),gentext('3.12')]))\n",
    "display(HBox([Label(list_questions_3['3.13']),gentext('3.13')]))\n",
    "display(HBox([Label(list_questions_3['3.14']),gentext('3.14')]))\n",
    "display(HBox([Label(list_questions_3['3.11']),gentext('3.11')]))\n",
    "\n",
    "submitButton = widgets.Button(\n",
    "    description='Submit Response',\n",
    "    disabled=False,\n",
    "    button_style='success', # 'success', 'info', 'warning', 'danger' or ''\n",
    "    tooltip='Click me',\n",
    "    icon='check'\n",
    ")\n",
    "list_sliders = {**list_sliders_1, **list_sliders_2, **list_sliders_3}\n",
    "def saveResponse(target):\n",
    "    saveAll(list_sliders)\n",
    "submitButton.on_click(saveResponse)\n",
    "submitButton"
   ]
  },
  {
   "cell_type": "code",
   "execution_count": null,
   "metadata": {
    "scrolled": false
   },
   "outputs": [],
   "source": []
  }
 ],
 "metadata": {
  "kernelspec": {
   "display_name": "Python 3",
   "language": "python",
   "name": "python3"
  },
  "language_info": {
   "codemirror_mode": {
    "name": "ipython",
    "version": 3
   },
   "file_extension": ".py",
   "mimetype": "text/x-python",
   "name": "python",
   "nbconvert_exporter": "python",
   "pygments_lexer": "ipython3",
   "version": "3.6.4"
  }
 },
 "nbformat": 4,
 "nbformat_minor": 2
}
